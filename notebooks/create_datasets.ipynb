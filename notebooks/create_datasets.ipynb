{
 "cells": [
  {
   "cell_type": "code",
   "execution_count": 1,
   "id": "93c730a7",
   "metadata": {},
   "outputs": [],
   "source": [
    "import os\n",
    "import sys\n",
    "from pathlib import Path\n",
    "# Add project root to sys.path\n",
    "project_root = Path().resolve().parent  # one level up from notebooks/\n",
    "sys.path.append(str(project_root))\n",
    "\n",
    "import pandas as pd\n",
    "import numpy as np\n",
    "\n",
    "\n"
   ]
  },
  {
   "cell_type": "markdown",
   "id": "aad7cce8",
   "metadata": {},
   "source": [
    "## Customer Data Simualtion\n",
    "\n",
    "- Using module that will simulate the demographic and property features for the models and analysis\n",
    "- Simulated customer data for 100K customers of TriLink in Southern Ontario is generated\n",
    "- Module creates the data with distributions we have assigned for each features, incorporating the organic inter dependency of features (if it exists)\n",
    "\n",
    "\n",
    "#### **📊 Complete Column List & Simulation Logic**\n",
    "\n",
    "##### **🆔 Identifiers (3 columns):**\n",
    "1. **`customer_id`**: Format C00000001 to C00100000 (sequential)\n",
    "2. **`city`**: Toronto(45%), Mississauga(18%), Hamilton(12%), London(10%), Waterloo(8%), Guelph(7%)\n",
    "3. **`postal_code`**: Realistic Canadian format (M1A 1A1) based on city-specific prefixes\n",
    "\n",
    "##### **👤 Demographics & Household (8 columns):**\n",
    "\n",
    "4. **`age`**: 16-100, normal distribution centered at 42\n",
    "   - **Logic**: Realistic working-age population distribution\n",
    "\n",
    "5. **`household_income`**: $50K-$1M+\n",
    "   - **Logic**: Base = age career stage × education multiplier × life stage multiplier × location multiplier\n",
    "   - Age stages: 16-25($45K), 25-35($65K), 35-50($85K), 50-65($90K), 65+($55K)\n",
    "   - Education: HS(0.8×), College(1.0×), Graduate(1.4×), Professional(1.8×)\n",
    "   - Life stage: Single(0.8×), Young_Family(1.1×), Established_Family(1.3×), Empty_Nest(1.2×), Senior(0.9×)\n",
    "\n",
    "6. **`income_bracket`**: Low/Middle/Upper_Middle/High\n",
    "   - **Logic**: <$60K=Low, $60K-$90K=Middle, $90K-$150K=Upper_Middle, $150K+=High\n",
    "\n",
    "7. **`family_size`**: 1-6 people\n",
    "   - **Logic**: MUST match life stage\n",
    "   - Single: 1-2 (70% solo, 30% partner)\n",
    "   - Young_Family: 2-4 (small families)\n",
    "   - Established_Family: 3-6 (larger families)  \n",
    "   - Empty_Nest: 1-3 (mostly couples)\n",
    "   - Senior: 1-2 (singles/couples)\n",
    "\n",
    "8. **`home_ownership`**: Own/Rent/Other\n",
    "   - **Logic**: Probability = 0.3 base + age factor + income factor + life stage factor\n",
    "   - Age: <30(+0.2), 30-50(+0.6), 50+(+0.8)\n",
    "   - Income: household_income/200000 (up to +0.4)\n",
    "   - Life stage boost: Established_Family gets highest\n",
    "\n",
    "9. **`work_from_home_flag`**: Boolean\n",
    "   - **Logic**: Base 10% + education boost + income boost + age adjustment + city boost\n",
    "   - Graduate/Professional: +15%\n",
    "   - Upper_Middle/High income: +10%\n",
    "   - Waterloo (tech hub): +20% base\n",
    "   - Age <35: +5%, Age >55: -5%\n",
    "\n",
    "10. **`education_level`**: HS/College/Graduate/Professional\n",
    "    - **Logic**: Age and city dependent\n",
    "    - Waterloo: Higher education (tech hub)\n",
    "    - Younger (<30): More recent college graduates\n",
    "    - Peak career (30-50): More advanced degrees\n",
    "\n",
    "11. **`life_stage`**: Single/Young_Family/Established_Family/Empty_Nest/Senior\n",
    "    - **Logic**: STRICT age-based logic\n",
    "    - 16-25: Single(80%), Young_Family(20%)\n",
    "    - 25-35: Single(40%), Young_Family(60%)\n",
    "    - 35-50: Young_Family(30%), Established_Family(70%)\n",
    "    - 50-65: Established_Family(60%), Empty_Nest(40%)\n",
    "    - 65+: Empty_Nest(30%), Senior(70%)\n",
    "\n",
    "##### **🏠 Property & Location (6 columns):**\n",
    "\n",
    "12. **`home_type`**: Single_Family/Townhouse/Condo/Apartment\n",
    "    - **Logic**: Income bracket + family size driven\n",
    "    - High income + large family: 70% Single_Family\n",
    "    - Low income: 40% Apartment\n",
    "    - Family size ≥4: +20% Single_Family, -20% Apartment\n",
    "    - Family size =1: -20% Single_Family, +10% Condo/Apartment\n",
    "\n",
    "13. **`home_square_footage`**: 500-5000 sqft\n",
    "    - **Logic**: Base by home type × family size factor × income factor\n",
    "    - Base: Single_Family(2000), Townhouse(1300), Condo(900), Apartment(700)\n",
    "    - Family size factor: 1 + (family_size-2) × 0.15\n",
    "    - Income factor: household_income/80000\n",
    "\n",
    "14. **`property_value`**: $50K-$2M+\n",
    "    - **Logic**: City multiplier × crime factor × home type × size factor\n",
    "    - Crime factor: max(0.5, 1.3 - crime_rate/12) [inverse relationship]\n",
    "    - Home type: Single_Family(1.3×), Townhouse(1.0×), Condo(0.8×), Apartment(0.6×)\n",
    "    - Size factor: square_footage/1500\n",
    "\n",
    "15. **`neighborhood_crime_rate`**: Per 1000 residents (1.0-8.5)\n",
    "    - **Logic**: Postal code specific with variation\n",
    "    - Toronto M5 (downtown): 7.2, M2 (suburban): 4.2\n",
    "    - Higher crime postal codes: M7(8.5), L8 Hamilton(8.2)\n",
    "    - Lower crime: N1 Guelph(3.8), N2 Waterloo(4.2)\n",
    "\n",
    "16. **`neighborhood_income_median`**: $30K-$1M+\n",
    "    - **Logic**: Inverse correlation with crime rate\n",
    "    - Base = city median × crime factor\n",
    "    - Crime factor: max(0.6, 1.4 - crime_rate/10)\n",
    "    - Lower crime = higher median income\n",
    "\n",
    "17. **`fiber_availability`**: Boolean\n",
    "    - **Logic**: City base probability + neighborhood income boost\n",
    "    - City base: Toronto(85%), Waterloo(90%), Hamilton(65%)\n",
    "    - Income boost: (neighborhood_median - 60000)/100000 × 0.15\n",
    "    - Higher income areas get fiber first\n",
    "\n"
   ]
  },
  {
   "cell_type": "code",
   "execution_count": 2,
   "id": "96e6a486",
   "metadata": {},
   "outputs": [
    {
     "name": "stdout",
     "output_type": "stream",
     "text": [
      "Generating 100,000 customer profiles...\n",
      "Generated 0 customers...\n",
      "Generated 10,000 customers...\n",
      "Generated 20,000 customers...\n",
      "Generated 30,000 customers...\n",
      "Generated 40,000 customers...\n",
      "Generated 50,000 customers...\n",
      "Generated 60,000 customers...\n",
      "Generated 70,000 customers...\n",
      "Generated 80,000 customers...\n",
      "Generated 90,000 customers...\n",
      "Converting to DataFrame...\n",
      "\n",
      "📊 Generated 100,000 customer profiles\n",
      "🏙️  Cities: {np.str_('Toronto'): 44840, np.str_('Mississauga'): 18015, np.str_('Hamilton'): 12153, np.str_('London'): 10021, np.str_('Waterloo'): 8028, np.str_('Guelph'): 6943}\n",
      "💰 Income brackets: {'Upper_Middle': 30872, 'Low': 30082, 'Middle': 22434, 'High': 16612}\n",
      "🏠 Home types: {np.str_('Single_Family'): 38789, np.str_('Townhouse'): 24355, np.str_('Condo'): 21212, np.str_('Apartment'): 15644}\n",
      "👨‍👩‍👧‍👦 Life stages: {np.str_('Established_Family'): 40689, np.str_('Young_Family'): 25807, np.str_('Single'): 17937, np.str_('Empty_Nest'): 11341, np.str_('Senior'): 4226}\n",
      "📚 Education: {np.str_('College'): 38394, np.str_('Graduate'): 30634, np.str_('HS'): 18520, np.str_('Professional'): 12452}\n",
      "📶 Fiber availability: 79,210 customers (79.2%)\n",
      "🏠 Work from home: 22,812 customers (22.8%)\n",
      "🏡 Home ownership: {np.str_('Own'): 93943, np.str_('Rent'): 5456, np.str_('Other'): 601}\n",
      "\n",
      "🔍 Data Quality Checks:\n",
      "Age range: 16-100\n",
      "Income range: $50,000-$417,383\n",
      "Property value range: $50,000-$2,000,000\n",
      "Square footage range: 500-5000\n",
      "Family size range: 1-6\n",
      "Crime rate range: 1.0-12.9\n",
      "\n",
      "✅ Logic Consistency Checks:\n",
      "Seniors under 30: 0 (should be 0)\n",
      "Young families over 60: 0 (should be 0)\n",
      "Large families marked as Single: 0 (should be 0)\n",
      "\n",
      "📮 Sample postal codes: ['M1A 4H3', 'M2Z 1X8', 'L1U 6B0', 'M1G 3S9', 'N0T 3Y8', 'L6H 7U4', 'L0F 6K4', 'L2G 5D1', 'M6D 5L9', 'L4B 7T1']\n"
     ]
    }
   ],
   "source": [
    "from src.create_customer_data import generate_customer_profiles\n",
    "customers_df = generate_customer_profiles(100000)\n",
    "# Save to local\n",
    "filename = f\"..//data//trilink_customers_data.csv\"\n",
    "customers_df.to_csv(filename, index=False)"
   ]
  },
  {
   "cell_type": "markdown",
   "id": "dca5f9c9",
   "metadata": {},
   "source": [
    "### Creating the 3 different services data - Mobile, Internet, Home Security\n",
    "\n",
    "- For each service we will have few customers by distribution decided on each products with some actrive and some churned\n",
    "- We will use this info to train each models for upsell, churn, cross sell etc"
   ]
  },
  {
   "cell_type": "code",
   "execution_count": 3,
   "id": "15a3f6bc",
   "metadata": {},
   "outputs": [
    {
     "name": "stdout",
     "output_type": "stream",
     "text": [
      "=== Generating Fixed Service Tables ===\n",
      "Generating internet services with fixed contract logic...\n",
      "Generated 72,756 internet services\n",
      "Active services: 59,009\n",
      "Churned services: 13,747\n",
      "Early terminations: 3483\n",
      "Contract distribution: {np.str_('Month_to_Month'): 31940, np.str_('24_Month'): 21704, np.str_('12_Month'): 19112}\n",
      "Validation: Active customers with past contract end dates: 33\n",
      "⚠️  Warning: Some active customers have past contract end dates\n",
      "\n",
      "Generating mobile services with fixed contract logic...\n",
      "Generated 74,395 mobile services\n",
      "Active services: 56,134\n",
      "Contract distribution: {np.str_('Month_to_Month'): 33859, np.str_('12_Month'): 22225, np.str_('24_Month'): 14947, np.str_('36_Month'): 3364}\n",
      "\n",
      "Generating security devices...\n",
      "Generated 151,760 security devices\n",
      "Active devices: 123,261\n",
      "Unique customers with security: 43,819\n",
      "Device distribution: {'Smart_Doorbell': 41223, np.str_('Outdoor_Camera'): 24987, np.str_('Security_Panel'): 22919, np.str_('Indoor_Camera'): 19962, np.str_('Motion_Sensor'): 16522, np.str_('Smart_Lock'): 13885, np.str_('Window_Sensor'): 12262}\n",
      "\n",
      "📊 Cross-Service Analysis:\n",
      "Internet customers: 72,756\n",
      "Mobile customers: 74,395\n",
      "Security customers: 43,819\n",
      "\n",
      "📦 Bundle Analysis:\n",
      "Triple play (all 3 services): 28,921\n",
      "Internet + Mobile: 26,286\n",
      "Internet + Security: 8,236\n",
      "Mobile + Security: 4,984\n",
      "\n",
      "📋 Contract Validation:\n",
      "Internet: Active customers with past contract end dates: 33\n",
      "Mobile: Active customers with past contract end dates: 55\n",
      "\n",
      "💰 Monthly Revenue Analysis (Active Services Only):\n",
      "Internet MRR: $4,310,404\n",
      "Mobile MRR: $8,827,145\n",
      "Security MRR: $2,822,653\n",
      "Total MRR: $15,960,202\n",
      "\n",
      "✅ Fixed service table generation completed successfully!\n"
     ]
    }
   ],
   "source": [
    "from src.create_service_data import generate_all_fixed_service_tables\n",
    "internet_df, mobile_df, security_df = generate_all_fixed_service_tables(customers_df)"
   ]
  },
  {
   "cell_type": "markdown",
   "id": "8063b170",
   "metadata": {},
   "source": [
    "Save to csv with the target columns added in"
   ]
  },
  {
   "cell_type": "code",
   "execution_count": 4,
   "id": "327889bb",
   "metadata": {},
   "outputs": [],
   "source": [
    "internet_df.to_csv(\"..//data//internet_data.csv\",index=False)\n",
    "mobile_df.to_csv(\"..//data//mobile_data.csv\",index=False)\n",
    "security_df.to_csv(\"..//data//home_security_data.csv\",index=False)"
   ]
  },
  {
   "cell_type": "code",
   "execution_count": 2,
   "id": "e4e32b93",
   "metadata": {},
   "outputs": [],
   "source": [
    "internet_df = pd.read_csv(\"..//data//internet_data.csv\")\n",
    "mobile_df = pd.read_csv(\"..//data//mobile_data.csv\")\n",
    "security_df = pd.read_csv(\"..//data//home_security_data.csv\")\n",
    "customers_df= pd.read_csv(\"..//data//trilink_customers_data.csv\")"
   ]
  },
  {
   "cell_type": "markdown",
   "id": "28a86093",
   "metadata": {},
   "source": [
    "Simple EDA to show distribution of Data Simulated"
   ]
  },
  {
   "cell_type": "code",
   "execution_count": 4,
   "id": "ff3ec649",
   "metadata": {},
   "outputs": [
    {
     "data": {
      "application/vnd.microsoft.datawrangler.viewer.v0+json": {
       "columns": [
        {
         "name": "contract_type",
         "rawType": "object",
         "type": "string"
        },
        {
         "name": "contract_type",
         "rawType": "int64",
         "type": "integer"
        }
       ],
       "ref": "df147ffa-a50c-47b9-b9a1-166026699dac",
       "rows": [
        [
         "12_Month",
         "19112"
        ],
        [
         "24_Month",
         "21704"
        ],
        [
         "Month_to_Month",
         "31940"
        ]
       ],
       "shape": {
        "columns": 1,
        "rows": 3
       }
      },
      "text/plain": [
       "contract_type\n",
       "12_Month          19112\n",
       "24_Month          21704\n",
       "Month_to_Month    31940\n",
       "Name: contract_type, dtype: int64"
      ]
     },
     "execution_count": 4,
     "metadata": {},
     "output_type": "execute_result"
    }
   ],
   "source": [
    "internet_df.groupby('contract_type')['contract_type'].size()"
   ]
  },
  {
   "cell_type": "code",
   "execution_count": 5,
   "id": "89cdc671",
   "metadata": {},
   "outputs": [
    {
     "data": {
      "application/vnd.microsoft.datawrangler.viewer.v0+json": {
       "columns": [
        {
         "name": "index",
         "rawType": "int64",
         "type": "integer"
        },
        {
         "name": "device_id",
         "rawType": "object",
         "type": "string"
        },
        {
         "name": "customer_id",
         "rawType": "object",
         "type": "string"
        },
        {
         "name": "device_type",
         "rawType": "object",
         "type": "string"
        },
        {
         "name": "monthly_monitoring_cost",
         "rawType": "int64",
         "type": "integer"
        },
        {
         "name": "installation_date",
         "rawType": "object",
         "type": "string"
        },
        {
         "name": "status",
         "rawType": "object",
         "type": "string"
        },
        {
         "name": "app_opens_monthly",
         "rawType": "int64",
         "type": "integer"
        },
        {
         "name": "alarm_activations",
         "rawType": "int64",
         "type": "integer"
        },
        {
         "name": "false_alarms",
         "rawType": "int64",
         "type": "integer"
        },
        {
         "name": "warranty_status",
         "rawType": "object",
         "type": "string"
        }
       ],
       "ref": "e3a7aff3-4edd-4a2a-8f2a-24c9661e0f0e",
       "rows": [
        [
         "0",
         "SEC_00000001",
         "C00000001",
         "Smart_Doorbell",
         "21",
         "2025-08-07",
         "Active",
         "54",
         "0",
         "0",
         "Active"
        ],
        [
         "1",
         "SEC_00000002",
         "C00000001",
         "Security_Panel",
         "46",
         "2025-08-07",
         "Active",
         "34",
         "0",
         "0",
         "Active"
        ],
        [
         "2",
         "SEC_00000003",
         "C00000001",
         "Outdoor_Camera",
         "35",
         "2025-08-07",
         "Active",
         "47",
         "4",
         "2",
         "Active"
        ],
        [
         "3",
         "SEC_00000004",
         "C00000005",
         "Smart_Doorbell",
         "13",
         "2024-12-04",
         "Active",
         "33",
         "0",
         "0",
         "Active"
        ],
        [
         "4",
         "SEC_00000005",
         "C00000005",
         "Indoor_Camera",
         "20",
         "2024-12-04",
         "Inactive",
         "30",
         "5",
         "3",
         "Active"
        ]
       ],
       "shape": {
        "columns": 10,
        "rows": 5
       }
      },
      "text/html": [
       "<div>\n",
       "<style scoped>\n",
       "    .dataframe tbody tr th:only-of-type {\n",
       "        vertical-align: middle;\n",
       "    }\n",
       "\n",
       "    .dataframe tbody tr th {\n",
       "        vertical-align: top;\n",
       "    }\n",
       "\n",
       "    .dataframe thead th {\n",
       "        text-align: right;\n",
       "    }\n",
       "</style>\n",
       "<table border=\"1\" class=\"dataframe\">\n",
       "  <thead>\n",
       "    <tr style=\"text-align: right;\">\n",
       "      <th></th>\n",
       "      <th>device_id</th>\n",
       "      <th>customer_id</th>\n",
       "      <th>device_type</th>\n",
       "      <th>monthly_monitoring_cost</th>\n",
       "      <th>installation_date</th>\n",
       "      <th>status</th>\n",
       "      <th>app_opens_monthly</th>\n",
       "      <th>alarm_activations</th>\n",
       "      <th>false_alarms</th>\n",
       "      <th>warranty_status</th>\n",
       "    </tr>\n",
       "  </thead>\n",
       "  <tbody>\n",
       "    <tr>\n",
       "      <th>0</th>\n",
       "      <td>SEC_00000001</td>\n",
       "      <td>C00000001</td>\n",
       "      <td>Smart_Doorbell</td>\n",
       "      <td>21</td>\n",
       "      <td>2025-08-07</td>\n",
       "      <td>Active</td>\n",
       "      <td>54</td>\n",
       "      <td>0</td>\n",
       "      <td>0</td>\n",
       "      <td>Active</td>\n",
       "    </tr>\n",
       "    <tr>\n",
       "      <th>1</th>\n",
       "      <td>SEC_00000002</td>\n",
       "      <td>C00000001</td>\n",
       "      <td>Security_Panel</td>\n",
       "      <td>46</td>\n",
       "      <td>2025-08-07</td>\n",
       "      <td>Active</td>\n",
       "      <td>34</td>\n",
       "      <td>0</td>\n",
       "      <td>0</td>\n",
       "      <td>Active</td>\n",
       "    </tr>\n",
       "    <tr>\n",
       "      <th>2</th>\n",
       "      <td>SEC_00000003</td>\n",
       "      <td>C00000001</td>\n",
       "      <td>Outdoor_Camera</td>\n",
       "      <td>35</td>\n",
       "      <td>2025-08-07</td>\n",
       "      <td>Active</td>\n",
       "      <td>47</td>\n",
       "      <td>4</td>\n",
       "      <td>2</td>\n",
       "      <td>Active</td>\n",
       "    </tr>\n",
       "    <tr>\n",
       "      <th>3</th>\n",
       "      <td>SEC_00000004</td>\n",
       "      <td>C00000005</td>\n",
       "      <td>Smart_Doorbell</td>\n",
       "      <td>13</td>\n",
       "      <td>2024-12-04</td>\n",
       "      <td>Active</td>\n",
       "      <td>33</td>\n",
       "      <td>0</td>\n",
       "      <td>0</td>\n",
       "      <td>Active</td>\n",
       "    </tr>\n",
       "    <tr>\n",
       "      <th>4</th>\n",
       "      <td>SEC_00000005</td>\n",
       "      <td>C00000005</td>\n",
       "      <td>Indoor_Camera</td>\n",
       "      <td>20</td>\n",
       "      <td>2024-12-04</td>\n",
       "      <td>Inactive</td>\n",
       "      <td>30</td>\n",
       "      <td>5</td>\n",
       "      <td>3</td>\n",
       "      <td>Active</td>\n",
       "    </tr>\n",
       "  </tbody>\n",
       "</table>\n",
       "</div>"
      ],
      "text/plain": [
       "      device_id customer_id     device_type  monthly_monitoring_cost  \\\n",
       "0  SEC_00000001   C00000001  Smart_Doorbell                       21   \n",
       "1  SEC_00000002   C00000001  Security_Panel                       46   \n",
       "2  SEC_00000003   C00000001  Outdoor_Camera                       35   \n",
       "3  SEC_00000004   C00000005  Smart_Doorbell                       13   \n",
       "4  SEC_00000005   C00000005   Indoor_Camera                       20   \n",
       "\n",
       "  installation_date    status  app_opens_monthly  alarm_activations  \\\n",
       "0        2025-08-07    Active                 54                  0   \n",
       "1        2025-08-07    Active                 34                  0   \n",
       "2        2025-08-07    Active                 47                  4   \n",
       "3        2024-12-04    Active                 33                  0   \n",
       "4        2024-12-04  Inactive                 30                  5   \n",
       "\n",
       "   false_alarms warranty_status  \n",
       "0             0          Active  \n",
       "1             0          Active  \n",
       "2             2          Active  \n",
       "3             0          Active  \n",
       "4             3          Active  "
      ]
     },
     "execution_count": 5,
     "metadata": {},
     "output_type": "execute_result"
    }
   ],
   "source": [
    "security_df.head(5)"
   ]
  },
  {
   "cell_type": "code",
   "execution_count": 6,
   "id": "64aacc52",
   "metadata": {},
   "outputs": [
    {
     "data": {
      "application/vnd.microsoft.datawrangler.viewer.v0+json": {
       "columns": [
        {
         "name": "device_type",
         "rawType": "object",
         "type": "string"
        },
        {
         "name": "device_type",
         "rawType": "int64",
         "type": "integer"
        }
       ],
       "ref": "d4f6a9ce-783e-4a10-9d6a-dce7f67bab19",
       "rows": [
        [
         "Indoor_Camera",
         "19962"
        ],
        [
         "Motion_Sensor",
         "16522"
        ],
        [
         "Outdoor_Camera",
         "24987"
        ],
        [
         "Security_Panel",
         "22919"
        ],
        [
         "Smart_Doorbell",
         "41223"
        ],
        [
         "Smart_Lock",
         "13885"
        ],
        [
         "Window_Sensor",
         "12262"
        ]
       ],
       "shape": {
        "columns": 1,
        "rows": 7
       }
      },
      "text/plain": [
       "device_type\n",
       "Indoor_Camera     19962\n",
       "Motion_Sensor     16522\n",
       "Outdoor_Camera    24987\n",
       "Security_Panel    22919\n",
       "Smart_Doorbell    41223\n",
       "Smart_Lock        13885\n",
       "Window_Sensor     12262\n",
       "Name: device_type, dtype: int64"
      ]
     },
     "execution_count": 6,
     "metadata": {},
     "output_type": "execute_result"
    }
   ],
   "source": [
    "security_df.groupby('device_type')['device_type'].size()"
   ]
  },
  {
   "cell_type": "code",
   "execution_count": 7,
   "id": "3ab46556",
   "metadata": {},
   "outputs": [
    {
     "data": {
      "application/vnd.microsoft.datawrangler.viewer.v0+json": {
       "columns": [
        {
         "name": "index",
         "rawType": "int64",
         "type": "integer"
        },
        {
         "name": "service_id",
         "rawType": "object",
         "type": "string"
        },
        {
         "name": "customer_id",
         "rawType": "object",
         "type": "string"
        },
        {
         "name": "plan_type",
         "rawType": "object",
         "type": "string"
        },
        {
         "name": "line_count",
         "rawType": "int64",
         "type": "integer"
        },
        {
         "name": "monthly_cost",
         "rawType": "int64",
         "type": "integer"
        },
        {
         "name": "data_overage_frequency",
         "rawType": "int64",
         "type": "integer"
        },
        {
         "name": "start_date",
         "rawType": "object",
         "type": "string"
        },
        {
         "name": "end_date",
         "rawType": "object",
         "type": "unknown"
        },
        {
         "name": "contract_type",
         "rawType": "object",
         "type": "string"
        },
        {
         "name": "contract_end_date",
         "rawType": "object",
         "type": "unknown"
        },
        {
         "name": "family_plan_flag",
         "rawType": "bool",
         "type": "boolean"
        },
        {
         "name": "device_upgrade_cycle",
         "rawType": "int64",
         "type": "integer"
        },
        {
         "name": "mobile_churn",
         "rawType": "int64",
         "type": "integer"
        },
        {
         "name": "mobile_tenure_days",
         "rawType": "float64",
         "type": "float"
        }
       ],
       "ref": "2c4affc5-bdf7-4941-9449-04568fcffab5",
       "rows": [
        [
         "0",
         "MOB_00000001",
         "C00000001",
         "Unlimited_Premium",
         "4",
         "295",
         "0",
         "2024-08-20",
         null,
         "Month_to_Month",
         null,
         "True",
         "18",
         "0",
         "382.0"
        ],
        [
         "1",
         "MOB_00000002",
         "C00000002",
         "Limited_10GB",
         "2",
         "91",
         "12",
         "2023-07-06",
         null,
         "Month_to_Month",
         null,
         "True",
         "18",
         "0",
         "793.0"
        ],
        [
         "2",
         "MOB_00000003",
         "C00000003",
         "Unlimited_Standard",
         "1",
         "79",
         "0",
         "2024-01-19",
         null,
         "Month_to_Month",
         null,
         "False",
         "24",
         "0",
         "596.0"
        ],
        [
         "3",
         "MOB_00000004",
         "C00000004",
         "Limited_5GB",
         "1",
         "45",
         "10",
         "2023-04-30",
         "2025-04-20",
         "Month_to_Month",
         null,
         "False",
         "36",
         "1",
         "721.0"
        ],
        [
         "4",
         "MOB_00000005",
         "C00000005",
         "Limited_10GB",
         "4",
         "184",
         "6",
         "2023-07-26",
         null,
         "36_Month",
         "2026-07-26",
         "True",
         "36",
         "0",
         "773.0"
        ]
       ],
       "shape": {
        "columns": 14,
        "rows": 5
       }
      },
      "text/html": [
       "<div>\n",
       "<style scoped>\n",
       "    .dataframe tbody tr th:only-of-type {\n",
       "        vertical-align: middle;\n",
       "    }\n",
       "\n",
       "    .dataframe tbody tr th {\n",
       "        vertical-align: top;\n",
       "    }\n",
       "\n",
       "    .dataframe thead th {\n",
       "        text-align: right;\n",
       "    }\n",
       "</style>\n",
       "<table border=\"1\" class=\"dataframe\">\n",
       "  <thead>\n",
       "    <tr style=\"text-align: right;\">\n",
       "      <th></th>\n",
       "      <th>service_id</th>\n",
       "      <th>customer_id</th>\n",
       "      <th>plan_type</th>\n",
       "      <th>line_count</th>\n",
       "      <th>monthly_cost</th>\n",
       "      <th>data_overage_frequency</th>\n",
       "      <th>start_date</th>\n",
       "      <th>end_date</th>\n",
       "      <th>contract_type</th>\n",
       "      <th>contract_end_date</th>\n",
       "      <th>family_plan_flag</th>\n",
       "      <th>device_upgrade_cycle</th>\n",
       "      <th>mobile_churn</th>\n",
       "      <th>mobile_tenure_days</th>\n",
       "    </tr>\n",
       "  </thead>\n",
       "  <tbody>\n",
       "    <tr>\n",
       "      <th>0</th>\n",
       "      <td>MOB_00000001</td>\n",
       "      <td>C00000001</td>\n",
       "      <td>Unlimited_Premium</td>\n",
       "      <td>4</td>\n",
       "      <td>295</td>\n",
       "      <td>0</td>\n",
       "      <td>2024-08-20</td>\n",
       "      <td>NaN</td>\n",
       "      <td>Month_to_Month</td>\n",
       "      <td>NaN</td>\n",
       "      <td>True</td>\n",
       "      <td>18</td>\n",
       "      <td>0</td>\n",
       "      <td>382.0</td>\n",
       "    </tr>\n",
       "    <tr>\n",
       "      <th>1</th>\n",
       "      <td>MOB_00000002</td>\n",
       "      <td>C00000002</td>\n",
       "      <td>Limited_10GB</td>\n",
       "      <td>2</td>\n",
       "      <td>91</td>\n",
       "      <td>12</td>\n",
       "      <td>2023-07-06</td>\n",
       "      <td>NaN</td>\n",
       "      <td>Month_to_Month</td>\n",
       "      <td>NaN</td>\n",
       "      <td>True</td>\n",
       "      <td>18</td>\n",
       "      <td>0</td>\n",
       "      <td>793.0</td>\n",
       "    </tr>\n",
       "    <tr>\n",
       "      <th>2</th>\n",
       "      <td>MOB_00000003</td>\n",
       "      <td>C00000003</td>\n",
       "      <td>Unlimited_Standard</td>\n",
       "      <td>1</td>\n",
       "      <td>79</td>\n",
       "      <td>0</td>\n",
       "      <td>2024-01-19</td>\n",
       "      <td>NaN</td>\n",
       "      <td>Month_to_Month</td>\n",
       "      <td>NaN</td>\n",
       "      <td>False</td>\n",
       "      <td>24</td>\n",
       "      <td>0</td>\n",
       "      <td>596.0</td>\n",
       "    </tr>\n",
       "    <tr>\n",
       "      <th>3</th>\n",
       "      <td>MOB_00000004</td>\n",
       "      <td>C00000004</td>\n",
       "      <td>Limited_5GB</td>\n",
       "      <td>1</td>\n",
       "      <td>45</td>\n",
       "      <td>10</td>\n",
       "      <td>2023-04-30</td>\n",
       "      <td>2025-04-20</td>\n",
       "      <td>Month_to_Month</td>\n",
       "      <td>NaN</td>\n",
       "      <td>False</td>\n",
       "      <td>36</td>\n",
       "      <td>1</td>\n",
       "      <td>721.0</td>\n",
       "    </tr>\n",
       "    <tr>\n",
       "      <th>4</th>\n",
       "      <td>MOB_00000005</td>\n",
       "      <td>C00000005</td>\n",
       "      <td>Limited_10GB</td>\n",
       "      <td>4</td>\n",
       "      <td>184</td>\n",
       "      <td>6</td>\n",
       "      <td>2023-07-26</td>\n",
       "      <td>NaN</td>\n",
       "      <td>36_Month</td>\n",
       "      <td>2026-07-26</td>\n",
       "      <td>True</td>\n",
       "      <td>36</td>\n",
       "      <td>0</td>\n",
       "      <td>773.0</td>\n",
       "    </tr>\n",
       "  </tbody>\n",
       "</table>\n",
       "</div>"
      ],
      "text/plain": [
       "     service_id customer_id           plan_type  line_count  monthly_cost  \\\n",
       "0  MOB_00000001   C00000001   Unlimited_Premium           4           295   \n",
       "1  MOB_00000002   C00000002        Limited_10GB           2            91   \n",
       "2  MOB_00000003   C00000003  Unlimited_Standard           1            79   \n",
       "3  MOB_00000004   C00000004         Limited_5GB           1            45   \n",
       "4  MOB_00000005   C00000005        Limited_10GB           4           184   \n",
       "\n",
       "   data_overage_frequency  start_date    end_date   contract_type  \\\n",
       "0                       0  2024-08-20         NaN  Month_to_Month   \n",
       "1                      12  2023-07-06         NaN  Month_to_Month   \n",
       "2                       0  2024-01-19         NaN  Month_to_Month   \n",
       "3                      10  2023-04-30  2025-04-20  Month_to_Month   \n",
       "4                       6  2023-07-26         NaN        36_Month   \n",
       "\n",
       "  contract_end_date  family_plan_flag  device_upgrade_cycle  mobile_churn  \\\n",
       "0               NaN              True                    18             0   \n",
       "1               NaN              True                    18             0   \n",
       "2               NaN             False                    24             0   \n",
       "3               NaN             False                    36             1   \n",
       "4        2026-07-26              True                    36             0   \n",
       "\n",
       "   mobile_tenure_days  \n",
       "0               382.0  \n",
       "1               793.0  \n",
       "2               596.0  \n",
       "3               721.0  \n",
       "4               773.0  "
      ]
     },
     "execution_count": 7,
     "metadata": {},
     "output_type": "execute_result"
    }
   ],
   "source": [
    "mobile_df.head(5)"
   ]
  },
  {
   "cell_type": "code",
   "execution_count": 8,
   "id": "aa898461",
   "metadata": {},
   "outputs": [
    {
     "data": {
      "application/vnd.microsoft.datawrangler.viewer.v0+json": {
       "columns": [
        {
         "name": "plan_type",
         "rawType": "object",
         "type": "string"
        },
        {
         "name": "count",
         "rawType": "int64",
         "type": "integer"
        },
        {
         "name": "sum",
         "rawType": "int64",
         "type": "integer"
        },
        {
         "name": "mean",
         "rawType": "float64",
         "type": "float"
        }
       ],
       "ref": "7d165d77-a931-42ed-b10e-891303bb34f2",
       "rows": [
        [
         "Limited_10GB",
         "18873",
         "5730",
         "0.304"
        ],
        [
         "Limited_2GB",
         "6244",
         "3038",
         "0.487"
        ],
        [
         "Limited_5GB",
         "11814",
         "4873",
         "0.412"
        ],
        [
         "Unlimited_Premium",
         "11539",
         "1422",
         "0.123"
        ],
        [
         "Unlimited_Standard",
         "25925",
         "3198",
         "0.123"
        ]
       ],
       "shape": {
        "columns": 3,
        "rows": 5
       }
      },
      "text/html": [
       "<div>\n",
       "<style scoped>\n",
       "    .dataframe tbody tr th:only-of-type {\n",
       "        vertical-align: middle;\n",
       "    }\n",
       "\n",
       "    .dataframe tbody tr th {\n",
       "        vertical-align: top;\n",
       "    }\n",
       "\n",
       "    .dataframe thead th {\n",
       "        text-align: right;\n",
       "    }\n",
       "</style>\n",
       "<table border=\"1\" class=\"dataframe\">\n",
       "  <thead>\n",
       "    <tr style=\"text-align: right;\">\n",
       "      <th></th>\n",
       "      <th>count</th>\n",
       "      <th>sum</th>\n",
       "      <th>mean</th>\n",
       "    </tr>\n",
       "    <tr>\n",
       "      <th>plan_type</th>\n",
       "      <th></th>\n",
       "      <th></th>\n",
       "      <th></th>\n",
       "    </tr>\n",
       "  </thead>\n",
       "  <tbody>\n",
       "    <tr>\n",
       "      <th>Limited_10GB</th>\n",
       "      <td>18873</td>\n",
       "      <td>5730</td>\n",
       "      <td>0.304</td>\n",
       "    </tr>\n",
       "    <tr>\n",
       "      <th>Limited_2GB</th>\n",
       "      <td>6244</td>\n",
       "      <td>3038</td>\n",
       "      <td>0.487</td>\n",
       "    </tr>\n",
       "    <tr>\n",
       "      <th>Limited_5GB</th>\n",
       "      <td>11814</td>\n",
       "      <td>4873</td>\n",
       "      <td>0.412</td>\n",
       "    </tr>\n",
       "    <tr>\n",
       "      <th>Unlimited_Premium</th>\n",
       "      <td>11539</td>\n",
       "      <td>1422</td>\n",
       "      <td>0.123</td>\n",
       "    </tr>\n",
       "    <tr>\n",
       "      <th>Unlimited_Standard</th>\n",
       "      <td>25925</td>\n",
       "      <td>3198</td>\n",
       "      <td>0.123</td>\n",
       "    </tr>\n",
       "  </tbody>\n",
       "</table>\n",
       "</div>"
      ],
      "text/plain": [
       "                    count   sum   mean\n",
       "plan_type                             \n",
       "Limited_10GB        18873  5730  0.304\n",
       "Limited_2GB          6244  3038  0.487\n",
       "Limited_5GB         11814  4873  0.412\n",
       "Unlimited_Premium   11539  1422  0.123\n",
       "Unlimited_Standard  25925  3198  0.123"
      ]
     },
     "execution_count": 8,
     "metadata": {},
     "output_type": "execute_result"
    }
   ],
   "source": [
    "# Churn rate as percentage\n",
    "mobile_df.groupby('plan_type')['mobile_churn'].agg(['count', 'sum', 'mean']).round(3)"
   ]
  },
  {
   "cell_type": "code",
   "execution_count": 9,
   "id": "148acd50",
   "metadata": {},
   "outputs": [
    {
     "data": {
      "application/vnd.microsoft.datawrangler.viewer.v0+json": {
       "columns": [
        {
         "name": "index",
         "rawType": "int64",
         "type": "integer"
        },
        {
         "name": "service_id",
         "rawType": "object",
         "type": "string"
        },
        {
         "name": "customer_id",
         "rawType": "object",
         "type": "string"
        },
        {
         "name": "plan_tier",
         "rawType": "object",
         "type": "string"
        },
        {
         "name": "speed_mbps",
         "rawType": "int64",
         "type": "integer"
        },
        {
         "name": "monthly_cost",
         "rawType": "int64",
         "type": "integer"
        },
        {
         "name": "data_usage_gb",
         "rawType": "int64",
         "type": "integer"
        },
        {
         "name": "connected_devices",
         "rawType": "int64",
         "type": "integer"
        },
        {
         "name": "start_date",
         "rawType": "object",
         "type": "string"
        },
        {
         "name": "end_date",
         "rawType": "object",
         "type": "unknown"
        },
        {
         "name": "contract_type",
         "rawType": "object",
         "type": "string"
        },
        {
         "name": "contract_end_date",
         "rawType": "object",
         "type": "unknown"
        },
        {
         "name": "speed_complaints",
         "rawType": "int64",
         "type": "integer"
        },
        {
         "name": "outage_count",
         "rawType": "int64",
         "type": "integer"
        },
        {
         "name": "internet_churn",
         "rawType": "int64",
         "type": "integer"
        },
        {
         "name": "early_termination",
         "rawType": "int64",
         "type": "integer"
        },
        {
         "name": "internet_tenure_days",
         "rawType": "float64",
         "type": "float"
        },
        {
         "name": "contract_completed_percent",
         "rawType": "float64",
         "type": "float"
        }
       ],
       "ref": "08d8b08a-1535-43f9-8584-617f6dbf8ebd",
       "rows": [
        [
         "0",
         "INT_00000001",
         "C00000001",
         "Premium_Gig",
         "1000",
         "100",
         "595",
         "12",
         "2023-03-31",
         null,
         "Month_to_Month",
         null,
         "0",
         "0",
         "0",
         "0",
         "890.0",
         null
        ],
        [
         "1",
         "INT_00000002",
         "C00000002",
         "Premium_Gig",
         "1000",
         "95",
         "469",
         "21",
         "2023-06-30",
         null,
         "12_Month",
         "2026-06-30",
         "0",
         "1",
         "0",
         "0",
         "799.0",
         "72.90145985401459"
        ],
        [
         "2",
         "INT_00000003",
         "C00000003",
         "Basic_25",
         "25",
         "47",
         "50",
         "8",
         "2022-12-06",
         "2024-07-24",
         "Month_to_Month",
         null,
         "3",
         "3",
         "1",
         "0",
         "596.0",
         null
        ],
        [
         "3",
         "INT_00000004",
         "C00000004",
         "Basic_25",
         "25",
         "46",
         "50",
         "5",
         "2025-05-08",
         null,
         "12_Month",
         "2026-05-08",
         "0",
         "2",
         "0",
         "0",
         "121.0",
         "33.15068493150685"
        ],
        [
         "4",
         "INT_00000005",
         "C00000005",
         "Basic_25",
         "25",
         "43",
         "50",
         "13",
         "2023-09-05",
         null,
         "Month_to_Month",
         null,
         "2",
         "0",
         "0",
         "0",
         "732.0",
         null
        ]
       ],
       "shape": {
        "columns": 17,
        "rows": 5
       }
      },
      "text/html": [
       "<div>\n",
       "<style scoped>\n",
       "    .dataframe tbody tr th:only-of-type {\n",
       "        vertical-align: middle;\n",
       "    }\n",
       "\n",
       "    .dataframe tbody tr th {\n",
       "        vertical-align: top;\n",
       "    }\n",
       "\n",
       "    .dataframe thead th {\n",
       "        text-align: right;\n",
       "    }\n",
       "</style>\n",
       "<table border=\"1\" class=\"dataframe\">\n",
       "  <thead>\n",
       "    <tr style=\"text-align: right;\">\n",
       "      <th></th>\n",
       "      <th>service_id</th>\n",
       "      <th>customer_id</th>\n",
       "      <th>plan_tier</th>\n",
       "      <th>speed_mbps</th>\n",
       "      <th>monthly_cost</th>\n",
       "      <th>data_usage_gb</th>\n",
       "      <th>connected_devices</th>\n",
       "      <th>start_date</th>\n",
       "      <th>end_date</th>\n",
       "      <th>contract_type</th>\n",
       "      <th>contract_end_date</th>\n",
       "      <th>speed_complaints</th>\n",
       "      <th>outage_count</th>\n",
       "      <th>internet_churn</th>\n",
       "      <th>early_termination</th>\n",
       "      <th>internet_tenure_days</th>\n",
       "      <th>contract_completed_percent</th>\n",
       "    </tr>\n",
       "  </thead>\n",
       "  <tbody>\n",
       "    <tr>\n",
       "      <th>0</th>\n",
       "      <td>INT_00000001</td>\n",
       "      <td>C00000001</td>\n",
       "      <td>Premium_Gig</td>\n",
       "      <td>1000</td>\n",
       "      <td>100</td>\n",
       "      <td>595</td>\n",
       "      <td>12</td>\n",
       "      <td>2023-03-31</td>\n",
       "      <td>NaN</td>\n",
       "      <td>Month_to_Month</td>\n",
       "      <td>NaN</td>\n",
       "      <td>0</td>\n",
       "      <td>0</td>\n",
       "      <td>0</td>\n",
       "      <td>0</td>\n",
       "      <td>890.0</td>\n",
       "      <td>NaN</td>\n",
       "    </tr>\n",
       "    <tr>\n",
       "      <th>1</th>\n",
       "      <td>INT_00000002</td>\n",
       "      <td>C00000002</td>\n",
       "      <td>Premium_Gig</td>\n",
       "      <td>1000</td>\n",
       "      <td>95</td>\n",
       "      <td>469</td>\n",
       "      <td>21</td>\n",
       "      <td>2023-06-30</td>\n",
       "      <td>NaN</td>\n",
       "      <td>12_Month</td>\n",
       "      <td>2026-06-30</td>\n",
       "      <td>0</td>\n",
       "      <td>1</td>\n",
       "      <td>0</td>\n",
       "      <td>0</td>\n",
       "      <td>799.0</td>\n",
       "      <td>72.901460</td>\n",
       "    </tr>\n",
       "    <tr>\n",
       "      <th>2</th>\n",
       "      <td>INT_00000003</td>\n",
       "      <td>C00000003</td>\n",
       "      <td>Basic_25</td>\n",
       "      <td>25</td>\n",
       "      <td>47</td>\n",
       "      <td>50</td>\n",
       "      <td>8</td>\n",
       "      <td>2022-12-06</td>\n",
       "      <td>2024-07-24</td>\n",
       "      <td>Month_to_Month</td>\n",
       "      <td>NaN</td>\n",
       "      <td>3</td>\n",
       "      <td>3</td>\n",
       "      <td>1</td>\n",
       "      <td>0</td>\n",
       "      <td>596.0</td>\n",
       "      <td>NaN</td>\n",
       "    </tr>\n",
       "    <tr>\n",
       "      <th>3</th>\n",
       "      <td>INT_00000004</td>\n",
       "      <td>C00000004</td>\n",
       "      <td>Basic_25</td>\n",
       "      <td>25</td>\n",
       "      <td>46</td>\n",
       "      <td>50</td>\n",
       "      <td>5</td>\n",
       "      <td>2025-05-08</td>\n",
       "      <td>NaN</td>\n",
       "      <td>12_Month</td>\n",
       "      <td>2026-05-08</td>\n",
       "      <td>0</td>\n",
       "      <td>2</td>\n",
       "      <td>0</td>\n",
       "      <td>0</td>\n",
       "      <td>121.0</td>\n",
       "      <td>33.150685</td>\n",
       "    </tr>\n",
       "    <tr>\n",
       "      <th>4</th>\n",
       "      <td>INT_00000005</td>\n",
       "      <td>C00000005</td>\n",
       "      <td>Basic_25</td>\n",
       "      <td>25</td>\n",
       "      <td>43</td>\n",
       "      <td>50</td>\n",
       "      <td>13</td>\n",
       "      <td>2023-09-05</td>\n",
       "      <td>NaN</td>\n",
       "      <td>Month_to_Month</td>\n",
       "      <td>NaN</td>\n",
       "      <td>2</td>\n",
       "      <td>0</td>\n",
       "      <td>0</td>\n",
       "      <td>0</td>\n",
       "      <td>732.0</td>\n",
       "      <td>NaN</td>\n",
       "    </tr>\n",
       "  </tbody>\n",
       "</table>\n",
       "</div>"
      ],
      "text/plain": [
       "     service_id customer_id    plan_tier  speed_mbps  monthly_cost  \\\n",
       "0  INT_00000001   C00000001  Premium_Gig        1000           100   \n",
       "1  INT_00000002   C00000002  Premium_Gig        1000            95   \n",
       "2  INT_00000003   C00000003     Basic_25          25            47   \n",
       "3  INT_00000004   C00000004     Basic_25          25            46   \n",
       "4  INT_00000005   C00000005     Basic_25          25            43   \n",
       "\n",
       "   data_usage_gb  connected_devices  start_date    end_date   contract_type  \\\n",
       "0            595                 12  2023-03-31         NaN  Month_to_Month   \n",
       "1            469                 21  2023-06-30         NaN        12_Month   \n",
       "2             50                  8  2022-12-06  2024-07-24  Month_to_Month   \n",
       "3             50                  5  2025-05-08         NaN        12_Month   \n",
       "4             50                 13  2023-09-05         NaN  Month_to_Month   \n",
       "\n",
       "  contract_end_date  speed_complaints  outage_count  internet_churn  \\\n",
       "0               NaN                 0             0               0   \n",
       "1        2026-06-30                 0             1               0   \n",
       "2               NaN                 3             3               1   \n",
       "3        2026-05-08                 0             2               0   \n",
       "4               NaN                 2             0               0   \n",
       "\n",
       "   early_termination  internet_tenure_days  contract_completed_percent  \n",
       "0                  0                 890.0                         NaN  \n",
       "1                  0                 799.0                   72.901460  \n",
       "2                  0                 596.0                         NaN  \n",
       "3                  0                 121.0                   33.150685  \n",
       "4                  0                 732.0                         NaN  "
      ]
     },
     "execution_count": 9,
     "metadata": {},
     "output_type": "execute_result"
    }
   ],
   "source": [
    "internet_df.head(5)"
   ]
  },
  {
   "cell_type": "code",
   "execution_count": 10,
   "id": "24fdf9c8",
   "metadata": {},
   "outputs": [],
   "source": [
    "import matplotlib.pyplot as plt\n",
    "import seaborn as sns\n",
    "from sklearn.preprocessing import LabelEncoder\n",
    "import warnings\n",
    "warnings.filterwarnings('ignore')"
   ]
  },
  {
   "cell_type": "code",
   "execution_count": 11,
   "id": "b9c0bc29",
   "metadata": {},
   "outputs": [],
   "source": [
    "def create_churn_correlation_plot(df, churn_column='mobile_churn', figsize=(12, 8)):\n",
    "    \"\"\"\n",
    "    Create a comprehensive correlation plot for churn analysis\n",
    "    \n",
    "    Parameters:\n",
    "    df: DataFrame with service data\n",
    "    churn_column: Name of the churn column\n",
    "    figsize: Figure size tuple\n",
    "    \"\"\"\n",
    "    \n",
    "    # Make a copy to avoid modifying original data\n",
    "    analysis_df = df.copy()\n",
    "    \n",
    "    # Prepare data for correlation analysis\n",
    "    analysis_df = prepare_correlation_data(analysis_df)\n",
    "    \n",
    "    # Select numeric columns for correlation\n",
    "    numeric_columns = analysis_df.select_dtypes(include=[np.number]).columns.tolist()\n",
    "    \n",
    "    # Remove ID columns and other non-meaningful columns\n",
    "    exclude_cols = [col for col in numeric_columns if 'id' in col.lower() or 'counter' in col.lower()]\n",
    "    numeric_columns = [col for col in numeric_columns if col not in exclude_cols]\n",
    "    \n",
    "    # Ensure churn column is included\n",
    "    if churn_column not in numeric_columns:\n",
    "        numeric_columns.append(churn_column)\n",
    "    \n",
    "    # Calculate correlation matrix\n",
    "    correlation_matrix = analysis_df[numeric_columns].corr()\n",
    "    \n",
    "    # Create the plot\n",
    "    plt.figure(figsize=figsize)\n",
    "    \n",
    "    # Create heatmap\n",
    "    mask = np.triu(np.ones_like(correlation_matrix, dtype=bool))  # Mask upper triangle\n",
    "    \n",
    "    sns.heatmap(correlation_matrix, \n",
    "                mask=mask,\n",
    "                annot=True, \n",
    "                cmap='RdBu_r', \n",
    "                center=0,\n",
    "                fmt='.2f',\n",
    "                square=True,\n",
    "                cbar_kws={'label': 'Correlation Coefficient'})\n",
    "    \n",
    "    plt.title(f'Correlation Matrix - Focus on {churn_column.replace(\"_\", \" \").title()}', \n",
    "              fontsize=16, fontweight='bold')\n",
    "    plt.xticks(rotation=45, ha='right')\n",
    "    plt.yticks(rotation=0)\n",
    "    plt.tight_layout()\n",
    "    plt.show()\n",
    "    \n",
    "    # Return correlation with churn column\n",
    "    churn_correlations = correlation_matrix[churn_column].drop(churn_column)\n",
    "    return churn_correlations.sort_values(key=abs, ascending=False)\n",
    "\n",
    "def prepare_correlation_data(df):\n",
    "    \"\"\"\n",
    "    Prepare data by encoding categorical variables and creating useful features\n",
    "    \"\"\"\n",
    "    analysis_df = df.copy()\n",
    "    \n",
    "    # Encode categorical variables\n",
    "    categorical_columns = ['plan_type', 'contract_type']\n",
    "    le = LabelEncoder()\n",
    "    \n",
    "    for col in categorical_columns:\n",
    "        if col in analysis_df.columns:\n",
    "            analysis_df[f'{col}_encoded'] = le.fit_transform(analysis_df[col].astype(str))\n",
    "    \n",
    "    # Create binary features from categorical data\n",
    "    if 'plan_type' in analysis_df.columns:\n",
    "        analysis_df['is_unlimited'] = analysis_df['plan_type'].str.contains('Unlimited', na=False).astype(int)\n",
    "        analysis_df['is_premium'] = analysis_df['plan_type'].str.contains('Premium', na=False).astype(int)\n",
    "        analysis_df['is_limited'] = analysis_df['plan_type'].str.contains('Limited', na=False).astype(int)\n",
    "    \n",
    "    if 'contract_type' in analysis_df.columns:\n",
    "        analysis_df['is_month_to_month'] = (analysis_df['contract_type'] == 'Month_to_Month').astype(int)\n",
    "        analysis_df['is_long_contract'] = analysis_df['contract_type'].isin(['24_Month', '36_Month']).astype(int)\n",
    "    \n",
    "    # Create derived features\n",
    "    if 'monthly_cost' in analysis_df.columns and 'line_count' in analysis_df.columns:\n",
    "        analysis_df['cost_per_line'] = analysis_df['monthly_cost'] / analysis_df['line_count']\n",
    "    \n",
    "    if 'data_overage_frequency' in analysis_df.columns:\n",
    "        analysis_df['high_overage'] = (analysis_df['data_overage_frequency'] > 2).astype(int)\n",
    "        analysis_df['any_overage'] = (analysis_df['data_overage_frequency'] > 0).astype(int)\n",
    "    \n",
    "    # Handle boolean columns\n",
    "    bool_columns = analysis_df.select_dtypes(include=['bool']).columns\n",
    "    for col in bool_columns:\n",
    "        analysis_df[col] = analysis_df[col].astype(int)\n",
    "    \n",
    "    return analysis_df\n",
    "\n",
    "def create_churn_bar_plot(df, churn_column='mobile_churn', top_n=15, figsize=(12, 8)):\n",
    "    \"\"\"\n",
    "    Create a horizontal bar plot showing correlations with churn\n",
    "    \"\"\"\n",
    "    analysis_df = prepare_correlation_data(df)\n",
    "    \n",
    "    # Get numeric columns\n",
    "    numeric_columns = analysis_df.select_dtypes(include=[np.number]).columns.tolist()\n",
    "    exclude_cols = [col for col in numeric_columns if 'id' in col.lower()]\n",
    "    numeric_columns = [col for col in numeric_columns if col not in exclude_cols]\n",
    "    \n",
    "    # Calculate correlations\n",
    "    correlations = analysis_df[numeric_columns].corrwith(analysis_df[churn_column])\n",
    "    correlations = correlations.drop(churn_column).sort_values(key=abs, ascending=False)\n",
    "    \n",
    "    # Take top N correlations\n",
    "    top_correlations = correlations.head(top_n)\n",
    "    \n",
    "    # Create the plot\n",
    "    plt.figure(figsize=figsize)\n",
    "    \n",
    "    # Create color map based on positive/negative correlation\n",
    "    colors = ['red' if x > 0 else 'blue' for x in top_correlations.values]\n",
    "    \n",
    "    # Horizontal bar plot\n",
    "    bars = plt.barh(range(len(top_correlations)), top_correlations.values, color=colors, alpha=0.7)\n",
    "    \n",
    "    # Customize the plot\n",
    "    plt.yticks(range(len(top_correlations)), top_correlations.index)\n",
    "    plt.xlabel('Correlation Coefficient', fontsize=12)\n",
    "    plt.title(f'Top {top_n} Correlations with {churn_column.replace(\"_\", \" \").title()}', fontsize=14, fontweight='bold')\n",
    "    plt.grid(axis='x', alpha=0.3)\n",
    "    \n",
    "    # Add vertical line at zero\n",
    "    plt.axvline(x=0, color='black', linestyle='-', alpha=0.3)\n",
    "    \n",
    "    # Add correlation values as text on bars\n",
    "    for i, v in enumerate(top_correlations.values):\n",
    "        plt.text(v + (0.01 if v > 0 else -0.01), i, f'{v:.3f}', \n",
    "                va='center', ha='left' if v > 0 else 'right', fontsize=9)\n",
    "    \n",
    "    plt.tight_layout()\n",
    "    plt.show()\n",
    "    \n",
    "    # Print correlations\n",
    "    print(f\"\\nTop {top_n} Correlations with {churn_column}:\")\n",
    "    print(\"-\" * 50)\n",
    "    for i, (feature, corr) in enumerate(top_correlations.items(), 1):\n",
    "        direction = \"↑ Increases churn\" if corr > 0 else \"↓ Decreases churn\"\n",
    "        print(f\"{i:2d}. {feature:<25} {corr:6.3f} {direction}\")\n",
    "    \n",
    "    return top_correlations\n",
    "\n",
    "def prepare_correlation_data(df):\n",
    "    \"\"\"\n",
    "    Prepare data by encoding categorical variables and creating useful features\n",
    "    \"\"\"\n",
    "    analysis_df = df.copy()\n",
    "    \n",
    "    # Encode categorical variables\n",
    "    categorical_columns = ['plan_type', 'contract_type', 'plan_tier']\n",
    "    le = LabelEncoder()\n",
    "    \n",
    "    for col in categorical_columns:\n",
    "        if col in analysis_df.columns:\n",
    "            analysis_df[f'{col}_encoded'] = le.fit_transform(analysis_df[col].astype(str))\n",
    "    \n",
    "    # Create binary features from categorical data\n",
    "    if 'plan_type' in analysis_df.columns:\n",
    "        analysis_df['is_unlimited'] = analysis_df['plan_type'].str.contains('Unlimited', na=False).astype(int)\n",
    "        analysis_df['is_premium'] = analysis_df['plan_type'].str.contains('Premium', na=False).astype(int)\n",
    "        analysis_df['is_limited'] = analysis_df['plan_type'].str.contains('Limited', na=False).astype(int)\n",
    "    \n",
    "    if 'plan_tier' in analysis_df.columns:\n",
    "        analysis_df['is_basic_plan'] = (analysis_df['plan_tier'] == 'Basic_25').astype(int)\n",
    "        analysis_df['is_premium_plan'] = (analysis_df['plan_tier'] == 'Premium_Gig').astype(int)\n",
    "    \n",
    "    if 'contract_type' in analysis_df.columns:\n",
    "        analysis_df['is_month_to_month'] = (analysis_df['contract_type'] == 'Month_to_Month').astype(int)\n",
    "        analysis_df['is_long_contract'] = analysis_df['contract_type'].isin(['24_Month', '36_Month']).astype(int)\n",
    "    \n",
    "    # Create derived features for mobile\n",
    "    if 'monthly_cost' in analysis_df.columns and 'line_count' in analysis_df.columns:\n",
    "        analysis_df['cost_per_line'] = analysis_df['monthly_cost'] / analysis_df['line_count']\n",
    "    \n",
    "    if 'data_overage_frequency' in analysis_df.columns:\n",
    "        analysis_df['high_overage'] = (analysis_df['data_overage_frequency'] > 2).astype(int)\n",
    "        analysis_df['any_overage'] = (analysis_df['data_overage_frequency'] > 0).astype(int)\n",
    "    \n",
    "    # Create derived features for internet\n",
    "    if 'data_usage_gb' in analysis_df.columns and 'speed_mbps' in analysis_df.columns:\n",
    "        analysis_df['usage_per_mbps'] = analysis_df['data_usage_gb'] / analysis_df['speed_mbps']\n",
    "    \n",
    "    if 'speed_complaints' in analysis_df.columns:\n",
    "        analysis_df['high_complaints'] = (analysis_df['speed_complaints'] > 1).astype(int)\n",
    "    \n",
    "    if 'outage_count' in analysis_df.columns:\n",
    "        analysis_df['frequent_outages'] = (analysis_df['outage_count'] > 1).astype(int)\n",
    "    \n",
    "    # Create tenure-based features\n",
    "    for tenure_col in ['mobile_tenure_days', 'internet_tenure_days']:\n",
    "        if tenure_col in analysis_df.columns:\n",
    "            analysis_df[f'long_tenure_{tenure_col.split(\"_\")[0]}'] = (analysis_df[tenure_col] > 365).astype(int)\n",
    "    \n",
    "    # Handle boolean columns\n",
    "    bool_columns = analysis_df.select_dtypes(include=['bool']).columns\n",
    "    for col in bool_columns:\n",
    "        analysis_df[col] = analysis_df[col].astype(int)\n",
    "    \n",
    "    return analysis_df"
   ]
  },
  {
   "cell_type": "code",
   "execution_count": 12,
   "id": "0873a9da",
   "metadata": {},
   "outputs": [
    {
     "data": {
      "image/png": "[encoded data removed]",
      "text/plain": [
       "<Figure size 1200x800 with 2 Axes>"
      ]
     },
     "metadata": {},
     "output_type": "display_data"
    },
    {
     "data": {
      "image/png": "[encoded data removed]",
      "text/plain": [
       "<Figure size 1200x800 with 1 Axes>"
      ]
     },
     "metadata": {},
     "output_type": "display_data"
    },
    {
     "name": "stdout",
     "output_type": "stream",
     "text": [
      "\n",
      "Top 10 Correlations with mobile_churn:\n",
      "--------------------------------------------------\n",
      " 1. data_overage_frequency     0.361 ↑ Increases churn\n",
      " 2. high_overage               0.338 ↑ Increases churn\n",
      " 3. any_overage                0.305 ↑ Increases churn\n",
      " 4. is_limited                 0.286 ↑ Increases churn\n",
      " 5. is_unlimited              -0.286 ↓ Decreases churn\n",
      " 6. monthly_cost              -0.263 ↓ Decreases churn\n",
      " 7. device_upgrade_cycle       0.243 ↑ Increases churn\n",
      " 8. family_plan_flag          -0.242 ↓ Decreases churn\n",
      " 9. plan_type_encoded         -0.223 ↓ Decreases churn\n",
      "10. cost_per_line             -0.199 ↓ Decreases churn\n"
     ]
    }
   ],
   "source": [
    "correlations = create_churn_correlation_plot(mobile_df, 'mobile_churn')\n",
    "bar_plot = create_churn_bar_plot(mobile_df, 'mobile_churn', top_n=10)"
   ]
  },
  {
   "cell_type": "code",
   "execution_count": 13,
   "id": "471219cf",
   "metadata": {},
   "outputs": [
    {
     "data": {
      "image/png": "[encoded data removed]",
      "text/plain": [
       "<Figure size 1200x800 with 2 Axes>"
      ]
     },
     "metadata": {},
     "output_type": "display_data"
    },
    {
     "data": {
      "image/png": "[encoded data removed]",
      "text/plain": [
       "<Figure size 1200x800 with 1 Axes>"
      ]
     },
     "metadata": {},
     "output_type": "display_data"
    },
    {
     "name": "stdout",
     "output_type": "stream",
     "text": [
      "\n",
      "Top 10 Correlations with internet_churn:\n",
      "--------------------------------------------------\n",
      " 1. speed_complaints           0.641 ↑ Increases churn\n",
      " 2. outage_count               0.548 ↑ Increases churn\n",
      " 3. high_complaints            0.535 ↑ Increases churn\n",
      " 4. early_termination          0.465 ↑ Increases churn\n",
      " 5. frequent_outages           0.452 ↑ Increases churn\n",
      " 6. is_month_to_month          0.299 ↑ Increases churn\n",
      " 7. contract_type_encoded      0.271 ↑ Increases churn\n",
      " 8. contract_completed_percent -0.245 ↓ Decreases churn\n",
      " 9. internet_tenure_days      -0.172 ↓ Decreases churn\n",
      "10. is_long_contract          -0.164 ↓ Decreases churn\n"
     ]
    }
   ],
   "source": [
    "correlations = create_churn_correlation_plot(internet_df, 'internet_churn')\n",
    "bar_plot = create_churn_bar_plot(internet_df, 'internet_churn', top_n=10)"
   ]
  },
  {
   "cell_type": "markdown",
   "id": "addc1c31",
   "metadata": {},
   "source": [
    "##### Write the tables to BigQuery"
   ]
  },
  {
   "cell_type": "code",
   "execution_count": null,
   "id": "c96e128f",
   "metadata": {},
   "outputs": [
    {
     "name": "stderr",
     "output_type": "stream",
     "text": [
      "Your browser has been opened to visit:\n",
      "\n",
      "    https://accounts.google.com/o/oauth2/auth?response_type=code&client_id=32555940559.apps.googleusercontent.com&redirect_uri=http%3A%2F%2Flocalhost%3A8085%2F&scope=openid+https%3A%2F%2Fwww.googleapis.com%2Fauth%2Fuserinfo.email+https%3A%2F%2Fwww.googleapis.com%2Fauth%2Fcloud-platform+https%3A%2F%2Fwww.googleapis.com%2Fauth%2Fappengine.admin+https%3A%2F%2Fwww.googleapis.com%2Fauth%2Fsqlservice.login+https%3A%2F%2Fwww.googleapis.com%2Fauth%2Fcompute+https%3A%2F%2Fwww.googleapis.com%2Fauth%2Faccounts.reauth&state=boyJUcn8KyAYWlSzydCWSaov8Nz6Lf&access_type=offline&code_challenge=vJ3Dq08O7X5zx52K3Xf-3Tz4a5QQwnSL6kfYlxjYNP0&code_challenge_method=S256\n",
      "\n",
      "\n",
      "You are now logged in as [hazardscarn10@gmail.com].\n",
      "Your current project is [trilink-472019].  You can change this setting by running:\n",
      "  $ gcloud config set project PROJECT_ID\n"
     ]
    }
   ],
   "source": [
    "##Authineticate and login to gcloud env\n",
    "# !gcloud auth login\n",
    "#!gcloud config set project trilink-471315\n",
    "# Enable BigQuery API\n",
    "#!gcloud services enable bigquery.googleapis.com"
   ]
  },
  {
   "cell_type": "code",
   "execution_count": 9,
   "id": "98ac8425",
   "metadata": {},
   "outputs": [
    {
     "name": "stderr",
     "output_type": "stream",
     "text": [
      "Your browser has been opened to visit:\n",
      "\n",
      "    https://accounts.google.com/o/oauth2/auth?response_type=code&client_id=764086051850-6qr4p6gpi6hn506pt8ejuq83di341hur.apps.googleusercontent.com&redirect_uri=http%3A%2F%2Flocalhost%3A8085%2F&scope=openid+https%3A%2F%2Fwww.googleapis.com%2Fauth%2Fuserinfo.email+https%3A%2F%2Fwww.googleapis.com%2Fauth%2Fcloud-platform+https%3A%2F%2Fwww.googleapis.com%2Fauth%2Fsqlservice.login&state=2azY4oDoZ5R9TGePIMMDWrkSYnaRcz&access_type=offline&code_challenge=XPM5H9f0Reo16Kuj-xl-6OiVoPK5R_75QE8l0zuLOMk&code_challenge_method=S256\n",
      "\n",
      "\n",
      "Credentials saved to file: [C:\\Users\\hazar\\AppData\\Roaming\\gcloud\\application_default_credentials.json]\n",
      "\n",
      "These credentials will be used by any library that requests Application Default Credentials (ADC).\n",
      "\n",
      "Quota project \"trilink-472019\" was added to ADC which can be used by Google client libraries for billing and quota. Note that some services may still bill the project owning the resource.\n"
     ]
    }
   ],
   "source": [
    "\n",
    "!gcloud auth application-default login"
   ]
  },
  {
   "cell_type": "code",
   "execution_count": 19,
   "id": "3195f964",
   "metadata": {},
   "outputs": [
    {
     "name": "stdout",
     "output_type": "stream",
     "text": [
      "✅ Created dataset trilink-472019.database\n",
      "✅ Uploaded 100000 rows to BigQuery!\n"
     ]
    }
   ],
   "source": [
    "from google.cloud import bigquery\n",
    "import pandas as pd\n",
    "client = bigquery.Client(project=\"trilink-472019\")\n",
    "\n",
    "# 1. Create the dataset first\n",
    "dataset_id = \"trilink-472019.database\"\n",
    "dataset = bigquery.Dataset(dataset_id)\n",
    "dataset.location = \"US\"  # Choose your preferred location\n",
    "\n",
    "try:\n",
    "    dataset = client.create_dataset(dataset, timeout=30)\n",
    "    print(f\"✅ Created dataset {dataset_id}\")\n",
    "except Exception as e:\n",
    "    print(f\"Dataset might already exist: {e}\")\n",
    "\n",
    "####2. Save the customerdata\n",
    "job1 = client.load_table_from_dataframe(customers_df, \"trilink-472019.database.customer_df\")\n",
    "job1.result()\n",
    "print(f\"✅ Uploaded {len(customers_df)} rows to BigQuery!\")\n"
   ]
  },
  {
   "cell_type": "code",
   "execution_count": 20,
   "id": "3c5b3ed8",
   "metadata": {},
   "outputs": [
    {
     "name": "stdout",
     "output_type": "stream",
     "text": [
      "✅ Uploaded 72756 rows to BigQuery!\n",
      "✅ Uploaded 74395 rows to BigQuery!\n",
      "✅ Uploaded 151760 rows to BigQuery!\n"
     ]
    }
   ],
   "source": [
    "####3. Save the internet customer plan info\n",
    "job2 = client.load_table_from_dataframe(internet_df, \"trilink-472019.database.internet_df\")\n",
    "job2.result()\n",
    "print(f\"✅ Uploaded {len(internet_df)} rows to BigQuery!\")\n",
    "\n",
    "\n",
    "####4. Save the mobile customer plan info\n",
    "job3 = client.load_table_from_dataframe(mobile_df, \"trilink-472019.database.mobile_df\")\n",
    "job3.result()\n",
    "print(f\"✅ Uploaded {len(mobile_df)} rows to BigQuery!\")\n",
    "\n",
    "####5. Save the security customer plan info\n",
    "job4 = client.load_table_from_dataframe(security_df, \"trilink-472019.database.security_df\")\n",
    "job4.result()\n",
    "print(f\"✅ Uploaded {len(security_df)} rows to BigQuery!\")"
   ]
  },
  {
   "cell_type": "markdown",
   "id": "ad4eb8f6",
   "metadata": {},
   "source": [
    "##### Test the connectivity to access the tables in Local Notebook from BigQuery"
   ]
  },
  {
   "cell_type": "code",
   "execution_count": 13,
   "id": "15557f3a",
   "metadata": {},
   "outputs": [
    {
     "name": "stderr",
     "output_type": "stream",
     "text": [
      "d:\\Work\\Github\\TriLink\\venv\\Lib\\site-packages\\google\\cloud\\bigquery\\__init__.py:237: FutureWarning: %load_ext google.cloud.bigquery is deprecated. Install bigquery-magics package and use `%load_ext bigquery_magics`, instead.\n",
      "  warnings.warn(\n"
     ]
    }
   ],
   "source": [
    "import google.cloud.bigquery\n",
    "# Load the extension\n",
    "%load_ext google.cloud.bigquery"
   ]
  },
  {
   "cell_type": "code",
   "execution_count": 14,
   "id": "7cb17a9c",
   "metadata": {},
   "outputs": [
    {
     "data": {
      "application/vnd.jupyter.widget-view+json": {
       "model_id": "0bdb727254284f1fabdbef21d8803f06",
       "version_major": 2,
       "version_minor": 0
      },
      "text/plain": [
       "Query is running:   0%|          |"
      ]
     },
     "metadata": {},
     "output_type": "display_data"
    },
    {
     "data": {
      "application/vnd.jupyter.widget-view+json": {
       "model_id": "d3fd8e4b2b3c494e83418a3efffa1229",
       "version_major": 2,
       "version_minor": 0
      },
      "text/plain": [
       "Downloading:   0%|          |"
      ]
     },
     "metadata": {},
     "output_type": "display_data"
    },
    {
     "data": {
      "application/vnd.microsoft.datawrangler.viewer.v0+json": {
       "columns": [
        {
         "name": "index",
         "rawType": "int64",
         "type": "integer"
        },
        {
         "name": "customer_id",
         "rawType": "object",
         "type": "string"
        },
        {
         "name": "city",
         "rawType": "object",
         "type": "string"
        },
        {
         "name": "postal_code",
         "rawType": "object",
         "type": "string"
        },
        {
         "name": "age",
         "rawType": "Int64",
         "type": "integer"
        },
        {
         "name": "household_income",
         "rawType": "Int64",
         "type": "integer"
        },
        {
         "name": "income_bracket",
         "rawType": "object",
         "type": "string"
        },
        {
         "name": "family_size",
         "rawType": "Int64",
         "type": "integer"
        },
        {
         "name": "home_ownership",
         "rawType": "object",
         "type": "string"
        },
        {
         "name": "work_from_home_flag",
         "rawType": "boolean",
         "type": "boolean"
        },
        {
         "name": "education_level",
         "rawType": "object",
         "type": "string"
        },
        {
         "name": "life_stage",
         "rawType": "object",
         "type": "string"
        },
        {
         "name": "home_type",
         "rawType": "object",
         "type": "string"
        },
        {
         "name": "home_square_footage",
         "rawType": "Int64",
         "type": "integer"
        },
        {
         "name": "property_value",
         "rawType": "Int64",
         "type": "integer"
        },
        {
         "name": "neighborhood_crime_rate",
         "rawType": "float64",
         "type": "float"
        },
        {
         "name": "neighborhood_income_median",
         "rawType": "Int64",
         "type": "integer"
        },
        {
         "name": "fiber_availability",
         "rawType": "boolean",
         "type": "boolean"
        },
        {
         "name": "created_timestamp",
         "rawType": "object",
         "type": "string"
        }
       ],
       "ref": "56ca11ef-8ffa-46c0-92f5-9ca6354eba68",
       "rows": [
        [
         "0",
         "C00000025",
         "Guelph",
         "N7C 0D2",
         "70",
         "110338",
         "Upper_Middle",
         "1",
         "Own",
         "False",
         "College",
         "Senior",
         "Apartment",
         "500",
         "132707",
         "1.1",
         "108292",
         "True",
         "2025-09-06 12:52:18.379943"
        ],
        [
         "1",
         "C00000032",
         "Mississauga",
         "L8V 3E5",
         "22",
         "50000",
         "Low",
         "1",
         "Own",
         "True",
         "College",
         "Single",
         "Apartment",
         "500",
         "50000",
         "4.5",
         "61038",
         "False",
         "2025-09-06 12:52:18.379943"
        ],
        [
         "2",
         "C00000039",
         "Toronto",
         "M8Z 3Y4",
         "23",
         "50000",
         "Low",
         "1",
         "Own",
         "False",
         "Graduate",
         "Single",
         "Apartment",
         "500",
         "87563",
         "10.2",
         "48041",
         "True",
         "2025-09-06 12:52:18.381961"
        ],
        [
         "3",
         "C00000087",
         "Toronto",
         "M0F 5N3",
         "30",
         "50000",
         "Low",
         "1",
         "Own",
         "False",
         "College",
         "Single",
         "Apartment",
         "500",
         "282664",
         "4.5",
         "82432",
         "True",
         "2025-09-06 12:52:18.388771"
        ],
        [
         "4",
         "C00000113",
         "London",
         "N3E 0D6",
         "20",
         "50000",
         "Low",
         "1",
         "Own",
         "False",
         "College",
         "Single",
         "Apartment",
         "500",
         "50000",
         "7.0",
         "30000",
         "False",
         "2025-09-06 12:52:18.393114"
        ],
        [
         "5",
         "C00000117",
         "Toronto",
         "M5P 9Z8",
         "16",
         "50756",
         "Low",
         "1",
         "Own",
         "True",
         "Graduate",
         "Single",
         "Apartment",
         "500",
         "50000",
         "7.9",
         "68317",
         "True",
         "2025-09-06 12:52:18.393114"
        ],
        [
         "6",
         "C00000130",
         "Mississauga",
         "L6R 0M5",
         "16",
         "50000",
         "Low",
         "1",
         "Own",
         "False",
         "College",
         "Single",
         "Condo",
         "500",
         "183716",
         "6.4",
         "50981",
         "True",
         "2025-09-06 12:52:18.394882"
        ],
        [
         "7",
         "C00000167",
         "Guelph",
         "N7I 9S9",
         "55",
         "73369",
         "Middle",
         "1",
         "Own",
         "False",
         "College",
         "Empty_Nest",
         "Condo",
         "500",
         "50000",
         "4.6",
         "59849",
         "False",
         "2025-09-06 12:52:18.402698"
        ],
        [
         "8",
         "C00000169",
         "Toronto",
         "M5F 4A8",
         "16",
         "50000",
         "Low",
         "1",
         "Own",
         "True",
         "College",
         "Single",
         "Condo",
         "500",
         "271871",
         "7.1",
         "68768",
         "False",
         "2025-09-06 12:52:18.403682"
        ],
        [
         "9",
         "C00000188",
         "Mississauga",
         "L4E 1B2",
         "32",
         "66502",
         "Middle",
         "1",
         "Own",
         "False",
         "College",
         "Single",
         "Condo",
         "500",
         "50000",
         "7.2",
         "43712",
         "False",
         "2025-09-06 12:52:18.406275"
        ]
       ],
       "shape": {
        "columns": 18,
        "rows": 10
       }
      },
      "text/html": [
       "<div>\n",
       "<style scoped>\n",
       "    .dataframe tbody tr th:only-of-type {\n",
       "        vertical-align: middle;\n",
       "    }\n",
       "\n",
       "    .dataframe tbody tr th {\n",
       "        vertical-align: top;\n",
       "    }\n",
       "\n",
       "    .dataframe thead th {\n",
       "        text-align: right;\n",
       "    }\n",
       "</style>\n",
       "<table border=\"1\" class=\"dataframe\">\n",
       "  <thead>\n",
       "    <tr style=\"text-align: right;\">\n",
       "      <th></th>\n",
       "      <th>customer_id</th>\n",
       "      <th>city</th>\n",
       "      <th>postal_code</th>\n",
       "      <th>age</th>\n",
       "      <th>household_income</th>\n",
       "      <th>income_bracket</th>\n",
       "      <th>family_size</th>\n",
       "      <th>home_ownership</th>\n",
       "      <th>work_from_home_flag</th>\n",
       "      <th>education_level</th>\n",
       "      <th>life_stage</th>\n",
       "      <th>home_type</th>\n",
       "      <th>home_square_footage</th>\n",
       "      <th>property_value</th>\n",
       "      <th>neighborhood_crime_rate</th>\n",
       "      <th>neighborhood_income_median</th>\n",
       "      <th>fiber_availability</th>\n",
       "      <th>created_timestamp</th>\n",
       "    </tr>\n",
       "  </thead>\n",
       "  <tbody>\n",
       "    <tr>\n",
       "      <th>0</th>\n",
       "      <td>C00000025</td>\n",
       "      <td>Guelph</td>\n",
       "      <td>N7C 0D2</td>\n",
       "      <td>70</td>\n",
       "      <td>110338</td>\n",
       "      <td>Upper_Middle</td>\n",
       "      <td>1</td>\n",
       "      <td>Own</td>\n",
       "      <td>False</td>\n",
       "      <td>College</td>\n",
       "      <td>Senior</td>\n",
       "      <td>Apartment</td>\n",
       "      <td>500</td>\n",
       "      <td>132707</td>\n",
       "      <td>1.1</td>\n",
       "      <td>108292</td>\n",
       "      <td>True</td>\n",
       "      <td>2025-09-06 12:52:18.379943</td>\n",
       "    </tr>\n",
       "    <tr>\n",
       "      <th>1</th>\n",
       "      <td>C00000032</td>\n",
       "      <td>Mississauga</td>\n",
       "      <td>L8V 3E5</td>\n",
       "      <td>22</td>\n",
       "      <td>50000</td>\n",
       "      <td>Low</td>\n",
       "      <td>1</td>\n",
       "      <td>Own</td>\n",
       "      <td>True</td>\n",
       "      <td>College</td>\n",
       "      <td>Single</td>\n",
       "      <td>Apartment</td>\n",
       "      <td>500</td>\n",
       "      <td>50000</td>\n",
       "      <td>4.5</td>\n",
       "      <td>61038</td>\n",
       "      <td>False</td>\n",
       "      <td>2025-09-06 12:52:18.379943</td>\n",
       "    </tr>\n",
       "    <tr>\n",
       "      <th>2</th>\n",
       "      <td>C00000039</td>\n",
       "      <td>Toronto</td>\n",
       "      <td>M8Z 3Y4</td>\n",
       "      <td>23</td>\n",
       "      <td>50000</td>\n",
       "      <td>Low</td>\n",
       "      <td>1</td>\n",
       "      <td>Own</td>\n",
       "      <td>False</td>\n",
       "      <td>Graduate</td>\n",
       "      <td>Single</td>\n",
       "      <td>Apartment</td>\n",
       "      <td>500</td>\n",
       "      <td>87563</td>\n",
       "      <td>10.2</td>\n",
       "      <td>48041</td>\n",
       "      <td>True</td>\n",
       "      <td>2025-09-06 12:52:18.381961</td>\n",
       "    </tr>\n",
       "    <tr>\n",
       "      <th>3</th>\n",
       "      <td>C00000087</td>\n",
       "      <td>Toronto</td>\n",
       "      <td>M0F 5N3</td>\n",
       "      <td>30</td>\n",
       "      <td>50000</td>\n",
       "      <td>Low</td>\n",
       "      <td>1</td>\n",
       "      <td>Own</td>\n",
       "      <td>False</td>\n",
       "      <td>College</td>\n",
       "      <td>Single</td>\n",
       "      <td>Apartment</td>\n",
       "      <td>500</td>\n",
       "      <td>282664</td>\n",
       "      <td>4.5</td>\n",
       "      <td>82432</td>\n",
       "      <td>True</td>\n",
       "      <td>2025-09-06 12:52:18.388771</td>\n",
       "    </tr>\n",
       "    <tr>\n",
       "      <th>4</th>\n",
       "      <td>C00000113</td>\n",
       "      <td>London</td>\n",
       "      <td>N3E 0D6</td>\n",
       "      <td>20</td>\n",
       "      <td>50000</td>\n",
       "      <td>Low</td>\n",
       "      <td>1</td>\n",
       "      <td>Own</td>\n",
       "      <td>False</td>\n",
       "      <td>College</td>\n",
       "      <td>Single</td>\n",
       "      <td>Apartment</td>\n",
       "      <td>500</td>\n",
       "      <td>50000</td>\n",
       "      <td>7.0</td>\n",
       "      <td>30000</td>\n",
       "      <td>False</td>\n",
       "      <td>2025-09-06 12:52:18.393114</td>\n",
       "    </tr>\n",
       "    <tr>\n",
       "      <th>5</th>\n",
       "      <td>C00000117</td>\n",
       "      <td>Toronto</td>\n",
       "      <td>M5P 9Z8</td>\n",
       "      <td>16</td>\n",
       "      <td>50756</td>\n",
       "      <td>Low</td>\n",
       "      <td>1</td>\n",
       "      <td>Own</td>\n",
       "      <td>True</td>\n",
       "      <td>Graduate</td>\n",
       "      <td>Single</td>\n",
       "      <td>Apartment</td>\n",
       "      <td>500</td>\n",
       "      <td>50000</td>\n",
       "      <td>7.9</td>\n",
       "      <td>68317</td>\n",
       "      <td>True</td>\n",
       "      <td>2025-09-06 12:52:18.393114</td>\n",
       "    </tr>\n",
       "    <tr>\n",
       "      <th>6</th>\n",
       "      <td>C00000130</td>\n",
       "      <td>Mississauga</td>\n",
       "      <td>L6R 0M5</td>\n",
       "      <td>16</td>\n",
       "      <td>50000</td>\n",
       "      <td>Low</td>\n",
       "      <td>1</td>\n",
       "      <td>Own</td>\n",
       "      <td>False</td>\n",
       "      <td>College</td>\n",
       "      <td>Single</td>\n",
       "      <td>Condo</td>\n",
       "      <td>500</td>\n",
       "      <td>183716</td>\n",
       "      <td>6.4</td>\n",
       "      <td>50981</td>\n",
       "      <td>True</td>\n",
       "      <td>2025-09-06 12:52:18.394882</td>\n",
       "    </tr>\n",
       "    <tr>\n",
       "      <th>7</th>\n",
       "      <td>C00000167</td>\n",
       "      <td>Guelph</td>\n",
       "      <td>N7I 9S9</td>\n",
       "      <td>55</td>\n",
       "      <td>73369</td>\n",
       "      <td>Middle</td>\n",
       "      <td>1</td>\n",
       "      <td>Own</td>\n",
       "      <td>False</td>\n",
       "      <td>College</td>\n",
       "      <td>Empty_Nest</td>\n",
       "      <td>Condo</td>\n",
       "      <td>500</td>\n",
       "      <td>50000</td>\n",
       "      <td>4.6</td>\n",
       "      <td>59849</td>\n",
       "      <td>False</td>\n",
       "      <td>2025-09-06 12:52:18.402698</td>\n",
       "    </tr>\n",
       "    <tr>\n",
       "      <th>8</th>\n",
       "      <td>C00000169</td>\n",
       "      <td>Toronto</td>\n",
       "      <td>M5F 4A8</td>\n",
       "      <td>16</td>\n",
       "      <td>50000</td>\n",
       "      <td>Low</td>\n",
       "      <td>1</td>\n",
       "      <td>Own</td>\n",
       "      <td>True</td>\n",
       "      <td>College</td>\n",
       "      <td>Single</td>\n",
       "      <td>Condo</td>\n",
       "      <td>500</td>\n",
       "      <td>271871</td>\n",
       "      <td>7.1</td>\n",
       "      <td>68768</td>\n",
       "      <td>False</td>\n",
       "      <td>2025-09-06 12:52:18.403682</td>\n",
       "    </tr>\n",
       "    <tr>\n",
       "      <th>9</th>\n",
       "      <td>C00000188</td>\n",
       "      <td>Mississauga</td>\n",
       "      <td>L4E 1B2</td>\n",
       "      <td>32</td>\n",
       "      <td>66502</td>\n",
       "      <td>Middle</td>\n",
       "      <td>1</td>\n",
       "      <td>Own</td>\n",
       "      <td>False</td>\n",
       "      <td>College</td>\n",
       "      <td>Single</td>\n",
       "      <td>Condo</td>\n",
       "      <td>500</td>\n",
       "      <td>50000</td>\n",
       "      <td>7.2</td>\n",
       "      <td>43712</td>\n",
       "      <td>False</td>\n",
       "      <td>2025-09-06 12:52:18.406275</td>\n",
       "    </tr>\n",
       "  </tbody>\n",
       "</table>\n",
       "</div>"
      ],
      "text/plain": [
       "  customer_id         city postal_code  age  household_income income_bracket  \\\n",
       "0   C00000025       Guelph     N7C 0D2   70            110338   Upper_Middle   \n",
       "1   C00000032  Mississauga     L8V 3E5   22             50000            Low   \n",
       "2   C00000039      Toronto     M8Z 3Y4   23             50000            Low   \n",
       "3   C00000087      Toronto     M0F 5N3   30             50000            Low   \n",
       "4   C00000113       London     N3E 0D6   20             50000            Low   \n",
       "5   C00000117      Toronto     M5P 9Z8   16             50756            Low   \n",
       "6   C00000130  Mississauga     L6R 0M5   16             50000            Low   \n",
       "7   C00000167       Guelph     N7I 9S9   55             73369         Middle   \n",
       "8   C00000169      Toronto     M5F 4A8   16             50000            Low   \n",
       "9   C00000188  Mississauga     L4E 1B2   32             66502         Middle   \n",
       "\n",
       "   family_size home_ownership  work_from_home_flag education_level  \\\n",
       "0            1            Own                False         College   \n",
       "1            1            Own                 True         College   \n",
       "2            1            Own                False        Graduate   \n",
       "3            1            Own                False         College   \n",
       "4            1            Own                False         College   \n",
       "5            1            Own                 True        Graduate   \n",
       "6            1            Own                False         College   \n",
       "7            1            Own                False         College   \n",
       "8            1            Own                 True         College   \n",
       "9            1            Own                False         College   \n",
       "\n",
       "   life_stage  home_type  home_square_footage  property_value  \\\n",
       "0      Senior  Apartment                  500          132707   \n",
       "1      Single  Apartment                  500           50000   \n",
       "2      Single  Apartment                  500           87563   \n",
       "3      Single  Apartment                  500          282664   \n",
       "4      Single  Apartment                  500           50000   \n",
       "5      Single  Apartment                  500           50000   \n",
       "6      Single      Condo                  500          183716   \n",
       "7  Empty_Nest      Condo                  500           50000   \n",
       "8      Single      Condo                  500          271871   \n",
       "9      Single      Condo                  500           50000   \n",
       "\n",
       "   neighborhood_crime_rate  neighborhood_income_median  fiber_availability  \\\n",
       "0                      1.1                      108292                True   \n",
       "1                      4.5                       61038               False   \n",
       "2                     10.2                       48041                True   \n",
       "3                      4.5                       82432                True   \n",
       "4                      7.0                       30000               False   \n",
       "5                      7.9                       68317                True   \n",
       "6                      6.4                       50981                True   \n",
       "7                      4.6                       59849               False   \n",
       "8                      7.1                       68768               False   \n",
       "9                      7.2                       43712               False   \n",
       "\n",
       "            created_timestamp  \n",
       "0  2025-09-06 12:52:18.379943  \n",
       "1  2025-09-06 12:52:18.379943  \n",
       "2  2025-09-06 12:52:18.381961  \n",
       "3  2025-09-06 12:52:18.388771  \n",
       "4  2025-09-06 12:52:18.393114  \n",
       "5  2025-09-06 12:52:18.393114  \n",
       "6  2025-09-06 12:52:18.394882  \n",
       "7  2025-09-06 12:52:18.402698  \n",
       "8  2025-09-06 12:52:18.403682  \n",
       "9  2025-09-06 12:52:18.406275  "
      ]
     },
     "execution_count": 14,
     "metadata": {},
     "output_type": "execute_result"
    }
   ],
   "source": [
    "%%bigquery\n",
    "\n",
    "SELECT * \n",
    "FROM `trilink-472019.database.customer_df` \n",
    "LIMIT 10;"
   ]
  },
  {
   "cell_type": "code",
   "execution_count": 21,
   "id": "3c573efa",
   "metadata": {},
   "outputs": [
    {
     "data": {
      "application/vnd.jupyter.widget-view+json": {
       "model_id": "ca7a6e8bfd7640568bf7cbf510df0399",
       "version_major": 2,
       "version_minor": 0
      },
      "text/plain": [
       "Query is running:   0%|          |"
      ]
     },
     "metadata": {},
     "output_type": "display_data"
    },
    {
     "data": {
      "application/vnd.jupyter.widget-view+json": {
       "model_id": "f7a65a6f6c584ac38d7822f8d7e8d29c",
       "version_major": 2,
       "version_minor": 0
      },
      "text/plain": [
       "Downloading:   0%|          |"
      ]
     },
     "metadata": {},
     "output_type": "display_data"
    },
    {
     "data": {
      "application/vnd.microsoft.datawrangler.viewer.v0+json": {
       "columns": [
        {
         "name": "index",
         "rawType": "int64",
         "type": "integer"
        },
        {
         "name": "service_id",
         "rawType": "object",
         "type": "string"
        },
        {
         "name": "customer_id",
         "rawType": "object",
         "type": "string"
        },
        {
         "name": "plan_tier",
         "rawType": "object",
         "type": "string"
        },
        {
         "name": "speed_mbps",
         "rawType": "Int64",
         "type": "integer"
        },
        {
         "name": "monthly_cost",
         "rawType": "Int64",
         "type": "integer"
        },
        {
         "name": "data_usage_gb",
         "rawType": "Int64",
         "type": "integer"
        },
        {
         "name": "connected_devices",
         "rawType": "Int64",
         "type": "integer"
        },
        {
         "name": "start_date",
         "rawType": "object",
         "type": "string"
        },
        {
         "name": "end_date",
         "rawType": "object",
         "type": "unknown"
        },
        {
         "name": "contract_type",
         "rawType": "object",
         "type": "string"
        },
        {
         "name": "contract_end_date",
         "rawType": "object",
         "type": "unknown"
        },
        {
         "name": "speed_complaints",
         "rawType": "Int64",
         "type": "integer"
        },
        {
         "name": "outage_count",
         "rawType": "Int64",
         "type": "integer"
        },
        {
         "name": "internet_churn",
         "rawType": "Int64",
         "type": "integer"
        },
        {
         "name": "early_termination",
         "rawType": "Int64",
         "type": "integer"
        },
        {
         "name": "internet_tenure_days",
         "rawType": "float64",
         "type": "float"
        },
        {
         "name": "contract_completed_percent",
         "rawType": "float64",
         "type": "float"
        }
       ],
       "ref": "ddebae20-45d0-418e-bbec-27132592c6aa",
       "rows": [
        [
         "0",
         "INT_00000003",
         "C00000003",
         "Basic_25",
         "25",
         "47",
         "50",
         "8",
         "2022-12-06",
         "2024-07-24",
         "Month_to_Month",
         null,
         "3",
         "3",
         "1",
         "0",
         "596.0",
         null
        ],
        [
         "1",
         "INT_00000005",
         "C00000005",
         "Basic_25",
         "25",
         "43",
         "50",
         "13",
         "2023-09-05",
         null,
         "Month_to_Month",
         null,
         "2",
         "0",
         "0",
         "0",
         "732.0",
         null
        ],
        [
         "2",
         "INT_00000013",
         "C00000015",
         "Basic_25",
         "25",
         "46",
         "59",
         "8",
         "2023-12-08",
         "2025-02-12",
         "Month_to_Month",
         null,
         "4",
         "5",
         "1",
         "0",
         "432.0",
         null
        ],
        [
         "3",
         "INT_00000015",
         "C00000020",
         "Basic_25",
         "25",
         "39",
         "50",
         "10",
         "2023-11-19",
         null,
         "Month_to_Month",
         null,
         "3",
         "1",
         "0",
         "0",
         "657.0",
         null
        ],
        [
         "4",
         "INT_00000020",
         "C00000028",
         "Basic_25",
         "25",
         "41",
         "83",
         "21",
         "2023-07-11",
         null,
         "Month_to_Month",
         null,
         "4",
         "1",
         "0",
         "0",
         "788.0",
         null
        ]
       ],
       "shape": {
        "columns": 17,
        "rows": 5
       }
      },
      "text/html": [
       "<div>\n",
       "<style scoped>\n",
       "    .dataframe tbody tr th:only-of-type {\n",
       "        vertical-align: middle;\n",
       "    }\n",
       "\n",
       "    .dataframe tbody tr th {\n",
       "        vertical-align: top;\n",
       "    }\n",
       "\n",
       "    .dataframe thead th {\n",
       "        text-align: right;\n",
       "    }\n",
       "</style>\n",
       "<table border=\"1\" class=\"dataframe\">\n",
       "  <thead>\n",
       "    <tr style=\"text-align: right;\">\n",
       "      <th></th>\n",
       "      <th>service_id</th>\n",
       "      <th>customer_id</th>\n",
       "      <th>plan_tier</th>\n",
       "      <th>speed_mbps</th>\n",
       "      <th>monthly_cost</th>\n",
       "      <th>data_usage_gb</th>\n",
       "      <th>connected_devices</th>\n",
       "      <th>start_date</th>\n",
       "      <th>end_date</th>\n",
       "      <th>contract_type</th>\n",
       "      <th>contract_end_date</th>\n",
       "      <th>speed_complaints</th>\n",
       "      <th>outage_count</th>\n",
       "      <th>internet_churn</th>\n",
       "      <th>early_termination</th>\n",
       "      <th>internet_tenure_days</th>\n",
       "      <th>contract_completed_percent</th>\n",
       "    </tr>\n",
       "  </thead>\n",
       "  <tbody>\n",
       "    <tr>\n",
       "      <th>0</th>\n",
       "      <td>INT_00000003</td>\n",
       "      <td>C00000003</td>\n",
       "      <td>Basic_25</td>\n",
       "      <td>25</td>\n",
       "      <td>47</td>\n",
       "      <td>50</td>\n",
       "      <td>8</td>\n",
       "      <td>2022-12-06</td>\n",
       "      <td>2024-07-24</td>\n",
       "      <td>Month_to_Month</td>\n",
       "      <td>None</td>\n",
       "      <td>3</td>\n",
       "      <td>3</td>\n",
       "      <td>1</td>\n",
       "      <td>0</td>\n",
       "      <td>596.0</td>\n",
       "      <td>NaN</td>\n",
       "    </tr>\n",
       "    <tr>\n",
       "      <th>1</th>\n",
       "      <td>INT_00000005</td>\n",
       "      <td>C00000005</td>\n",
       "      <td>Basic_25</td>\n",
       "      <td>25</td>\n",
       "      <td>43</td>\n",
       "      <td>50</td>\n",
       "      <td>13</td>\n",
       "      <td>2023-09-05</td>\n",
       "      <td>None</td>\n",
       "      <td>Month_to_Month</td>\n",
       "      <td>None</td>\n",
       "      <td>2</td>\n",
       "      <td>0</td>\n",
       "      <td>0</td>\n",
       "      <td>0</td>\n",
       "      <td>732.0</td>\n",
       "      <td>NaN</td>\n",
       "    </tr>\n",
       "    <tr>\n",
       "      <th>2</th>\n",
       "      <td>INT_00000013</td>\n",
       "      <td>C00000015</td>\n",
       "      <td>Basic_25</td>\n",
       "      <td>25</td>\n",
       "      <td>46</td>\n",
       "      <td>59</td>\n",
       "      <td>8</td>\n",
       "      <td>2023-12-08</td>\n",
       "      <td>2025-02-12</td>\n",
       "      <td>Month_to_Month</td>\n",
       "      <td>None</td>\n",
       "      <td>4</td>\n",
       "      <td>5</td>\n",
       "      <td>1</td>\n",
       "      <td>0</td>\n",
       "      <td>432.0</td>\n",
       "      <td>NaN</td>\n",
       "    </tr>\n",
       "    <tr>\n",
       "      <th>3</th>\n",
       "      <td>INT_00000015</td>\n",
       "      <td>C00000020</td>\n",
       "      <td>Basic_25</td>\n",
       "      <td>25</td>\n",
       "      <td>39</td>\n",
       "      <td>50</td>\n",
       "      <td>10</td>\n",
       "      <td>2023-11-19</td>\n",
       "      <td>None</td>\n",
       "      <td>Month_to_Month</td>\n",
       "      <td>None</td>\n",
       "      <td>3</td>\n",
       "      <td>1</td>\n",
       "      <td>0</td>\n",
       "      <td>0</td>\n",
       "      <td>657.0</td>\n",
       "      <td>NaN</td>\n",
       "    </tr>\n",
       "    <tr>\n",
       "      <th>4</th>\n",
       "      <td>INT_00000020</td>\n",
       "      <td>C00000028</td>\n",
       "      <td>Basic_25</td>\n",
       "      <td>25</td>\n",
       "      <td>41</td>\n",
       "      <td>83</td>\n",
       "      <td>21</td>\n",
       "      <td>2023-07-11</td>\n",
       "      <td>None</td>\n",
       "      <td>Month_to_Month</td>\n",
       "      <td>None</td>\n",
       "      <td>4</td>\n",
       "      <td>1</td>\n",
       "      <td>0</td>\n",
       "      <td>0</td>\n",
       "      <td>788.0</td>\n",
       "      <td>NaN</td>\n",
       "    </tr>\n",
       "  </tbody>\n",
       "</table>\n",
       "</div>"
      ],
      "text/plain": [
       "     service_id customer_id plan_tier  speed_mbps  monthly_cost  \\\n",
       "0  INT_00000003   C00000003  Basic_25          25            47   \n",
       "1  INT_00000005   C00000005  Basic_25          25            43   \n",
       "2  INT_00000013   C00000015  Basic_25          25            46   \n",
       "3  INT_00000015   C00000020  Basic_25          25            39   \n",
       "4  INT_00000020   C00000028  Basic_25          25            41   \n",
       "\n",
       "   data_usage_gb  connected_devices  start_date    end_date   contract_type  \\\n",
       "0             50                  8  2022-12-06  2024-07-24  Month_to_Month   \n",
       "1             50                 13  2023-09-05        None  Month_to_Month   \n",
       "2             59                  8  2023-12-08  2025-02-12  Month_to_Month   \n",
       "3             50                 10  2023-11-19        None  Month_to_Month   \n",
       "4             83                 21  2023-07-11        None  Month_to_Month   \n",
       "\n",
       "  contract_end_date  speed_complaints  outage_count  internet_churn  \\\n",
       "0              None                 3             3               1   \n",
       "1              None                 2             0               0   \n",
       "2              None                 4             5               1   \n",
       "3              None                 3             1               0   \n",
       "4              None                 4             1               0   \n",
       "\n",
       "   early_termination  internet_tenure_days  contract_completed_percent  \n",
       "0                  0                 596.0                         NaN  \n",
       "1                  0                 732.0                         NaN  \n",
       "2                  0                 432.0                         NaN  \n",
       "3                  0                 657.0                         NaN  \n",
       "4                  0                 788.0                         NaN  "
      ]
     },
     "execution_count": 21,
     "metadata": {},
     "output_type": "execute_result"
    }
   ],
   "source": [
    "%%bigquery\n",
    "\n",
    "SELECT * \n",
    "FROM `trilink-472019.database.internet_df` \n",
    "LIMIT 5;"
   ]
  },
  {
   "cell_type": "code",
   "execution_count": 16,
   "id": "3ce14d70",
   "metadata": {},
   "outputs": [
    {
     "data": {
      "application/vnd.jupyter.widget-view+json": {
       "model_id": "bfbbb79d8ed94b16a9688b8d7f5b368e",
       "version_major": 2,
       "version_minor": 0
      },
      "text/plain": [
       "Query is running:   0%|          |"
      ]
     },
     "metadata": {},
     "output_type": "display_data"
    },
    {
     "data": {
      "application/vnd.jupyter.widget-view+json": {
       "model_id": "b7d5871c4a4847d2bdd8182533011ce9",
       "version_major": 2,
       "version_minor": 0
      },
      "text/plain": [
       "Downloading:   0%|          |"
      ]
     },
     "metadata": {},
     "output_type": "display_data"
    },
    {
     "data": {
      "application/vnd.microsoft.datawrangler.viewer.v0+json": {
       "columns": [
        {
         "name": "index",
         "rawType": "int64",
         "type": "integer"
        },
        {
         "name": "service_id",
         "rawType": "object",
         "type": "string"
        },
        {
         "name": "customer_id",
         "rawType": "object",
         "type": "string"
        },
        {
         "name": "plan_type",
         "rawType": "object",
         "type": "string"
        },
        {
         "name": "line_count",
         "rawType": "Int64",
         "type": "integer"
        },
        {
         "name": "monthly_cost",
         "rawType": "Int64",
         "type": "integer"
        },
        {
         "name": "data_overage_frequency",
         "rawType": "Int64",
         "type": "integer"
        },
        {
         "name": "start_date",
         "rawType": "object",
         "type": "string"
        },
        {
         "name": "end_date",
         "rawType": "object",
         "type": "unknown"
        },
        {
         "name": "contract_type",
         "rawType": "object",
         "type": "string"
        },
        {
         "name": "contract_end_date",
         "rawType": "object",
         "type": "unknown"
        },
        {
         "name": "family_plan_flag",
         "rawType": "boolean",
         "type": "boolean"
        },
        {
         "name": "device_upgrade_cycle",
         "rawType": "Int64",
         "type": "integer"
        },
        {
         "name": "mobile_churn",
         "rawType": "Int64",
         "type": "integer"
        },
        {
         "name": "mobile_tenure_days",
         "rawType": "float64",
         "type": "float"
        }
       ],
       "ref": "0ed26cf7-99cd-4cff-8cae-45ea18d47cf7",
       "rows": [
        [
         "0",
         "MOB_00000034",
         "C00000039",
         "Limited_2GB",
         "1",
         "30",
         "8",
         "2022-09-14",
         "2023-12-20",
         "Month_to_Month",
         null,
         "False",
         "36",
         "1",
         "462.0"
        ],
        [
         "1",
         "MOB_00000513",
         "C00000692",
         "Limited_2GB",
         "1",
         "30",
         "1",
         "2025-06-24",
         null,
         "Month_to_Month",
         null,
         "False",
         "48",
         "0",
         "74.0"
        ],
        [
         "2",
         "MOB_00000537",
         "C00000723",
         "Limited_2GB",
         "1",
         "30",
         "11",
         "2023-04-14",
         null,
         "Month_to_Month",
         null,
         "False",
         "48",
         "0",
         "876.0"
        ],
        [
         "3",
         "MOB_00001862",
         "C00002471",
         "Limited_2GB",
         "1",
         "30",
         "7",
         "2023-10-20",
         "2025-06-18",
         "Month_to_Month",
         null,
         "False",
         "48",
         "1",
         "607.0"
        ],
        [
         "4",
         "MOB_00001894",
         "C00002514",
         "Limited_2GB",
         "1",
         "30",
         "12",
         "2023-05-12",
         "2024-09-16",
         "Month_to_Month",
         null,
         "False",
         "24",
         "1",
         "493.0"
        ]
       ],
       "shape": {
        "columns": 14,
        "rows": 5
       }
      },
      "text/html": [
       "<div>\n",
       "<style scoped>\n",
       "    .dataframe tbody tr th:only-of-type {\n",
       "        vertical-align: middle;\n",
       "    }\n",
       "\n",
       "    .dataframe tbody tr th {\n",
       "        vertical-align: top;\n",
       "    }\n",
       "\n",
       "    .dataframe thead th {\n",
       "        text-align: right;\n",
       "    }\n",
       "</style>\n",
       "<table border=\"1\" class=\"dataframe\">\n",
       "  <thead>\n",
       "    <tr style=\"text-align: right;\">\n",
       "      <th></th>\n",
       "      <th>service_id</th>\n",
       "      <th>customer_id</th>\n",
       "      <th>plan_type</th>\n",
       "      <th>line_count</th>\n",
       "      <th>monthly_cost</th>\n",
       "      <th>data_overage_frequency</th>\n",
       "      <th>start_date</th>\n",
       "      <th>end_date</th>\n",
       "      <th>contract_type</th>\n",
       "      <th>contract_end_date</th>\n",
       "      <th>family_plan_flag</th>\n",
       "      <th>device_upgrade_cycle</th>\n",
       "      <th>mobile_churn</th>\n",
       "      <th>mobile_tenure_days</th>\n",
       "    </tr>\n",
       "  </thead>\n",
       "  <tbody>\n",
       "    <tr>\n",
       "      <th>0</th>\n",
       "      <td>MOB_00000034</td>\n",
       "      <td>C00000039</td>\n",
       "      <td>Limited_2GB</td>\n",
       "      <td>1</td>\n",
       "      <td>30</td>\n",
       "      <td>8</td>\n",
       "      <td>2022-09-14</td>\n",
       "      <td>2023-12-20</td>\n",
       "      <td>Month_to_Month</td>\n",
       "      <td>None</td>\n",
       "      <td>False</td>\n",
       "      <td>36</td>\n",
       "      <td>1</td>\n",
       "      <td>462.0</td>\n",
       "    </tr>\n",
       "    <tr>\n",
       "      <th>1</th>\n",
       "      <td>MOB_00000513</td>\n",
       "      <td>C00000692</td>\n",
       "      <td>Limited_2GB</td>\n",
       "      <td>1</td>\n",
       "      <td>30</td>\n",
       "      <td>1</td>\n",
       "      <td>2025-06-24</td>\n",
       "      <td>None</td>\n",
       "      <td>Month_to_Month</td>\n",
       "      <td>None</td>\n",
       "      <td>False</td>\n",
       "      <td>48</td>\n",
       "      <td>0</td>\n",
       "      <td>74.0</td>\n",
       "    </tr>\n",
       "    <tr>\n",
       "      <th>2</th>\n",
       "      <td>MOB_00000537</td>\n",
       "      <td>C00000723</td>\n",
       "      <td>Limited_2GB</td>\n",
       "      <td>1</td>\n",
       "      <td>30</td>\n",
       "      <td>11</td>\n",
       "      <td>2023-04-14</td>\n",
       "      <td>None</td>\n",
       "      <td>Month_to_Month</td>\n",
       "      <td>None</td>\n",
       "      <td>False</td>\n",
       "      <td>48</td>\n",
       "      <td>0</td>\n",
       "      <td>876.0</td>\n",
       "    </tr>\n",
       "    <tr>\n",
       "      <th>3</th>\n",
       "      <td>MOB_00001862</td>\n",
       "      <td>C00002471</td>\n",
       "      <td>Limited_2GB</td>\n",
       "      <td>1</td>\n",
       "      <td>30</td>\n",
       "      <td>7</td>\n",
       "      <td>2023-10-20</td>\n",
       "      <td>2025-06-18</td>\n",
       "      <td>Month_to_Month</td>\n",
       "      <td>None</td>\n",
       "      <td>False</td>\n",
       "      <td>48</td>\n",
       "      <td>1</td>\n",
       "      <td>607.0</td>\n",
       "    </tr>\n",
       "    <tr>\n",
       "      <th>4</th>\n",
       "      <td>MOB_00001894</td>\n",
       "      <td>C00002514</td>\n",
       "      <td>Limited_2GB</td>\n",
       "      <td>1</td>\n",
       "      <td>30</td>\n",
       "      <td>12</td>\n",
       "      <td>2023-05-12</td>\n",
       "      <td>2024-09-16</td>\n",
       "      <td>Month_to_Month</td>\n",
       "      <td>None</td>\n",
       "      <td>False</td>\n",
       "      <td>24</td>\n",
       "      <td>1</td>\n",
       "      <td>493.0</td>\n",
       "    </tr>\n",
       "  </tbody>\n",
       "</table>\n",
       "</div>"
      ],
      "text/plain": [
       "     service_id customer_id    plan_type  line_count  monthly_cost  \\\n",
       "0  MOB_00000034   C00000039  Limited_2GB           1            30   \n",
       "1  MOB_00000513   C00000692  Limited_2GB           1            30   \n",
       "2  MOB_00000537   C00000723  Limited_2GB           1            30   \n",
       "3  MOB_00001862   C00002471  Limited_2GB           1            30   \n",
       "4  MOB_00001894   C00002514  Limited_2GB           1            30   \n",
       "\n",
       "   data_overage_frequency  start_date    end_date   contract_type  \\\n",
       "0                       8  2022-09-14  2023-12-20  Month_to_Month   \n",
       "1                       1  2025-06-24        None  Month_to_Month   \n",
       "2                      11  2023-04-14        None  Month_to_Month   \n",
       "3                       7  2023-10-20  2025-06-18  Month_to_Month   \n",
       "4                      12  2023-05-12  2024-09-16  Month_to_Month   \n",
       "\n",
       "  contract_end_date  family_plan_flag  device_upgrade_cycle  mobile_churn  \\\n",
       "0              None             False                    36             1   \n",
       "1              None             False                    48             0   \n",
       "2              None             False                    48             0   \n",
       "3              None             False                    48             1   \n",
       "4              None             False                    24             1   \n",
       "\n",
       "   mobile_tenure_days  \n",
       "0               462.0  \n",
       "1                74.0  \n",
       "2               876.0  \n",
       "3               607.0  \n",
       "4               493.0  "
      ]
     },
     "execution_count": 16,
     "metadata": {},
     "output_type": "execute_result"
    }
   ],
   "source": [
    "%%bigquery\n",
    "\n",
    "SELECT * \n",
    "FROM trilink-472019.database.mobile_df \n",
    "LIMIT 5;"
   ]
  },
  {
   "cell_type": "code",
   "execution_count": 17,
   "id": "37be2fc7",
   "metadata": {},
   "outputs": [
    {
     "data": {
      "application/vnd.jupyter.widget-view+json": {
       "model_id": "050c4203cc54481cb55b98321397c251",
       "version_major": 2,
       "version_minor": 0
      },
      "text/plain": [
       "Query is running:   0%|          |"
      ]
     },
     "metadata": {},
     "output_type": "display_data"
    },
    {
     "data": {
      "application/vnd.jupyter.widget-view+json": {
       "model_id": "c2ffd4a0e4524c48a4adb635949cdadc",
       "version_major": 2,
       "version_minor": 0
      },
      "text/plain": [
       "Downloading:   0%|          |"
      ]
     },
     "metadata": {},
     "output_type": "display_data"
    },
    {
     "data": {
      "application/vnd.microsoft.datawrangler.viewer.v0+json": {
       "columns": [
        {
         "name": "index",
         "rawType": "int64",
         "type": "integer"
        },
        {
         "name": "column_name",
         "rawType": "object",
         "type": "string"
        },
        {
         "name": "data_type",
         "rawType": "object",
         "type": "string"
        },
        {
         "name": "is_nullable",
         "rawType": "object",
         "type": "string"
        },
        {
         "name": "column_default",
         "rawType": "object",
         "type": "string"
        }
       ],
       "ref": "bc9647c4-6a65-4eed-9fc1-c04fbe180e91",
       "rows": [
        [
         "0",
         "customer_id",
         "STRING",
         "YES",
         "NULL"
        ],
        [
         "1",
         "city",
         "STRING",
         "YES",
         "NULL"
        ],
        [
         "2",
         "postal_code",
         "STRING",
         "YES",
         "NULL"
        ],
        [
         "3",
         "age",
         "INT64",
         "YES",
         "NULL"
        ],
        [
         "4",
         "household_income",
         "INT64",
         "YES",
         "NULL"
        ],
        [
         "5",
         "income_bracket",
         "STRING",
         "YES",
         "NULL"
        ],
        [
         "6",
         "family_size",
         "INT64",
         "YES",
         "NULL"
        ],
        [
         "7",
         "home_ownership",
         "STRING",
         "YES",
         "NULL"
        ],
        [
         "8",
         "work_from_home_flag",
         "BOOL",
         "YES",
         "NULL"
        ],
        [
         "9",
         "education_level",
         "STRING",
         "YES",
         "NULL"
        ],
        [
         "10",
         "life_stage",
         "STRING",
         "YES",
         "NULL"
        ],
        [
         "11",
         "home_type",
         "STRING",
         "YES",
         "NULL"
        ],
        [
         "12",
         "home_square_footage",
         "INT64",
         "YES",
         "NULL"
        ],
        [
         "13",
         "property_value",
         "INT64",
         "YES",
         "NULL"
        ],
        [
         "14",
         "neighborhood_crime_rate",
         "FLOAT64",
         "YES",
         "NULL"
        ],
        [
         "15",
         "neighborhood_income_median",
         "INT64",
         "YES",
         "NULL"
        ],
        [
         "16",
         "fiber_availability",
         "BOOL",
         "YES",
         "NULL"
        ],
        [
         "17",
         "created_timestamp",
         "STRING",
         "YES",
         "NULL"
        ]
       ],
       "shape": {
        "columns": 4,
        "rows": 18
       }
      },
      "text/html": [
       "<div>\n",
       "<style scoped>\n",
       "    .dataframe tbody tr th:only-of-type {\n",
       "        vertical-align: middle;\n",
       "    }\n",
       "\n",
       "    .dataframe tbody tr th {\n",
       "        vertical-align: top;\n",
       "    }\n",
       "\n",
       "    .dataframe thead th {\n",
       "        text-align: right;\n",
       "    }\n",
       "</style>\n",
       "<table border=\"1\" class=\"dataframe\">\n",
       "  <thead>\n",
       "    <tr style=\"text-align: right;\">\n",
       "      <th></th>\n",
       "      <th>column_name</th>\n",
       "      <th>data_type</th>\n",
       "      <th>is_nullable</th>\n",
       "      <th>column_default</th>\n",
       "    </tr>\n",
       "  </thead>\n",
       "  <tbody>\n",
       "    <tr>\n",
       "      <th>0</th>\n",
       "      <td>customer_id</td>\n",
       "      <td>STRING</td>\n",
       "      <td>YES</td>\n",
       "      <td>NULL</td>\n",
       "    </tr>\n",
       "    <tr>\n",
       "      <th>1</th>\n",
       "      <td>city</td>\n",
       "      <td>STRING</td>\n",
       "      <td>YES</td>\n",
       "      <td>NULL</td>\n",
       "    </tr>\n",
       "    <tr>\n",
       "      <th>2</th>\n",
       "      <td>postal_code</td>\n",
       "      <td>STRING</td>\n",
       "      <td>YES</td>\n",
       "      <td>NULL</td>\n",
       "    </tr>\n",
       "    <tr>\n",
       "      <th>3</th>\n",
       "      <td>age</td>\n",
       "      <td>INT64</td>\n",
       "      <td>YES</td>\n",
       "      <td>NULL</td>\n",
       "    </tr>\n",
       "    <tr>\n",
       "      <th>4</th>\n",
       "      <td>household_income</td>\n",
       "      <td>INT64</td>\n",
       "      <td>YES</td>\n",
       "      <td>NULL</td>\n",
       "    </tr>\n",
       "    <tr>\n",
       "      <th>5</th>\n",
       "      <td>income_bracket</td>\n",
       "      <td>STRING</td>\n",
       "      <td>YES</td>\n",
       "      <td>NULL</td>\n",
       "    </tr>\n",
       "    <tr>\n",
       "      <th>6</th>\n",
       "      <td>family_size</td>\n",
       "      <td>INT64</td>\n",
       "      <td>YES</td>\n",
       "      <td>NULL</td>\n",
       "    </tr>\n",
       "    <tr>\n",
       "      <th>7</th>\n",
       "      <td>home_ownership</td>\n",
       "      <td>STRING</td>\n",
       "      <td>YES</td>\n",
       "      <td>NULL</td>\n",
       "    </tr>\n",
       "    <tr>\n",
       "      <th>8</th>\n",
       "      <td>work_from_home_flag</td>\n",
       "      <td>BOOL</td>\n",
       "      <td>YES</td>\n",
       "      <td>NULL</td>\n",
       "    </tr>\n",
       "    <tr>\n",
       "      <th>9</th>\n",
       "      <td>education_level</td>\n",
       "      <td>STRING</td>\n",
       "      <td>YES</td>\n",
       "      <td>NULL</td>\n",
       "    </tr>\n",
       "    <tr>\n",
       "      <th>10</th>\n",
       "      <td>life_stage</td>\n",
       "      <td>STRING</td>\n",
       "      <td>YES</td>\n",
       "      <td>NULL</td>\n",
       "    </tr>\n",
       "    <tr>\n",
       "      <th>11</th>\n",
       "      <td>home_type</td>\n",
       "      <td>STRING</td>\n",
       "      <td>YES</td>\n",
       "      <td>NULL</td>\n",
       "    </tr>\n",
       "    <tr>\n",
       "      <th>12</th>\n",
       "      <td>home_square_footage</td>\n",
       "      <td>INT64</td>\n",
       "      <td>YES</td>\n",
       "      <td>NULL</td>\n",
       "    </tr>\n",
       "    <tr>\n",
       "      <th>13</th>\n",
       "      <td>property_value</td>\n",
       "      <td>INT64</td>\n",
       "      <td>YES</td>\n",
       "      <td>NULL</td>\n",
       "    </tr>\n",
       "    <tr>\n",
       "      <th>14</th>\n",
       "      <td>neighborhood_crime_rate</td>\n",
       "      <td>FLOAT64</td>\n",
       "      <td>YES</td>\n",
       "      <td>NULL</td>\n",
       "    </tr>\n",
       "    <tr>\n",
       "      <th>15</th>\n",
       "      <td>neighborhood_income_median</td>\n",
       "      <td>INT64</td>\n",
       "      <td>YES</td>\n",
       "      <td>NULL</td>\n",
       "    </tr>\n",
       "    <tr>\n",
       "      <th>16</th>\n",
       "      <td>fiber_availability</td>\n",
       "      <td>BOOL</td>\n",
       "      <td>YES</td>\n",
       "      <td>NULL</td>\n",
       "    </tr>\n",
       "    <tr>\n",
       "      <th>17</th>\n",
       "      <td>created_timestamp</td>\n",
       "      <td>STRING</td>\n",
       "      <td>YES</td>\n",
       "      <td>NULL</td>\n",
       "    </tr>\n",
       "  </tbody>\n",
       "</table>\n",
       "</div>"
      ],
      "text/plain": [
       "                   column_name data_type is_nullable column_default\n",
       "0                  customer_id    STRING         YES           NULL\n",
       "1                         city    STRING         YES           NULL\n",
       "2                  postal_code    STRING         YES           NULL\n",
       "3                          age     INT64         YES           NULL\n",
       "4             household_income     INT64         YES           NULL\n",
       "5               income_bracket    STRING         YES           NULL\n",
       "6                  family_size     INT64         YES           NULL\n",
       "7               home_ownership    STRING         YES           NULL\n",
       "8          work_from_home_flag      BOOL         YES           NULL\n",
       "9              education_level    STRING         YES           NULL\n",
       "10                  life_stage    STRING         YES           NULL\n",
       "11                   home_type    STRING         YES           NULL\n",
       "12         home_square_footage     INT64         YES           NULL\n",
       "13              property_value     INT64         YES           NULL\n",
       "14     neighborhood_crime_rate   FLOAT64         YES           NULL\n",
       "15  neighborhood_income_median     INT64         YES           NULL\n",
       "16          fiber_availability      BOOL         YES           NULL\n",
       "17           created_timestamp    STRING         YES           NULL"
      ]
     },
     "execution_count": 17,
     "metadata": {},
     "output_type": "execute_result"
    }
   ],
   "source": [
    "%%bigquery\n",
    "\n",
    "SELECT \n",
    "  column_name,\n",
    "  data_type,\n",
    "  is_nullable,\n",
    "  column_default\n",
    "FROM `trilink-472019.database.INFORMATION_SCHEMA.COLUMNS` \n",
    "WHERE table_name = 'customer_df'\n",
    "ORDER BY ordinal_position;"
   ]
  },
  {
   "cell_type": "code",
   "execution_count": 18,
   "id": "778ed9a4",
   "metadata": {},
   "outputs": [
    {
     "data": {
      "application/vnd.jupyter.widget-view+json": {
       "model_id": "d69d3765108a4cb3bd376e2b6533aeb1",
       "version_major": 2,
       "version_minor": 0
      },
      "text/plain": [
       "Query is running:   0%|          |"
      ]
     },
     "metadata": {},
     "output_type": "display_data"
    },
    {
     "data": {
      "application/vnd.jupyter.widget-view+json": {
       "model_id": "dc6d5fb2a36b439db36e2ebfe4f6000a",
       "version_major": 2,
       "version_minor": 0
      },
      "text/plain": [
       "Downloading:   0%|          |"
      ]
     },
     "metadata": {},
     "output_type": "display_data"
    },
    {
     "data": {
      "application/vnd.microsoft.datawrangler.viewer.v0+json": {
       "columns": [
        {
         "name": "index",
         "rawType": "int64",
         "type": "integer"
        },
        {
         "name": "column_name",
         "rawType": "object",
         "type": "string"
        },
        {
         "name": "data_type",
         "rawType": "object",
         "type": "string"
        },
        {
         "name": "is_nullable",
         "rawType": "object",
         "type": "string"
        },
        {
         "name": "column_default",
         "rawType": "object",
         "type": "string"
        }
       ],
       "ref": "0d4323d1-c82c-4d90-8246-885806441812",
       "rows": [
        [
         "0",
         "service_id",
         "STRING",
         "YES",
         "NULL"
        ],
        [
         "1",
         "customer_id",
         "STRING",
         "YES",
         "NULL"
        ],
        [
         "2",
         "plan_type",
         "STRING",
         "YES",
         "NULL"
        ],
        [
         "3",
         "line_count",
         "INT64",
         "YES",
         "NULL"
        ],
        [
         "4",
         "monthly_cost",
         "INT64",
         "YES",
         "NULL"
        ],
        [
         "5",
         "data_overage_frequency",
         "INT64",
         "YES",
         "NULL"
        ],
        [
         "6",
         "start_date",
         "STRING",
         "YES",
         "NULL"
        ],
        [
         "7",
         "end_date",
         "STRING",
         "YES",
         "NULL"
        ],
        [
         "8",
         "contract_type",
         "STRING",
         "YES",
         "NULL"
        ],
        [
         "9",
         "contract_end_date",
         "STRING",
         "YES",
         "NULL"
        ],
        [
         "10",
         "family_plan_flag",
         "BOOL",
         "YES",
         "NULL"
        ],
        [
         "11",
         "device_upgrade_cycle",
         "INT64",
         "YES",
         "NULL"
        ],
        [
         "12",
         "mobile_churn",
         "INT64",
         "YES",
         "NULL"
        ],
        [
         "13",
         "mobile_tenure_days",
         "FLOAT64",
         "YES",
         "NULL"
        ]
       ],
       "shape": {
        "columns": 4,
        "rows": 14
       }
      },
      "text/html": [
       "<div>\n",
       "<style scoped>\n",
       "    .dataframe tbody tr th:only-of-type {\n",
       "        vertical-align: middle;\n",
       "    }\n",
       "\n",
       "    .dataframe tbody tr th {\n",
       "        vertical-align: top;\n",
       "    }\n",
       "\n",
       "    .dataframe thead th {\n",
       "        text-align: right;\n",
       "    }\n",
       "</style>\n",
       "<table border=\"1\" class=\"dataframe\">\n",
       "  <thead>\n",
       "    <tr style=\"text-align: right;\">\n",
       "      <th></th>\n",
       "      <th>column_name</th>\n",
       "      <th>data_type</th>\n",
       "      <th>is_nullable</th>\n",
       "      <th>column_default</th>\n",
       "    </tr>\n",
       "  </thead>\n",
       "  <tbody>\n",
       "    <tr>\n",
       "      <th>0</th>\n",
       "      <td>service_id</td>\n",
       "      <td>STRING</td>\n",
       "      <td>YES</td>\n",
       "      <td>NULL</td>\n",
       "    </tr>\n",
       "    <tr>\n",
       "      <th>1</th>\n",
       "      <td>customer_id</td>\n",
       "      <td>STRING</td>\n",
       "      <td>YES</td>\n",
       "      <td>NULL</td>\n",
       "    </tr>\n",
       "    <tr>\n",
       "      <th>2</th>\n",
       "      <td>plan_type</td>\n",
       "      <td>STRING</td>\n",
       "      <td>YES</td>\n",
       "      <td>NULL</td>\n",
       "    </tr>\n",
       "    <tr>\n",
       "      <th>3</th>\n",
       "      <td>line_count</td>\n",
       "      <td>INT64</td>\n",
       "      <td>YES</td>\n",
       "      <td>NULL</td>\n",
       "    </tr>\n",
       "    <tr>\n",
       "      <th>4</th>\n",
       "      <td>monthly_cost</td>\n",
       "      <td>INT64</td>\n",
       "      <td>YES</td>\n",
       "      <td>NULL</td>\n",
       "    </tr>\n",
       "    <tr>\n",
       "      <th>5</th>\n",
       "      <td>data_overage_frequency</td>\n",
       "      <td>INT64</td>\n",
       "      <td>YES</td>\n",
       "      <td>NULL</td>\n",
       "    </tr>\n",
       "    <tr>\n",
       "      <th>6</th>\n",
       "      <td>start_date</td>\n",
       "      <td>STRING</td>\n",
       "      <td>YES</td>\n",
       "      <td>NULL</td>\n",
       "    </tr>\n",
       "    <tr>\n",
       "      <th>7</th>\n",
       "      <td>end_date</td>\n",
       "      <td>STRING</td>\n",
       "      <td>YES</td>\n",
       "      <td>NULL</td>\n",
       "    </tr>\n",
       "    <tr>\n",
       "      <th>8</th>\n",
       "      <td>contract_type</td>\n",
       "      <td>STRING</td>\n",
       "      <td>YES</td>\n",
       "      <td>NULL</td>\n",
       "    </tr>\n",
       "    <tr>\n",
       "      <th>9</th>\n",
       "      <td>contract_end_date</td>\n",
       "      <td>STRING</td>\n",
       "      <td>YES</td>\n",
       "      <td>NULL</td>\n",
       "    </tr>\n",
       "    <tr>\n",
       "      <th>10</th>\n",
       "      <td>family_plan_flag</td>\n",
       "      <td>BOOL</td>\n",
       "      <td>YES</td>\n",
       "      <td>NULL</td>\n",
       "    </tr>\n",
       "    <tr>\n",
       "      <th>11</th>\n",
       "      <td>device_upgrade_cycle</td>\n",
       "      <td>INT64</td>\n",
       "      <td>YES</td>\n",
       "      <td>NULL</td>\n",
       "    </tr>\n",
       "    <tr>\n",
       "      <th>12</th>\n",
       "      <td>mobile_churn</td>\n",
       "      <td>INT64</td>\n",
       "      <td>YES</td>\n",
       "      <td>NULL</td>\n",
       "    </tr>\n",
       "    <tr>\n",
       "      <th>13</th>\n",
       "      <td>mobile_tenure_days</td>\n",
       "      <td>FLOAT64</td>\n",
       "      <td>YES</td>\n",
       "      <td>NULL</td>\n",
       "    </tr>\n",
       "  </tbody>\n",
       "</table>\n",
       "</div>"
      ],
      "text/plain": [
       "               column_name data_type is_nullable column_default\n",
       "0               service_id    STRING         YES           NULL\n",
       "1              customer_id    STRING         YES           NULL\n",
       "2                plan_type    STRING         YES           NULL\n",
       "3               line_count     INT64         YES           NULL\n",
       "4             monthly_cost     INT64         YES           NULL\n",
       "5   data_overage_frequency     INT64         YES           NULL\n",
       "6               start_date    STRING         YES           NULL\n",
       "7                 end_date    STRING         YES           NULL\n",
       "8            contract_type    STRING         YES           NULL\n",
       "9        contract_end_date    STRING         YES           NULL\n",
       "10        family_plan_flag      BOOL         YES           NULL\n",
       "11    device_upgrade_cycle     INT64         YES           NULL\n",
       "12            mobile_churn     INT64         YES           NULL\n",
       "13      mobile_tenure_days   FLOAT64         YES           NULL"
      ]
     },
     "execution_count": 18,
     "metadata": {},
     "output_type": "execute_result"
    }
   ],
   "source": [
    "%%bigquery\n",
    "\n",
    "SELECT \n",
    "  column_name,\n",
    "  data_type,\n",
    "  is_nullable,\n",
    "  column_default\n",
    "FROM `trilink-472019.database.INFORMATION_SCHEMA.COLUMNS` \n",
    "WHERE table_name = 'mobile_df'\n",
    "ORDER BY ordinal_position;"
   ]
  }
 ],
 "metadata": {
  "kernelspec": {
   "display_name": "venv",
   "language": "python",
   "name": "python3"
  },
  "language_info": {
   "codemirror_mode": {
    "name": "ipython",
    "version": 3
   },
   "file_extension": ".py",
   "mimetype": "text/x-python",
   "name": "python",
   "nbconvert_exporter": "python",
   "pygments_lexer": "ipython3",
   "version": "3.12.5"
  }
 },
 "nbformat": 4,
 "nbformat_minor": 5
}
