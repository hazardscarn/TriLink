{
 "cells": [
  {
   "cell_type": "code",
   "execution_count": 1,
   "id": "999a4b21",
   "metadata": {},
   "outputs": [
    {
     "name": "stderr",
     "output_type": "stream",
     "text": [
      "d:\\Work\\Github\\TriLink\\venv\\Lib\\site-packages\\google\\cloud\\bigquery\\__init__.py:237: FutureWarning: %load_ext google.cloud.bigquery is deprecated. Install bigquery-magics package and use `%load_ext bigquery_magics`, instead.\n",
      "  warnings.warn(\n"
     ]
    }
   ],
   "source": [
    "import os\n",
    "import sys\n",
    "from pathlib import Path\n",
    "# Add project root to sys.path\n",
    "project_root = Path().resolve().parent  # one level up from notebooks/\n",
    "sys.path.append(str(project_root))\n",
    "\n",
    "import pandas as pd\n",
    "from google.cloud import bigquery\n",
    "\n",
    "# Initialize BigQuery client\n",
    "client = bigquery.Client(project='trilink-472019')\n",
    "# Load the extension\n",
    "%load_ext google.cloud.bigquery\n",
    "%load_ext bigquery_magics"
   ]
  },
  {
   "cell_type": "markdown",
   "id": "40dde0f3",
   "metadata": {},
   "source": [
    "##### Create the plan problem-solution embedding table\n",
    "\n",
    "- Many different problems  customers could have on mobile, internet and home security respectively and their repsctive business solution company could offer\n",
    "- These are in demand addition and subtraction table business can edit so that best next action for the problems similar to this could be solved from these as reference"
   ]
  },
  {
   "cell_type": "code",
   "execution_count": 2,
   "id": "d8c2134d",
   "metadata": {},
   "outputs": [
    {
     "name": "stdout",
     "output_type": "stream",
     "text": [
      "Combined Telecom Customer Problem-Solution Dataset\n",
      "Total Records: 175\n",
      "Mobile Problems: 61\n",
      "Internet Problems: 54\n",
      "Home Security Problems: 60\n",
      "Columns: problem, solution, sector\n",
      "\n",
      "Dataset Quality Characteristics:\n",
      "- Realistic operational issues across all sectors\n",
      "- Business-smart solutions with revenue optimization\n",
      "- Cost-effective escalation hierarchy (DIY → Remote → Technician)\n",
      "- Cross-selling and upselling opportunities embedded\n",
      "- Diverse customer segments and use cases\n",
      "- Actionable solutions within business capabilities\n",
      "\n",
      "Sample from each sector:\n",
      "\n",
      "[INTERNET] Problem: Customer with vintage computer collection requiring specialized connectivity for retro computing and...\n",
      "Solution: Install Premium_Gig with retro computing support and legacy system integration. Add vintage technolo...\n",
      "\n",
      "[HOME_SECURITY] Problem: Outdoor camera recording storage filling up quickly due to frequent motion detection, customer missi...\n",
      "Solution: Guide customer through motion sensitivity adjustment and recording schedule optimization via app set...\n",
      "\n",
      "[HOME_SECURITY] Problem: Security panel touchscreen becoming less responsive requiring firm pressure for operation, affecting...\n",
      "Solution: Guide customer through screen calibration process and sensitivity adjustment via settings menu. Prov...\n",
      "\n",
      "[INTERNET] Problem: Customer experiencing billing confusion due to promotional pricing expiration and hidden fees, seeki...\n",
      "Solution: Convert to simplified Premium_Gig with transparent lifetime pricing and no promotional periods. Add ...\n",
      "\n",
      "[HOME_SECURITY] Problem: Outdoor camera producing condensation inside lens housing during humid weather, creating foggy image...\n",
      "Solution: Provide humidity prevention maintenance guide with desiccant pack installation instructions. Remotel...\n",
      "\n",
      "[MOBILE] Problem: Customer requiring enhanced music streaming and audio quality for entertainment and professional aud...\n",
      "Solution: Upgrade to audio-optimized plan with high-quality streaming and professional audio features. Add pre...\n",
      "\n",
      "[INTERNET] Problem: Customer requiring reliable internet for medical monitoring devices transmitting health data, curren...\n",
      "Solution: Install medical-grade Premium_Gig with redundant connectivity and 99.99% uptime guarantee. Add healt...\n",
      "\n",
      "[HOME_SECURITY] Problem: Window sensors frequently showing 'offline' status in app despite being within WiFi range, affecting...\n",
      "Solution: Provide WiFi connectivity troubleshooting steps and sensor reset procedure via app tutorial. Test si...\n",
      "\n",
      "[INTERNET] Problem: Customer experiencing frequent equipment theft requiring secure installation and theft-resistant inf...\n",
      "Solution: Install theft-resistant Premium_Gig infrastructure with security monitoring and rapid replacement gu...\n",
      "\n",
      "[HOME_SECURITY] Problem: Smart doorbell video lag during live viewing making real-time visitor communication difficult, delay...\n",
      "Solution: Guide customer through network speed optimization and bandwidth allocation via router settings guide...\n",
      "\n",
      "[INTERNET] Problem: Customer with home-based fitness instruction needing reliable upload bandwidth for live streaming cl...\n",
      "Solution: Upgrade to Premium_Gig with fitness streaming optimization and professional video tools. Add health ...\n",
      "\n",
      "[MOBILE] Problem: Customer with multiple connected devices (tablet, smartwatch, car) paying separately for each connec...\n",
      "Solution: Consolidate into multi-device plan with shared data pool. Provide single account management for all ...\n",
      "\n",
      "[MOBILE] Problem: Customer experiencing poor indoor coverage at workplace affecting professional communication and pro...\n",
      "Solution: Install workplace signal booster and WiFi calling optimization. Add business communication features ...\n",
      "\n",
      "[MOBILE] Problem: Customer with elderly parents needing simplified communication, large buttons, emergency features, a...\n",
      "Solution: Add senior family plan with simplified devices and emergency features. Include medical alert integra...\n",
      "\n",
      "[INTERNET] Problem: Customer requiring internet for home-based telehealth practice needing HIPAA-compliant connectivity ...\n",
      "Solution: Install medical-grade Premium_Gig with HIPAA compliance and encrypted communication tools. Add teleh...\n",
      "\n",
      "Final dataset shape: (175, 3)\n",
      "Ready for ML training and business intelligence analysis.\n"
     ]
    }
   ],
   "source": [
    "# Create comprehensive mobile customer problems (60 records)\n",
    "mobile_problems_solutions = [\n",
    "    {\n",
    "        \"problem\": \"Customer with Limited_2GB plan hitting data limit by day 15 monthly, receiving $40-60 overage charges, working from home 3 days per week requiring video calls, considering competitor unlimited plans\",\n",
    "        \"solution\": \"Upgrade to Unlimited_Standard $69/month eliminating overages and saving $25/month compared to current plan plus average overages. Bundle with home internet 100Mbps $49/month for reliable work-from-home setup. Offer first 3 months unlimited at 50% off and waive current overage charges as goodwill.\"\n",
    "    },\n",
    "    {\n",
    "        \"problem\": \"Family of 4 with individual plans totaling $180/month, teenagers exceeding data causing family disputes, parents wanting better control over usage and costs while maintaining connectivity for all members\",\n",
    "        \"solution\": \"Convert to 4-line family plan $120/month saving $60 monthly. Add parental controls and usage monitoring tools. Include family safety features with location sharing. Cross-sell home security system with family monitoring at $65/month for comprehensive family protection.\"\n",
    "    },\n",
    "    {\n",
    "        \"problem\": \"Senior customer paying $85/month for premium plan but only using 1GB data monthly for basic calls and messages, concerned about cost on fixed income, unfamiliar with plan options\",\n",
    "        \"solution\": \"Downgrade to senior-friendly Limited_5GB plan $35/month saving $50 monthly with unlimited talk/text. Add medical alert integration through mobile app. Include simplified billing, large-button phone option, and priority senior customer support.\"\n",
    "    },\n",
    "    {\n",
    "        \"problem\": \"College student experiencing poor campus coverage, dropped calls during important calls, slow data speeds in dorm area, considering switching carriers before semester starts\",\n",
    "        \"solution\": \"Install campus signal booster at no charge. Upgrade to premium network tier with priority access. Add student discount reducing monthly cost by $15. Include emergency connectivity features and study-focused app controls during exam periods.\"\n",
    "    },\n",
    "    {\n",
    "        \"problem\": \"Business owner mixing personal and business calls on single line, missing tax deductions, lacking professional features like conference calling and mobile device management for 3 employee phones\",\n",
    "        \"solution\": \"Upgrade to business plan with tax documentation and professional features. Add business internet with static IP $79/month. Include mobile device management for employee phones and conference calling capabilities. Provide business security consultation.\"\n",
    "    },\n",
    "    {\n",
    "        \"problem\": \"Customer experiencing bill shock from $200 international roaming charges during family vacation, unaware of charges until return, frustrated by lack of travel notifications\",\n",
    "        \"solution\": \"Waive international charges as one-time courtesy. Add permanent international plan $15/month for future travel. Implement automatic travel alerts and international plan suggestions based on location. Include travel insurance and device protection while abroad.\"\n",
    "    },\n",
    "    {\n",
    "        \"problem\": \"Customer with 8-year service history paying same rates as new customers, no loyalty benefits, considering competitor offers advertising 40% savings for switchers\",\n",
    "        \"solution\": \"Activate loyalty rewards with $20 monthly discount retroactive 6 months. Provide priority device upgrade at 50% off. Add exclusive pricing on home internet 30% below standard rates. Assign dedicated customer success representative for VIP treatment.\"\n",
    "    },\n",
    "    {\n",
    "        \"problem\": \"Remote worker experiencing call drops and slow data during peak hours affecting client calls, current plan throttles after 50GB, productivity suffering during important projects\",\n",
    "        \"solution\": \"Upgrade to business unlimited with priority data and no throttling. Add mobile hotspot device for backup connectivity. Include business productivity tools and expense tracking. Cross-sell business-grade home internet for primary work connection.\"\n",
    "    },\n",
    "    {\n",
    "        \"problem\": \"Customer moving to rural area with limited tower coverage, concerned about maintaining service quality for family of 5, considering satellite internet alternatives\",\n",
    "        \"solution\": \"Provide rural coverage assessment and network optimization. Install home signal booster at no charge. Add satellite internet backup $89/month for comprehensive connectivity. Include rural customer support and network expansion priority.\"\n",
    "    },\n",
    "    {\n",
    "        \"problem\": \"Customer with hearing impairment struggling with voice calls, needs better accessibility features, family helping with customer service calls, seeking independent communication solutions\",\n",
    "        \"solution\": \"Upgrade to accessibility plan with TTY support and video calling optimization. Add hearing aid compatibility features. Include priority text-based customer support and visual voicemail. Provide specialized devices and assistive technology integration.\"\n",
    "    },\n",
    "    {\n",
    "        \"problem\": \"Customer's teenage son exceeded family plan data causing $80 overage, parents want usage controls without removing teen's access, seeking family management tools\",\n",
    "        \"solution\": \"Upgrade to unlimited family plan with individual line controls. Add parental monitoring with app restrictions and time management. Include educational usage tracking and family communication tools. Provide teen digital responsibility training resources.\"\n",
    "    },\n",
    "    {\n",
    "        \"problem\": \"Customer experiencing poor indoor coverage at home office, missing important business calls, WiFi calling inconsistent, affecting professional reputation with clients\",\n",
    "        \"solution\": \"Install personal signal booster for home office at no charge. Add business features with call forwarding and advanced voicemail. Upgrade to premium network tier with building penetration enhancement. Include professional communication tools and reliability guarantee.\"\n",
    "    },\n",
    "    {\n",
    "        \"problem\": \"Customer with multiple connected devices (tablet, smartwatch, car) paying separately for each connection, seeking unified plan management and cost optimization\",\n",
    "        \"solution\": \"Consolidate into multi-device plan with shared data pool. Provide single account management for all devices. Add home internet with device optimization and seamless connectivity. Include device protection plan covering all connected devices.\"\n",
    "    },\n",
    "    {\n",
    "        \"problem\": \"Customer requiring enhanced security for business communications, concerned about data privacy and corporate espionage, needs encrypted calling and secure messaging\",\n",
    "        \"solution\": \"Upgrade to secure business plan with end-to-end encryption. Add VPN services and secure device management. Include cybersecurity monitoring and threat detection. Provide business security consultation and compliance documentation.\"\n",
    "    },\n",
    "    {\n",
    "        \"problem\": \"Customer with seasonal work patterns (construction), needs service flexibility during 6-month winter downtime, wants to reduce costs without losing number\",\n",
    "        \"solution\": \"Create seasonal plan with reduced-rate suspension during off-season. Maintain number and basic services at $15/month during downtime. Add flexible reactivation and plan modification options. Include seasonal worker benefits and employment assistance resources.\"\n",
    "    },\n",
    "    {\n",
    "        \"problem\": \"Customer experiencing frequent dropped calls on daily commute route, affecting important client calls and safety concerns while driving\",\n",
    "        \"solution\": \"Provide route coverage analysis and optimization. Install vehicle signal booster for $89. Upgrade to premium plan with enhanced roaming and priority access. Include hands-free calling optimization and emergency connectivity features.\"\n",
    "    },\n",
    "    {\n",
    "        \"problem\": \"Small business with 6 employees needing mobile device management, expense tracking, and unified billing, currently managing individual accounts inefficiently\",\n",
    "        \"solution\": \"Upgrade to business plan with centralized device management and unified billing. Add expense reporting and tax documentation features. Include employee mobile security and usage monitoring. Provide business internet integration and conference calling.\"\n",
    "    },\n",
    "    {\n",
    "        \"problem\": \"Customer with disabled family member requiring emergency communication features, medical alert integration, and caregiver notification capabilities\",\n",
    "        \"solution\": \"Upgrade to medical priority plan with emergency service integration. Add medical alert features and caregiver notification system. Include health monitoring device connectivity and priority emergency communication. Provide accessibility specialist support.\"\n",
    "    },\n",
    "    {\n",
    "        \"problem\": \"Customer experiencing data throttling during streaming affecting family entertainment, kids unable to complete homework requiring online resources\",\n",
    "        \"solution\": \"Upgrade to truly unlimited plan with no throttling guarantees. Add home internet with dedicated streaming bandwidth. Include educational content prioritization and family usage management. Provide entertainment streaming optimization and parental controls.\"\n",
    "    },\n",
    "    {\n",
    "        \"problem\": \"Customer with bad credit unable to qualify for postpaid plans, stuck with expensive prepaid options, wanting to build credit while maintaining reliable service\",\n",
    "        \"solution\": \"Offer secured postpaid plan with credit building features. Provide financial counseling and payment assistance programs. Add credit monitoring services and graduated plan improvements. Include prepaid-to-postpaid transition pathway with credit reporting.\"\n",
    "    },\n",
    "    {\n",
    "        \"problem\": \"Customer requiring international connectivity for family communication with relatives abroad, experiencing poor call quality and high costs\",\n",
    "        \"solution\": \"Add unlimited international calling to 50+ countries with HD voice quality. Include international messaging and video calling optimization. Add family communication tools and group calling features. Cross-sell home internet with international VoIP integration.\"\n",
    "    },\n",
    "    {\n",
    "        \"problem\": \"Customer experiencing device overheating and battery drain issues, phone shutting down during important calls, concerned about device safety and reliability\",\n",
    "        \"solution\": \"Provide device health assessment and optimization consultation. Add device protection plan with overheating coverage and battery replacement. Include cooling accessories and power management training. Offer device upgrade with enhanced thermal management.\"\n",
    "    },\n",
    "    {\n",
    "        \"problem\": \"Customer with gaming requirements experiencing lag and connectivity issues during competitive online gaming, affecting tournament performance and rankings\",\n",
    "        \"solution\": \"Upgrade to gaming-optimized plan with ultra-low latency and priority routing. Add gaming device integration and performance monitoring. Include esports connectivity features and gaming community access. Provide gaming equipment compatibility consultation.\"\n",
    "    },\n",
    "    {\n",
    "        \"problem\": \"Customer using mobile hotspot as primary internet source, experiencing slow speeds and data limitations affecting work and family connectivity needs\",\n",
    "        \"solution\": \"Upgrade to unlimited business plan with dedicated hotspot device and unlimited data. Add home internet installation for primary connectivity. Include mobile office setup and backup connectivity solutions. Provide work-from-home optimization consultation.\"\n",
    "    },\n",
    "    {\n",
    "        \"problem\": \"Customer with elderly parents needing simplified communication, large buttons, emergency features, and family monitoring capabilities\",\n",
    "        \"solution\": \"Add senior family plan with simplified devices and emergency features. Include medical alert integration and family notification system. Provide large-button phones and accessibility features. Add family monitoring and caregiver coordination tools.\"\n",
    "    },\n",
    "    {\n",
    "        \"problem\": \"Customer experiencing billing complexity with multiple charges, hidden fees, and confusing itemization, seeking transparent pricing and simplified management\",\n",
    "        \"solution\": \"Convert to simplified flat-rate plan with transparent pricing. Provide billing education and automatic payment setup. Add billing protection guarantee and fee transparency. Include customer advocate for billing issues and account optimization.\"\n",
    "    },\n",
    "    {\n",
    "        \"problem\": \"Customer requiring enhanced parental controls for family mobile plan, concerned about inappropriate content access and screen time management for children\",\n",
    "        \"solution\": \"Upgrade family plan with comprehensive parental controls and content filtering. Add screen time management and app restrictions. Include child safety education and family communication tools. Provide digital wellness consultation and monitoring features.\"\n",
    "    },\n",
    "    {\n",
    "        \"problem\": \"Customer with delivery business needing GPS optimization, route planning, and customer communication features for professional operations\",\n",
    "        \"solution\": \"Upgrade to delivery business plan with GPS optimization and route planning tools. Add customer communication automation and delivery tracking. Include business insurance and vehicle connectivity features. Provide professional delivery tools and optimization consultation.\"\n",
    "    },\n",
    "    {\n",
    "        \"problem\": \"Customer experiencing identity theft concerns related to mobile account security, worried about unauthorized access and fraudulent charges\",\n",
    "        \"solution\": \"Implement advanced account security with biometric authentication and fraud monitoring. Add identity protection services and credit monitoring. Include account security education and monitoring tools. Provide identity theft insurance and resolution assistance.\"\n",
    "    },\n",
    "    {\n",
    "        \"problem\": \"Customer with fitness tracking requirements needing health app integration, workout connectivity, and health monitoring while maintaining active lifestyle\",\n",
    "        \"solution\": \"Upgrade to fitness-optimized plan with health app integration and workout connectivity. Add health monitoring tools and fitness community features. Include wearable device integration and health coaching connectivity. Provide fitness incentive programs and tracking optimization.\"\n",
    "    },\n",
    "    {\n",
    "        \"problem\": \"Customer requiring enhanced video calling quality for remote family relationships, experiencing poor quality affecting relationships with distant relatives\",\n",
    "        \"solution\": \"Upgrade to video-optimized plan with HD video calling enhancement. Add family communication tools and video calling optimization. Include international video connectivity and group calling features. Provide family technology training and relationship maintenance tools.\"\n",
    "    },\n",
    "    {\n",
    "        \"problem\": \"Customer with home-based photography business requiring high-speed uploads for client galleries and professional image sharing\",\n",
    "        \"solution\": \"Upgrade to creative professional plan with enhanced upload speeds and cloud integration. Add professional communication tools and client gallery hosting. Include creative app optimization and professional networking features. Provide business equipment protection and consultation.\"\n",
    "    },\n",
    "    {\n",
    "        \"problem\": \"Customer experiencing network congestion in densely populated area during peak hours, affecting streaming and video calling quality\",\n",
    "        \"solution\": \"Upgrade to premium plan with network priority and small cell access. Add home internet with load balancing and traffic optimization. Include network performance guarantee and service quality monitoring. Provide priority customer support for network optimization.\"\n",
    "    },\n",
    "    {\n",
    "        \"problem\": \"Customer with special needs family member requiring assistive technology integration and specialized communication features\",\n",
    "        \"solution\": \"Customize family plan with assistive technology features and specialized devices. Add accessibility optimization and emergency communication backup. Include specialized support training and priority customer service. Provide assistive technology consultation and integration services.\"\n",
    "    },\n",
    "    {\n",
    "        \"problem\": \"Customer needing temporary service suspension during military deployment, wanting to maintain account and number while reducing costs\",\n",
    "        \"solution\": \"Offer military suspension program maintaining number and account at reduced cost. Add deployment communication features and international connectivity. Include family support services and account protection. Provide reactivation assistance and deployment benefits.\"\n",
    "    },\n",
    "    {\n",
    "        \"problem\": \"Customer experiencing device compatibility issues with older smartphone, missing 5G access and modern features affecting connectivity quality\",\n",
    "        \"solution\": \"Provide device upgrade incentive with trade-in credit and 0% financing. Add network optimization for new device capabilities and 5G access. Include device setup and data transfer services. Provide technology training and feature optimization consultation.\"\n",
    "    },\n",
    "    {\n",
    "        \"problem\": \"Customer requiring enhanced privacy protection for sensitive communications, concerned about data monitoring and government surveillance\",\n",
    "        \"solution\": \"Upgrade to privacy-focused plan with enhanced encryption and data protection. Add VPN services and secure communication features. Include privacy education and digital security monitoring. Provide secure device management and encrypted backup options.\"\n",
    "    },\n",
    "    {\n",
    "        \"problem\": \"Customer with real estate business requiring professional communication, client management, and property showing coordination while mobile\",\n",
    "        \"solution\": \"Upgrade to real estate professional plan with client management and communication tools. Add business internet with virtual office features. Include professional networking and productivity enhancement tools. Provide business equipment protection and professional consultation.\"\n",
    "    },\n",
    "    {\n",
    "        \"problem\": \"Customer experiencing poor battery life affecting all-day connectivity, constantly worried about device charging and power management\",\n",
    "        \"solution\": \"Provide battery optimization assessment and power management consultation. Add portable charging solutions and battery replacement services. Include device upgrade incentive with improved battery technology. Provide power management training and optimization tools.\"\n",
    "    },\n",
    "    {\n",
    "        \"problem\": \"Customer with telehealth requirements needing reliable connectivity for medical appointments and health monitoring integration\",\n",
    "        \"solution\": \"Upgrade to health-optimized plan with telehealth features and medical app integration. Add health monitoring connectivity and emergency communication backup. Include medical device compatibility and health data protection. Provide telehealth optimization and medical communication tools.\"\n",
    "    },\n",
    "    {\n",
    "        \"problem\": \"Customer requiring enhanced music streaming and audio quality for entertainment and professional audio work\",\n",
    "        \"solution\": \"Upgrade to audio-optimized plan with high-quality streaming and professional audio features. Add premium streaming services with lossless audio quality. Include audio equipment integration and professional music tools. Provide entertainment optimization and audio consultation.\"\n",
    "    },\n",
    "    {\n",
    "        \"problem\": \"Customer with language barriers requiring multilingual customer support and culturally appropriate service options\",\n",
    "        \"solution\": \"Provide dedicated multilingual customer support in preferred language. Add cultural community features and international communication options. Include translated documentation and billing materials. Provide community liaison services and cultural consultation.\"\n",
    "    },\n",
    "    {\n",
    "        \"problem\": \"Customer experiencing app performance issues and slow downloads affecting productivity and mobile computing efficiency\",\n",
    "        \"solution\": \"Upgrade to performance-optimized plan with app priority and enhanced download speeds. Add device optimization services and app performance monitoring. Include software update priority and troubleshooting support. Provide mobile computing optimization consultation.\"\n",
    "    },\n",
    "    {\n",
    "        \"problem\": \"Customer with smart car integration requirements needing vehicle connectivity and automotive communication features\",\n",
    "        \"solution\": \"Upgrade to connected car plan with vehicle integration and automotive features. Add in-vehicle hotspot and entertainment streaming optimization. Include vehicle safety features and emergency roadside connectivity. Provide automotive device integration consultation.\"\n",
    "    },\n",
    "    {\n",
    "        \"problem\": \"Customer requiring enhanced weather and emergency alert features for safety planning in severe weather-prone area\",\n",
    "        \"solution\": \"Upgrade to weather-alert plan with enhanced emergency communication and severe weather monitoring. Add emergency preparedness features and disaster communication tools. Include emergency contact coordination and safety education. Provide weather safety consultation and emergency planning.\"\n",
    "    },\n",
    "    {\n",
    "        \"problem\": \"Customer with online education requirements needing reliable connectivity for virtual learning and educational content access\",\n",
    "        \"solution\": \"Upgrade to education-optimized plan with learning platform integration and educational content priority. Add student productivity features and educational app optimization. Include parental controls for educational focus and learning tools integration. Provide educational technology consultation.\"\n",
    "    },\n",
    "    {\n",
    "        \"problem\": \"Customer experiencing social isolation seeking enhanced communication features and social connectivity tools\",\n",
    "        \"solution\": \"Provide social connectivity enhancement with family communication features and video calling optimization. Add community connection features and social engagement tools. Include digital literacy training and social technology education. Provide community support and social wellness consultation.\"\n",
    "    },\n",
    "    {\n",
    "        \"problem\": \"Customer with environmental concerns seeking sustainable mobile service options and eco-friendly technology choices\",\n",
    "        \"solution\": \"Enroll in green mobile plan with renewable energy sourcing and carbon offset programs. Add environmental impact tracking and sustainable device options. Include paperless billing and eco-friendly practices education. Provide sustainability consultation and green technology integration.\"\n",
    "    },\n",
    "    {\n",
    "        \"problem\": \"Customer requiring enhanced backup connectivity for critical communication during emergencies and network outages\",\n",
    "        \"solution\": \"Add redundant connectivity with backup network access and emergency communication features. Include backup device options and service continuity planning. Add emergency communication coordination and disaster recovery support. Provide emergency preparedness consultation and backup power options.\"\n",
    "    },\n",
    "    {\n",
    "        \"problem\": \"Customer with IoT device connectivity requirements including smart home, wearables, and connected car integration\",\n",
    "        \"solution\": \"Upgrade to IoT-enabled plan with connected device management and smart home integration. Add multi-device connectivity optimization and security monitoring. Include IoT consultation and device integration services. Provide smart home security and device protection features.\"\n",
    "    },\n",
    "    {\n",
    "        \"problem\": \"Customer experiencing poor indoor coverage at workplace affecting professional communication and productivity during business hours\",\n",
    "        \"solution\": \"Install workplace signal booster and WiFi calling optimization. Add business communication features and workplace connectivity enhancement. Include professional productivity tools and workplace optimization consultation. Provide business connectivity assessment and improvement services.\"\n",
    "    },\n",
    "    {\n",
    "        \"problem\": \"Customer with home automation requirements needing comprehensive smart home connectivity and device management\",\n",
    "        \"solution\": \"Upgrade to smart home plan with IoT optimization and home automation integration. Add device management features and smart home security monitoring. Include automation consultation and smart home setup services. Cross-sell home security with smart home integration.\"\n",
    "    },\n",
    "    {\n",
    "        \"problem\": \"Customer requiring enhanced call quality and voice communication for business conference calls and professional meetings\",\n",
    "        \"solution\": \"Upgrade to business plan with HD voice and conference calling optimization. Add professional communication tools and meeting platform integration. Include business audio enhancement and call quality guarantee. Provide professional communication consultation and productivity support.\"\n",
    "    },\n",
    "    {\n",
    "        \"problem\": \"Customer with community involvement requiring group communication tools for volunteer work and community organization coordination\",\n",
    "        \"solution\": \"Add community engagement features with group communication and volunteer coordination tools. Include community organization discounts and non-profit support features. Add community safety features and emergency communication for volunteers. Provide community leadership tools and coordination support.\"\n",
    "    },\n",
    "    {\n",
    "        \"problem\": \"Customer experiencing payment difficulties due to financial hardship, seeking payment assistance while maintaining essential communication services\",\n",
    "        \"solution\": \"Enroll in hardship assistance program with flexible payment options and reduced-cost plans. Add financial counseling and payment planning services. Include essential services plan with basic connectivity at reduced cost. Provide community resources and financial assistance integration.\"\n",
    "    },\n",
    "    {\n",
    "        \"problem\": \"Customer requiring enhanced customer service and technical support for complex business needs and multi-location operations\",\n",
    "        \"solution\": \"Upgrade to business premium plan with dedicated account management and priority technical support. Add 24/7 business support and service level agreements. Include business consultation and optimization services. Provide enterprise-level support and technical assistance.\"\n",
    "    },\n",
    "    {\n",
    "        \"problem\": \"Customer with business travel requirements needing international roaming optimization and global connectivity for frequent travel\",\n",
    "        \"solution\": \"Upgrade to global business plan with optimized international roaming and travel communication features. Add global connectivity options and travel expense management. Include travel insurance and international device protection. Provide travel communication optimization and international business tools.\"\n",
    "    },\n",
    "    {\n",
    "        \"problem\": \"Customer experiencing billing disputes and unexpected charges, frustrated with billing complexity and charge transparency issues\",\n",
    "        \"solution\": \"Implement simplified billing with transparent pricing and detailed charge breakdown. Add billing protection guarantee and dispute resolution services. Include billing education and account management training. Provide customer advocate for billing issues and charge transparency.\"\n",
    "    },\n",
    "    {\n",
    "        \"problem\": \"Customer with multi-generational family requiring diverse communication needs and age-appropriate features within unified plan structure\",\n",
    "        \"solution\": \"Customize multi-generational family plan with age-appropriate features and individual line optimization. Add generational technology support and training services. Include family safety features and communication tools for all age groups. Provide family technology consultation and coordination.\"\n",
    "    },\n",
    "    {\n",
    "        \"problem\": \"Customer with content creation requirements needing enhanced social media connectivity and content upload optimization\",\n",
    "        \"solution\": \"Upgrade to content creator plan with social media optimization and enhanced upload capabilities. Add content creation tools and platform integration features. Include creator support services and professional networking tools. Provide content creation consultation and monetization support.\"\n",
    "    },\n",
    "    {\n",
    "        \"problem\": \"Customer requiring enhanced GPS and location services for outdoor recreation and adventure activities in remote areas\",\n",
    "        \"solution\": \"Upgrade to outdoor adventure plan with enhanced GPS and emergency location features. Add satellite communication backup for remote area connectivity. Include adventure safety features and emergency rescue coordination. Provide outdoor equipment integration and adventure community access.\"\n",
    "    }\n",
    "]\n",
    "\n",
    "# Create comprehensive internet customer problems (55 records)\n",
    "internet_problems_solutions = [\n",
    "    {\n",
    "        \"problem\": \"Customer with Basic_25 plan experiencing buffering during family movie nights, 4 devices streaming simultaneously, children complaining about slow video loading, affecting household entertainment satisfaction\",\n",
    "        \"solution\": \"Upgrade to Standard_100 plan $69/month providing adequate bandwidth for whole family streaming. Add mesh WiFi system for complete home coverage. Include family entertainment package with premium streaming service. Offer first 2 months at 50% discount.\"\n",
    "    },\n",
    "    {\n",
    "        \"problem\": \"Work-from-home professional experiencing video call freezing during client meetings, current 25Mbps insufficient for HD video conferencing, affecting business reputation and client relationships\",\n",
    "        \"solution\": \"Upgrade to Premium_Gig plan $99/month with priority bandwidth for business use. Add business internet features with static IP and enhanced support. Include professional installation and work-from-home optimization consultation.\"\n",
    "    },\n",
    "    {\n",
    "        \"problem\": \"Customer experiencing frequent outages lasting 2-6 hours monthly, affecting home security system connectivity, missing important alerts, concerned about property protection reliability\",\n",
    "        \"solution\": \"Install redundant connection with automatic failover. Upgrade to business-grade service with 99.9% uptime SLA. Add cellular backup connectivity for security system. Include priority repair service and outage credits guarantee.\"\n",
    "    },\n",
    "    {\n",
    "        \"problem\": \"Elderly customer struggling with WiFi password changes and router setup, frequently losing internet connection, family members constantly providing technical support\",\n",
    "        \"solution\": \"Provide managed WiFi service with automatic updates and remote troubleshooting. Add senior technical support with phone assistance and simplified equipment. Include family account access for remote assistance and maintenance scheduling.\"\n",
    "    },\n",
    "    {\n",
    "        \"problem\": \"Gaming household experiencing high latency ruining competitive online gaming sessions, current connection causing lag spikes during peak hours, affecting tournament participation\",\n",
    "        \"solution\": \"Upgrade to Premium_Gig with gaming optimization and ultra-low latency routing. Add gaming-specific QoS configuration and prioritization. Include 24/7 gaming support and performance monitoring with lag guarantee.\"\n",
    "    },\n",
    "    {\n",
    "        \"problem\": \"Customer with smart home devices experiencing connectivity issues, 25+ IoT devices frequently dropping connections, affecting automation and security system reliability\",\n",
    "        \"solution\": \"Upgrade to Standard_100 with IoT device management and network segmentation. Add professional mesh system with smart home optimization. Include IoT security monitoring and device management consultation.\"\n",
    "    },\n",
    "    {\n",
    "        \"problem\": \"Content creator uploading 4K videos taking 8+ hours per video, affecting publishing schedule and subscriber engagement, seeking faster upload speeds for business growth\",\n",
    "        \"solution\": \"Upgrade to Premium_Gig with symmetric upload speeds and content creator optimization. Add cloud integration and streaming platform connectivity. Include content creator support tools and professional networking features.\"\n",
    "    },\n",
    "    {\n",
    "        \"problem\": \"Customer in apartment complex experiencing severely reduced speeds during evening hours due to shared infrastructure, affecting streaming and work productivity\",\n",
    "        \"solution\": \"Install dedicated fiber connection bypassing shared infrastructure. Provide guaranteed bandwidth with individual service level agreement. Add network isolation and congestion-free connectivity with performance monitoring.\"\n",
    "    },\n",
    "    {\n",
    "        \"problem\": \"Remote learning family with 3 students experiencing poor video quality during simultaneous online classes, affecting educational progress and participation\",\n",
    "        \"solution\": \"Upgrade to Standard_100 with education optimization and dedicated bandwidth allocation. Add parental controls and homework time management. Include educational content filtering and student productivity tools.\"\n",
    "    },\n",
    "    {\n",
    "        \"problem\": \"Customer requiring reliable internet for medical monitoring devices transmitting health data, current service outages affecting critical health system connectivity\",\n",
    "        \"solution\": \"Install medical-grade Premium_Gig with redundant connectivity and 99.99% uptime guarantee. Add health system integration and emergency communication features. Include medical device compatibility and priority technical support.\"\n",
    "    },\n",
    "    {\n",
    "        \"problem\": \"Customer experiencing poor WiFi coverage in large home with dead zones affecting smart home devices and mobile connectivity throughout property\",\n",
    "        \"solution\": \"Install Premium_Gig with professional mesh network covering entire home with seamless roaming. Add smart home integration and device optimization consultation. Include professional site survey and custom installation design.\"\n",
    "    },\n",
    "    {\n",
    "        \"problem\": \"Small business customer using residential service lacking business features like static IP, priority support, and service level agreements for operations\",\n",
    "        \"solution\": \"Upgrade to business Premium_Gig with static IP, priority support, and 99.9% uptime SLA. Add business security suite and firewall management. Include business equipment and professional installation with tax documentation.\"\n",
    "    },\n",
    "    {\n",
    "        \"problem\": \"Customer with home-based e-commerce business experiencing slow order processing and inventory management affecting customer service and sales\",\n",
    "        \"solution\": \"Upgrade to business Premium_Gig with e-commerce optimization and inventory management integration. Add business communication tools and customer service platform support. Include e-commerce consultation and business growth planning.\"\n",
    "    },\n",
    "    {\n",
    "        \"problem\": \"Customer requiring enhanced cybersecurity protection for family internet use, concerned about online threats and children's safety\",\n",
    "        \"solution\": \"Upgrade to Standard_100 with advanced cybersecurity suite and family safety features. Add identity protection and parental controls with content filtering. Include cybersecurity education and family safety consultation.\"\n",
    "    },\n",
    "    {\n",
    "        \"problem\": \"Customer in rural area with limited infrastructure experiencing inconsistent speeds and frequent connectivity issues affecting work and education\",\n",
    "        \"solution\": \"Install dedicated rural fiber infrastructure with guaranteed minimum speeds. Add satellite backup for redundancy during weather events. Include rural development pricing and comprehensive technical support.\"\n",
    "    },\n",
    "    {\n",
    "        \"problem\": \"Customer with multiple smart TVs experiencing poor 4K streaming quality and device connectivity issues throughout home entertainment system\",\n",
    "        \"solution\": \"Upgrade to Premium_Gig with entertainment system optimization and whole-home mesh networking. Add smart TV integration and media streaming enhancement. Include home theater consultation and device optimization services.\"\n",
    "    },\n",
    "    {\n",
    "        \"problem\": \"Customer experiencing billing confusion due to promotional pricing expiration and hidden fees, seeking transparent pricing and simplified service management\",\n",
    "        \"solution\": \"Convert to simplified Premium_Gig with transparent lifetime pricing and no promotional periods. Add billing protection guarantee and fee transparency. Include customer advocacy services and billing education consultation.\"\n",
    "    },\n",
    "    {\n",
    "        \"problem\": \"Customer requiring internet for home-based telehealth practice needing HIPAA-compliant connectivity and secure patient communication systems\",\n",
    "        \"solution\": \"Install medical-grade Premium_Gig with HIPAA compliance and encrypted communication tools. Add telehealth platform integration and patient management systems. Include medical professional consultation and compliance monitoring.\"\n",
    "    },\n",
    "    {\n",
    "        \"problem\": \"Customer with seasonal residence needing flexible internet service for vacation home with intermittent usage patterns\",\n",
    "        \"solution\": \"Provide seasonal Standard_100 with flexible activation/suspension options and quick setup. Add vacation home security monitoring with remote access. Include seasonal billing adjustments and rapid deployment services.\"\n",
    "    },\n",
    "    {\n",
    "        \"problem\": \"Customer experiencing slow cloud backup affecting business productivity and data protection for critical files and documents\",\n",
    "        \"solution\": \"Upgrade to business Premium_Gig with cloud optimization and enhanced upload speeds. Add business data protection and recovery services. Include cloud strategy consultation and backup optimization planning.\"\n",
    "    },\n",
    "    {\n",
    "        \"problem\": \"Customer with home-based podcast production requiring high-quality audio streaming and guest interview capabilities\",\n",
    "        \"solution\": \"Upgrade to Premium_Gig with podcast production optimization and professional audio streaming tools. Add podcast hosting and distribution integration. Include podcasting consultation and professional equipment setup.\"\n",
    "    },\n",
    "    {\n",
    "        \"problem\": \"Customer requiring enhanced parental controls and child safety features for large family with children of various ages\",\n",
    "        \"solution\": \"Upgrade to Standard_100 with comprehensive parental controls and age-based content filtering. Add family safety monitoring and communication tools. Include digital parenting consultation and family technology education.\"\n",
    "    },\n",
    "    {\n",
    "        \"problem\": \"Customer with vintage home requiring specialized installation without damaging historical property features\",\n",
    "        \"solution\": \"Provide historical property Premium_Gig installation with preservation-approved methods. Add smart home integration respecting historical integrity. Include historical preservation consultation and custom installation design.\"\n",
    "    },\n",
    "    {\n",
    "        \"problem\": \"Customer experiencing interference from neighboring networks affecting connection quality and performance in dense residential area\",\n",
    "        \"solution\": \"Upgrade to Premium_Gig with interference mitigation and dedicated frequency management. Add professional WiFi optimization and channel management. Include network isolation and performance monitoring tools.\"\n",
    "    },\n",
    "    {\n",
    "        \"problem\": \"Customer requiring energy-efficient internet service and equipment to reduce environmental impact and electricity costs\",\n",
    "        \"solution\": \"Upgrade to eco-friendly Standard_100 with energy-efficient equipment and green energy sourcing. Add smart home energy management integration. Include energy monitoring tools and environmental impact reporting.\"\n",
    "    },\n",
    "    {\n",
    "        \"problem\": \"Customer with home-based fitness instruction needing reliable upload bandwidth for live streaming classes and client interaction\",\n",
    "        \"solution\": \"Upgrade to Premium_Gig with fitness streaming optimization and professional video tools. Add health platform integration and live streaming equipment setup. Include fitness professional consultation and streaming optimization.\"\n",
    "    },\n",
    "    {\n",
    "        \"problem\": \"Customer requiring specialized internet for cryptocurrency operations needing enhanced security and reliable connectivity for trading\",\n",
    "        \"solution\": \"Install business Premium_Gig with cryptocurrency-specific security and dedicated bandwidth. Add enhanced cybersecurity monitoring and blockchain optimization. Include business equipment and financial technology consultation.\"\n",
    "    },\n",
    "    {\n",
    "        \"problem\": \"Customer with multiple smart vehicles requiring mobile internet connectivity and family travel coordination\",\n",
    "        \"solution\": \"Add mobile internet package to Standard_100 with seamless device roaming and data sharing. Include vehicle internet installation and family travel connectivity. Provide unified billing and mobile device management.\"\n",
    "    },\n",
    "    {\n",
    "        \"problem\": \"Customer experiencing poor streaming quality during peak hours affecting family entertainment and household satisfaction\",\n",
    "        \"solution\": \"Upgrade to Standard_100 with streaming optimization and peak-hour performance guarantee. Add family entertainment package and smart TV integration. Include family technology consultation and entertainment system setup.\"\n",
    "    },\n",
    "    {\n",
    "        \"problem\": \"Customer with home-based music production studio requiring low-latency connectivity for real-time collaboration and audio streaming\",\n",
    "        \"solution\": \"Upgrade to Premium_Gig with audio production optimization and ultra-low latency configuration. Add music collaboration tools and cloud recording integration. Include professional audio consultation and studio networking setup.\"\n",
    "    },\n",
    "    {\n",
    "        \"problem\": \"Customer requiring enhanced privacy and data protection for sensitive personal and business communications\",\n",
    "        \"solution\": \"Upgrade to business Premium_Gig with advanced encryption and privacy protection. Add VPN services and secure communication tools. Include privacy consultation and secure network configuration.\"\n",
    "    },\n",
    "    {\n",
    "        \"problem\": \"Customer with mobility limitations requiring voice-controlled internet management and hands-free technology integration\",\n",
    "        \"solution\": \"Install Standard_100 with voice control integration and accessibility features. Add smart home automation for independent living support. Include assistive technology consultation and specialized equipment configuration.\"\n",
    "    },\n",
    "    {\n",
    "        \"problem\": \"Customer experiencing DNS issues and website accessibility problems affecting online business operations and customer service\",\n",
    "        \"solution\": \"Upgrade to business Premium_Gig with premium DNS services and global content delivery network access. Add website performance optimization and uptime monitoring. Include business continuity planning and technical consultation.\"\n",
    "    },\n",
    "    {\n",
    "        \"problem\": \"Customer with pool and spa automation requiring reliable IoT connectivity for water quality monitoring and system control\",\n",
    "        \"solution\": \"Upgrade to Standard_100 with IoT optimization and pool automation integration. Add water quality monitoring and smart home integration for pool systems. Include pool technology consultation and automation setup.\"\n",
    "    },\n",
    "    {\n",
    "        \"problem\": \"Customer requiring internet for home-based virtual reality development and testing with ultra-low latency requirements\",\n",
    "        \"solution\": \"Install Premium_Gig with VR optimization and ultra-low latency configuration. Add VR development tools and testing platform access. Include VR consultation and professional development support services.\"\n",
    "    },\n",
    "    {\n",
    "        \"problem\": \"Customer with home theater system requiring seamless 4K streaming and smart entertainment integration with automation\",\n",
    "        \"solution\": \"Upgrade to Premium_Gig with home theater optimization and smart entertainment integration. Add theater automation and immersive experience enhancement. Include professional home theater consultation and installation.\"\n",
    "    },\n",
    "    {\n",
    "        \"problem\": \"Customer experiencing network security breaches requiring enhanced firewall protection and intrusion detection systems\",\n",
    "        \"solution\": \"Upgrade to business Premium_Gig with enterprise-grade security and intrusion detection. Add cybersecurity monitoring and threat prevention tools. Include security consultation and penetration testing services.\"\n",
    "    },\n",
    "    {\n",
    "        \"problem\": \"Customer with family autism spectrum needs requiring consistent internet routine and specialized online learning tools\",\n",
    "        \"solution\": \"Install Standard_100 with specialized stability features and educational tool integration. Add sensory-friendly equipment and family support services. Include special needs consultation and customized support planning.\"\n",
    "    },\n",
    "    {\n",
    "        \"problem\": \"Customer requiring internet for home-based art studio with online galleries and virtual exhibition hosting\",\n",
    "        \"solution\": \"Upgrade to Premium_Gig with artistic content optimization and high-resolution media streaming. Add portfolio hosting and virtual gallery tools. Include creative professional consultation and artistic community network access.\"\n",
    "    },\n",
    "    {\n",
    "        \"problem\": \"Multi-family property manager requiring centralized internet management for rental units with individual tenant billing options\",\n",
    "        \"solution\": \"Install managed Premium_Gig with multi-tenant management and individual billing capabilities. Add property management tools and tenant portal access. Include bulk service discounts and property manager support services.\"\n",
    "    },\n",
    "    {\n",
    "        \"problem\": \"Customer with electric vehicle requiring smart charging integration and energy management through internet-connected systems\",\n",
    "        \"solution\": \"Upgrade to Standard_100 with smart grid integration and energy management optimization. Add electric vehicle charging coordination and renewable energy monitoring. Include sustainable technology consultation and smart energy setup.\"\n",
    "    },\n",
    "    {\n",
    "        \"problem\": \"Customer experiencing data privacy concerns seeking enhanced protection and anonymous browsing capabilities\",\n",
    "        \"solution\": \"Install Premium_Gig with advanced privacy protection and encrypted browsing features. Add VPN services and anonymous communication tools. Include privacy consultation and digital security education services.\"\n",
    "    },\n",
    "    {\n",
    "        \"problem\": \"Customer requiring internet for home-based bookkeeping practice with secure client data handling and cloud software integration\",\n",
    "        \"solution\": \"Install business Premium_Gig with accounting software optimization and financial data security. Add cloud accounting integration and client portal access. Include accounting professional consultation and data security assessment.\"\n",
    "    },\n",
    "    {\n",
    "        \"problem\": \"Customer with large property requiring extended WiFi coverage for main residence and guest house with unified management\",\n",
    "        \"solution\": \"Install Premium_Gig with multi-building network design and centralized management. Add property-wide security integration and guest access controls. Include professional site survey and custom network architecture.\"\n",
    "    },\n",
    "    {\n",
    "        \"problem\": \"Customer requiring disaster preparedness with backup internet connectivity for emergency communication during natural disasters\",\n",
    "        \"solution\": \"Install Premium_Gig with emergency backup systems and battery power integration. Add satellite backup connectivity and emergency communication features. Include disaster planning consultation and emergency equipment provision.\"\n",
    "    },\n",
    "    {\n",
    "        \"problem\": \"Customer with woodworking business requiring online marketplace integration and high-quality product photography uploads\",\n",
    "        \"solution\": \"Upgrade to business Premium_Gig with e-commerce optimization and professional upload speeds. Add marketplace integration tools and inventory management. Include small business consultation and online selling optimization.\"\n",
    "    },\n",
    "    {\n",
    "        \"problem\": \"Customer experiencing poor mobile device connectivity throughout home affecting smartphone and tablet performance\",\n",
    "        \"solution\": \"Install Standard_100 with enhanced mobile device optimization and cellular enhancement. Add mobile connectivity boosters and device management tools. Include mobile optimization consultation and signal enhancement services.\"\n",
    "    },\n",
    "    {\n",
    "        \"problem\": \"Customer requiring internet for home-based research and academic writing with scholarly database access and collaboration\",\n",
    "        \"solution\": \"Upgrade to Premium_Gig with academic optimization and research database integration. Add scholarly collaboration tools and research management systems. Include academic consultation and research productivity enhancement.\"\n",
    "    },\n",
    "    {\n",
    "        \"problem\": \"Customer with vintage computer collection requiring specialized connectivity for retro computing and preservation activities\",\n",
    "        \"solution\": \"Install Premium_Gig with retro computing support and legacy system integration. Add vintage technology consultation and preservation networking tools. Include retro computing community access and specialized technical support.\"\n",
    "    },\n",
    "    {\n",
    "        \"problem\": \"Customer experiencing frequent equipment theft requiring secure installation and theft-resistant infrastructure\",\n",
    "        \"solution\": \"Install theft-resistant Premium_Gig infrastructure with security monitoring and rapid replacement guarantee. Add comprehensive security integration and crime deterrent features. Include security consultation and theft protection planning.\"\n",
    "    },\n",
    "    {\n",
    "        \"problem\": \"Customer requiring internet for home-based language learning and cultural exchange programs with international connectivity\",\n",
    "        \"solution\": \"Upgrade to Premium_Gig with education optimization and international cultural exchange features. Add language learning platform integration and cultural community access. Include educational consultation and global connectivity setup.\"\n",
    "    },\n",
    "    {\n",
    "        \"problem\": \"Customer with limited English proficiency requiring multilingual customer support and simplified service management\",\n",
    "        \"solution\": \"Provide Standard_100 with multilingual support and translated documentation. Add cultural community features and language-appropriate billing. Include community liaison services and cultural consultation support.\"\n",
    "    },\n",
    "    {\n",
    "        \"problem\": \"Customer requiring internet for home-based translation business with international video calls and document sharing\",\n",
    "        \"solution\": \"Upgrade to business Premium_Gig with international optimization and professional translation tools. Add multilingual communication platforms and document management. Include translation business consultation and international connectivity.\"\n",
    "    },\n",
    "    {\n",
    "        \"problem\": \"Customer experiencing frequent billing errors and overcharges requiring automated billing accuracy and transparent management\",\n",
    "        \"solution\": \"Convert to Premium_Gig with automated billing accuracy guarantee and detailed charge transparency. Add billing protection and error correction automation. Include customer advocacy and billing audit services.\"\n",
    "    }\n",
    "]\n",
    "\n",
    "# Create comprehensive home security customer problems (60 records) \n",
    "home_security_problems_solutions = [\n",
    "    {\n",
    "        \"problem\": \"Customer's window sensor triggering false alarms every night around 2 AM, device installed 6 months ago but recently started malfunctioning, causing sleep disruption and potential emergency service fees\",\n",
    "        \"solution\": \"Guide customer through app-based sensor test and recalibration process via chat support. If DIY fails, perform remote diagnostic to check battery level and firmware. Schedule technician visit only if remote fixes unsuccessful. Replace sensor free under warranty if defective, otherwise offer 20% discount on new sensor.\"\n",
    "    },\n",
    "    {\n",
    "        \"problem\": \"Smart doorbell video feed appears blurry and notifications delayed by 30-60 seconds, customer missing package deliveries, device 8 months old with declining performance\",\n",
    "        \"solution\": \"Walk customer through WiFi speed test and camera lens cleaning via video tutorial. Run remote signal strength diagnostic and adjust video quality settings through app. If hardware issue confirmed, offer doorbell replacement at 30% discount ($56) with self-installation guide or technician install for additional $40.\"\n",
    "    },\n",
    "    {\n",
    "        \"problem\": \"Indoor camera audio communication stopped working after recent power outage, customer paid $30 for two-way audio feature but can't communicate with family remotely\",\n",
    "        \"solution\": \"Guide customer through power cycle and audio test sequence via app instructions. Reset audio configuration remotely if device responsive. If power surge damaged hardware, replace camera with audio at no charge under 1-year warranty, or offer 50% credit toward upgrade to outdoor camera with better surge protection.\"\n",
    "    },\n",
    "    {\n",
    "        \"problem\": \"Motion sensors detecting 65-pound dog despite pet immunity settings, triggering 15-20 false alarms daily, customer considering system disconnection due to alert fatigue\",\n",
    "        \"solution\": \"Provide step-by-step pet zone configuration tutorial through mobile app with live chat support. Remotely adjust sensitivity settings and detection patterns. If unsuccessful, offer pet-immune sensor upgrade at 50% discount ($15 each) or add indoor camera with AI pet detection for visual verification at bundle price $150.\"\n",
    "    },\n",
    "    {\n",
    "        \"problem\": \"Smart lock battery draining every 3 weeks instead of advertised 6-month lifespan, customer frequently replacing batteries and experiencing occasional lock failures\",\n",
    "        \"solution\": \"Analyze usage data through app diagnostics and provide power optimization settings guide. Update lock firmware remotely to improve battery management. Send 6-month battery supply at no cost, schedule annual maintenance reminder. If problem persists, offer 40% trade-in credit toward smart lock with solar charging capability.\"\n",
    "    },\n",
    "    {\n",
    "        \"problem\": \"Outdoor camera night vision producing grainy, unclear images in low light conditions, camera 14 months old and affecting nighttime security monitoring effectiveness\",\n",
    "        \"solution\": \"Send camera maintenance kit with lens cleaning supplies and adjustment instructions. Remotely update camera settings for optimal night vision performance. If image sensor degraded, offer replacement camera at 40% discount ($132) or upgrade to 4K model with enhanced night vision for 25% off retail price.\"\n",
    "    },\n",
    "    {\n",
    "        \"problem\": \"Security panel randomly beeping every few hours with no apparent trigger, disrupting household routines and causing confusion about system status, panel 18 months old\",\n",
    "        \"solution\": \"Guide customer through diagnostic beep code identification via user manual and app troubleshooting. Remotely check system logs and sensor connectivity. Update panel firmware if needed. If hardware malfunction confirmed, replace panel at 30% discount ($175) with data transfer service included.\"\n",
    "    },\n",
    "    {\n",
    "        \"problem\": \"Window sensors frequently showing 'offline' status in app despite being within WiFi range, affecting security coverage and causing gaps in monitoring system\",\n",
    "        \"solution\": \"Provide WiFi connectivity troubleshooting steps and sensor reset procedure via app tutorial. Test signal strength remotely and recommend WiFi extender placement if needed. Replace sensors showing hardware connectivity issues at no charge if under 90 days old, otherwise 25% discount on replacement sensors.\"\n",
    "    },\n",
    "    {\n",
    "        \"problem\": \"Smart doorbell overheating during summer months and occasionally shutting down during peak heat, affecting entrance monitoring and visitor communication\",\n",
    "        \"solution\": \"Send installation guide for improved ventilation and heat protection accessories. Remotely adjust power settings to reduce heat generation. If overheating persists, provide shade kit at no cost or upgrade to weather-resistant doorbell model with 35% trade-in credit toward purchase.\"\n",
    "    },\n",
    "    {\n",
    "        \"problem\": \"Indoor camera viewing angle shifted after cleaning, no longer covering desired area properly, customer unable to monitor room entrance effectively\",\n",
    "        \"solution\": \"Provide video guide for camera repositioning and mounting adjustment through app support section. Use app's camera view feature to help customer achieve optimal positioning remotely. If mounting hardware damaged, send replacement mount kit for $15 or schedule technician adjustment for $60.\"\n",
    "    },\n",
    "    {\n",
    "        \"problem\": \"Motion sensor triggering on heating/AC vents causing false alarms when HVAC system operates, sensor positioned near air vent creating temperature-based detection issues\",\n",
    "        \"solution\": \"Guide customer through sensor repositioning using app's zone mapping feature and installation best practices guide. Remotely adjust temperature sensitivity settings. If relocation not possible, provide sensor relocation kit with extended mounting options for $25 or upgrade to heat-immune sensor model.\"\n",
    "    },\n",
    "    {\n",
    "        \"problem\": \"Smart lock occasionally failing to lock automatically after door closure, creating security vulnerability and requiring manual verification, lock 10 months old with intermittent performance\",\n",
    "        \"solution\": \"Walk customer through door alignment check and automatic lock calibration via app diagnostics. Remotely test lock mechanism and adjust timing settings. Clean and lubricate lock mechanism following provided maintenance guide. If mechanical issue persists, replace lock at 25% discount with installation service.\"\n",
    "    },\n",
    "    {\n",
    "        \"problem\": \"Outdoor camera producing condensation inside lens housing during humid weather, creating foggy images and reduced visibility for security monitoring\",\n",
    "        \"solution\": \"Provide humidity prevention maintenance guide with desiccant pack installation instructions. Remotely check if camera housing properly sealed via diagnostic report. Send weatherproofing upgrade kit for $20 or offer replacement with improved weather sealing at 30% discount if current camera not repairable.\"\n",
    "    },\n",
    "    {\n",
    "        \"problem\": \"Customer receiving duplicate notifications from multiple devices for same event, creating notification spam and reducing alert effectiveness, affecting user experience\",\n",
    "        \"solution\": \"Guide customer through notification settings optimization and device priority configuration via app settings tutorial. Remotely adjust notification logic and device coordination settings. Provide advanced notification management training through customer support chat to customize alert preferences.\"\n",
    "    },\n",
    "    {\n",
    "        \"problem\": \"Security panel WiFi connection dropping frequently requiring manual reconnection, affecting system monitoring and remote access capabilities, panel installed 8 months ago\",\n",
    "        \"solution\": \"Provide WiFi troubleshooting guide and network optimization tips through app support section. Remotely test connection stability and adjust WiFi settings. If WiFi module failing, offer panel replacement at 35% discount ($162.50) or upgrade to dual-connectivity panel with cellular backup.\"\n",
    "    },\n",
    "    {\n",
    "        \"problem\": \"Window sensor adhesive failing causing sensor to fall off window frame, device no longer properly monitoring window opening/closing status for security coverage\",\n",
    "        \"solution\": \"Send replacement mounting kit with improved adhesive and installation guide at no cost. Provide video tutorial for proper surface preparation and mounting technique. If window surface incompatible with adhesive mounting, offer screw-mount conversion kit for $15 or magnetic sensor alternative.\"\n",
    "    },\n",
    "    {\n",
    "        \"problem\": \"Indoor camera microphone picking up excessive background noise and echo, affecting audio quality for two-way communication and making conversations unclear\",\n",
    "        \"solution\": \"Guide customer through audio settings adjustment and noise reduction configuration via app. Remotely optimize microphone sensitivity and echo cancellation settings. Provide room acoustics improvement tips. If hardware limitation, offer camera upgrade with advanced audio processing at 25% discount.\"\n",
    "    },\n",
    "    {\n",
    "        \"problem\": \"Smart doorbell button becoming unresponsive requiring multiple presses to activate, affecting visitor experience and entry communication functionality, doorbell 12 months old\",\n",
    "        \"solution\": \"Provide button cleaning and maintenance guide with appropriate cleaning solutions. Remotely test button responsiveness and calibrate pressure sensitivity. If button mechanism worn, replace doorbell at 30% discount ($56) or upgrade to touch-sensitive model with gesture recognition.\"\n",
    "    },\n",
    "    {\n",
    "        \"problem\": \"Motion sensor battery life decreasing rapidly in cold weather, requiring frequent battery changes during winter months affecting system reliability and maintenance costs\",\n",
    "        \"solution\": \"Provide winter battery optimization guide and cold weather operation tips via app resources. Remotely adjust sensor sleep settings to conserve battery power. Send cold-weather battery pack at 50% discount or offer upgrade to hardwired sensor with professional installation.\"\n",
    "    },\n",
    "    {\n",
    "        \"problem\": \"Outdoor camera image quality degrading during rain with water spots obscuring lens, affecting visual monitoring during weather events when security monitoring most needed\",\n",
    "        \"solution\": \"Send lens protection kit with hydrophobic coating and cleaning instructions. Provide camera angle adjustment guide to minimize water accumulation. If water damage evident, replace camera at 35% discount ($143) or upgrade to fully weatherproof model with automatic lens cleaning.\"\n",
    "    },\n",
    "    {\n",
    "        \"problem\": \"Security panel touchscreen becoming less responsive requiring firm pressure for operation, affecting daily system interaction and user experience, panel 16 months old\",\n",
    "        \"solution\": \"Guide customer through screen calibration process and sensitivity adjustment via settings menu. Provide touchscreen maintenance tips and cleaning instructions. If touchscreen hardware failing, offer panel replacement at 30% discount ($175) with screen protection film included.\"\n",
    "    },\n",
    "    {\n",
    "        \"problem\": \"Smart lock keypad numbers wearing off making code entry difficult in low light conditions, affecting accessibility and security code input reliability for family members\",\n",
    "        \"solution\": \"Send keypad overlay stickers with illuminated numbers at no cost and installation guide. Provide lock cleaning and maintenance instructions. If keypad backlight failing, offer lock upgrade with enhanced illumination at 35% trade-in value toward new smart lock purchase.\"\n",
    "    },\n",
    "    {\n",
    "        \"problem\": \"Window sensors experiencing connectivity issues with security panel, showing intermittent offline status despite proximity to panel, affecting monitoring zone coverage reliability\",\n",
    "        \"solution\": \"Guide customer through sensor signal strength test and panel pairing reset procedure via app. Remotely analyze signal patterns and adjust communication frequency. If sensor radio module failing, replace sensors at 20% discount or upgrade to extended-range sensor model.\"\n",
    "    },\n",
    "    {\n",
    "        \"problem\": \"Indoor camera night vision LEDs creating glare on nearby reflective surfaces, producing washed-out images and reducing night monitoring effectiveness in room\",\n",
    "        \"solution\": \"Provide camera positioning guide and anti-glare adjustment instructions via app tutorial. Remotely adjust LED intensity and night vision settings. Send anti-reflective accessories kit for $10 or offer camera relocation consultation with mounting hardware for optimal positioning.\"\n",
    "    },\n",
    "    {\n",
    "        \"problem\": \"Smart doorbell chime volume inconsistent between indoor unit and mobile app notifications, family missing visitor alerts due to volume variation and notification timing\",\n",
    "        \"solution\": \"Guide customer through chime synchronization settings and volume calibration via app controls. Remotely test notification delivery timing and adjust alert coordination. If indoor chime unit failing, replace chime at 50% discount or upgrade to multi-zone chime system.\"\n",
    "    },\n",
    "    {\n",
    "        \"problem\": \"Motion sensor false alarms triggered by tree branches visible through window, sensor detecting movement outside intended monitoring area creating unnecessary alerts\",\n",
    "        \"solution\": \"Provide sensor positioning and detection zone configuration guide via app's zone mapping feature. Remotely adjust detection sensitivity and area masking settings. If positioning limitations exist, offer directional sensor shield for $20 or upgrade to AI-enabled sensor with object recognition.\"\n",
    "    },\n",
    "    {\n",
    "        \"problem\": \"Outdoor camera recording storage filling up quickly due to frequent motion detection, customer missing important events due to storage limitations and automatic deletion\",\n",
    "        \"solution\": \"Guide customer through motion sensitivity adjustment and recording schedule optimization via app settings. Remotely configure intelligent recording rules and storage management. Offer cloud storage upgrade plan or local storage expansion with NVR system at discounted bundle pricing.\"\n",
    "    },\n",
    "    {\n",
    "        \"problem\": \"Security panel alarm siren volume insufficient for large home, family not hearing alarm activation during nighttime or when in distant rooms from panel location\",\n",
    "        \"solution\": \"Provide siren volume adjustment guide and acoustic testing instructions via app. Remotely maximize siren output and test audio distribution. Add wireless siren extenders for $45 each or upgrade to multi-zone alarm system with distributed sirens throughout property.\"\n",
    "    },\n",
    "    {\n",
    "        \"problem\": \"Smart lock auto-unlock feature activating unexpectedly when customer approaches with phone, creating security concerns about unintended access control activation\",\n",
    "        \"solution\": \"Guide customer through proximity settings adjustment and geo-fence calibration via app. Remotely fine-tune location detection and auto-unlock parameters. Disable auto-unlock if preferred and provide alternative keypad or manual unlock training for secure access control.\"\n",
    "    },\n",
    "    {\n",
    "        \"problem\": \"Window sensor magnetic contact alignment shifting over time causing intermittent open/close detection, creating gaps in security monitoring and false status reports\",\n",
    "        \"solution\": \"Provide sensor alignment guide and magnetic contact adjustment instructions with alignment tools. Remotely test sensor gap detection sensitivity. Send magnetic contact realignment kit for $8 or offer upgrade to adjustable-gap sensor with flexible mounting options.\"\n",
    "    },\n",
    "    {\n",
    "        \"problem\": \"Indoor camera privacy mode not activating properly through app, camera continuing to record when privacy requested, affecting family privacy expectations and trust\",\n",
    "        \"solution\": \"Guide customer through privacy mode troubleshooting and manual camera control via app interface. Remotely verify privacy settings and update camera firmware. If privacy hardware switch failing, replace camera at no charge under privacy guarantee or upgrade to physical privacy shutter model.\"\n",
    "    },\n",
    "    {\n",
    "        \"problem\": \"Smart doorbell WiFi reconnection taking several minutes after internet outage, missing visitor interactions during connection recovery period and delaying notifications\",\n",
    "        \"solution\": \"Provide network recovery optimization guide and router compatibility tips via app resources. Remotely adjust connection retry settings and network prioritization. If WiFi module slow, offer doorbell replacement at 25% discount or upgrade to cellular backup model.\"\n",
    "    },\n",
    "    {\n",
    "        \"problem\": \"Motion sensor pet immunity not working properly with small cat, 8-pound cat triggering alarms despite pet-friendly settings, affecting system usability for pet owners\",\n",
    "        \"solution\": \"Guide customer through advanced pet configuration and sensitivity fine-tuning via app. Remotely adjust detection algorithms for small pet recognition. If sensor limitation confirmed, offer pet-optimized sensor replacement at 50% discount or add pet-immune indoor camera for verification.\"\n",
    "    },\n",
    "    {\n",
    "        \"problem\": \"Outdoor camera lens getting dirty frequently from environmental exposure, requiring weekly cleaning to maintain image quality, creating high maintenance burden for customer\",\n",
    "        \"solution\": \"Provide automated cleaning schedule and maintenance kit with long-reach cleaning tools. Remotely adjust camera angle to minimize environmental exposure. Offer lens protection upgrade kit for $25 or camera relocation to protected area with extension mounting hardware.\"\n",
    "    },\n",
    "    {\n",
    "        \"problem\": \"Security panel backup battery not holding charge properly, system shutting down quickly during power outages instead of maintaining 24-hour backup capability\",\n",
    "        \"solution\": \"Guide customer through battery health test and calibration procedure via panel diagnostics. Remotely check charging system and battery status. Replace backup battery at no cost if under 2 years old, otherwise offer battery upgrade with extended capacity at 40% discount.\"\n",
    "    },\n",
    "    {\n",
    "        \"problem\": \"Smart lock response time becoming slower with each app command, delay between unlock command and actual door opening increasing to 5-10 seconds\",\n",
    "        \"solution\": \"Guide customer through app cache clearing and lock firmware update via mobile device settings. Remotely optimize communication protocol and response timing. If lock processor aging, offer replacement at 35% discount ($39) or upgrade to faster response model with enhanced connectivity.\"\n",
    "    },\n",
    "    {\n",
    "        \"problem\": \"Window sensors triggering when large trucks pass nearby due to vibration sensitivity, creating false alarms during normal neighborhood traffic especially during daytime hours\",\n",
    "        \"solution\": \"Guide customer through vibration sensitivity adjustment and traffic pattern analysis via app settings. Remotely calibrate sensor threshold for vibration filtering. If location too sensitive, offer shock-resistant sensor upgrade or alternative magnetic contact sensor less sensitive to vibrations.\"\n",
    "    },\n",
    "    {\n",
    "        \"problem\": \"Indoor camera motion detection triggering on TV screen changes and light patterns, creating excessive notifications and reducing effectiveness of security monitoring alerts\",\n",
    "        \"solution\": \"Guide customer through motion zone configuration and light change filtering via app settings. Remotely adjust detection algorithms to ignore screen flicker and lighting variations. Provide advanced motion detection training and AI learning optimization through app tutorials.\"\n",
    "    },\n",
    "    {\n",
    "        \"problem\": \"Smart doorbell video lag during live viewing making real-time visitor communication difficult, delay affecting natural conversation flow and visitor experience\",\n",
    "        \"solution\": \"Guide customer through network speed optimization and bandwidth allocation via router settings guide. Remotely adjust video compression and transmission settings. If bandwidth insufficient, recommend network upgrade or offer doorbell model optimized for low-bandwidth connections.\"\n",
    "    },\n",
    "    {\n",
    "        \"problem\": \"Motion sensor range decreased significantly after 18 months of operation, detection distance reduced from 25 feet to 10 feet affecting coverage area and security gaps\",\n",
    "        \"solution\": \"Guide customer through sensor range testing and calibration via app diagnostics. Remotely check sensor health and adjust detection parameters. If sensor degradation confirmed, replace at 40% discount due to age or upgrade to extended-range sensor with 5-year performance warranty.\"\n",
    "    },\n",
    "    {\n",
    "        \"problem\": \"Outdoor camera infrared illuminators attracting insects at night, creating false motion alerts and obscuring image quality with bug shadows and movement\",\n",
    "        \"solution\": \"Provide insect deterrent guide and LED modification instructions via maintenance tutorial. Remotely adjust infrared intensity and motion filtering for small objects. Offer insect shield accessory for $15 or upgrade to camera with covert infrared technology that doesn't attract insects.\"\n",
    "    },\n",
    "    {\n",
    "        \"problem\": \"Security panel cellular connection weak in customer's location, affecting monitoring service reliability and emergency communication during critical events\",\n",
    "        \"solution\": \"Provide cellular signal testing guide and antenna positioning optimization via installation manual. Remotely test signal strength and carrier optimization. Install cellular signal booster for $75 or upgrade to multi-carrier panel with automatic carrier switching for best signal.\"\n",
    "    },\n",
    "    {\n",
    "        \"problem\": \"Smart lock keypad backlight failing intermittently, making code entry difficult during evening hours and affecting accessibility for family members\",\n",
    "        \"solution\": \"Guide customer through backlight settings and power saving mode adjustment via lock configuration. Remotely test lighting system and brightness controls. If LED module failing, replace lock at 30% discount ($42) or upgrade to always-on illuminated keypad model.\"\n",
    "    },\n",
    "    {\n",
    "        \"problem\": \"Window sensor adhesive leaving residue on window frame after removal, customer concerned about property damage and future installation options on same surface\",\n",
    "        \"solution\": \"Provide adhesive removal guide with safe cleaning solutions and techniques via maintenance tutorial. Send residue removal kit at no cost and surface preparation guide. Offer alternative mounting options with magnetic or bracket systems to avoid future adhesive issues.\"\n",
    "    },\n",
    "    {\n",
    "        \"problem\": \"Indoor camera audio feedback when using two-way communication feature, echo and squealing sounds making conversation impossible between customer and remote participants\",\n",
    "        \"solution\": \"Guide customer through audio settings optimization and feedback elimination via app controls. Remotely adjust microphone sensitivity and speaker volume balance. If hardware acoustic issue, replace camera at 25% discount or upgrade to echo-cancellation model with advanced audio processing.\"\n",
    "    },\n",
    "    {\n",
    "        \"problem\": \"Smart doorbell installation screws becoming loose over time causing device to shift position, affecting viewing angle and creating gaps in entrance monitoring coverage\",\n",
    "        \"solution\": \"Provide installation reinforcement guide and upgraded hardware kit with thread-locking compound. Send mounting stability kit for $12 including vibration-resistant screws. If mounting surface degraded, offer alternative mounting solutions or professional reinstallation service.\"\n",
    "    },\n",
    "    {\n",
    "        \"problem\": \"Motion sensor false alarms from heating system air currents, sensor detecting temperature changes and air movement as motion events creating unnecessary alerts\",\n",
    "        \"solution\": \"Guide customer through HVAC interference troubleshooting and sensor positioning via environmental analysis app. Remotely adjust temperature compensation and air current filtering. Relocate sensor away from vents using extension mount kit or upgrade to thermal-immune sensor technology.\"\n",
    "    },\n",
    "    {\n",
    "        \"problem\": \"Outdoor camera time-lapse feature not working properly, missing scheduled recordings and gaps in security timeline affecting incident investigation capabilities\",\n",
    "        \"solution\": \"Guide customer through time-lapse configuration and storage management via app scheduling interface. Remotely verify recording settings and storage allocation. If firmware issue, update camera software or offer replacement at 30% discount with enhanced recording features.\"\n",
    "    },\n",
    "    {\n",
    "        \"problem\": \"Security panel not recognizing new device additions after recent app update, customer unable to expand system with additional sensors and cameras\",\n",
    "        \"solution\": \"Guide customer through device pairing reset and compatibility check via app troubleshooting section. Remotely clear device cache and reinitialize pairing protocol. If app compatibility issue, provide firmware rollback or priority access to updated app version with bug fixes.\"\n",
    "    },\n",
    "    {\n",
    "        \"problem\": \"Smart lock motor making grinding noise during operation, mechanical sounds concerning customer about device longevity and potential failure during critical access needs\",\n",
    "        \"solution\": \"Guide customer through lock lubrication and mechanical maintenance via maintenance tutorial. Remotely run motor diagnostic and adjust operation parameters. If mechanical wear confirmed, replace lock at 40% discount due to mechanical issue or upgrade to quieter servo motor model.\"\n",
    "    },\n",
    "    {\n",
    "        \"problem\": \"Window sensors showing incorrect open/close status randomly, system reporting windows open when closed affecting security status accuracy and monitoring reliability\",\n",
    "        \"solution\": \"Guide customer through sensor calibration and magnetic alignment check via app diagnostics. Remotely test sensor accuracy and adjust detection parameters. If magnetic interference present, relocate sensor or upgrade to non-magnetic proximity sensor with digital detection technology.\"\n",
    "    },\n",
    "    {\n",
    "        \"problem\": \"Indoor camera privacy concerns after hearing about data breaches, customer wants local storage only but current camera requires cloud connectivity for full functionality\",\n",
    "        \"solution\": \"Guide customer through privacy settings optimization and cloud service disabling via app security section. Configure local storage mode and network isolation settings. Offer upgrade to local-only camera model with SD card storage or network video recorder system for complete privacy control.\"\n",
    "    },\n",
    "    {\n",
    "        \"problem\": \"Smart doorbell notification delay increasing over time, now taking 2-3 minutes for alerts to reach customer's phone affecting real-time visitor management\",\n",
    "        \"solution\": \"Guide customer through notification troubleshooting and network optimization via app connectivity settings. Remotely test notification delivery path and adjust priority settings. If device processing slow, offer doorbell replacement at 35% discount or upgrade to edge-computing model with instant alerts.\"\n",
    "    },\n",
    "    {\n",
    "        \"problem\": \"Motion sensor battery compartment corroded after battery leak, device no longer operational and customer concerned about toxic exposure and replacement options\",\n",
    "        \"solution\": \"Provide safe cleanup instructions and disposal guide for corroded components. Replace sensor at no charge if battery leak caused damage and provide battery disposal service. Upgrade to rechargeable sensor model to prevent future battery leak issues with 50% discount.\"\n",
    "    },\n",
    "    {\n",
    "        \"problem\": \"Outdoor camera mounting bracket rust developing after winter exposure, bracket integrity concerning customer about camera security and potential falling hazard\",\n",
    "        \"solution\": \"Inspect bracket condition through customer photos and provide rust treatment guide. Send corrosion-resistant bracket replacement kit for $20 with stainless steel hardware. If structural integrity compromised, schedule professional remount service or upgrade to weatherproof mounting system.\"\n",
    "    },\n",
    "    {\n",
    "        \"problem\": \"Security panel false alarm issues increasing after lightning storm, system triggering alarms randomly without sensor activation affecting emergency service credibility\",\n",
    "        \"solution\": \"Guide customer through electrical system check and grounding verification via safety diagnostic. Remotely test panel sensitivity and electrical interference filtering. If lightning damage suspected, replace panel at insurance claim rate or upgrade to surge-protected model with electrical isolation.\"\n",
    "    },\n",
    "    {\n",
    "        \"problem\": \"Smart lock auto-lock timer not functioning consistently, door remaining unlocked longer than programmed setting creating security vulnerability and access control concerns\",\n",
    "        \"solution\": \"Guide customer through timer calibration and auto-lock testing via app diagnostic tools. Remotely verify timer functionality and mechanical operation. If timing mechanism failing, replace lock at 30% discount or upgrade to redundant timer system with backup auto-lock functionality.\"\n",
    "    },\n",
    "    {\n",
    "        \"problem\": \"Window sensor wireless range reduced after home WiFi router upgrade, sensors frequently disconnecting from security panel affecting monitoring coverage and system reliability\",\n",
    "        \"solution\": \"Guide customer through wireless interference analysis and frequency optimization via app network tools. Remotely adjust sensor communication protocol and power levels. If frequency conflict confirmed, upgrade sensors to dual-band models or add wireless signal extender for sensor network.\"\n",
    "    },\n",
    "    {\n",
    "        \"problem\": \"Indoor camera image quality fluctuating throughout day, picture clarity varying from sharp to blurry affecting identification capability and security monitoring effectiveness\",\n",
    "        \"solution\": \"Guide customer through camera lens cleaning and focus adjustment via maintenance tutorial. Remotely test auto-focus mechanism and image stabilization. If optical system degrading, replace camera at 35% discount or upgrade to fixed-focus model with enhanced image processing.\"\n",
    "    },\n",
    "    {\n",
    "        \"problem\": \"Smart doorbell temperature sensor reading inaccurately, displaying wrong outdoor temperature affecting weather-based automation and environmental monitoring features\",\n",
    "        \"solution\": \"Guide customer through temperature calibration and environmental sensor testing via app weather section. Remotely compare readings with local weather data and adjust calibration offset. If sensor hardware failing, replace doorbell at 25% discount or upgrade to multi-sensor model with enhanced accuracy.\"\n",
    "    }\n",
    "]\n",
    "\n",
    "# Combine all datasets with sector labels\n",
    "mobile_problems_df = pd.DataFrame(mobile_problems_solutions)\n",
    "mobile_problems_df['sector'] = 'mobile'\n",
    "\n",
    "internet_problems_df = pd.DataFrame(internet_problems_solutions)\n",
    "internet_problems_df['sector'] = 'internet'\n",
    "\n",
    "home_security_df = pd.DataFrame(home_security_problems_solutions)\n",
    "home_security_df['sector'] = 'home_security'\n",
    "\n",
    "# Combine all datasets\n",
    "solution_df = pd.concat([mobile_problems_df, internet_problems_df, home_security_df], ignore_index=True)\n",
    "\n",
    "print(f\"Combined Telecom Customer Problem-Solution Dataset\")\n",
    "print(f\"Total Records: {solution_df.shape[0]}\")\n",
    "print(f\"Mobile Problems: {len(mobile_problems_df)}\")\n",
    "print(f\"Internet Problems: {len(internet_problems_df)}\")\n",
    "print(f\"Home Security Problems: {len(home_security_df)}\")\n",
    "print(f\"Columns: {', '.join(solution_df.columns)}\")\n",
    "\n",
    "print(f\"\\nDataset Quality Characteristics:\")\n",
    "print(f\"- Realistic operational issues across all sectors\")\n",
    "print(f\"- Business-smart solutions with revenue optimization\")\n",
    "print(f\"- Cost-effective escalation hierarchy (DIY → Remote → Technician)\")\n",
    "print(f\"- Cross-selling and upselling opportunities embedded\")\n",
    "print(f\"- Diverse customer segments and use cases\")\n",
    "print(f\"- Actionable solutions within business capabilities\")\n",
    "\n",
    "print(f\"\\nSample from each sector:\")\n",
    "sample_df = solution_df.sample(15)\n",
    "for idx, row in sample_df.iterrows():\n",
    "    print(f\"\\n[{row['sector'].upper()}] Problem: {row['problem'][:100]}...\")\n",
    "    print(f\"Solution: {row['solution'][:100]}...\")\n",
    "\n",
    "print(f\"\\nFinal dataset shape: {solution_df.shape}\")\n",
    "print(f\"Ready for ML training and business intelligence analysis.\")"
   ]
  },
  {
   "cell_type": "code",
   "execution_count": 24,
   "id": "6bf57680",
   "metadata": {},
   "outputs": [
    {
     "data": {
      "application/vnd.microsoft.datawrangler.viewer.v0+json": {
       "columns": [
        {
         "name": "index",
         "rawType": "int64",
         "type": "integer"
        },
        {
         "name": "problem",
         "rawType": "object",
         "type": "string"
        },
        {
         "name": "solution",
         "rawType": "object",
         "type": "string"
        },
        {
         "name": "sector",
         "rawType": "object",
         "type": "string"
        }
       ],
       "ref": "cbbb47ee-521c-42b2-823b-fb1158e7c942",
       "rows": [
        [
         "92",
         "Customer with mobility limitations requiring voice-controlled internet management and hands-free technology integration",
         "Install Standard_100 with voice control integration and accessibility features. Add smart home automation for independent living support. Include assistive technology consultation and specialized equipment configuration.",
         "internet"
        ],
        [
         "77",
         "Customer experiencing billing confusion due to promotional pricing expiration and hidden fees, seeking transparent pricing and simplified service management",
         "Convert to simplified Premium_Gig with transparent lifetime pricing and no promotional periods. Add billing protection guarantee and fee transparency. Include customer advocacy services and billing education consultation.",
         "internet"
        ],
        [
         "174",
         "Smart doorbell temperature sensor reading inaccurately, displaying wrong outdoor temperature affecting weather-based automation and environmental monitoring features",
         "Guide customer through temperature calibration and environmental sensor testing via app weather section. Remotely compare readings with local weather data and adjust calibration offset. If sensor hardware failing, replace doorbell at 25% discount or upgrade to multi-sensor model with enhanced accuracy.",
         "home_security"
        ],
        [
         "101",
         "Customer with electric vehicle requiring smart charging integration and energy management through internet-connected systems",
         "Upgrade to Standard_100 with smart grid integration and energy management optimization. Add electric vehicle charging coordination and renewable energy monitoring. Include sustainable technology consultation and smart energy setup.",
         "internet"
        ],
        [
         "130",
         "Window sensor adhesive failing causing sensor to fall off window frame, device no longer properly monitoring window opening/closing status for security coverage",
         "Send replacement mounting kit with improved adhesive and installation guide at no cost. Provide video tutorial for proper surface preparation and mounting technique. If window surface incompatible with adhesive mounting, offer screw-mount conversion kit for $15 or magnetic sensor alternative.",
         "home_security"
        ],
        [
         "121",
         "Security panel randomly beeping every few hours with no apparent trigger, disrupting household routines and causing confusion about system status, panel 18 months old",
         "Guide customer through diagnostic beep code identification via user manual and app troubleshooting. Remotely check system logs and sensor connectivity. Update panel firmware if needed. If hardware malfunction confirmed, replace panel at 30% discount ($175) with data transfer service included.",
         "home_security"
        ],
        [
         "1",
         "Family of 4 with individual plans totaling $180/month, teenagers exceeding data causing family disputes, parents wanting better control over usage and costs while maintaining connectivity for all members",
         "Convert to 4-line family plan $120/month saving $60 monthly. Add parental controls and usage monitoring tools. Include family safety features with location sharing. Cross-sell home security system with family monitoring at $65/month for comprehensive family protection.",
         "mobile"
        ],
        [
         "135",
         "Security panel touchscreen becoming less responsive requiring firm pressure for operation, affecting daily system interaction and user experience, panel 16 months old",
         "Guide customer through screen calibration process and sensitivity adjustment via settings menu. Provide touchscreen maintenance tips and cleaning instructions. If touchscreen hardware failing, offer panel replacement at 30% discount ($175) with screen protection film included.",
         "home_security"
        ],
        [
         "127",
         "Outdoor camera producing condensation inside lens housing during humid weather, creating foggy images and reduced visibility for security monitoring",
         "Provide humidity prevention maintenance guide with desiccant pack installation instructions. Remotely check if camera housing properly sealed via diagnostic report. Send weatherproofing upgrade kit for $20 or offer replacement with improved weather sealing at 30% discount if current camera not repairable.",
         "home_security"
        ],
        [
         "149",
         "Security panel backup battery not holding charge properly, system shutting down quickly during power outages instead of maintaining 24-hour backup capability",
         "Guide customer through battery health test and calibration procedure via panel diagnostics. Remotely check charging system and battery status. Replace backup battery at no cost if under 2 years old, otherwise offer battery upgrade with extended capacity at 40% discount.",
         "home_security"
        ],
        [
         "142",
         "Security panel alarm siren volume insufficient for large home, family not hearing alarm activation during nighttime or when in distant rooms from panel location",
         "Provide siren volume adjustment guide and acoustic testing instructions via app. Remotely maximize siren output and test audio distribution. Add wireless siren extenders for $45 each or upgrade to multi-zone alarm system with distributed sirens throughout property.",
         "home_security"
        ],
        [
         "157",
         "Smart lock keypad backlight failing intermittently, making code entry difficult during evening hours and affecting accessibility for family members",
         "Guide customer through backlight settings and power saving mode adjustment via lock configuration. Remotely test lighting system and brightness controls. If LED module failing, replace lock at 30% discount ($42) or upgrade to always-on illuminated keypad model.",
         "home_security"
        ],
        [
         "141",
         "Outdoor camera recording storage filling up quickly due to frequent motion detection, customer missing important events due to storage limitations and automatic deletion",
         "Guide customer through motion sensitivity adjustment and recording schedule optimization via app settings. Remotely configure intelligent recording rules and storage management. Offer cloud storage upgrade plan or local storage expansion with NVR system at discounted bundle pricing.",
         "home_security"
        ],
        [
         "113",
         "Customer requiring internet for home-based translation business with international video calls and document sharing",
         "Upgrade to business Premium_Gig with international optimization and professional translation tools. Add multilingual communication platforms and document management. Include translation business consultation and international connectivity.",
         "internet"
        ],
        [
         "87",
         "Customer requiring specialized internet for cryptocurrency operations needing enhanced security and reliable connectivity for trading",
         "Install business Premium_Gig with cryptocurrency-specific security and dedicated bandwidth. Add enhanced cybersecurity monitoring and blockchain optimization. Include business equipment and financial technology consultation.",
         "internet"
        ],
        [
         "60",
         "Customer requiring enhanced GPS and location services for outdoor recreation and adventure activities in remote areas",
         "Upgrade to outdoor adventure plan with enhanced GPS and emergency location features. Add satellite communication backup for remote area connectivity. Include adventure safety features and emergency rescue coordination. Provide outdoor equipment integration and adventure community access.",
         "mobile"
        ],
        [
         "129",
         "Security panel WiFi connection dropping frequently requiring manual reconnection, affecting system monitoring and remote access capabilities, panel installed 8 months ago",
         "Provide WiFi troubleshooting guide and network optimization tips through app support section. Remotely test connection stability and adjust WiFi settings. If WiFi module failing, offer panel replacement at 35% discount ($162.50) or upgrade to dual-connectivity panel with cellular backup.",
         "home_security"
        ],
        [
         "91",
         "Customer requiring enhanced privacy and data protection for sensitive personal and business communications",
         "Upgrade to business Premium_Gig with advanced encryption and privacy protection. Add VPN services and secure communication tools. Include privacy consultation and secure network configuration.",
         "internet"
        ],
        [
         "18",
         "Customer experiencing data throttling during streaming affecting family entertainment, kids unable to complete homework requiring online resources",
         "Upgrade to truly unlimited plan with no throttling guarantees. Add home internet with dedicated streaming bandwidth. Include educational content prioritization and family usage management. Provide entertainment streaming optimization and parental controls.",
         "mobile"
        ],
        [
         "118",
         "Motion sensors detecting 65-pound dog despite pet immunity settings, triggering 15-20 false alarms daily, customer considering system disconnection due to alert fatigue",
         "Provide step-by-step pet zone configuration tutorial through mobile app with live chat support. Remotely adjust sensitivity settings and detection patterns. If unsuccessful, offer pet-immune sensor upgrade at 50% discount ($15 each) or add indoor camera with AI pet detection for visual verification at bundle price $150.",
         "home_security"
        ]
       ],
       "shape": {
        "columns": 3,
        "rows": 20
       }
      },
      "text/html": [
       "<div>\n",
       "<style scoped>\n",
       "    .dataframe tbody tr th:only-of-type {\n",
       "        vertical-align: middle;\n",
       "    }\n",
       "\n",
       "    .dataframe tbody tr th {\n",
       "        vertical-align: top;\n",
       "    }\n",
       "\n",
       "    .dataframe thead th {\n",
       "        text-align: right;\n",
       "    }\n",
       "</style>\n",
       "<table border=\"1\" class=\"dataframe\">\n",
       "  <thead>\n",
       "    <tr style=\"text-align: right;\">\n",
       "      <th></th>\n",
       "      <th>problem</th>\n",
       "      <th>solution</th>\n",
       "      <th>sector</th>\n",
       "    </tr>\n",
       "  </thead>\n",
       "  <tbody>\n",
       "    <tr>\n",
       "      <th>92</th>\n",
       "      <td>Customer with mobility limitations requiring v...</td>\n",
       "      <td>Install Standard_100 with voice control integr...</td>\n",
       "      <td>internet</td>\n",
       "    </tr>\n",
       "    <tr>\n",
       "      <th>77</th>\n",
       "      <td>Customer experiencing billing confusion due to...</td>\n",
       "      <td>Convert to simplified Premium_Gig with transpa...</td>\n",
       "      <td>internet</td>\n",
       "    </tr>\n",
       "    <tr>\n",
       "      <th>174</th>\n",
       "      <td>Smart doorbell temperature sensor reading inac...</td>\n",
       "      <td>Guide customer through temperature calibration...</td>\n",
       "      <td>home_security</td>\n",
       "    </tr>\n",
       "    <tr>\n",
       "      <th>101</th>\n",
       "      <td>Customer with electric vehicle requiring smart...</td>\n",
       "      <td>Upgrade to Standard_100 with smart grid integr...</td>\n",
       "      <td>internet</td>\n",
       "    </tr>\n",
       "    <tr>\n",
       "      <th>130</th>\n",
       "      <td>Window sensor adhesive failing causing sensor ...</td>\n",
       "      <td>Send replacement mounting kit with improved ad...</td>\n",
       "      <td>home_security</td>\n",
       "    </tr>\n",
       "    <tr>\n",
       "      <th>121</th>\n",
       "      <td>Security panel randomly beeping every few hour...</td>\n",
       "      <td>Guide customer through diagnostic beep code id...</td>\n",
       "      <td>home_security</td>\n",
       "    </tr>\n",
       "    <tr>\n",
       "      <th>1</th>\n",
       "      <td>Family of 4 with individual plans totaling $18...</td>\n",
       "      <td>Convert to 4-line family plan $120/month savin...</td>\n",
       "      <td>mobile</td>\n",
       "    </tr>\n",
       "    <tr>\n",
       "      <th>135</th>\n",
       "      <td>Security panel touchscreen becoming less respo...</td>\n",
       "      <td>Guide customer through screen calibration proc...</td>\n",
       "      <td>home_security</td>\n",
       "    </tr>\n",
       "    <tr>\n",
       "      <th>127</th>\n",
       "      <td>Outdoor camera producing condensation inside l...</td>\n",
       "      <td>Provide humidity prevention maintenance guide ...</td>\n",
       "      <td>home_security</td>\n",
       "    </tr>\n",
       "    <tr>\n",
       "      <th>149</th>\n",
       "      <td>Security panel backup battery not holding char...</td>\n",
       "      <td>Guide customer through battery health test and...</td>\n",
       "      <td>home_security</td>\n",
       "    </tr>\n",
       "    <tr>\n",
       "      <th>142</th>\n",
       "      <td>Security panel alarm siren volume insufficient...</td>\n",
       "      <td>Provide siren volume adjustment guide and acou...</td>\n",
       "      <td>home_security</td>\n",
       "    </tr>\n",
       "    <tr>\n",
       "      <th>157</th>\n",
       "      <td>Smart lock keypad backlight failing intermitte...</td>\n",
       "      <td>Guide customer through backlight settings and ...</td>\n",
       "      <td>home_security</td>\n",
       "    </tr>\n",
       "    <tr>\n",
       "      <th>141</th>\n",
       "      <td>Outdoor camera recording storage filling up qu...</td>\n",
       "      <td>Guide customer through motion sensitivity adju...</td>\n",
       "      <td>home_security</td>\n",
       "    </tr>\n",
       "    <tr>\n",
       "      <th>113</th>\n",
       "      <td>Customer requiring internet for home-based tra...</td>\n",
       "      <td>Upgrade to business Premium_Gig with internati...</td>\n",
       "      <td>internet</td>\n",
       "    </tr>\n",
       "    <tr>\n",
       "      <th>87</th>\n",
       "      <td>Customer requiring specialized internet for cr...</td>\n",
       "      <td>Install business Premium_Gig with cryptocurren...</td>\n",
       "      <td>internet</td>\n",
       "    </tr>\n",
       "    <tr>\n",
       "      <th>60</th>\n",
       "      <td>Customer requiring enhanced GPS and location s...</td>\n",
       "      <td>Upgrade to outdoor adventure plan with enhance...</td>\n",
       "      <td>mobile</td>\n",
       "    </tr>\n",
       "    <tr>\n",
       "      <th>129</th>\n",
       "      <td>Security panel WiFi connection dropping freque...</td>\n",
       "      <td>Provide WiFi troubleshooting guide and network...</td>\n",
       "      <td>home_security</td>\n",
       "    </tr>\n",
       "    <tr>\n",
       "      <th>91</th>\n",
       "      <td>Customer requiring enhanced privacy and data p...</td>\n",
       "      <td>Upgrade to business Premium_Gig with advanced ...</td>\n",
       "      <td>internet</td>\n",
       "    </tr>\n",
       "    <tr>\n",
       "      <th>18</th>\n",
       "      <td>Customer experiencing data throttling during s...</td>\n",
       "      <td>Upgrade to truly unlimited plan with no thrott...</td>\n",
       "      <td>mobile</td>\n",
       "    </tr>\n",
       "    <tr>\n",
       "      <th>118</th>\n",
       "      <td>Motion sensors detecting 65-pound dog despite ...</td>\n",
       "      <td>Provide step-by-step pet zone configuration tu...</td>\n",
       "      <td>home_security</td>\n",
       "    </tr>\n",
       "  </tbody>\n",
       "</table>\n",
       "</div>"
      ],
      "text/plain": [
       "                                               problem  \\\n",
       "92   Customer with mobility limitations requiring v...   \n",
       "77   Customer experiencing billing confusion due to...   \n",
       "174  Smart doorbell temperature sensor reading inac...   \n",
       "101  Customer with electric vehicle requiring smart...   \n",
       "130  Window sensor adhesive failing causing sensor ...   \n",
       "121  Security panel randomly beeping every few hour...   \n",
       "1    Family of 4 with individual plans totaling $18...   \n",
       "135  Security panel touchscreen becoming less respo...   \n",
       "127  Outdoor camera producing condensation inside l...   \n",
       "149  Security panel backup battery not holding char...   \n",
       "142  Security panel alarm siren volume insufficient...   \n",
       "157  Smart lock keypad backlight failing intermitte...   \n",
       "141  Outdoor camera recording storage filling up qu...   \n",
       "113  Customer requiring internet for home-based tra...   \n",
       "87   Customer requiring specialized internet for cr...   \n",
       "60   Customer requiring enhanced GPS and location s...   \n",
       "129  Security panel WiFi connection dropping freque...   \n",
       "91   Customer requiring enhanced privacy and data p...   \n",
       "18   Customer experiencing data throttling during s...   \n",
       "118  Motion sensors detecting 65-pound dog despite ...   \n",
       "\n",
       "                                              solution         sector  \n",
       "92   Install Standard_100 with voice control integr...       internet  \n",
       "77   Convert to simplified Premium_Gig with transpa...       internet  \n",
       "174  Guide customer through temperature calibration...  home_security  \n",
       "101  Upgrade to Standard_100 with smart grid integr...       internet  \n",
       "130  Send replacement mounting kit with improved ad...  home_security  \n",
       "121  Guide customer through diagnostic beep code id...  home_security  \n",
       "1    Convert to 4-line family plan $120/month savin...         mobile  \n",
       "135  Guide customer through screen calibration proc...  home_security  \n",
       "127  Provide humidity prevention maintenance guide ...  home_security  \n",
       "149  Guide customer through battery health test and...  home_security  \n",
       "142  Provide siren volume adjustment guide and acou...  home_security  \n",
       "157  Guide customer through backlight settings and ...  home_security  \n",
       "141  Guide customer through motion sensitivity adju...  home_security  \n",
       "113  Upgrade to business Premium_Gig with internati...       internet  \n",
       "87   Install business Premium_Gig with cryptocurren...       internet  \n",
       "60   Upgrade to outdoor adventure plan with enhance...         mobile  \n",
       "129  Provide WiFi troubleshooting guide and network...  home_security  \n",
       "91   Upgrade to business Premium_Gig with advanced ...       internet  \n",
       "18   Upgrade to truly unlimited plan with no thrott...         mobile  \n",
       "118  Provide step-by-step pet zone configuration tu...  home_security  "
      ]
     },
     "execution_count": 24,
     "metadata": {},
     "output_type": "execute_result"
    }
   ],
   "source": [
    "solution_df.sample(20)"
   ]
  },
  {
   "cell_type": "markdown",
   "id": "4054364b",
   "metadata": {},
   "source": [
    "- Uploading to as a bigquery table\n",
    "- Then we will create an embedding column for the problems to which we will do similarity search for more personal solutions"
   ]
  },
  {
   "cell_type": "code",
   "execution_count": 25,
   "id": "accfd9b4",
   "metadata": {},
   "outputs": [
    {
     "name": "stdout",
     "output_type": "stream",
     "text": [
      "✅ Uploaded 175 rows to BigQuery!\n"
     ]
    }
   ],
   "source": [
    "job = client.load_table_from_dataframe(solution_df, \"trilink-472019.database.business_solution_raw\")\n",
    "job.result()\n",
    "print(f\"✅ Uploaded {len(solution_df)} rows to BigQuery!\")"
   ]
  },
  {
   "cell_type": "code",
   "execution_count": null,
   "id": "d51e564e",
   "metadata": {},
   "outputs": [],
   "source": [
    "\n",
    "# %%bigquery\n",
    "\n",
    "\n",
    "# CREATE OR REPLACE MODEL `trilink-471315.database.text_embedding_005_model`\n",
    "# REMOTE WITH CONNECTION `us.vertex-ai-connection`\n",
    "# OPTIONS(ENDPOINT = 'text-embedding-005');"
   ]
  },
  {
   "cell_type": "markdown",
   "id": "13fc5765",
   "metadata": {},
   "source": [
    "- Create the embeddings for the problems into a table for vector search"
   ]
  },
  {
   "cell_type": "code",
   "execution_count": 26,
   "id": "9bbd40c1",
   "metadata": {},
   "outputs": [
    {
     "data": {
      "application/vnd.jupyter.widget-view+json": {
       "model_id": "6b59b84fee454b95a7c461d222f5acea",
       "version_major": 2,
       "version_minor": 0
      },
      "text/plain": [
       "Query is running:   0%|          |"
      ]
     },
     "metadata": {},
     "output_type": "display_data"
    },
    {
     "data": {
      "application/vnd.microsoft.datawrangler.viewer.v0+json": {
       "columns": [
        {
         "name": "index",
         "rawType": "int64",
         "type": "integer"
        }
       ],
       "ref": "0c88c152-640a-48a0-a2b5-ccb6a445df13",
       "rows": [],
       "shape": {
        "columns": 0,
        "rows": 0
       }
      },
      "text/html": [
       "<div>\n",
       "<style scoped>\n",
       "    .dataframe tbody tr th:only-of-type {\n",
       "        vertical-align: middle;\n",
       "    }\n",
       "\n",
       "    .dataframe tbody tr th {\n",
       "        vertical-align: top;\n",
       "    }\n",
       "\n",
       "    .dataframe thead th {\n",
       "        text-align: right;\n",
       "    }\n",
       "</style>\n",
       "<table border=\"1\" class=\"dataframe\">\n",
       "  <thead>\n",
       "    <tr style=\"text-align: right;\">\n",
       "      <th></th>\n",
       "    </tr>\n",
       "  </thead>\n",
       "  <tbody>\n",
       "  </tbody>\n",
       "</table>\n",
       "</div>"
      ],
      "text/plain": [
       "Empty DataFrame\n",
       "Columns: []\n",
       "Index: []"
      ]
     },
     "execution_count": 26,
     "metadata": {},
     "output_type": "execute_result"
    }
   ],
   "source": [
    "%%bigquery\n",
    "CREATE OR REPLACE TABLE `trilink-472019.database.business_solution_embeddings` AS\n",
    "SELECT \n",
    "  problem,\n",
    "  solution,\n",
    "  sector,\n",
    "  (SELECT ml_generate_embedding_result \n",
    "   FROM ML.GENERATE_EMBEDDING(\n",
    "     MODEL `trilink-472019.database.text_embedding_005_model`,\n",
    "     (SELECT problem AS content),\n",
    "     STRUCT(TRUE AS flatten_json_output)\n",
    "   )\n",
    "  ) AS problem_embedding\n",
    "FROM `trilink-472019.database.business_solution_raw`;"
   ]
  },
  {
   "cell_type": "markdown",
   "id": "5289ee91",
   "metadata": {},
   "source": [
    "- test the solutions embedding vector search"
   ]
  },
  {
   "cell_type": "code",
   "execution_count": 27,
   "id": "4a39a4cb",
   "metadata": {},
   "outputs": [
    {
     "data": {
      "application/vnd.jupyter.widget-view+json": {
       "model_id": "18d2713d6f8140d3a6c3a0ab5a86496f",
       "version_major": 2,
       "version_minor": 0
      },
      "text/plain": [
       "Query is running:   0%|          |"
      ]
     },
     "metadata": {},
     "output_type": "display_data"
    },
    {
     "data": {
      "application/vnd.jupyter.widget-view+json": {
       "model_id": "0bb52b8260684809ad7ea9a3708766c9",
       "version_major": 2,
       "version_minor": 0
      },
      "text/plain": [
       "Downloading:   0%|          |"
      ]
     },
     "metadata": {},
     "output_type": "display_data"
    },
    {
     "data": {
      "application/vnd.microsoft.datawrangler.viewer.v0+json": {
       "columns": [
        {
         "name": "index",
         "rawType": "int64",
         "type": "integer"
        },
        {
         "name": "matched_problem",
         "rawType": "object",
         "type": "string"
        },
        {
         "name": "recommended_solution",
         "rawType": "object",
         "type": "string"
        },
        {
         "name": "sector",
         "rawType": "object",
         "type": "string"
        },
        {
         "name": "distance",
         "rawType": "float64",
         "type": "float"
        }
       ],
       "ref": "f4f49c02-7baa-4416-823f-bf695e4781ef",
       "rows": [
        [
         "0",
         "Customer with Limited_2GB plan hitting data limit by day 15 monthly, receiving $40-60 overage charges, working from home 3 days per week requiring video calls, considering competitor unlimited plans",
         "Upgrade to Unlimited_Standard $69/month eliminating overages and saving $25/month compared to current plan plus average overages. Bundle with home internet 100Mbps $49/month for reliable work-from-home setup. Offer first 3 months unlimited at 50% off and waive current overage charges as goodwill.",
         "mobile",
         "0.11905070620060654"
        ],
        [
         "1",
         "Remote worker experiencing call drops and slow data during peak hours affecting client calls, current plan throttles after 50GB, productivity suffering during important projects",
         "Upgrade to business unlimited with priority data and no throttling. Add mobile hotspot device for backup connectivity. Include business productivity tools and expense tracking. Cross-sell business-grade home internet for primary work connection.",
         "mobile",
         "0.22775522971024498"
        ],
        [
         "2",
         "Customer using mobile hotspot as primary internet source, experiencing slow speeds and data limitations affecting work and family connectivity needs",
         "Upgrade to unlimited business plan with dedicated hotspot device and unlimited data. Add home internet installation for primary connectivity. Include mobile office setup and backup connectivity solutions. Provide work-from-home optimization consultation.",
         "mobile",
         "0.22975840065761166"
        ]
       ],
       "shape": {
        "columns": 4,
        "rows": 3
       }
      },
      "text/html": [
       "<div>\n",
       "<style scoped>\n",
       "    .dataframe tbody tr th:only-of-type {\n",
       "        vertical-align: middle;\n",
       "    }\n",
       "\n",
       "    .dataframe tbody tr th {\n",
       "        vertical-align: top;\n",
       "    }\n",
       "\n",
       "    .dataframe thead th {\n",
       "        text-align: right;\n",
       "    }\n",
       "</style>\n",
       "<table border=\"1\" class=\"dataframe\">\n",
       "  <thead>\n",
       "    <tr style=\"text-align: right;\">\n",
       "      <th></th>\n",
       "      <th>matched_problem</th>\n",
       "      <th>recommended_solution</th>\n",
       "      <th>sector</th>\n",
       "      <th>distance</th>\n",
       "    </tr>\n",
       "  </thead>\n",
       "  <tbody>\n",
       "    <tr>\n",
       "      <th>0</th>\n",
       "      <td>Customer with Limited_2GB plan hitting data li...</td>\n",
       "      <td>Upgrade to Unlimited_Standard $69/month elimin...</td>\n",
       "      <td>mobile</td>\n",
       "      <td>0.119051</td>\n",
       "    </tr>\n",
       "    <tr>\n",
       "      <th>1</th>\n",
       "      <td>Remote worker experiencing call drops and slow...</td>\n",
       "      <td>Upgrade to business unlimited with priority da...</td>\n",
       "      <td>mobile</td>\n",
       "      <td>0.227755</td>\n",
       "    </tr>\n",
       "    <tr>\n",
       "      <th>2</th>\n",
       "      <td>Customer using mobile hotspot as primary inter...</td>\n",
       "      <td>Upgrade to unlimited business plan with dedica...</td>\n",
       "      <td>mobile</td>\n",
       "      <td>0.229758</td>\n",
       "    </tr>\n",
       "  </tbody>\n",
       "</table>\n",
       "</div>"
      ],
      "text/plain": [
       "                                     matched_problem  \\\n",
       "0  Customer with Limited_2GB plan hitting data li...   \n",
       "1  Remote worker experiencing call drops and slow...   \n",
       "2  Customer using mobile hotspot as primary inter...   \n",
       "\n",
       "                                recommended_solution  sector  distance  \n",
       "0  Upgrade to Unlimited_Standard $69/month elimin...  mobile  0.119051  \n",
       "1  Upgrade to business unlimited with priority da...  mobile  0.227755  \n",
       "2  Upgrade to unlimited business plan with dedica...  mobile  0.229758  "
      ]
     },
     "execution_count": 27,
     "metadata": {},
     "output_type": "execute_result"
    }
   ],
   "source": [
    "\n",
    "%%bigquery\n",
    "\n",
    "WITH closest_match AS (\n",
    "  SELECT \n",
    "    vs.base.problem AS matched_problem,\n",
    "    vs.base.solution AS recommended_solution,\n",
    "    vs.base.sector AS sector,\n",
    "    vs.distance\n",
    "  FROM VECTOR_SEARCH(\n",
    "    TABLE `trilink-472019.database.business_solution_embeddings`,\n",
    "    'problem_embedding',\n",
    "    (\n",
    "      SELECT ml_generate_embedding_result AS query_embedding\n",
    "      FROM ML.GENERATE_EMBEDDING(\n",
    "        MODEL `trilink-472019.database.text_embedding_005_model`,\n",
    "        (SELECT \"Customer experiencing chronic data insufficiency with Limited_2GB plan and multiple data overages\" AS content)\n",
    "      )\n",
    "    ),\n",
    "    top_k => 3,\n",
    "    distance_type => 'COSINE'\n",
    "  ) AS vs\n",
    ")\n",
    "SELECT \n",
    "  matched_problem,\n",
    "  recommended_solution,\n",
    "  sector,\n",
    "  distance\n",
    "FROM closest_match;"
   ]
  },
  {
   "cell_type": "code",
   "execution_count": null,
   "id": "644223e5",
   "metadata": {},
   "outputs": [
    {
     "name": "stdout",
     "output_type": "stream",
     "text": [
      "Executing query with job ID: e65db956-d0a6-4f07-8383-5f5f3b92fc1a\n",
      "Query executing: 0.90s"
     ]
    },
    {
     "name": "stderr",
     "output_type": "stream",
     "text": [
      "\n",
      "ERROR:\n",
      " 400 Field name content does not exist in STRUCT<query_embedding ARRAY<FLOAT64>> at [6:14]; reason: invalidQuery, location: query, message: Field name content does not exist in STRUCT<query_embedding ARRAY<FLOAT64>> at [6:14]\n",
      "\n",
      "Location: US\n",
      "Job ID: e65db956-d0a6-4f07-8383-5f5f3b92fc1a\n",
      "\n"
     ]
    }
   ],
   "source": [
    "\n",
    "%%bigquery\n",
    "\n",
    "WITH closest_match AS (\n",
    "  SELECT \n",
    "    vs.base.problem AS matched_problem,\n",
    "    vs.base.solution AS recommended_solution,\n",
    "    vs.base.sector AS sector,\n",
    "    vs.query.content,\n",
    "    vs.distance\n",
    "  FROM VECTOR_SEARCH(\n",
    "    TABLE `trilink-472019.database.business_solution_embeddings`,\n",
    "    'problem_embedding',\n",
    "    (\n",
    "      SELECT ml_generate_embedding_result AS query_embedding\n",
    "      FROM ML.GENERATE_EMBEDDING(\n",
    "        MODEL `trilink-472019.database.text_embedding_005_model`,\n",
    "        (SELECT \"My outdoor camera is getting cluttered and the video is not clear\" AS content)\n",
    "      )\n",
    "    ),\n",
    "    top_k => 3,\n",
    "    distance_type => 'COSINE'\n",
    "  ) AS vs\n",
    ")\n",
    "SELECT\n",
    "    content,\n",
    "  matched_problem,\n",
    "  recommended_solution,\n",
    "  sector,\n",
    "  distance\n",
    "FROM closest_match;"
   ]
  },
  {
   "cell_type": "markdown",
   "id": "a68b14a0",
   "metadata": {},
   "source": [
    "#### Create the Technical Issue Solution Table for ADK tool base for Technician/Customer Solution Assitance"
   ]
  },
  {
   "cell_type": "code",
   "execution_count": 3,
   "id": "d4c30f76",
   "metadata": {},
   "outputs": [
    {
     "name": "stdout",
     "output_type": "stream",
     "text": [
      "Successfully created DataFrame with shape: (100, 3)\n",
      "Sample of the dataset:\n"
     ]
    },
    {
     "data": {
      "application/vnd.microsoft.datawrangler.viewer.v0+json": {
       "columns": [
        {
         "name": "index",
         "rawType": "int64",
         "type": "integer"
        },
        {
         "name": "problem_summary",
         "rawType": "object",
         "type": "string"
        },
        {
         "name": "solution_steps",
         "rawType": "object",
         "type": "string"
        },
        {
         "name": "technician_notes",
         "rawType": "object",
         "type": "string"
        }
       ],
       "ref": "1b0ca54c-0bbc-4b12-a822-fc2b1680b392",
       "rows": [
        [
         "0",
         "trilink Command Panel shows 'System Low Battery' after power outage.",
         "1. Verified AC power was restored and the outlet was functional.\n2. Opened the main control panel casing by unscrewing the top screw and releasing the side tabs.\n3. Inspected the 12V backup battery connections. The black and red leads were secure.\n4. Used a multimeter to test the battery voltage. The battery read 10.2V under load, which is below the required threshold.\n5. Disconnected the old battery and replaced it with a new, compatible 12V 7Ah sealed lead-acid battery.\n6. Closed the panel and confirmed the 'System Low Battery' alert cleared within 5 minutes of reconnecting AC power.\n7. Ran a full system test from the panel to ensure all components were communicating properly.",
         "The original backup battery was over 5 years old, well past its expected service life. Advised the customer that this is a routine maintenance item and should be replaced every 3-5 years to ensure system reliability during power failures."
        ],
        [
         "1",
         "trilink Pulse Gateway is offline. Customer cannot access system via app.",
         "1. Confirmed customer's home internet was working by connecting a laptop to their router.\n2. Checked the Ethernet cable connecting the trilink Pulse Gateway to the router. Reseated the cable at both ends.\n3. Power cycled the trilink Pulse Gateway by unplugging its power adapter for 60 seconds and plugging it back in.\n4. Observed the gateway's status lights. The 'Power' and 'Internet' lights turned solid green after the reboot.\n5. Asked the customer to log out and log back into their trilink Pulse app.\n6. Verified the customer could now see system status and control devices remotely.",
         "The gateway had become unresponsive, likely due to a network glitch or a minor power fluctuation. A simple power cycle was sufficient to re-establish its connection to the trilink servers. No hardware replacement was necessary."
        ],
        [
         "2",
         "Cellular Backup Communicator showing 'Comm Fail' or 'No Signal'.",
         "1. Located the cellular communicator module connected to the main panel.\n2. Powered down the entire system (AC power first, then backup battery).\n3. Reseated the cellular communicator module in its slot on the main board.\n4. Checked the external antenna connection to ensure it was securely fastened.\n5. Powered the system back on (battery first, then AC power).\n6. Initiated a communicator test from the installer menu. The test signal was successfully sent and acknowledged.\n7. Verified the 'Comm Fail' message cleared from the keypad.",
         "The communicator module was slightly dislodged, possibly from vibrations. Reseating the hardware restored the connection. In areas with weak cellular reception, relocating the antenna to a higher point or near a window can improve signal strength."
        ],
        [
         "3",
         "System intermittently reports 'AC Power Loss' though power is on.",
         "1. Tested the outlet with a voltmeter; it showed a stable 120V. 2. Inspected the power transformer plug; it was loose in the outlet. 3. Replaced the wall plate with a newer one that had a tighter grip. 4. Secured the transformer with the center screw to prevent it from being dislodged. 5. Monitored power status in the diagnostic menu for 10 minutes; status remained stable.",
         "The old wall outlet was worn, causing the heavy transformer to lose contact. Securing the transformer is a simple step that prevents future nuisance alerts."
        ],
        [
         "4",
         "Keypad shows 'Busy - Standby' for an extended period after arming.",
         "1. Identified a large number of Z-Wave devices (40+) on the system. 2. Ran a Z-Wave network rediscovery to optimize communication routes. 3. Identified two Z-Wave smart plugs that were offline, creating routing problems. 4. Removed the faulty plugs from the network using the panel's exclusion mode. 5. System arming time returned to normal (under 10 seconds).",
         "Z-Wave network health is critical for system performance. 'Busy' status often points to communication delays caused by offline or failing devices. Regular network maintenance is recommended for large systems."
        ]
       ],
       "shape": {
        "columns": 3,
        "rows": 5
       }
      },
      "text/html": [
       "<div>\n",
       "<style scoped>\n",
       "    .dataframe tbody tr th:only-of-type {\n",
       "        vertical-align: middle;\n",
       "    }\n",
       "\n",
       "    .dataframe tbody tr th {\n",
       "        vertical-align: top;\n",
       "    }\n",
       "\n",
       "    .dataframe thead th {\n",
       "        text-align: right;\n",
       "    }\n",
       "</style>\n",
       "<table border=\"1\" class=\"dataframe\">\n",
       "  <thead>\n",
       "    <tr style=\"text-align: right;\">\n",
       "      <th></th>\n",
       "      <th>problem_summary</th>\n",
       "      <th>solution_steps</th>\n",
       "      <th>technician_notes</th>\n",
       "    </tr>\n",
       "  </thead>\n",
       "  <tbody>\n",
       "    <tr>\n",
       "      <th>0</th>\n",
       "      <td>trilink Command Panel shows 'System Low Batter...</td>\n",
       "      <td>1. Verified AC power was restored and the outl...</td>\n",
       "      <td>The original backup battery was over 5 years o...</td>\n",
       "    </tr>\n",
       "    <tr>\n",
       "      <th>1</th>\n",
       "      <td>trilink Pulse Gateway is offline. Customer can...</td>\n",
       "      <td>1. Confirmed customer's home internet was work...</td>\n",
       "      <td>The gateway had become unresponsive, likely du...</td>\n",
       "    </tr>\n",
       "    <tr>\n",
       "      <th>2</th>\n",
       "      <td>Cellular Backup Communicator showing 'Comm Fai...</td>\n",
       "      <td>1. Located the cellular communicator module co...</td>\n",
       "      <td>The communicator module was slightly dislodged...</td>\n",
       "    </tr>\n",
       "    <tr>\n",
       "      <th>3</th>\n",
       "      <td>System intermittently reports 'AC Power Loss' ...</td>\n",
       "      <td>1. Tested the outlet with a voltmeter; it show...</td>\n",
       "      <td>The old wall outlet was worn, causing the heav...</td>\n",
       "    </tr>\n",
       "    <tr>\n",
       "      <th>4</th>\n",
       "      <td>Keypad shows 'Busy - Standby' for an extended ...</td>\n",
       "      <td>1. Identified a large number of Z-Wave devices...</td>\n",
       "      <td>Z-Wave network health is critical for system p...</td>\n",
       "    </tr>\n",
       "  </tbody>\n",
       "</table>\n",
       "</div>"
      ],
      "text/plain": [
       "                                     problem_summary  \\\n",
       "0  trilink Command Panel shows 'System Low Batter...   \n",
       "1  trilink Pulse Gateway is offline. Customer can...   \n",
       "2  Cellular Backup Communicator showing 'Comm Fai...   \n",
       "3  System intermittently reports 'AC Power Loss' ...   \n",
       "4  Keypad shows 'Busy - Standby' for an extended ...   \n",
       "\n",
       "                                      solution_steps  \\\n",
       "0  1. Verified AC power was restored and the outl...   \n",
       "1  1. Confirmed customer's home internet was work...   \n",
       "2  1. Located the cellular communicator module co...   \n",
       "3  1. Tested the outlet with a voltmeter; it show...   \n",
       "4  1. Identified a large number of Z-Wave devices...   \n",
       "\n",
       "                                    technician_notes  \n",
       "0  The original backup battery was over 5 years o...  \n",
       "1  The gateway had become unresponsive, likely du...  \n",
       "2  The communicator module was slightly dislodged...  \n",
       "3  The old wall outlet was worn, causing the heav...  \n",
       "4  Z-Wave network health is critical for system p...  "
      ]
     },
     "execution_count": 3,
     "metadata": {},
     "output_type": "execute_result"
    }
   ],
   "source": [
    "# Corpus of 100 ADT technical problems, solutions, and notes\n",
    "# This data can be loaded into a Pandas DataFrame and then ingested into BigQuery\n",
    "\n",
    "adt_corpus_data = [\n",
    "    # --- Panel & Connectivity Issues (1-10) ---\n",
    "    {\n",
    "        \"problem_summary\": \"ADT Command Panel shows 'System Low Battery' after power outage.\",\n",
    "        \"solution_steps\": \"\"\"1. Verified AC power was restored and the outlet was functional.\n",
    "2. Opened the main control panel casing by unscrewing the top screw and releasing the side tabs.\n",
    "3. Inspected the 12V backup battery connections. The black and red leads were secure.\n",
    "4. Used a multimeter to test the battery voltage. The battery read 10.2V under load, which is below the required threshold.\n",
    "5. Disconnected the old battery and replaced it with a new, compatible 12V 7Ah sealed lead-acid battery.\n",
    "6. Closed the panel and confirmed the 'System Low Battery' alert cleared within 5 minutes of reconnecting AC power.\n",
    "7. Ran a full system test from the panel to ensure all components were communicating properly.\"\"\",\n",
    "        \"technician_notes\": \"The original backup battery was over 5 years old, well past its expected service life. Advised the customer that this is a routine maintenance item and should be replaced every 3-5 years to ensure system reliability during power failures.\"\n",
    "    },\n",
    "    {\n",
    "        \"problem_summary\": \"ADT Pulse Gateway is offline. Customer cannot access system via app.\",\n",
    "        \"solution_steps\": \"\"\"1. Confirmed customer's home internet was working by connecting a laptop to their router.\n",
    "2. Checked the Ethernet cable connecting the ADT Pulse Gateway to the router. Reseated the cable at both ends.\n",
    "3. Power cycled the ADT Pulse Gateway by unplugging its power adapter for 60 seconds and plugging it back in.\n",
    "4. Observed the gateway's status lights. The 'Power' and 'Internet' lights turned solid green after the reboot.\n",
    "5. Asked the customer to log out and log back into their ADT Pulse app.\n",
    "6. Verified the customer could now see system status and control devices remotely.\"\"\",\n",
    "        \"technician_notes\": \"The gateway had become unresponsive, likely due to a network glitch or a minor power fluctuation. A simple power cycle was sufficient to re-establish its connection to the ADT servers. No hardware replacement was necessary.\"\n",
    "    },\n",
    "    {\n",
    "        \"problem_summary\": \"Cellular Backup Communicator showing 'Comm Fail' or 'No Signal'.\",\n",
    "        \"solution_steps\": \"\"\"1. Located the cellular communicator module connected to the main panel.\n",
    "2. Powered down the entire system (AC power first, then backup battery).\n",
    "3. Reseated the cellular communicator module in its slot on the main board.\n",
    "4. Checked the external antenna connection to ensure it was securely fastened.\n",
    "5. Powered the system back on (battery first, then AC power).\n",
    "6. Initiated a communicator test from the installer menu. The test signal was successfully sent and acknowledged.\n",
    "7. Verified the 'Comm Fail' message cleared from the keypad.\"\"\",\n",
    "        \"technician_notes\": \"The communicator module was slightly dislodged, possibly from vibrations. Reseating the hardware restored the connection. In areas with weak cellular reception, relocating the antenna to a higher point or near a window can improve signal strength.\"\n",
    "    },\n",
    "    {\n",
    "        \"problem_summary\": \"System intermittently reports 'AC Power Loss' though power is on.\",\n",
    "        \"solution_steps\": \"1. Tested the outlet with a voltmeter; it showed a stable 120V. 2. Inspected the power transformer plug; it was loose in the outlet. 3. Replaced the wall plate with a newer one that had a tighter grip. 4. Secured the transformer with the center screw to prevent it from being dislodged. 5. Monitored power status in the diagnostic menu for 10 minutes; status remained stable.\",\n",
    "        \"technician_notes\": \"The old wall outlet was worn, causing the heavy transformer to lose contact. Securing the transformer is a simple step that prevents future nuisance alerts.\"\n",
    "    },\n",
    "    {\n",
    "        \"problem_summary\": \"Keypad shows 'Busy - Standby' for an extended period after arming.\",\n",
    "        \"solution_steps\": \"1. Identified a large number of Z-Wave devices (40+) on the system. 2. Ran a Z-Wave network rediscovery to optimize communication routes. 3. Identified two Z-Wave smart plugs that were offline, creating routing problems. 4. Removed the faulty plugs from the network using the panel's exclusion mode. 5. System arming time returned to normal (under 10 seconds).\",\n",
    "        \"technician_notes\": \"Z-Wave network health is critical for system performance. 'Busy' status often points to communication delays caused by offline or failing devices. Regular network maintenance is recommended for large systems.\"\n",
    "    },\n",
    "    {\n",
    "        \"problem_summary\": \"Panel displays 'RF Jam' error.\",\n",
    "        \"solution_steps\": \"1. Asked customer about any new wireless devices in the home (e.g., baby monitors, wireless speakers, new router). 2. Customer had recently installed a new, powerful mesh Wi-Fi system near the main panel. 3. Physically moved the main control panel 10 feet away from the primary mesh router node. 4. Ran a system test. The 'RF Jam' condition cleared. 5. Advised customer on maintaining separation between the security panel and other high-power wireless transmitters.\",\n",
    "        \"technician_notes\": \"RF jamming is caused by a powerful signal overwhelming the security system's receivers. The most common culprit is a new router or other consumer wireless device placed too close to the panel.\"\n",
    "    },\n",
    "    {\n",
    "        \"problem_summary\": \"Keypad beeping with error code '103 Comm Trouble'.\",\n",
    "        \"solution_steps\": \"1. Identified error 103 as a failure of the cellular communicator to check in with the monitoring station. 2. Performed a full system power cycle (AC then battery). 3. Initiated a manual communicator test from the installer menu. The test failed. 4. Noticed a regional cellular service outage was reported by the carrier (AT&T). 5. Advised the customer that the issue was carrier-side and should resolve once the network was restored. 6. Confirmed with the customer the error cleared later that day.\",\n",
    "        \"technician_notes\": \"It is critical to check for carrier outages before replacing hardware for a 'Comm Trouble' error. This saves time and avoids unnecessary equipment swaps.\"\n",
    "    },\n",
    "    {\n",
    "        \"problem_summary\": \"ADT Control Panel time and date are incorrect.\",\n",
    "        \"solution_steps\": \"1. Entered the system's installer programming mode. 2. Navigated to the 'Set System Time & Date' menu. 3. The panel was set to not sync time with the network. 4. Enabled the 'Network Time Sync' option. 5. Forced a communicator test to trigger a sync with the ADT servers. 6. The panel time and date immediately updated to the correct local time. 7. Exited programming mode.\",\n",
    "        \"technician_notes\": \"The panel's clock can drift if network time sync is disabled. Enabling this feature ensures the event log and schedules are always accurate.\"\n",
    "    },\n",
    "    {\n",
    "        \"problem_summary\": \"Customer forgot Master Code and is locked out of programming.\",\n",
    "        \"solution_steps\": \"1. Verified customer identity via security questions with the monitoring station. 2. Performed a direct download to the panel using remote software. 3. Accessed the user management section remotely. 4. Reset the Master User Code to a temporary default (e.g., 1234). 5. Walked the customer through using the temporary code to access the panel. 6. Guided them on how to immediately change the temporary code to a new, secure Master Code of their choosing.\",\n",
    "        \"technician_notes\": \"Master code resets require strict identity verification and remote access by the technician. It cannot be done from the keypad without the original code.\"\n",
    "    },\n",
    "    {\n",
    "        \"problem_summary\": \"System fails to arm, keypad shows 'Device Fault' with no specific sensor listed.\",\n",
    "        \"solution_steps\": \"1. Powered down the system completely (AC and battery). 2. Inspected the panel's main board for any visible signs of damage or loose connections. 3. Checked the expansion module bus; found a zone expander module was not properly seated. 4. Reseated the zone expander module firmly. 5. Powered the system back up. 6. The 'Device Fault' error cleared and the system armed correctly. 7. Tested all zones connected to that expander to confirm functionality.\",\n",
    "        \"technician_notes\": \"A generic 'Device Fault' often points to a problem on the main data bus, like a faulty or poorly connected module (zone expander, cellular unit, etc.), rather than a specific sensor.\"\n",
    "    },\n",
    "\n",
    "    # --- Door & Window Sensor Issues (11-20) ---\n",
    "    {\n",
    "        \"problem_summary\": \"Front door sensor shows 'Open' status even when the door is closed.\",\n",
    "        \"solution_steps\": \"\"\"1. Visually inspected the sensor and magnet alignment on the door and frame. The gap was wider than the recommended 1/4 inch.\n",
    "2. The magnet piece on the door had slipped down due to failing adhesive.\n",
    "3. Removed the old double-sided tape from the magnet.\n",
    "4. Cleaned both the door and magnet surfaces with an alcohol wipe.\n",
    "5. Re-secured the magnet using new, high-bond adhesive tape and two small screws for permanent placement.\n",
    "6. Ensured the alignment marks on the sensor and magnet lined up perfectly with a gap of less than 1/4 inch.\n",
    "7. Opened and closed the door multiple times, confirming the keypad and app correctly reported the status.\"\"\",\n",
    "        \"technician_notes\": \"Adhesive tape can fail over time, especially on doors that are used frequently or exposed to temperature changes. For high-traffic entry points, securing the magnet with screws is the best practice to prevent future misalignment.\"\n",
    "    },\n",
    "    {\n",
    "        \"problem_summary\": \"Customer receives 'Sensor Tamper' alert for a window sensor.\",\n",
    "        \"solution_steps\": \"\"\"1. Inspected the reported window sensor. Found the cover was loose.\n",
    "2. Opened the sensor cover completely.\n",
    "3. Verified the tamper switch (a small spring or button) was not damaged.\n",
    "4. Checked the CR2032 battery to ensure it was correctly seated.\n",
    "5. Snapped the sensor cover back on, making sure it clicked securely into place on all sides.\n",
    "6. Cleared the tamper alert from the main keypad by entering the user code.\n",
    "7. Monitored the system for 5 minutes to ensure the alert did not return.\"\"\",\n",
    "        \"technician_notes\": \"The sensor cover was likely knocked loose during window cleaning. The tamper alert is a security feature to detect unauthorized interference with the device. Ensuring the cover is properly secured resolves the issue.\"\n",
    "    },\n",
    "    {\n",
    "        \"problem_summary\": \"Wireless window sensor in upstairs bedroom is showing 'Loss of Supervision'.\",\n",
    "        \"solution_steps\": \"\"\"1. Performed a sensor test from the main panel. The panel could not detect a signal from the sensor.\n",
    "2. Replaced the sensor's battery (CR123A) with a new one as a first step.\n",
    "3. After battery replacement, the 'Loss of Supervision' error persisted.\n",
    "4. Concluded the signal strength was too weak due to distance and home construction (brick walls, multiple floors).\n",
    "5. Installed a wireless repeater/range extender halfway between the main panel and the affected sensor.\n",
    "6. Enrolled the repeater into the system.\n",
    "7. Ran another sensor test. The panel now received a strong signal from the window sensor. The error cleared.\"\"\",\n",
    "        \"technician_notes\": \"Loss of supervision means the panel hasn't 'heard' from the sensor in a set period. It's often a range or interference issue, not a faulty sensor. A wireless repeater is the standard solution for large homes or those with signal-blocking materials.\"\n",
    "    },\n",
    "    {\n",
    "        \"problem_summary\": \"Sliding glass door sensor gives false alarms.\",\n",
    "        \"solution_steps\": \"1. Inspected the sensor and magnet. They were aligned correctly when the door was fully closed. 2. Noticed the sliding door had a lot of play and could be wiggled, creating a gap large enough to trip the sensor. 3. Replaced the standard surface-mount sensor with a recessed plunger-style sensor. 4. Drilled a hole in the door frame for the sensor and a corresponding hole in the door itself. 5. Installed the plunger sensor, which only shows 'closed' when the door is physically pressing the plunger in. 6. The wiggling of the door no longer caused false alarms.\",\n",
    "        \"technician_notes\": \"Standard magnetic sensors can be unreliable on loose-fitting doors or windows. Plunger-style or roller-ball sensors are more robust for these applications as they require physical contact.\"\n",
    "    },\n",
    "    {\n",
    "        \"problem_summary\": \"A recessed door sensor is stuck in 'Open' state.\",\n",
    "        \"solution_steps\": \"1. Opened the door and used a magnet to test the recessed sensor directly; it still reported 'Open'. 2. Confirmed the magnet in the door was still in place. 3. Pulled the sensor out of the door frame. 4. Tested the wiring from the sensor back to the panel for continuity; the circuit was open. 5. Located a break in the wire inside the wall near the door frame, likely caused by a staple during construction. 6. Spliced the wire using B-wire connectors and heat shrink tubing. 7. Tested for continuity again; the circuit was now closed. 8. Re-installed the sensor and confirmed it worked correctly.\",\n",
    "        \"technician_notes\": \"Hardwired recessed sensors are reliable, but the wiring is their weak point. A wire break is the most common cause of failure for a sensor that isn't responding at all.\"\n",
    "    },\n",
    "    {\n",
    "        \"problem_summary\": \"Customer wants to bypass a single window sensor to leave the window open at night.\",\n",
    "        \"solution_steps\": \"1. Showed the customer how to bypass zones from their keypad before arming. 2. Entered the 4-digit user code, followed by the bypass key (e.g., '6'). 3. Entered the 2-digit zone number for the specific window. 4. The keypad displayed 'Zone Bypassed'. 5. Proceeded to arm the system in 'Stay' mode. 6. Explained that the bypass is temporary and will be cleared the next time the system is disarmed.\",\n",
    "        \"technician_notes\": \"Educating customers on how to use basic features like bypassing zones empowers them and reduces unnecessary service calls. It is a core function of the system.\"\n",
    "    },\n",
    "    {\n",
    "        \"problem_summary\": \"Newly painted window is causing the sensor to report a tamper.\",\n",
    "        \"solution_steps\": \"1. Inspected the sensor. Found that the painter had painted over the entire sensor and its cover. 2. The paint had seeped into the seam, effectively gluing the cover shut and putting pressure on the tamper switch. 3. Carefully used a utility knife to score the paint along the seam of the sensor cover. 4. Gently pried the cover open. 5. Cleaned the excess paint from the cover and base. 6. Reassembled the sensor. The tamper condition cleared.\",\n",
    "        \"technician_notes\": \"Painters are a common cause of sensor tampers and false alarms. Advise customers to have painters mask over sensors or have them temporarily removed by a technician before painting.\"\n",
    "    },\n",
    "    {\n",
    "        \"problem_summary\": \"The chime feature is not working for the back door.\",\n",
    "        \"solution_steps\": \"1. Verified that the main system chime feature was enabled. 2. Opened and closed other doors; the chime worked for them. 3. Entered installer programming and navigated to the zone attributes for the back door sensor. 4. Found that the 'Chime' attribute for that specific zone was disabled. 5. Enabled the 'Chime' attribute for the back door zone. 6. Saved the settings and exited programming. 7. Tested the back door; the chime now worked as expected.\",\n",
    "        \"technician_notes\": \"The chime can be enabled or disabled on a per-zone basis. If one specific sensor isn't chiming, the issue is almost always in that zone's specific programming attributes.\"\n",
    "    },\n",
    "    {\n",
    "        \"problem_summary\": \"Metal door is interfering with wireless sensor signal.\",\n",
    "        \"solution_steps\": \"1. Confirmed the sensor was on a steel-clad door. 2. The large metal surface was detuning the sensor's antenna, causing intermittent 'Loss of Supervision'. 3. Used plastic spacers (1/4 inch thick) to mount both the sensor and the magnet, creating a gap between them and the steel door. 4. This air gap was enough to prevent the metal from interfering with the radio signal. 5. Ran a sensor test and confirmed a strong, consistent signal was now being received by the panel.\",\n",
    "        \"technician_notes\": \"Mounting wireless devices directly on large metal surfaces can cause significant signal issues. Using non-metallic spacers is a simple and effective solution.\"\n",
    "    },\n",
    "    {\n",
    "        \"problem_summary\": \"Customer reports 'Front Door Low Battery' but they just replaced it.\",\n",
    "        \"solution_steps\": \"1. Asked the customer what type of battery they used. They had used a cheap, generic brand. 2. Tested the new battery with a multimeter; it showed a lower-than-rated voltage. 3. Explained that security sensors require high-quality lithium batteries (e.g., Energizer Lithium, Duracell Procell) to perform correctly. 4. Replaced the customer's battery with a fresh, technician-grade lithium battery from stock. 5. Cleared the low battery memory from the panel by disarming twice. 6. The 'Low Battery' alert did not return.\",\n",
    "        \"technician_notes\": \"Battery quality matters immensely. Cheap alkaline or off-brand batteries often have insufficient voltage under load and a short shelf life, leading to premature low battery warnings. Always use recommended brands.\"\n",
    "    },\n",
    "\n",
    "    # --- Motion Sensor Issues (21-30) ---\n",
    "    {\n",
    "        \"problem_summary\": \"Motion detector in the living room is causing false alarms.\",\n",
    "        \"solution_steps\": \"\"\"1. Interviewed the customer about the timing of the false alarms. They often occurred in the afternoon.\n",
    "2. Inspected the motion detector's placement. It was aimed directly at a large window that received direct sunlight in the afternoon.\n",
    "3. The detector was also pointed towards an air vent, which could cause rapid temperature changes when the A/C turned on.\n",
    "4. Relocated the motion detector to a corner of the room, facing away from the window and any vents.\n",
    "5. Adjusted the detector's vertical angle to aim slightly downwards, creating a pet alley for their small dog.\n",
    "6. Set the sensor's sensitivity to 'Low' via the dip switches inside the device.\n",
    "7. Walk-tested the area to confirm coverage was still adequate while avoiding the sources of false triggers.\"\"\",\n",
    "        \"technician_notes\": \"The primary cause was rapid temperature changes from direct sunlight hitting the floor, which the PIR sensor interpreted as motion. Repositioning and reducing sensitivity are key to preventing environmentally-induced false alarms.\"\n",
    "    },\n",
    "    {\n",
    "        \"problem_summary\": \"Customer's large dog is tripping the 'pet-immune' motion sensor.\",\n",
    "        \"solution_steps\": \"1. Verified the sensor was rated for pets up to 80 lbs; the customer's dog was 95 lbs. 2. The sensor was mounted at the standard height of 7.5 feet, but the dog was large enough to enter the primary detection zones. 3. Inverted the mounting of the motion detector, placing it higher on the wall (8.5 feet) and aiming it downwards more sharply. 4. This created a much larger 'pet alley' underneath the detection zones. 5. Alternatively, used masking tape to carefully mask the lower portion of the sensor's lens, physically blocking its view of the floor area. 6. Walk-tested with the dog in the room; the sensor no longer triggered.\",\n",
    "        \"technician_notes\": \"Pet immunity has limits. For very large pets, creative mounting solutions like inverting the sensor or masking the lens are required to prevent false alarms while maintaining intruder detection.\"\n",
    "    },\n",
    "    {\n",
    "        \"problem_summary\": \"Motion sensor in the basement fails to detect motion.\",\n",
    "        \"solution_steps\": \"1. Walk-tested the motion sensor; the red LED did not light up and the panel did not register a trip. 2. Replaced the battery as a first step. The sensor still did not detect motion. 3. Opened the sensor and inspected the circuit board. Found evidence of moisture and corrosion, likely from a damp basement environment. 4. The PIR sensor element was damaged beyond repair. 5. Replaced the entire motion sensor with a new unit specifically rated for environments with higher humidity. 6. Enrolled and tested the new sensor.\",\n",
    "        \"technician_notes\": \"Standard motion detectors can fail in damp or humid environments like basements or garages. Using environmentally-sealed or high-humidity-rated models is necessary in these locations.\"\n",
    "    },\n",
    "    {\n",
    "        \"problem_summary\": \"False alarms from a motion detector in a warehouse.\",\n",
    "        \"solution_steps\": \"1. Inspected the warehouse environment. The motion detector was aimed down a long aisle with a large roll-up door at the end. 2. Noticed drafts and temperature changes when the door was opened, and rodents were also a possibility. 3. Replaced the standard PIR motion sensor with a dual-technology (Dual-Tec) sensor that combines PIR (heat) and microwave (motion) detection. 4. Configured the Dual-Tec sensor to only trigger an alarm when BOTH technologies detect an event simultaneously. 5. This eliminated false alarms from drafts (no motion) or small animals (not enough heat signature).\",\n",
    "        \"technician_notes\": \"In harsh commercial environments, Dual-Tec sensors are the industry standard for preventing false alarms. They provide a much higher level of reliability than PIR-only sensors.\"\n",
    "    },\n",
    "    {\n",
    "        \"problem_summary\": \"Customer wants motion detection disabled when they are home but enabled when away.\",\n",
    "        \"solution_steps\": \"1. Entered installer programming for the system. 2. Navigated to the zone programming for the motion detector's zone. 3. Set the 'Zone Type' to 'Interior Follower' (or equivalent). 4. Explained to the customer that this setting automatically bypasses the motion detector when they arm in 'Stay' mode. 5. When they arm in 'Away' mode, the motion detector will be active after the exit delay expires. 6. Demonstrated the functionality by arming in both modes.\",\n",
    "        \"technician_notes\": \"This is a programming change, not a hardware issue. Properly defining zone types is fundamental to a user-friendly alarm system that matches the customer's lifestyle.\"\n",
    "    },\n",
    "    {\n",
    "        \"problem_summary\": \"Motion sensor not triggering until you get very close to it.\",\n",
    "        \"solution_steps\": \"1. Observed the sensor placement. It was mounted behind a large bookshelf, partially obstructing its view. 2. Relocated the sensor to an unobstructed corner of the room. 3. The detection range was still poor. 4. Opened the sensor and discovered a small spider had built a web directly over the PIR sensing element inside the casing. 5. Carefully cleaned the web out with canned air. 6. Reassembled and walk-tested the sensor. Its full range of detection was restored.\",\n",
    "        \"technician_notes\": \"Insects are a surprisingly common cause of motion detector issues. They can either block the sensor's view or crawl across it, causing false alarms. Regular cleaning is recommended.\"\n",
    "    },\n",
    "    {\n",
    "        \"problem_summary\": \"A wireless motion detector was accidentally dropped and no longer works.\",\n",
    "        \"solution_steps\": \"1. Inspected the dropped motion detector. The plastic casing was cracked. 2. Opened the unit; the battery was dislodged and the circuit board had a visible crack across it. 3. The unit was damaged beyond repair. 4. Deleted the old sensor's zone from the system programming. 5. Installed a new wireless motion detector in its place. 6. Enrolled the new sensor's serial number into the system. 7. Walk-tested the new device to confirm proper operation.\",\n",
    "        \"technician_notes\": \"Physical damage from drops or impacts is typically unrepairable. The only solution is to replace the device and reprogram the zone.\"\n",
    "    },\n",
    "    {\n",
    "        \"problem_summary\": \"Holiday decorations (balloons) are causing false motion alarms.\",\n",
    "        \"solution_steps\": \"1. Identified that shiny, helium-filled balloons were floating in the motion detector's field of view. 2. The balloons' movement and reflective surfaces were being picked up by the PIR sensor. 3. Advised the customer to either temporarily bypass the motion detector zone while the balloons were present or move the balloons to a room without a motion detector. 4. Showed the customer how to bypass the zone. 5. Explained that any moving, heat-reflecting object can be a source of false alarms.\",\n",
    "        \"technician_notes\": \"This is a user education issue. The system is working as designed. Technicians must explain environmental factors that can cause false alarms, especially around the holidays.\"\n",
    "    },\n",
    "    {\n",
    "        \"problem_summary\": \"Motion detector range seems to have decreased over time.\",\n",
    "        \"solution_steps\": \"1. Inspected the motion detector's lens. It was covered in a thick layer of dust and grime. 2. Used a soft, lint-free cloth and a small amount of lens cleaner to gently wipe the plastic lens cover. 3. Did not open the unit. 4. Performed a walk test after cleaning. 5. The sensor's detection range returned to its original specifications.\",\n",
    "        \"technician_notes\": \"The fresnel lens on the front of a motion detector is critical for focusing infrared energy onto the sensor. If it becomes dirty, the sensor's range and sensitivity will be significantly reduced. Regular dusting is part of system maintenance.\"\n",
    "    },\n",
    "    {\n",
    "        \"problem_summary\": \"Customer installed a new mirror which is now causing motion false alarms.\",\n",
    "        \"solution_steps\": \"1. Noticed a new, large decorative mirror had been hung on the wall opposite the motion detector. 2. The mirror was reflecting a heat source (a sunny window) into the motion detector's field of view when the sun angle was low. 3. The reflected heat change was triggering the alarm. 4. Relocated the motion sensor to an adjacent wall where it did not have a direct line of sight to the mirror. 5. Walk-tested the new location to ensure coverage was still adequate.\",\n",
    "        \"technician_notes\": \"Reflections from mirrors, glass, or even highly polished floors can cause PIR sensors to 'see' heat sources that are not in their direct path, leading to difficult-to-diagnose false alarms.\"\n",
    "    },\n",
    "\n",
    "    # --- Camera & Video Issues (31-40) ---\n",
    "    {\n",
    "        \"problem_summary\": \"ADT outdoor camera has a blurry or foggy image, especially at night.\",\n",
    "        \"solution_steps\": \"\"\"1. Cleaned the camera's outer lens dome with a microfiber cloth. The image remained foggy.\n",
    "2. Powered down the camera.\n",
    "3. Carefully unscrewed the outer dome/casing.\n",
    "4. Found moisture had gotten inside the housing, causing condensation on the inner lens.\n",
    "5. Used a lint-free cloth to gently dry the inside of the dome and the camera lens.\n",
    "6. Inspected the rubber gasket seal around the housing. It was cracked and brittle from sun exposure.\n",
    "7. Replaced the weatherproof gasket with a new one.\n",
    "8. Reassembled the camera housing, ensuring a tight seal.\n",
    "9. Powered the camera back on and verified the image was clear in both day and night (IR) mode.\"\"\",\n",
    "        \"technician_notes\": \"Weather seals on outdoor cameras degrade over time. A compromised seal is the most common cause of internal condensation. Replacing the gasket is critical for a long-term fix.\"\n",
    "    },\n",
    "    {\n",
    "        \"problem_summary\": \"ADT Pulse Doorbell Camera frequently goes offline and has poor video quality.\",\n",
    "        \"solution_steps\": \"\"\"1. Checked the Wi-Fi signal strength in the ADT Pulse app for the doorbell. It showed 'Weak'.\n",
    "2. Used a Wi-Fi analyzer app on a smartphone to measure the signal at the front door: -78 dBm, which is very poor.\n",
    "3. Checked the doorbell's power. It was connected to an old mechanical chime with an undersized transformer (10VA).\n",
    "4. Replaced the existing transformer with a new 16V 30VA transformer to provide consistent power.\n",
    "5. Installed an ADT Pulse Wi-Fi Range Extender in a power outlet in the entryway, about 15 feet from the front door.\n",
    "6. Reconnected the doorbell to the new, stronger Wi-Fi signal from the extender.\n",
    "7. Verified signal strength in the app now showed 'Good' (-55 dBm) and the live video stream was stable and clear.\"\"\",\n",
    "        \"technician_notes\": \"Doorbell issues are almost always related to either poor Wi-Fi or insufficient power. Upgrading the transformer and adding a dedicated Wi-Fi extender near the door are the two most effective solutions.\"\n",
    "    },\n",
    "    {\n",
    "        \"problem_summary\": \"Night vision (IR) on an indoor camera is not working. The image is completely black at night.\",\n",
    "        \"solution_steps\": \"\"\"1. Covered the camera's light sensor to simulate darkness during the day.\n",
    "2. Confirmed the infrared LEDs around the lens did not glow red, indicating they were not activating.\n",
    "3. Power cycled the camera by unplugging it for 60 seconds. The issue persisted.\n",
    "4. Performed a factory reset on the camera by holding the reset button for 15 seconds.\n",
    "5. Re-enrolled the camera into the customer's ADT Pulse system.\n",
    "6. Tested the night vision again by covering the light sensor. The IR LEDs still failed to activate.\n",
    "7. Concluded the camera's IR board had failed. Replaced the faulty indoor camera with a new unit.\"\"\",\n",
    "        \"technician_notes\": \"After ruling out software glitches with a power cycle and factory reset, a failure of the IR LEDs points to a hardware fault. Camera replacement is the only solution in this case.\"\n",
    "    },\n",
    "    {\n",
    "        \"problem_summary\": \"Camera video is choppy and pixelated.\",\n",
    "        \"solution_steps\": \"1. Logged into the customer's router to check for network congestion. Found multiple devices streaming 4K video, consuming most of the available bandwidth. 2. Connected the camera via an Ethernet cable temporarily to rule out Wi-Fi issues; the video was still choppy. 3. Lowered the camera's video quality setting in the ADT portal from 'High' to 'Medium'. 4. The video stream became smooth and stable. 5. Advised the customer that their current internet plan did not have enough upload bandwidth to support multiple cameras on the highest quality setting.\",\n",
    "        \"technician_notes\": \"Customers often overlook their internet plan's upload speed, which is critical for camera performance. When multiple cameras are installed, lowering the video quality or upgrading the internet plan are the only solutions.\"\n",
    "    },\n",
    "    {\n",
    "        \"problem_summary\": \"A newly installed camera is not showing up in the ADT Control app.\",\n",
    "        \"solution_steps\": \"1. Confirmed the camera was powered on and had a solid green network light. 2. Accessed the system via the web portal. The camera was listed under 'Manage Devices' but had not been fully enrolled. 3. Clicked 'Sync Devices' in the system settings of the web portal. 4. Logged the customer out of their mobile app and had them log back in. 5. The new camera now appeared correctly in their app.\",\n",
    "        \"technician_notes\": \"Sometimes there is a sync delay between the backend system where the camera is enrolled and what the user's app displays. Forcing a sync from the portal and restarting the app usually resolves this.\"\n",
    "    },\n",
    "    {\n",
    "        \"problem_summary\": \"Outdoor camera's IR LEDs are reflecting off a close surface, causing a white-out glare at night.\",\n",
    "        \"solution_steps\": \"1. Observed the night vision view. The camera was mounted directly under a white soffit. 2. The IR light was bouncing off the soffit directly into the lens, creating a bright glare that blinded the camera. 3. Used a small extension mount to lower the camera by 3 inches, moving it away from the reflective surface. 4. Alternatively, used the camera's built-in 'IR Control' to turn off the onboard LEDs. 5. Installed a separate, standalone IR illuminator a few feet away from the camera, aimed at the same target area. 6. The glare was eliminated and the night vision image was clear.\",\n",
    "        \"technician_notes\": \"IR glare, or 'IR bounce', is a common installation mistake. Never point a camera's IR LEDs at a close, reflective surface. Using an external illuminator is the professional solution for tricky lighting situations.\"\n",
    "    },\n",
    "    {\n",
    "        \"problem_summary\": \"Customer is not receiving push notifications for camera motion events.\",\n",
    "        \"solution_steps\": \"1. Verified that motion-triggered recording rules were set up and working (clips were being saved). 2. Checked the notification settings in the ADT Control portal. The rule was set to 'Record Clip' but not to 'Send Push Notification'. 3. Edited the rule and added a new action to 'Send Push Notification' to the customer's smartphone. 4. Saved the rule. 5. Triggered a motion event and confirmed the customer received the notification on their phone.\",\n",
    "        \"technician_notes\": \"Recording and notifying are two separate actions within a rule. It's common for users to set up one but not the other. Always verify the full automation rule.\"\n",
    "    },\n",
    "    {\n",
    "        \"problem_summary\": \"The two-way audio talk button on the app is greyed out for the doorbell camera.\",\n",
    "        \"solution_steps\": \"1. Confirmed the doorbell model supports two-way talk. 2. Asked the customer to check their smartphone's main settings, not just the app settings. 3. Navigated to Settings -> Privacy -> Microphone. 4. Found that the ADT Control app had been denied permission to use the microphone. 5. Enabled the microphone permission for the ADT app. 6. Relaunched the app; the two-way talk button was now active and functional.\",\n",
    "        \"technician_notes\": \"This is another app permission issue. The app can't use the phone's microphone for talking if the phone's operating system has denied it access.\"\n",
    "    },\n",
    "    {\n",
    "        \"problem_summary\": \"Camera view is upside down after mounting.\",\n",
    "        \"solution_steps\": \"1. The customer had mounted the camera upside down for a better angle. 2. Accessed the camera's advanced settings in the ADT portal. 3. Located the 'Image Settings' or 'Video Settings' section. 4. Enabled the 'Flip Image Vertically' or 'Rotate 180 degrees' option. 5. Saved the setting. The video feed in the app and portal was now correctly oriented.\",\n",
    "        \"technician_notes\": \"Most modern cameras have a software setting to flip the image, making inverted mounting a viable installation option. It's a simple programming fix.\"\n",
    "    },\n",
    "    {\n",
    "        \"problem_summary\": \"Video verification for alarms is not working; monitoring station receives no clips.\",\n",
    "        \"solution_steps\": \"1. Checked the system settings to confirm Video Verification was enabled. 2. Reviewed the camera recording rules. There were rules for motion, but no rule was set to trigger on 'System Alarm'. 3. Created a new recording rule. 4. Set the trigger to 'When an alarm is reported by the security system'. 5. Set the action to 'Record a 30-second clip from all cameras'. 6. Saved the new rule. 7. Placed the system in test mode and triggered a brief alarm. Confirmed with the monitoring station that they received the video clips.\",\n",
    "        \"technician_notes\": \"Video verification is not automatic; it must be configured with a specific rule that links the 'Alarm' event to a camera recording action. This rule is often overlooked during initial setup.\"\n",
    "    },\n",
    "    # (Continue with the remaining categories...)\n",
    "]\n",
    "\n",
    "# Populate the rest of the list to reach 100 entries.\n",
    "# I will generate the remaining 60 entries following the same detailed format.\n",
    "# For the sake of this output's length, I'll add them without extra commentary.\n",
    "\n",
    "remaining_60 = [\n",
    "    # --- Z-Wave & Smart Home (41-50) ---\n",
    "    {\n",
    "        \"problem_summary\": \"ADT Garage Door Controller (GD00Z-2) beeps but does not open or close the garage door.\",\n",
    "        \"solution_steps\": \"1. Verified the GD00Z-2 unit was receiving commands from the app. 2. Inspected wires from GD00Z-2 to the motor unit; one was loose. 3. Re-stripped and securely re-fastened the wire to the pushbutton terminal. 4. Tested via the app; the door operated correctly. 5. Checked tilt sensor battery and status reporting.\",\n",
    "        \"technician_notes\": \"If the controller beeps, it has power and signal. The fault is almost always the physical wire connection to the motor's command terminals.\"\n",
    "    },\n",
    "    {\n",
    "        \"problem_summary\": \"A Z-Wave smart lock is not responding to commands from the ADT panel.\",\n",
    "        \"solution_steps\": \"1. Replaced batteries in the lock. Issue persisted. 2. Ran a 'Repair Z-Wave Network' command from the panel's installer menu. 3. The network repair re-established the communication route to the lock. 4. Tested lock/unlock commands from the panel; they were now instantaneous.\",\n",
    "        \"technician_notes\": \"Z-Wave network repair is a powerful tool for fixing broken communication routes in the mesh network without re-enrolling devices.\"\n",
    "    },\n",
    "    {\n",
    "        \"problem_summary\": \"Z-Wave light switch becomes unresponsive after a week.\",\n",
    "        \"solution_steps\": \"1. Performed a network repair; the fix was temporary. 2. Noticed the switch was at the far end of the house from the panel. 3. Installed a Z-Wave repeating smart plug halfway between the panel and the switch. 4. Ran another network repair. 5. The new plug acted as a stable repeater, providing a strong, reliable connection to the light switch.\",\n",
    "        \"technician_notes\": \"A single Z-Wave device at the edge of the network range can be unreliable. Adding a repeater (any powered Z-Wave device) strengthens the mesh and improves reliability.\"\n",
    "    },\n",
    "    {\n",
    "        \"problem_summary\": \"Customer's Z-Wave thermostat is showing the wrong temperature.\",\n",
    "        \"solution_steps\": \"1. Compared the thermostat reading to two separate digital thermometers; the thermostat was off by 6 degrees. 2. Accessed the thermostat's advanced settings menu directly on the device. 3. Located the 'Temperature Calibration' or 'Offset' setting. 4. Adjusted the offset by -6 degrees to match the actual room temperature. 5. Saved the setting. The thermostat now displayed the correct temperature.\",\n",
    "        \"technician_notes\": \"Most smart thermostats have a calibration offset setting to account for minor sensor drift or placement issues (e.g., being on a cold exterior wall).\"\n",
    "    },\n",
    "    {\n",
    "        \"problem_summary\": \"Automation rule 'Turn on porch light at sunset' is not working.\",\n",
    "        \"solution_steps\": \"1. Checked the panel's location settings (zip code); they were correct, so sunset/sunrise times were accurate. 2. Reviewed the rule; it was programmed correctly. 3. Checked the Z-Wave porch light switch; it had become unresponsive. 4. Manually excluded and then re-included the light switch into the Z-Wave network. 5. Re-associated the switch with the automation rule. 6. The rule executed correctly at the next sunset.\",\n",
    "        \"technician_notes\": \"If the automation rule is correct, the problem lies with the device it's trying to control. Re-enrolling the device often fixes its communication issues.\"\n",
    "    },\n",
    "    {\n",
    "        \"problem_summary\": \"ADT smart lock is making a grinding noise and failing to lock.\",\n",
    "        \"solution_steps\": \"1. Observed the lock mechanism. The deadbolt was misaligned with the strike plate on the door frame and was binding. 2. Removed the strike plate. 3. Used a file to slightly enlarge the opening on the strike plate. 4. Re-installed the strike plate and tested the lock. The deadbolt now extended smoothly without grinding. 5. Lubricated the deadbolt mechanism with graphite.\",\n",
    "        \"technician_notes\": \"Smart lock failures are often mechanical, not electronic. Door and frame alignment can shift with temperature changes, causing the deadbolt to bind.\"\n",
    "    },\n",
    "    {\n",
    "        \"problem_summary\": \"Multiple Z-Wave devices went offline simultaneously.\",\n",
    "        \"solution_steps\": \"1. Asked the customer about any recent changes. They had unplugged a Z-Wave smart plug in their hallway to use a vacuum cleaner. 2. Explained that this plug was acting as a key repeater for their Z-Wave mesh network. 3. Plugged the smart plug back in. 4. Ran a Z-Wave network repair. 5. All the previously offline devices came back online, routing their signals through the restored plug.\",\n",
    "        \"technician_notes\": \"Customers often don't realize that powered devices like plugs and switches act as the backbone of the Z-Wave network. Removing a central one can cause widespread failures.\"\n",
    "    },\n",
    "    {\n",
    "        \"problem_summary\": \"Customer cannot add a new Z-Wave device to their system.\",\n",
    "        \"solution_steps\": \"1. Checked the system device count. The customer had reached the maximum number of Z-Wave devices supported by their panel (e.g., 232 devices). 2. Reviewed their device list with them. 3. Identified several old or unused devices that could be removed. 4. Excluded the unnecessary devices from the network. 5. This freed up slots, and the customer was then able to successfully add their new device.\",\n",
    "        \"technician_notes\": \"Every panel has a hard limit on the number of Z-Wave devices it can support. When adding fails on a large system, always check if the device limit has been reached.\"\n",
    "    },\n",
    "    {\n",
    "        \"problem_summary\": \"Water sensor (Z-Wave) placed in a sump pump pit is corroded and has failed.\",\n",
    "        \"solution_steps\": \"1. Removed the failed sensor. The contacts were heavily corroded. 2. Explained that while the sensor is water-resistant, constant submersion or high humidity in a sump pit can cause premature failure. 3. Installed a new water sensor, but instead of placing the main unit in the pit, used a model with an external probe. 4. Mounted the main transmitter unit on the wall above the pit, and ran only the remote probe down into the pit. 5. This keeps the sensitive electronics out of the harsh environment.\",\n",
    "        \"technician_notes\": \"For chronically damp locations like sump pits or under leaky sinks, using a water sensor with a wired external probe is the best practice for long-term reliability.\"\n",
    "    },\n",
    "    {\n",
    "        \"problem_summary\": \"Z-Wave commands are very slow; lights take 10-15 seconds to respond.\",\n",
    "        \"solution_steps\": \"1. Ran a Z-Wave network repair, which did not solve the issue. 2. Used a diagnostic tool to check the network for 'ghost' nodes (devices that were improperly removed). 3. Found two ghost nodes that were clogging up the network with failed communication attempts. 4. Used a specialized Z-Wave tool to forcibly remove the ghost nodes from the panel's device list. 5. The network immediately became responsive, with commands executing in under a second.\",\n",
    "        \"technician_notes\": \"Ghost nodes are a major cause of Z-Wave network slowdowns. They require specialized tools to remove and are a key thing to check when a network is performing poorly.\"\n",
    "    },\n",
    "\n",
    "    # --- Life Safety Devices (51-60) ---\n",
    "    {\n",
    "        \"problem_summary\": \"ADT smoke detector is chirping every 30-40 seconds.\",\n",
    "        \"solution_steps\": \"1. Identified the chirping detector. 2. Removed it from the mounting bracket. 3. Replaced the old battery with a new, high-quality lithium battery. 4. Held the test button for 15 seconds to clear any fault memory. 5. Used canned air to clean the sensing chamber. 6. Reinstalled and tested the unit.\",\n",
    "        \"technician_notes\": \"The periodic chirp is the universal sign for a low battery. Always clean the device during battery replacement to prevent future false alarms from dust.\"\n",
    "    },\n",
    "    {\n",
    "        \"problem_summary\": \"Carbon Monoxide (CO) detector has reached its end-of-life and is beeping consistently.\",\n",
    "        \"solution_steps\": \"1. Confirmed the beeping pattern matched the manufacturer's end-of-life (EOL) signal. 2. Verified the 'replace by' date on the unit had passed. 3. Explained to the customer that the entire unit must be replaced. 4. Deleted the old sensor from system programming. 5. Installed and enrolled a new CO detector. 6. Tested the new unit.\",\n",
    "        \"technician_notes\": \"CO sensors have a finite lifespan (7-10 years) and are not serviceable. EOL is a mandatory replacement scenario for safety.\"\n",
    "    },\n",
    "    {\n",
    "        \"problem_summary\": \"Smoke detector caused a false alarm when cooking.\",\n",
    "        \"solution_steps\": \"1. Inspected the location of the smoke detector. It was installed less than 10 feet from the kitchen stove, in the direct path of cooking fumes. 2. Explained that ionization smoke detectors can be sensitive to cooking particles. 3. Relocated the smoke detector to a new location, at least 20 feet from the kitchen, following NFPA guidelines. 4. As an alternative, replaced the ionization detector with a photoelectric smoke detector, which is less prone to cooking-related false alarms.\",\n",
    "        \"technician_notes\": \"Improper placement is the #1 cause of cooking-related false alarms. Adhering to NFPA placement guidelines is non-negotiable. Using the right type of detector (photoelectric vs. ionization) for the location is also key.\"\n",
    "    },\n",
    "    {\n",
    "        \"problem_summary\": \"Hardwired smoke detector is not communicating with the panel.\",\n",
    "        \"solution_steps\": \"1. This was a newer interconnected smoke detector with a wireless module. 2. Tested the detector locally by pressing the test button; it sounded its own alarm but did not trigger the system. 3. The wireless communication module within the smoke detector had failed. 4. Replaced the entire hardwired smoke detector with a new compatible model. 5. Enrolled the new detector's wireless module into the system. 6. Tested again; the detector now correctly triggered a system-wide alarm.\",\n",
    "        \"technician_notes\": \"Even hardwired smoke detectors in a modern system often rely on a wireless module to talk to the panel. When local tests pass but system tests fail, the communication module is the likely culprit.\"\n",
    "    },\n",
    "    {\n",
    "        \"problem_summary\": \"Customer pressed the panic button by accident and wants to cancel the alarm.\",\n",
    "        \"solution_steps\": \"1. Instructed the customer to immediately enter their 4-digit master code into the keypad. 2. This silenced the local siren. 3. Advised them to expect a call from the ADT monitoring station. 4. When the monitoring station called, instructed the customer to provide their secret password/passphrase to cancel the police dispatch. 5. Confirmed with the monitoring station that the dispatch was successfully cancelled.\",\n",
    "        \"technician_notes\": \"This is a user education process. The key is that the user MUST answer the phone call from the monitoring station and provide the correct password to stop emergency services from being dispatched.\"\n",
    "    },\n",
    "    {\n",
    "        \"problem_summary\": \"Fire department was dispatched for a false alarm; customer wants to know why.\",\n",
    "        \"solution_steps\": \"1. Reviewed the alarm event history. A smoke detector in the hallway triggered the alarm. 2. Customer stated they were using a fog machine for a party, which they had placed near the smoke detector. 3. Explained that smoke detectors can be triggered by dense particles in the air, including artificial fog, heavy dust, or steam. 4. Advised the customer to temporarily place the system on test mode with the monitoring station before using devices like fog machines in the future.\",\n",
    "        \"technician_notes\": \"User education on what can cause false fire alarms is crucial. Many non-fire sources can trigger a smoke detector.\"\n",
    "    },\n",
    "    {\n",
    "        \"problem_summary\": \"Water/Flood sensor triggered an alarm, but there is no flood.\",\n",
    "        \"solution_steps\": \"1. Inspected the water sensor in the basement laundry room. 2. Found the sensor was placed directly under a corroded pipe fitting on the washing machine supply line, which had a very slow drip. 3. A small puddle had formed directly under the sensor's contacts, triggering the alarm. 4. The customer had not noticed the slow leak. 5. Dried the sensor and the floor. The alarm cleared. 6. Advised the customer to have a plumber repair the leaking fitting.\",\n",
    "        \"technician_notes\": \"The system worked perfectly. It detected a real, albeit minor, leak before it could become a major flood. This is a perfect example of the value of environmental sensors.\"\n",
    "    },\n",
    "    {\n",
    "        \"problem_summary\": \"System showing 'Fire Trouble' on the keypad.\",\n",
    "        \"solution_steps\": \"1. Checked the specific zone in fault. It was a hardwired smoke detector loop. 2. Went to the last smoke detector on the circuit and measured the resistance across the loop with a multimeter. It was infinite (an open circuit). 3. Inspected the wiring at each smoke detector on the loop. 4. Found a wire had come loose from a terminal on one of the detectors. 5. Reconnected the wire and re-tested the loop resistance. It was now within the correct specifications. 6. Reset the panel. The 'Fire Trouble' condition cleared.\",\n",
    "        \"technician_notes\": \"A 'Fire Trouble' condition on a hardwired system indicates a problem with the wiring loop (like an open or a short), not that there is a fire. It requires systematically checking the wiring connections.\"\n",
    "    },\n",
    "    {\n",
    "        \"problem_summary\": \"Customer's new cleaning service is setting off the alarm.\",\n",
    "        \"solution_steps\": \"1. Explained the need for a separate user code for the cleaning service. 2. Walked the customer through creating a new 'Guest Code' from their panel or app. 3. Assigned a unique 4-digit code specifically for the cleaning crew. 4. Showed the customer how they can receive notifications whenever that specific code is used to disarm or arm the system. 5. Advised them to provide only this new code to their service, not their master code.\",\n",
    "        \"technician_notes\": \"Using unique codes for different users is a key security and convenience feature. It provides an audit trail and allows for easy revocation of access without changing the master family code.\"\n",
    "    },\n",
    "    {\n",
    "        \"problem_summary\": \"Heat detector in the garage is causing false alarms on very hot summer days.\",\n",
    "        \"solution_steps\": \"1. Inspected the heat detector. It was a fixed-temperature model rated for 135°F. 2. The temperature in the enclosed garage was exceeding this threshold during summer heatwaves. 3. Replaced the 135°F fixed-temp detector with a high-heat model rated for 194°F, which is designed for environments like garages and attics. 4. This prevented false alarms caused by ambient temperature while still providing protection against a rapid rise in temperature from an actual fire.\",\n",
    "        \"technician_notes\": \"Using the correct type of heat detector for the environment is critical. Garages and attics require high-temperature models to prevent ambient heat-related false alarms.\"\n",
    "    },\n",
    "\n",
    "    # --- App & UI Issues (61-70) ---\n",
    "    {\n",
    "        \"problem_summary\": \"Customer is unable to log into the ADT Control app, receiving an 'Invalid Credentials' error.\",\n",
    "        \"solution_steps\": \"1. Confirmed the customer was using their correct email address. 2. Walked them through the 'Forgot Password' link. 3. Guided them to create a new password meeting security requirements via the reset email. 4. Login was successful with the new password. 5. Recommended enabling Face ID for easier future access.\",\n",
    "        \"technician_notes\": \"This is a common user-level issue. The fix is procedural. Ensure they are using the correct app (Control vs. Pulse) for their system.\"\n",
    "    },\n",
    "    {\n",
    "        \"problem_summary\": \"ADT touchscreen keypad is frozen and unresponsive.\",\n",
    "        \"solution_steps\": \"1. Unplugged the AC power transformer for the touchscreen. 2. Disconnected the internal backup battery for 30 seconds. 3. Reconnected the battery, then the AC power. 4. The touchscreen rebooted and became fully functional. 5. Confirmed all settings were retained.\",\n",
    "        \"technician_notes\": \"A full power cycle (both AC and battery) is the equivalent of a hard reboot and resolves most software-related freezes on touchscreens.\"\n",
    "    },\n",
    "    {\n",
    "        \"problem_summary\": \"Geofencing rules (e.g., 'Arm system when I leave') are not working.\",\n",
    "        \"solution_steps\": \"1. Checked the customer's smartphone settings. The ADT Control app was set to 'Location Access: Only While Using'. 2. Explained that for geofencing to work, the app needs permission to access location 'Always'. 3. Guided the customer to change the app's location permission to 'Always'. 4. Redefined the geofence boundary in the app. 5. Tested by having the customer leave the geofence area; the arming reminder notification worked correctly.\",\n",
    "        \"technician_notes\": \"Geofencing is highly dependent on the phone's OS-level permissions. 'Always' location access is a mandatory setting for it to function correctly in the background.\"\n",
    "    },\n",
    "    {\n",
    "        \"problem_summary\": \"Customer created a new user in the app, but they can't see all the devices.\",\n",
    "        \"solution_steps\": \"1. Reviewed the permissions assigned to the new user in the ADT portal. 2. The user was created with a 'Standard' access level, which has limited device visibility by default. 3. Elevated the user's permission level to 'Administrator' to give them full access to all devices and settings. 4. Alternatively, showed the primary user how to customize the 'Standard' role to grant access to specific devices (like cameras or locks).\",\n",
    "        \"technician_notes\": \"Device visibility and control are tied to user permission levels. Understanding the different roles (Master, Administrator, Standard, Guest) is key to setting up access correctly.\"\n",
    "    },\n",
    "    {\n",
    "        \"problem_summary\": \"The ADT app is not showing recent event history.\",\n",
    "        \"solution_steps\": \"1. Asked the customer to pull down on the history screen to force a refresh. The new events did not load. 2. Had the customer log out of the app completely and log back in. 3. This forced a full resynchronization with the ADT servers. 4. After logging back in, the complete and up-to-date event history was displayed.\",\n",
    "        \"technician_notes\": \"Occasionally, the app's local cache can get out of sync. A full logout/login cycle is the most effective way to force a complete data refresh from the server.\"\n",
    "    },\n",
    "    {\n",
    "        \"problem_summary\": \"Customer wants to change the sound of their doorbell chime in the app.\",\n",
    "        \"solution_steps\": \"1. Guided the customer to the device settings for their ADT Video Doorbell within the Control app. 2. Navigated to 'Chime Tones' or 'Alert Sounds'. 3. Played the various available chime tones for the customer. 4. The customer selected a new tone and saved the setting. 5. Pressed the doorbell button to confirm the new chime tone played through their phone and indoor chime (if compatible).\",\n",
    "        \"technician_notes\": \"This is a user customization feature. The technician's role is to guide the customer through the app to find the correct settings menu.\"\n",
    "    },\n",
    "    {\n",
    "        \"problem_summary\": \"Scene or automation (e.g., 'Goodnight' scene) is failing to execute all actions.\",\n",
    "        \"solution_steps\": \"1. Reviewed the 'Goodnight' scene. It was supposed to lock the door, turn off lights, and lower the thermostat. 2. The lights were turning off, but the door and thermostat were not responding. 3. Realized the door lock and thermostat were Z-Wave devices, while the lights were Wi-Fi. The Z-Wave radio in the panel was showing a fault. 4. Performed a reboot of the main panel. 5. The Z-Wave radio came back online. 6. Re-ran the 'Goodnight' scene. All actions, including the Z-Wave lock and thermostat, executed successfully.\",\n",
    "        \"technician_notes\": \"When scenes with mixed technologies fail partially, it often points to a problem with one specific communication protocol (like Z-Wave or Wi-Fi). Troubleshooting should focus on the controller for that protocol.\"\n",
    "    },\n",
    "    {\n",
    "        \"problem_summary\": \"Customer is getting too many motion notifications from their front yard camera.\",\n",
    "        \"solution_steps\": \"1. Opened the camera settings in the customer's app. 2. Adjusted the 'Motion Sensitivity' slider from 90% down to 60%. 3. Redefined the motion detection zone to be tighter on their walkway, excluding the sidewalk and rustling trees. 4. Enabled the 'Person Detection' feature, so notifications are only sent when the camera's AI identifies a person, not just any motion. 5. Monitored for the next few hours; notification volume was significantly reduced to only relevant events.\",\n",
    "        \"technician_notes\": \"Modern cameras offer multiple tools to reduce notification fatigue. A combination of sensitivity tuning, precise zone drawing, and AI-based filtering (like Person Detection) is the most effective strategy.\"\n",
    "    },\n",
    "    {\n",
    "        \"problem_summary\": \"The 'Panic' button is missing from the customer's ADT Control app dashboard.\",\n",
    "        \"solution_steps\": \"1. Logged into the web portal with the customer's credentials. 2. Navigated to System -> Security Panel -> Panic Buttons. 3. The setting for 'Display Panic Buttons in App' was disabled. 4. Enabled the setting and saved. 5. Had the customer fully close and restart their ADT Control app. 6. The police, fire, and medical panic buttons were now visible on their app dashboard.\",\n",
    "        \"technician_notes\": \"The visibility of in-app panic buttons is a specific setting in the system configuration, often disabled by default. It must be enabled via the web portal.\"\n",
    "    },\n",
    "    {\n",
    "        \"problem_summary\": \"Customer cannot view recorded video clips on their cellular connection, only on Wi-Fi.\",\n",
    "        \"solution_steps\": \"1. Guided the customer to the settings menu within the ADT Control app. 2. Navigated to 'Video' settings. 3. Found the setting 'Allow Streaming over Cellular' was turned off to save data. 4. Enabled this setting. 5. Had the customer disconnect from Wi-Fi and attempt to view a clip over their cellular network. The clip played successfully. 6. Advised them this would use their cellular data plan.\",\n",
    "        \"technician_notes\": \"The app has data-saving features that can prevent video playback over cellular. This is a simple app setting adjustment.\"\n",
    "    },\n",
    "\n",
    "    # --- Miscellaneous & Advanced (71-100) ---\n",
    "    {\n",
    "        \"problem_summary\": \"The backup battery for a wireless outdoor siren has failed.\",\n",
    "        \"solution_steps\": \"1. Used a ladder to access the outdoor siren mounted on the side of the house. 2. Unlocked and opened the siren housing. 3. The siren contains its own dedicated, rechargeable battery pack. 4. Disconnected and removed the old battery pack. 5. Installed a new, compatible battery pack. 6. Closed and locked the siren housing. 7. Sent a test signal from the main panel to confirm the siren activated.\",\n",
    "        \"technician_notes\": \"Wireless outdoor sirens have their own power source and battery. This is a common replacement item every few years, especially in harsh climates.\"\n",
    "    },\n",
    "    {\n",
    "        \"problem_summary\": \"Customer wants to set up a duress code.\",\n",
    "        \"solution_steps\": \"1. Explained that a duress code works like a normal disarm code but also silently sends a panic signal to the monitoring station. 2. From the panel's user management menu, selected 'Add New User'. 3. Entered a name like 'Duress'. 4. When prompted for the code, entered the 4-digit duress code the customer chose. 5. When prompted for the user type, selected 'Duress User'. 6. Saved the new user. 7. Stressed to the customer that this code should only be used in a genuine hostage or emergency situation.\",\n",
    "        \"technician_notes\": \"Setting up a duress code is a critical safety feature. The key is programming the user type as 'Duress', which triggers the silent alarm functionality.\"\n",
    "    },\n",
    "    {\n",
    "        \"problem_summary\": \"System armed in 'Away' mode did not trigger an alarm when the customer re-entered.\",\n",
    "        \"solution_steps\": \"1. Reviewed the event log. The system was armed 'Away', but the front door was opened during the exit delay and not closed again. 2. The system automatically reverted to 'Stay' mode because it did not detect a person leaving and securing the premises. 3. In 'Stay' mode, the interior motion detector was bypassed, so it did not trigger when the customer walked past it. 4. Explained the 'Auto-Stay Arming' feature to the customer and the importance of ensuring the door is closed after them when leaving.\",\n",
    "        \"technician_notes\": \"Auto-Stay is a feature to prevent false alarms from interior motion detectors if someone arms 'Away' but doesn't leave. It's a common point of confusion for new users.\"\n",
    "    },\n",
    "    {\n",
    "        \"problem_summary\": \"A hardwired zone is showing a 'short' or 'trouble' condition.\",\n",
    "        \"solution_steps\": \"1. Disconnected the two wires for that zone from the panel. 2. Measured the resistance across the wires with a multimeter; it read almost zero ohms, confirming a short circuit. 3. Visually traced the wire run. 4. Found a location where a nail from a recently hung picture had pierced the alarm wire, shorting the two conductors together. 5. Removed the nail, cut out the damaged section of wire, and spliced it back together. 6. The resistance reading returned to normal (the value of the end-of-line resistor). 7. Reconnected the wires to the panel, and the trouble condition cleared.\",\n",
    "        \"technician_notes\": \"A 'short' on a hardwired zone means the two wires are touching somewhere. Common causes are staples, nails, or damaged insulation. It requires physical inspection of the wire path.\"\n",
    "    },\n",
    "    {\n",
    "        \"problem_summary\": \"Customer wants a silent panic alarm.\",\n",
    "        \"solution_steps\": \"1. Entered installer programming. 2. Navigated to the keypad programming section. 3. The panic key settings were programmed as 'Audible'. 4. Reprogrammed the police panic key function to be 'Silent'. 5. Saved the settings. 6. Explained to the customer that pressing the panic button will now send a signal to the monitoring station without activating the local siren.\",\n",
    "        \"technician_notes\": \"Panic alarms can be programmed as audible or silent depending on the customer's preference and local regulations. This is a simple programming change.\"\n",
    "    },\n",
    "    {\n",
    "        \"problem_summary\": \"The system's voice announcements are too loud.\",\n",
    "        \"solution_steps\": \"1. Navigated to the user settings menu on the main touchscreen panel. 2. Found the 'Volume' or 'Sound' settings. 3. Adjusted the 'Voice Volume' slider down to a level the customer was comfortable with. 4. Distinguished this from the 'Chime/Beep Volume' and the non-adjustable 'Siren Volume'. 5. Saved the setting.\",\n",
    "        \"technician_notes\": \"Most modern panels have separate volume controls for different functions (chimes, voice, etc.). This is a user-adjustable setting.\"\n",
    "    },\n",
    "    {\n",
    "        \"problem_summary\": \"Customer wants to integrate their ADT system with Amazon Alexa.\",\n",
    "        \"solution_steps\": \"1. Instructed the customer to open their Amazon Alexa app. 2. Searched for the 'ADT Control' skill and enabled it. 3. The skill prompted for ADT login credentials to link the accounts. 4. Once linked, instructed Alexa to 'Discover devices'. 5. Alexa discovered the ADT system and controllable devices like lights and locks. 6. Demonstrated voice commands like 'Alexa, arm ADT in stay mode' and 'Alexa, is ADT armed?'.\",\n",
    "        \"technician_notes\": \"Smart home integration is done via 'skills' or 'actions' in the respective smart assistant's app. The process involves linking the ADT account to the third-party service.\"\n",
    "    },\n",
    "    {\n",
    "        \"problem_summary\": \"Outdoor camera power cable was cut by a landscaper.\",\n",
    "        \"solution_steps\": \"1. Located the break in the low-voltage power cable. 2. Stripped the insulation from both ends of the cut wire. 3. Used weatherproof, gel-filled B-wire connectors to splice the two positive and two negative wires back together. 4. Wrapped the entire splice securely with high-quality electrical tape. 5. Tucked the repaired section into a small weatherproof junction box for added protection. 6. Verified the camera powered back on.\",\n",
    "        \"technician_notes\": \"Low-voltage camera wires can be safely spliced. Using weatherproof connectors is essential for outdoor repairs to prevent future corrosion and failure.\"\n",
    "    },\n",
    "    {\n",
    "        \"problem_summary\": \"The system is not sending text message alerts.\",\n",
    "        \"solution_steps\": \"1. Logged into the ADT web portal. 2. Navigated to the 'Notifications' settings. 3. Confirmed the customer's phone number was entered correctly as a recipient. 4. Noticed that while the recipient was added, no actual notification rules were configured to use it. 5. Edited the 'Alarm' notification rule and added the customer's text message contact as a recipient. 6. Saved the rule. 7. Placed the system on test and triggered an alarm; the text message alert was received.\",\n",
    "        \"technician_notes\": \"Setting up alerts is a two-step process: adding the contact (the 'who') and then creating a rule to use that contact for a specific event (the 'what' and 'when').\"\n",
    "    },\n",
    "    {\n",
    "        \"problem_summary\": \"Customer wants a longer delay time to exit the house.\",\n",
    "        \"solution_steps\": \"1. Entered installer programming on the main panel. 2. Navigated to 'System Timers'. 3. Increased the 'Exit Delay' from the default 60 seconds to the customer's desired 90 seconds. 4. Also reviewed the 'Entry Delay' to ensure it provided adequate time to disarm. 5. Saved the new timer settings. 6. Armed the system to demonstrate the new, longer exit delay countdown.\",\n",
    "        \"technician_notes\": \"Entry and exit delay times are fundamental system parameters that can be easily adjusted in programming to suit the customer's needs.\"\n",
    "    },\n",
    "    # Final 20 entries\n",
    "    {\n",
    "        \"problem_summary\": \"ADT Pulse app shows 'Video device not responding'.\",\n",
    "        \"solution_steps\": \"1. Verified camera had power. 2. Power cycled camera; no change. 3. Power cycled customer's internet router and modem. 4. After the router rebooted, the camera reconnected to the network. 5. Explained to the customer that their home router had frozen, causing all Wi-Fi devices to go offline.\",\n",
    "        \"technician_notes\": \"When a Wi-Fi camera is offline but has power, the issue is often with the customer's home network, not the camera itself. Always reboot the router as a primary troubleshooting step.\"\n",
    "    },\n",
    "    {\n",
    "        \"problem_summary\": \"Smoke detector is missing from the system device list.\",\n",
    "        \"solution_steps\": \"1. Checked the panel's event log. Found an event showing the smoke detector zone was manually deleted from programming. 2. Customer's child admitted to 'playing' with the keypad and accidentally deleting it. 3. Re-enrolled the wireless smoke detector by putting the panel in programming mode and triggering the detector's tamper switch. 4. Assigned it to the correct fire zone and name. 5. Tested the detector to confirm it triggered a system fire alarm.\",\n",
    "        \"technician_notes\": \"Accidental deletion of zones can happen. The event log provides the history of what happened. Re-enrolling the device is the only fix.\"\n",
    "    },\n",
    "    {\n",
    "        \"problem_summary\": \"Key fob is not arming/disarming the system.\",\n",
    "        \"solution_steps\": \"1. Replaced the battery in the key fob (typically a CR2032). 2. Tested again; still not working. 3. The key fob had lost its programming with the panel, possibly due to a dead battery for an extended period. 4. Deleted the key fob's user slot from the panel. 5. Re-enrolled the key fob by putting the panel in wireless device enrollment mode and pressing the arm/disarm buttons on the fob as instructed. 6. The key fob was now functional.\",\n",
    "        \"technician_notes\": \"Like any wireless device, key fobs can sometimes need to be re-enrolled. A simple battery change is always the first step.\"\n",
    "    },\n",
    "    {\n",
    "        \"problem_summary\": \"System alarm went off, but the siren did not sound.\",\n",
    "        \"solution_steps\": \"1. Checked the event log, which confirmed an alarm event. 2. From the installer menu, ran a 'Siren Test'. The siren did not sound. 3. Opened the main panel and inspected the siren wiring. Found the wires had been disconnected. 4. Customer mentioned they had recent unrelated electrical work done. The electrician likely disconnected it. 5. Reconnected the siren wires to the correct terminals on the main board. 6. Ran the 'Siren Test' again; the siren was now loud and clear.\",\n",
    "        \"technician_notes\": \"Always ask about other recent work done in the home. Other trades can often inadvertently disconnect or damage alarm system components.\"\n",
    "    },\n",
    "    {\n",
    "        \"problem_summary\": \"Customer's monthly bill increased unexpectedly.\",\n",
    "        \"solution_steps\": \"1. Reviewed the customer's last two billing statements with them. 2. Identified that a promotional discount ('12 Months of Free Camera Monitoring') had expired. 3. The camera monitoring service had reverted to its standard monthly rate, causing the bill to increase. 4. Explained the expiration of the promotional period. 5. Checked their account for any new available loyalty promotions and applied a new, smaller discount to their account.\",\n",
    "        \"technician_notes\": \"Bill increases are frequently due to the expiration of promotional pricing. Having access to billing history is key to explaining the change to the customer.\"\n",
    "    },\n",
    "    {\n",
    "        \"problem_summary\": \"Outdoor camera is covered in spider webs, causing constant motion alerts.\",\n",
    "        \"solution_steps\": \"1. Used a soft brush to clear all spider webs from the camera housing, lens, and mounting arm. 2. Wiped the area around the camera with a cloth lightly sprayed with a mild insect repellent (avoiding the lens itself). 3. Explained to the customer that spiders are attracted to the warmth of the camera's IR lights at night. 4. Recommended periodic cleaning as part of regular home maintenance.\",\n",
    "        \"technician_notes\": \"Spiders are a chronic issue for outdoor IR cameras. While repellents can help, the most effective long-term solution is regular physical cleaning.\"\n",
    "    },\n",
    "    {\n",
    "        \"problem_summary\": \"Customer wants to know if they can use their own camera with the ADT system.\",\n",
    "        \"solution_steps\": \"1. Explained that for full integration (app control, cloud storage, video verification), only specific ADT-branded or approved partner cameras are compatible with the ADT Control platform. 2. Third-party cameras (e.g., Wyze, Arlo) cannot be directly enrolled into the ADT system. 3. Offered to sell and install a compatible ADT outdoor camera that would fully integrate with their existing system and app.\",\n",
    "        \"technician_notes\": \"This is a common question. The answer is almost always no. The ADT ecosystem is a closed platform for security and reliability reasons.\"\n",
    "    },\n",
    "    {\n",
    "        \"problem_summary\": \"A wireless keypad is showing a low battery warning.\",\n",
    "        \"solution_steps\": \"1. Slid the wireless keypad up and off its mounting plate. 2. Opened the battery compartment on the back. 3. Replaced the AA batteries with new lithium batteries for longer life. 4. Slid the keypad back onto its mounting plate. 5. The low battery warning cleared from the main panel.\",\n",
    "        \"technician_notes\": \"Wireless keypads are a common source of low battery alerts. Using high-quality lithium AA batteries is recommended over alkaline for better performance and longevity.\"\n",
    "    },\n",
    "    {\n",
    "        \"problem_summary\": \"Customer is moving and wants to take their system with them.\",\n",
    "        \"solution_steps\": \"1. Explained the ADT Mover's Program. 2. Advised that while they can take certain wireless components (sensors, cameras), the main panel and hardwired components are considered part of the home. 3. Offered them a significant discount on a new system installation at their new home as part of the Mover's Program. 4. Scheduled a technician to professionally uninstall the cameras and smart lock for them to take.\",\n",
    "        \"technician_notes\": \"This is a sales and customer retention opportunity. Be familiar with the current Mover's Program offers to provide the best value and retain the customer.\"\n",
    "    },\n",
    "    {\n",
    "        \"problem_summary\": \"The system automatically disarmed itself.\",\n",
    "        \"solution_steps\": \"1. Reviewed the event log. Found a 'Disarm by Schedule' event at 7:00 AM. 2. Checked the system's schedules with the customer. 3. Found a schedule named 'Weekday Disarm' that was set to disarm the system every weekday morning. The customer did not remember setting it up. 4. Deleted the unwanted schedule. 5. The system no longer disarmed automatically.\",\n",
    "        \"technician_notes\": \"Unexpected system behavior is often caused by a forgotten schedule or automation rule. The event log is the first place to look to diagnose the cause.\"\n",
    "    },\n",
    "    {\n",
    "        \"problem_summary\": \"Hardwired siren has been water damaged from a roof leak.\",\n",
    "        \"solution_steps\": \"1. Visually confirmed water damage to the siren in the attic. 2. Disconnected power to the siren circuit. 3. Removed the damaged siren. 4. Installed a new, identical siren in a dry location nearby. 5. Reconnected the wiring and restored power. 6. Tested the siren from the panel to confirm it was functional.\",\n",
    "        \"technician_notes\": \"Water damage to electronic components is unrepairable. The device must be replaced, and the source of the leak must be addressed by the homeowner.\"\n",
    "    },\n",
    "    {\n",
    "        \"problem_summary\": \"Customer wants to add a second keypad in their master bedroom.\",\n",
    "        \"solution_steps\": \"1. Discussed options: a hardwired keypad (requiring wiring) or a wireless keypad. 2. The customer chose the simpler wireless keypad. 3. Enrolled the new wireless keypad into the system from the main panel. 4. Mounted the keypad on the wall in the master bedroom. 5. Tested all functions (arming, disarming, status check) from the new keypad.\",\n",
    "        \"technician_notes\": \"Wireless keypads are an easy upsell and provide significant convenience for the customer. Enrollment is straightforward.\"\n",
    "    },\n",
    "    {\n",
    "        \"problem_summary\": \"The ADT lawn sign was stolen.\",\n",
    "        \"solution_steps\": \"1. Confirmed with the customer that their sign was missing. 2. Provided a new ADT lawn sign and window decals from truck stock. 3. Advised them on placing it in a highly visible location. 4. This is a no-charge service call to support the deterrent value of the system.\",\n",
    "        \"technician_notes\": \"Lawn signs and decals are a key part of the system's deterrent effect. Replacing them is important for the customer.\"\n",
    "    },\n",
    "    {\n",
    "        \"problem_summary\": \"Customer's smoke detectors are over 10 years old.\",\n",
    "        \"solution_steps\": \"1. Checked the manufacturing date on all smoke detectors. They were 11 years old. 2. Explained to the customer that NFPA standards recommend replacing smoke detectors every 10 years, as the sensors lose sensitivity over time. 3. Provided a quote to replace all smoke detectors in the home with new, compatible models. 4. The customer approved the work. 5. Replaced all detectors, enrolled them in the system, and performed a full fire alarm test.\",\n",
    "        \"technician_notes\": \"Proactively identifying and replacing expired life-safety devices is a critical responsibility. This is a safety issue and a sales opportunity.\"\n",
    "    },\n",
    "    {\n",
    "        \"problem_summary\": \"A 'dialer delay' setting is preventing immediate alarm transmission.\",\n",
    "        \"solution_steps\": \"1. Customer reported a break-in where the alarm was destroyed before it could send a signal. 2. Checked system programming; a 30-second 'dialer delay' was enabled. This gives the user time to disarm before signaling, but also gives an intruder time to disable the panel. 3. Discussed the pros and cons with the customer. 4. Disabled the dialer delay, so alarms would now transmit instantly. 5. This increases the chance of false alarm fines but also increases security.\",\n",
    "        \"technician_notes\": \"Dialer delay is a trade-off between preventing false alarms and immediate reporting. The decision to disable it should be made with full customer understanding and consent.\"\n",
    "    },\n",
    "    {\n",
    "        \"problem_summary\": \"Customer's power bill is high; they suspect the security system.\",\n",
    "        \"solution_steps\": \"1. Explained that a standard security system uses very little power, similar to a single LED light bulb. 2. Used a Kill A Watt meter to measure the power draw of the main panel's transformer; it was consuming only 5-7 watts. 3. Explained that the system is not a significant contributor to their power bill. 4. Suggested they look at larger appliances like HVAC or pool pumps as more likely causes.\",\n",
    "        \"technician_notes\": \"Being able to quantify the system's low power usage can reassure customers and provide good service, even if it's not a technical problem with the system itself.\"\n",
    "    },\n",
    "    {\n",
    "        \"problem_summary\": \"The ADT system is interfering with an old analog baby monitor.\",\n",
    "        \"solution_steps\": \"1. The customer's baby monitor was buzzing whenever the system was armed. 2. Identified that the wireless sensors in the ADT system (operating at 345 MHz) were causing interference with the old baby monitor. 3. Explained that modern, digital baby monitors (which use frequency-hopping spread spectrum technology) are not susceptible to this type of interference. 4. The only solution was for the customer to replace their outdated baby monitor.\",\n",
    "        \"technician_notes\": \"Interference issues with other wireless devices can occur. It's often the case that the non-ADT device is the one that needs to be upgraded or moved.\"\n",
    "    },\n",
    "    {\n",
    "        \"problem_summary\": \"A medical panic pendant is not working.\",\n",
    "        \"solution_steps\": \"1. Replaced the battery in the pendant. The issue persisted. 2. The pendant had been dropped in water. 3. Opened the pendant; the circuit board showed clear signs of water damage and corrosion. 4. The device was unrepairable. 5. Provided the customer with a new, water-resistant medical panic pendant and enrolled it in their system. 6. Tested the new pendant to ensure it sent a signal to the monitoring station.\",\n",
    "        \"technician_notes\": \"Medical pendants are often exposed to harsh conditions. Water damage is common and requires replacement of the unit.\"\n",
    "    },\n",
    "    {\n",
    "        \"problem_summary\": \"System reports 'Expander Trouble'.\",\n",
    "        \"solution_steps\": \"1. Located the hardwired zone expander module connected to the panel's data bus. 2. Checked the four-wire connection (power positive, power negative, data in, data out); a data wire was loose. 3. Reseated the wire securely. 4. Power cycled the main panel. 5. The 'Expander Trouble' message cleared. 6. Tested a sensor connected to the expander to confirm it was communicating correctly.\",\n",
    "        \"technician_notes\": \"This error points directly to a communication or power issue with a zone expander module. The most common cause is a loose wire on the data bus.\"\n",
    "    },\n",
    "    {\n",
    "        \"problem_summary\": \"Customer wants to ensure the system works during a long internet outage.\",\n",
    "        \"solution_steps\": \"1. Confirmed they had an active cellular communicator installed. 2. Explained that during an internet outage, the system automatically and seamlessly switches to the cellular backup. 3. Demonstrated this by unplugging the Ethernet cable from their gateway. The app still worked over the cellular connection. 4. Explained that Z-Wave devices and automations would continue to work locally from the panel, but app control would rely on the cellular link.\",\n",
    "        \"technician_notes\": \"Customer education about the functionality of the cellular backup is key to providing peace of mind and demonstrating the value of the service.\"\n",
    "    }\n",
    "]\n",
    "adt_corpus_data.extend(remaining_60)\n",
    "\n",
    "# Create the Pandas DataFrame\n",
    "df_corpus = pd.DataFrame(adt_corpus_data)\n",
    "df_corpus['problem_summary'] = df_corpus['problem_summary'].str.replace(r'\\bADT\\b', 'trilink', regex=True)\n",
    "df_corpus['solution_steps'] = df_corpus['solution_steps'].str.replace(r'\\bADT\\b', 'trilink', regex=True)\n",
    "df_corpus['technician_notes'] = df_corpus['technician_notes'].str.replace(r'\\bADT\\b', 'trilink', regex=True)\n",
    "\n",
    "\n",
    "# Display the shape and the first few rows of the DataFrame\n",
    "print(f\"Successfully created DataFrame with shape: {df_corpus.shape}\")\n",
    "print(\"Sample of the dataset:\")\n",
    "(df_corpus.head())\n"
   ]
  },
  {
   "cell_type": "code",
   "execution_count": 13,
   "id": "b696b010",
   "metadata": {},
   "outputs": [
    {
     "name": "stdout",
     "output_type": "stream",
     "text": [
      "✅ Uploaded 100 rows to BigQuery!\n"
     ]
    }
   ],
   "source": [
    "job = client.load_table_from_dataframe(df_corpus, \"trilink-472019.database.device_problem_solution\")\n",
    "job.result()\n",
    "print(f\"✅ Uploaded {len(df_corpus)} rows to BigQuery!\")"
   ]
  },
  {
   "cell_type": "markdown",
   "id": "169543f2",
   "metadata": {},
   "source": [
    "##### Create Embeddings table for the problem solution with embeddings added for problem"
   ]
  },
  {
   "cell_type": "code",
   "execution_count": 14,
   "id": "df1c2a68",
   "metadata": {},
   "outputs": [
    {
     "data": {
      "application/vnd.jupyter.widget-view+json": {
       "model_id": "d53816fe50e447d1bcbc62041da6e7b8",
       "version_major": 2,
       "version_minor": 0
      },
      "text/plain": [
       "Query is running:   0%|          |"
      ]
     },
     "metadata": {},
     "output_type": "display_data"
    },
    {
     "data": {
      "application/vnd.microsoft.datawrangler.viewer.v0+json": {
       "columns": [
        {
         "name": "index",
         "rawType": "int64",
         "type": "integer"
        }
       ],
       "ref": "d7e67c4a-1da4-4c26-8acb-ddae5057345a",
       "rows": [],
       "shape": {
        "columns": 0,
        "rows": 0
       }
      },
      "text/html": [
       "<div>\n",
       "<style scoped>\n",
       "    .dataframe tbody tr th:only-of-type {\n",
       "        vertical-align: middle;\n",
       "    }\n",
       "\n",
       "    .dataframe tbody tr th {\n",
       "        vertical-align: top;\n",
       "    }\n",
       "\n",
       "    .dataframe thead th {\n",
       "        text-align: right;\n",
       "    }\n",
       "</style>\n",
       "<table border=\"1\" class=\"dataframe\">\n",
       "  <thead>\n",
       "    <tr style=\"text-align: right;\">\n",
       "      <th></th>\n",
       "    </tr>\n",
       "  </thead>\n",
       "  <tbody>\n",
       "  </tbody>\n",
       "</table>\n",
       "</div>"
      ],
      "text/plain": [
       "Empty DataFrame\n",
       "Columns: []\n",
       "Index: []"
      ]
     },
     "execution_count": 14,
     "metadata": {},
     "output_type": "execute_result"
    }
   ],
   "source": [
    "%%bigquery\n",
    "CREATE OR REPLACE TABLE `trilink-472019.database.device_problem_solution_embeddings` AS\n",
    "SELECT \n",
    "  problem_summary,\n",
    "  solution_steps,\n",
    "  technician_notes,\n",
    "  (SELECT ml_generate_embedding_result \n",
    "   FROM ML.GENERATE_EMBEDDING(\n",
    "     MODEL `trilink-472019.database.text_embedding_005_model`,\n",
    "     (SELECT problem_summary AS content),\n",
    "     STRUCT(TRUE AS flatten_json_output)\n",
    "   )\n",
    "  ) AS problem_embedding\n",
    "FROM `trilink-472019.database.device_problem_solution`;"
   ]
  },
  {
   "cell_type": "markdown",
   "id": "3e50edf1",
   "metadata": {},
   "source": [
    "- test the embedding table"
   ]
  },
  {
   "cell_type": "code",
   "execution_count": 15,
   "id": "2651cd97",
   "metadata": {},
   "outputs": [
    {
     "data": {
      "application/vnd.jupyter.widget-view+json": {
       "model_id": "4871ee2474b7493da2be2bef17911e1f",
       "version_major": 2,
       "version_minor": 0
      },
      "text/plain": [
       "Query is running:   0%|          |"
      ]
     },
     "metadata": {},
     "output_type": "display_data"
    },
    {
     "data": {
      "application/vnd.jupyter.widget-view+json": {
       "model_id": "03c40187400e41659efee0928ee3413b",
       "version_major": 2,
       "version_minor": 0
      },
      "text/plain": [
       "Downloading:   0%|          |"
      ]
     },
     "metadata": {},
     "output_type": "display_data"
    },
    {
     "data": {
      "application/vnd.microsoft.datawrangler.viewer.v0+json": {
       "columns": [
        {
         "name": "index",
         "rawType": "int64",
         "type": "integer"
        },
        {
         "name": "matched_problem",
         "rawType": "object",
         "type": "string"
        },
        {
         "name": "recommended_solution",
         "rawType": "object",
         "type": "string"
        },
        {
         "name": "technician_notes",
         "rawType": "object",
         "type": "string"
        },
        {
         "name": "distance",
         "rawType": "float64",
         "type": "float"
        }
       ],
       "ref": "21af5fff-1863-40a5-8ca3-1b021048f7cc",
       "rows": [
        [
         "0",
         "trilink outdoor camera has a blurry or foggy image, especially at night.",
         "1. Cleaned the camera's outer lens dome with a microfiber cloth. The image remained foggy.\n2. Powered down the camera.\n3. Carefully unscrewed the outer dome/casing.\n4. Found moisture had gotten inside the housing, causing condensation on the inner lens.\n5. Used a lint-free cloth to gently dry the inside of the dome and the camera lens.\n6. Inspected the rubber gasket seal around the housing. It was cracked and brittle from sun exposure.\n7. Replaced the weatherproof gasket with a new one.\n8. Reassembled the camera housing, ensuring a tight seal.\n9. Powered the camera back on and verified the image was clear in both day and night (IR) mode.",
         "Weather seals on outdoor cameras degrade over time. A compromised seal is the most common cause of internal condensation. Replacing the gasket is critical for a long-term fix.",
         "0.18402871712387214"
        ],
        [
         "1",
         "Outdoor camera's IR LEDs are reflecting off a close surface, causing a white-out glare at night.",
         "1. Observed the night vision view. The camera was mounted directly under a white soffit. 2. The IR light was bouncing off the soffit directly into the lens, creating a bright glare that blinded the camera. 3. Used a small extension mount to lower the camera by 3 inches, moving it away from the reflective surface. 4. Alternatively, used the camera's built-in 'IR Control' to turn off the onboard LEDs. 5. Installed a separate, standalone IR illuminator a few feet away from the camera, aimed at the same target area. 6. The glare was eliminated and the night vision image was clear.",
         "IR glare, or 'IR bounce', is a common installation mistake. Never point a camera's IR LEDs at a close, reflective surface. Using an external illuminator is the professional solution for tricky lighting situations.",
         "0.2779241654839477"
        ],
        [
         "2",
         "Camera video is choppy and pixelated.",
         "1. Logged into the customer's router to check for network congestion. Found multiple devices streaming 4K video, consuming most of the available bandwidth. 2. Connected the camera via an Ethernet cable temporarily to rule out Wi-Fi issues; the video was still choppy. 3. Lowered the camera's video quality setting in the trilink portal from 'High' to 'Medium'. 4. The video stream became smooth and stable. 5. Advised the customer that their current internet plan did not have enough upload bandwidth to support multiple cameras on the highest quality setting.",
         "Customers often overlook their internet plan's upload speed, which is critical for camera performance. When multiple cameras are installed, lowering the video quality or upgrading the internet plan are the only solutions.",
         "0.29027964168674447"
        ]
       ],
       "shape": {
        "columns": 4,
        "rows": 3
       }
      },
      "text/html": [
       "<div>\n",
       "<style scoped>\n",
       "    .dataframe tbody tr th:only-of-type {\n",
       "        vertical-align: middle;\n",
       "    }\n",
       "\n",
       "    .dataframe tbody tr th {\n",
       "        vertical-align: top;\n",
       "    }\n",
       "\n",
       "    .dataframe thead th {\n",
       "        text-align: right;\n",
       "    }\n",
       "</style>\n",
       "<table border=\"1\" class=\"dataframe\">\n",
       "  <thead>\n",
       "    <tr style=\"text-align: right;\">\n",
       "      <th></th>\n",
       "      <th>matched_problem</th>\n",
       "      <th>recommended_solution</th>\n",
       "      <th>technician_notes</th>\n",
       "      <th>distance</th>\n",
       "    </tr>\n",
       "  </thead>\n",
       "  <tbody>\n",
       "    <tr>\n",
       "      <th>0</th>\n",
       "      <td>trilink outdoor camera has a blurry or foggy i...</td>\n",
       "      <td>1. Cleaned the camera's outer lens dome with a...</td>\n",
       "      <td>Weather seals on outdoor cameras degrade over ...</td>\n",
       "      <td>0.184029</td>\n",
       "    </tr>\n",
       "    <tr>\n",
       "      <th>1</th>\n",
       "      <td>Outdoor camera's IR LEDs are reflecting off a ...</td>\n",
       "      <td>1. Observed the night vision view. The camera ...</td>\n",
       "      <td>IR glare, or 'IR bounce', is a common installa...</td>\n",
       "      <td>0.277924</td>\n",
       "    </tr>\n",
       "    <tr>\n",
       "      <th>2</th>\n",
       "      <td>Camera video is choppy and pixelated.</td>\n",
       "      <td>1. Logged into the customer's router to check ...</td>\n",
       "      <td>Customers often overlook their internet plan's...</td>\n",
       "      <td>0.290280</td>\n",
       "    </tr>\n",
       "  </tbody>\n",
       "</table>\n",
       "</div>"
      ],
      "text/plain": [
       "                                     matched_problem  \\\n",
       "0  trilink outdoor camera has a blurry or foggy i...   \n",
       "1  Outdoor camera's IR LEDs are reflecting off a ...   \n",
       "2              Camera video is choppy and pixelated.   \n",
       "\n",
       "                                recommended_solution  \\\n",
       "0  1. Cleaned the camera's outer lens dome with a...   \n",
       "1  1. Observed the night vision view. The camera ...   \n",
       "2  1. Logged into the customer's router to check ...   \n",
       "\n",
       "                                    technician_notes  distance  \n",
       "0  Weather seals on outdoor cameras degrade over ...  0.184029  \n",
       "1  IR glare, or 'IR bounce', is a common installa...  0.277924  \n",
       "2  Customers often overlook their internet plan's...  0.290280  "
      ]
     },
     "execution_count": 15,
     "metadata": {},
     "output_type": "execute_result"
    }
   ],
   "source": [
    "\n",
    "%%bigquery\n",
    "\n",
    "WITH closest_match AS (\n",
    "  SELECT \n",
    "    vs.base.problem_summary AS matched_problem,\n",
    "    vs.base.solution_steps AS recommended_solution,\n",
    "    vs.base.technician_notes AS technician_notes,\n",
    "    vs.distance\n",
    "  FROM VECTOR_SEARCH(\n",
    "    TABLE `trilink-472019.database.device_problem_solution_embeddings`,\n",
    "    'problem_embedding',\n",
    "    (\n",
    "      SELECT ml_generate_embedding_result AS query_embedding\n",
    "      FROM ML.GENERATE_EMBEDDING(\n",
    "        MODEL `trilink-472019.database.text_embedding_005_model`,\n",
    "        (SELECT \"Why is the outdoor camera fogging up on the app and the display from device is very blurry \" AS content)\n",
    "      )\n",
    "    ),\n",
    "    top_k => 3,\n",
    "    distance_type => 'COSINE'\n",
    "  ) AS vs\n",
    ")\n",
    "SELECT \n",
    "  matched_problem,\n",
    "  recommended_solution,\n",
    "  technician_notes,\n",
    "  distance\n",
    "FROM closest_match;"
   ]
  },
  {
   "cell_type": "markdown",
   "id": "efd92d5c",
   "metadata": {},
   "source": [
    "#### Create a corpus of 100 tickets crated by customers with the ticket ID, issue and image taken of the issue"
   ]
  },
  {
   "cell_type": "code",
   "execution_count": 4,
   "id": "4b70ab5f",
   "metadata": {},
   "outputs": [
    {
     "name": "stdout",
     "output_type": "stream",
     "text": [
      "Successfully created DataFrame with shape: (100, 5)\n"
     ]
    },
    {
     "data": {
      "application/vnd.microsoft.datawrangler.viewer.v0+json": {
       "columns": [
        {
         "name": "index",
         "rawType": "int64",
         "type": "integer"
        },
        {
         "name": "ticket_id",
         "rawType": "object",
         "type": "string"
        },
        {
         "name": "customer_id",
         "rawType": "object",
         "type": "string"
        },
        {
         "name": "technician_id",
         "rawType": "object",
         "type": "string"
        },
        {
         "name": "issue_description",
         "rawType": "object",
         "type": "string"
        },
        {
         "name": "image_generation_prompt",
         "rawType": "object",
         "type": "string"
        }
       ],
       "ref": "9f953527-1f5d-4fba-acc5-3a875e661d61",
       "rows": [
        [
         "95",
         "TICKET_096",
         "C00043337",
         "tech001",
         "My doorbell transformer is in the attic and I think it has failed. The doorbell has no power.",
         "A photo taken by a technician in a dark attic. A hand is holding a voltage multimeter with its probes on the two screw terminals of a doorbell transformer. The multimeter's screen is in sharp focus and clearly reads '0.0 VAC', documenting the failed transformer."
        ],
        [
         "96",
         "TICKET_097",
         "C00066080",
         "tech003",
         "The indoor camera keeps detecting the reflection of my TV as motion.",
         "A screenshot of a recorded motion event from an indoor camera. The video clip shows a dark room, but the reflection of a bright, flashing TV screen is clearly visible in a glass-framed picture hanging on the wall. A red motion detection box is drawn around the reflection in the picture frame."
        ],
        [
         "97",
         "TICKET_098",
         "C00009030",
         "tech002",
         "My doorbell is not sending any motion alerts at all, but it records the events. I've checked the notification settings.",
         "A screenshot of a phone's notification settings for the trilink app. The 'Motion Notifications' toggle switch is clearly visible and is in the 'On' position. A second screenshot next to it shows the app's event log full of motion recordings, proving that notifications are enabled but not working."
        ],
        [
         "98",
         "TICKET_099",
         "C00061435",
         "tech005",
         "The plastic mount for my indoor camera broke. The camera is fine but I can't stand it up anymore.",
         "A photo of a white trilink indoor camera lying on its side on a desk. Next to it is the broken plastic stand. The stand has a clean snap where the thin stem connects to the round base, clearly showing the point of failure."
        ],
        [
         "99",
         "TICKET_100",
         "C00091954",
         "tech004",
         "My outdoor camera is offline. I checked the power supply and it has a green light, but the camera itself has no lights on at all.",
         "A close-up photo of the trilink power adapter for an outdoor camera, plugged into an outlet. The small green LED on the adapter is clearly lit. The photo is taken in a way that the cable can be seen running out of frame, implying it leads to a dead camera."
        ]
       ],
       "shape": {
        "columns": 5,
        "rows": 5
       }
      },
      "text/html": [
       "<div>\n",
       "<style scoped>\n",
       "    .dataframe tbody tr th:only-of-type {\n",
       "        vertical-align: middle;\n",
       "    }\n",
       "\n",
       "    .dataframe tbody tr th {\n",
       "        vertical-align: top;\n",
       "    }\n",
       "\n",
       "    .dataframe thead th {\n",
       "        text-align: right;\n",
       "    }\n",
       "</style>\n",
       "<table border=\"1\" class=\"dataframe\">\n",
       "  <thead>\n",
       "    <tr style=\"text-align: right;\">\n",
       "      <th></th>\n",
       "      <th>ticket_id</th>\n",
       "      <th>customer_id</th>\n",
       "      <th>technician_id</th>\n",
       "      <th>issue_description</th>\n",
       "      <th>image_generation_prompt</th>\n",
       "    </tr>\n",
       "  </thead>\n",
       "  <tbody>\n",
       "    <tr>\n",
       "      <th>95</th>\n",
       "      <td>TICKET_096</td>\n",
       "      <td>C00043337</td>\n",
       "      <td>tech001</td>\n",
       "      <td>My doorbell transformer is in the attic and I ...</td>\n",
       "      <td>A photo taken by a technician in a dark attic....</td>\n",
       "    </tr>\n",
       "    <tr>\n",
       "      <th>96</th>\n",
       "      <td>TICKET_097</td>\n",
       "      <td>C00066080</td>\n",
       "      <td>tech003</td>\n",
       "      <td>The indoor camera keeps detecting the reflecti...</td>\n",
       "      <td>A screenshot of a recorded motion event from a...</td>\n",
       "    </tr>\n",
       "    <tr>\n",
       "      <th>97</th>\n",
       "      <td>TICKET_098</td>\n",
       "      <td>C00009030</td>\n",
       "      <td>tech002</td>\n",
       "      <td>My doorbell is not sending any motion alerts a...</td>\n",
       "      <td>A screenshot of a phone's notification setting...</td>\n",
       "    </tr>\n",
       "    <tr>\n",
       "      <th>98</th>\n",
       "      <td>TICKET_099</td>\n",
       "      <td>C00061435</td>\n",
       "      <td>tech005</td>\n",
       "      <td>The plastic mount for my indoor camera broke. ...</td>\n",
       "      <td>A photo of a white trilink indoor camera lying...</td>\n",
       "    </tr>\n",
       "    <tr>\n",
       "      <th>99</th>\n",
       "      <td>TICKET_100</td>\n",
       "      <td>C00091954</td>\n",
       "      <td>tech004</td>\n",
       "      <td>My outdoor camera is offline. I checked the po...</td>\n",
       "      <td>A close-up photo of the trilink power adapter ...</td>\n",
       "    </tr>\n",
       "  </tbody>\n",
       "</table>\n",
       "</div>"
      ],
      "text/plain": [
       "     ticket_id customer_id technician_id  \\\n",
       "95  TICKET_096   C00043337       tech001   \n",
       "96  TICKET_097   C00066080       tech003   \n",
       "97  TICKET_098   C00009030       tech002   \n",
       "98  TICKET_099   C00061435       tech005   \n",
       "99  TICKET_100   C00091954       tech004   \n",
       "\n",
       "                                    issue_description  \\\n",
       "95  My doorbell transformer is in the attic and I ...   \n",
       "96  The indoor camera keeps detecting the reflecti...   \n",
       "97  My doorbell is not sending any motion alerts a...   \n",
       "98  The plastic mount for my indoor camera broke. ...   \n",
       "99  My outdoor camera is offline. I checked the po...   \n",
       "\n",
       "                              image_generation_prompt  \n",
       "95  A photo taken by a technician in a dark attic....  \n",
       "96  A screenshot of a recorded motion event from a...  \n",
       "97  A screenshot of a phone's notification setting...  \n",
       "98  A photo of a white trilink indoor camera lying...  \n",
       "99  A close-up photo of the trilink power adapter ...  "
      ]
     },
     "execution_count": 4,
     "metadata": {},
     "output_type": "execute_result"
    }
   ],
   "source": [
    "# Corpus of 100 handcrafted, unique ADT issue tickets with revised, first-person image prompts.\n",
    "# This data is ready to be loaded into a Pandas DataFrame.\n",
    "\n",
    "adt_issue_ticket_data = [\n",
    "    # --- Tickets 1-10: Panel & Connectivity ---\n",
    "    {'ticket_id': 'TICKET_001', 'customer_id': 'C00044659', 'technician_id': 'tech002', \n",
    "     'issue_description': \"My main Security Panel is beeping every minute with a 'System Low Battery' warning. Our power went out for a few hours last night during the storm, but it's been back on all morning. The warning won't clear and the beeping is driving my family crazy.\", \n",
    "     'image_generation_prompt': \"A photo taken by a customer, looking directly at their ADT Command touchscreen panel on a wall. The screen is lit, displaying a prominent yellow warning banner at the top with the text 'System Low Battery'. The rest of the screen is idle. The shot is slightly angled, capturing a bit of the surrounding wall. The focus is sharp on the warning message.\"},\n",
    "    {'ticket_id': 'TICKET_002', 'customer_id': 'C00025032', 'technician_id': 'tech001', \n",
    "     'issue_description': \"The touchscreen on our Security Panel is completely frozen. The time is stuck at 3:15 AM and none of the buttons work when I touch them. I can't arm or disarm the system. I tried turning the breaker off and on but it didn't help.\", \n",
    "     'image_generation_prompt': \"A first-person perspective photo of a finger touching the 'Disarm' button on a brightly lit ADT touchscreen. The screen appears completely frozen; there is no visual feedback, highlight, or animation from the button being pressed. The time on the screen is stuck at '3:15 AM'. The image clearly documents the panel's unresponsiveness.\"},\n",
    "    {'ticket_id': 'TICKET_003', 'customer_id': 'C00049895', 'technician_id': 'tech004', \n",
    "     'issue_description': \"There's a 'Comm Fail' error on our security panel. I can't see the system status on my app anymore, it just says 'Status Unavailable'. Our internet is working fine for everything else in the house.\", \n",
    "     'image_generation_prompt': \"A slightly blurry, handheld photo of an older ADT keypad. A yellow trouble light is glowing. The small LCD screen is in sharp focus, showing the error text 'CHECK 103 COMM TROUBLE'. The keypad is mounted on a wooden wall panel.\"},\n",
    "    {'ticket_id': 'TICKET_004', 'customer_id': 'C00095735', 'technician_id': 'tech005', \n",
    "     'issue_description': \"My panel keeps losing AC power and then getting it back every few minutes, causing it to beep constantly. I've checked the outlet and the plug seems loose. The transformer block feels wobbly in the socket.\", \n",
    "     'image_generation_prompt': \"A slightly angled, close-up photo of a white wall outlet. A large, black ADT power transformer is plugged in, but it is visibly sagging and partially pulled out of the socket, exposing the metal prongs. The focus is sharp on the poor connection between the plug and the outlet.\"},\n",
    "    {'ticket_id': 'TICKET_005', 'customer_id': 'C00078974', 'technician_id': 'tech002', \n",
    "     'issue_description': \"I can't arm my system. The panel says 'Device Fault' but doesn't tell me which sensor is the problem. All my doors and windows are closed. This just started happening today.\", \n",
    "     'image_generation_prompt': \"A photo of an ADT Command panel screen taken by a user. The screen displays a generic error pop-up in the center. The pop-up text reads, 'Device Fault: The system has detected a problem and cannot be armed.' The focus is sharp on this frustratingly vague message.\"},\n",
    "    {'ticket_id': 'TICKET_006', 'customer_id': 'C00088522', 'technician_id': 'tech003', \n",
    "     'issue_description': \"I tried to add a new Z-Wave smart plug and now half of my lights and my thermostat are not responding. The panel says 'Z-Wave Network Failure'.\", \n",
    "     'image_generation_prompt': \"A smartphone photo of an ADT panel screen. The screen is displaying a red error message 'Z-Wave Network Failure'. In the background, slightly out of focus, a smart lamp that should be on is dark, and a smart thermostat on the wall is blank, connecting the error to the real-world impact.\"},\n",
    "    {'ticket_id': 'TICKET_007', 'customer_id': 'C00054731', 'technician_id': 'tech001', \n",
    "     'issue_description': \"The time on my keypad is off by about an hour and a half. It didn't update for Daylight Saving Time and now it's drifting even more. My schedules are all running at the wrong times.\", \n",
    "     'image_generation_prompt': \"A direct photo of an ADT touchscreen panel's home screen. A digital clock widget on the panel clearly shows the time as '8:05 AM'. A smartphone is held next to the panel, and its screen, also in the photo, clearly shows the correct time as '9:35 AM'. This side-by-side comparison unequivocally shows the time discrepancy.\"},\n",
    "    {'ticket_id': 'TICKET_008', 'customer_id': 'C00042917', 'technician_id': 'tech004', \n",
    "     'issue_description': \"I need to reset my master code. My ex-partner knows the code and I need to remove their access immediately for security reasons. I can't find where to do this in the app.\", \n",
    "     'image_generation_prompt': \"A sharp, clear screenshot taken from a smartphone, showing the 'User Management' screen of the ADT Control app. A user named 'Ex-Partner' is listed with an 'Admin' role. The image documents the need to remove this specific user profile for security reasons.\"},\n",
    "    {'ticket_id': 'TICKET_009', 'customer_id': 'C00076144', 'technician_id': 'tech005', \n",
    "     'issue_description': \"The voice on my security panel that announces when doors open is extremely loud and wakes up my baby. How do I lower the volume or turn it off?\", \n",
    "     'image_generation_prompt': \"A photo of the 'Sound Settings' menu on an ADT Command panel. A finger is shown moving the 'Voice Volume' slider from high towards low. In the background, a baby's nursery door is visible, implying the reason for the adjustment.\"},\n",
    "    {'ticket_id': 'TICKET_010', 'customer_id': 'C00008654', 'technician_id': 'tech001', \n",
    "     'issue_description': \"My security system is interfering with my garage door opener. When I arm the system to 'Away', my garage door remote stops working. It's a very old opener from the 90s.\", \n",
    "     'image_generation_prompt': \"A first-person photo taken inside a garage. A hand holds up an old, beige garage door remote and presses the button. The small red LED on the remote is lit, but the garage door is not moving. In the background, the small keypad for the security system shows a red light, indicating the system is armed.\"},\n",
    "\n",
    "    # --- Tickets 11-20: Camera & Video ---\n",
    "    {'ticket_id': 'TICKET_011', 'customer_id': 'C00004651', 'technician_id': 'tech003', \n",
    "     'issue_description': \"My outdoor camera over the garage has a big spider web right in front of the lens. Every time the wind blows, I get a motion alert on my phone. The night vision is also just a big white blur because of it.\", \n",
    "     'image_generation_prompt': \"A clear, close-up photo taken with a smartphone, looking up at an ADT outdoor camera. The entire camera lens is obscured by a thick, messy spider web. Strands of the web are catching the daylight, making the lens blurry and unusable. The focus is sharp on the web itself, clearly showing it as the source of the problem.\"},\n",
    "    {'ticket_id': 'TICKET_012', 'customer_id': 'C00086085', 'technician_id': 'tech002', \n",
    "     'issue_description': \"The image from my indoor camera is completely black and white during the day. It used to be color, but now it seems to be stuck in night vision mode. I've tried unplugging it.\", \n",
    "     'image_generation_prompt': \"A photo of a smartphone screen displaying the live feed from an ADT indoor camera. The scene is a brightly lit living room with sunlight coming through a window, but the entire video feed is in grainy, high-contrast black and white. The phone is held up against the actual colorful living room, showing the stark contrast.\"},\n",
    "    {'ticket_id': 'TICKET_013', 'customer_id': 'C00071155', 'technician_id': 'tech001', \n",
    "     'issue_description': \"There are small black dots or specks all over my indoor camera's video feed. I've wiped the outside of the lens but they're still there. It's like there is dust inside it.\", \n",
    "     'image_generation_prompt': \"A screenshot of a video feed from an ADT indoor camera. The image of the room is clear, but it is marred by several small, distinct, out-of-focus black specks, as if there is dust on the sensor. The specks are stationary as the scene changes slightly. The focus is on these visual artifacts.\"},\n",
    "    {'ticket_id': 'TICKET_014', 'customer_id': 'C00028555', 'technician_id': 'tech005', \n",
    "     'issue_description': \"The power cord for my outdoor camera was chewed through by a squirrel. The camera is offline. The wire is completely severed.\", \n",
    "     'image_generation_prompt': \"A close-up, handheld photo of a black power cable for a security camera. The cable is completely severed, with frayed edges and visible copper wires sticking out. The photo is taken against the siding of a house, where the camera is mounted just out of frame.\"},\n",
    "    {'ticket_id': 'TICKET_015', 'customer_id': 'C00052408', 'technician_id': 'tech004', \n",
    "     'issue_description': \"My indoor camera is pointing at the ceiling. It looks like the ball joint on the stand has become loose and it won't hold its position anymore.\", \n",
    "     'image_generation_prompt': \"A photo of a white ADT indoor camera sitting on a wooden mantlepiece. The camera body has drooped all the way down on its stand's ball joint and is now pointing directly at the ceiling. The image clearly shows the stand's mechanical failure.\"},\n",
    "    {'ticket_id': 'TICKET_016', 'customer_id': 'C00043167', 'technician_id': 'tech003', \n",
    "     'issue_description': \"I can't get the SD card to work in my camera for 24/7 recording. I've tried formatting it but the app says 'No SD Card Detected'. It's a brand new SanDisk card.\", \n",
    "     'image_generation_prompt': \"A clear screenshot from a smartphone showing the ADT app's camera storage settings. A prominent red error message reads 'No SD Card Detected. Please insert a compatible card and format.'\"},\n",
    "    {'ticket_id': 'TICKET_017', 'customer_id': 'C00071465', 'technician_id': 'tech001', \n",
    "     'issue_description': \"The timestamp on my recorded video clips is wrong. It's about 3 hours ahead. The time on my main panel is correct, but the camera seems to be in the wrong time zone.\", \n",
    "     'image_generation_prompt': \"A screenshot of a recorded video clip playing in the ADT app. The video shows a mail carrier at the door in bright daylight. The timestamp overlaid on the video clearly reads '7:15 PM'. This stark contrast between the visual evidence and the timestamp highlights the issue.\"},\n",
    "    {'ticket_id': 'TICKET_018', 'customer_id': 'C00060949', 'technician_id': 'tech002', \n",
    "     'issue_description': \"My outdoor camera's video feed is flickering like an old TV, with horizontal lines running through it. It's getting worse.\", \n",
    "     'image_generation_prompt': \"A short, looping video clip (or a photo representing it) taken from a smartphone showing the live feed of an ADT camera. The image is distorted with rolling horizontal static bars and a constant flicker, making the underlying scene of a backyard difficult to see clearly.\"},\n",
    "    {'ticket_id': 'TICKET_019', 'customer_id': 'C00020258', 'technician_id': 'tech005', \n",
    "     'issue_description': \"The motion detection on my camera seems to have a huge delay. The clip starts recording when the person is already walking away, and I miss the important part. It used to be faster.\", \n",
    "     'image_generation_prompt': \"A screenshot of an ADT app notification that reads 'Person detected at Front Door'. Below it is a thumbnail of the recorded clip, which only shows the back of a delivery driver's head as they are walking away from the camera's view.\"},\n",
    "    {'ticket_id': 'TICKET_020', 'customer_id': 'C00037778', 'technician_id': 'tech004', \n",
    "     'issue_description': \"I have an indoor camera in my baby's room and the small red light on the front is too bright and keeps him awake. Is there any way to turn that status light off?\", \n",
    "     'image_generation_prompt': \"A photo taken in a very dark nursery. The only significant light source is the small but intense red status LED from an ADT indoor camera on a dresser, which is casting a noticeable red glow on the wall behind it. The image effectively demonstrates the light pollution from the device.\"},\n",
    "    \n",
    "    # --- Tickets 21-30: Door & Window Sensors ---\n",
    "    {'ticket_id': 'TICKET_021', 'customer_id': 'C00097411', 'technician_id': 'tech001', \n",
    "     'issue_description': \"The little magnet piece for my window sensor fell off and the dog chewed it. The plastic is all cracked. I need a replacement magnet.\", \n",
    "     'image_generation_prompt': \"A photorealistic photo of a small, white plastic magnet piece from an ADT window sensor sitting on a wooden floor. The plastic casing is clearly cracked and has visible teeth marks on it. The focus is sharply on the damaged magnet.\"},\n",
    "    {'ticket_id': 'TICKET_022', 'customer_id': 'C00030278', 'technician_id': 'tech003', \n",
    "     'issue_description': \"My back door sensor is giving me a 'low battery' warning in the app, but I just changed the battery last week. I think the sensor might be faulty.\", \n",
    "     'image_generation_prompt': \"A close-up photo of an ADT door sensor with its cover removed to show the battery inside. A hand holds a battery tester with its probes on the coin-cell battery; the tester's screen clearly reads '100% Full'. The image documents that the battery is not the issue.\"},\n",
    "    {'ticket_id': 'TICKET_023', 'customer_id': 'C00006791', 'technician_id': 'tech002', \n",
    "     'issue_description': \"The sensor on my double-hung window is not working right. It shows closed when the window is closed, but it doesn't trigger when I open the window just a few inches from the bottom.\", \n",
    "     'image_generation_prompt': \"A photo looking at the side of a white vinyl double-hung window. The bottom sash is opened upwards by 3 inches. The sensor magnet on the sash has moved up vertically, but remains directly aligned and very close to the sensor on the frame, failing to trigger it. The image clearly shows this specific installation flaw.\"},\n",
    "    {'ticket_id': 'TICKET_024', 'customer_id': 'C00079130', 'technician_id': 'tech005', \n",
    "     'issue_description': \"I have a metal casement window and my wireless sensor keeps losing connection to the panel. The signal has to go through the metal frame and I think that's the problem.\", \n",
    "     'image_generation_prompt': \"A close-up photo of an ADT wireless sensor mounted directly on a dark bronze metal window frame. The app, shown on a phone screen nearby, displays a 'Loss of Supervision' error for the 'Casement Window' sensor. The image juxtaposes the physical object with its error state.\"},\n",
    "    {'ticket_id': 'TICKET_025', 'customer_id': 'C00053965', 'technician_id': 'tech001', \n",
    "     'issue_description': \"The adhesive on my door sensor has failed and it's hanging by the edge. The door is in direct sun all day and I think the heat melted the glue.\", \n",
    "     'image_generation_prompt': \"A photo of an ADT door sensor peeling away from a sun-beaten door frame. The double-sided tape is stretched and gooey, clearly having failed. The sensor is hanging precariously at an angle, about to fall. The lighting is harsh, bright sunlight.\"},\n",
    "    {'ticket_id': 'TICKET_026', 'customer_id': 'C00049701', 'technician_id': 'tech004', \n",
    "     'issue_description': \"I need to install a sensor on a door with very ornate molding. The frame and door are not flat, so the standard sensor and magnet won't fit and can't get close enough to each other.\", \n",
    "     'image_generation_prompt': \"A first-person photo holding a standard ADT sensor and magnet up to a door with deep, decorative molding. The photo clearly shows that due to the contours of the wood, there is no flat surface where the two pieces can be mounted within the required proximity of each other. The installation challenge is the focus of the image.\"},\n",
    "    {'ticket_id': 'TICKET_027', 'customer_id': 'C00007609', 'technician_id': 'tech003', \n",
    "     'issue_description': \"The cover for my window sensor is missing. I think my kids pulled it off and lost it. The circuit board is exposed and I'm worried it will get damaged.\", \n",
    "     'image_generation_prompt': \"A clear, close-up photo of an ADT window sensor base mounted on a windowsill. The white plastic cover is gone, leaving the green circuit board, coin-cell battery, and small components completely exposed. The image focuses on the vulnerable, uncovered electronics.\"},\n",
    "    {'ticket_id': 'TICKET_028', 'customer_id': 'C00097411', 'technician_id': 'tech002', \n",
    "     'issue_description': \"My door sensor is way too sensitive. It triggers an alarm if the wind rattles the door even a little bit. The door is securely latched.\", \n",
    "     'image_generation_prompt': \"A close-up, slightly blurred photo of the gap between a door and its frame, showing motion. The door sensor and magnet are mounted here. A visual effect like a 'wifi' signal icon between the two pieces is shown breaking up, to symbolize the magnetic contact being momentarily lost during the rattle.\"},\n",
    "    {'ticket_id': 'TICKET_029', 'customer_id': 'C00030278', 'technician_id': 'tech001', \n",
    "     'issue_description': \"The plastic on my window sensor has yellowed badly over the years and looks awful against my new grey paint. Can I paint it?\", \n",
    "     'image_generation_prompt': \"A photo of a freshly painted modern grey wall next to a white window frame. On the frame is an old ADT window sensor whose plastic has yellowed to a distinct, ugly beige color. The color clash is stark and is the clear subject of the photo.\"},\n",
    "    {'ticket_id': 'TICKET_030', 'customer_id': 'C00006791', 'technician_id': 'tech005', \n",
    "     'issue_description': \"I have an alarm event in my history for my 'Guest Room Window' but that window was never opened. This is the second time this has happened.\", \n",
    "     'image_generation_prompt': \"A screenshot from a smartphone showing the ADT app's event history. A single event is circled in red: '10:15 PM - GUEST ROOM WINDOW - ALARM'. The image is a clear documentation of the mysterious alarm event from the system's log.\"},\n",
    "\n",
    "    # --- Tickets 31-40: Smart Doorbells & Locks ---\n",
    "    {'ticket_id': 'TICKET_031', 'customer_id': 'C00001747', 'technician_id': 'tech004', \n",
    "     'issue_description': \"The button on my ADT doorbell is sticking. When people press it, it stays stuck in, and the chime rings continuously until I go wiggle it loose. It's really annoying for visitors.\", \n",
    "     'image_generation_prompt': \"A sharp, macro photo of an ADT video doorbell. The main round button is visibly recessed and stuck in its pressed position, not flush with the faceplate. The image focuses entirely on this physical defect.\"},\n",
    "    {'ticket_id': 'TICKET_032', 'customer_id': 'C00071732', 'technician_id': 'tech001', \n",
    "     'issue_description': \"My smart lock keypad is not lighting up when I touch it. It works fine from the app, but I can't enter my code manually at the door because the numbers won't illuminate.\", \n",
    "     'image_generation_prompt': \"A photo of a front door at dusk. A hand is touching the dark screen of an ADT smart lock. The keypad remains completely unlit, making it impossible to see the numbers. The only illumination is the faint ambient light, emphasizing the keypad's backlight failure.\"},\n",
    "    {'ticket_id': 'TICKET_033', 'customer_id': 'C00010516', 'technician_id': 'tech002', \n",
    "     'issue_description': \"My smart doorbell's audio is full of static and I can barely hear the person at the door. Their voice is garbled and faint. I've checked my phone's volume.\", \n",
    "     'image_generation_prompt': \"A screenshot of the ADT app during a two-way talk session with a doorbell. The audio waveform visualization is shown as a noisy, jagged line full of spikes, representing static, with the small, clean waves of a human voice barely visible within the noise.\"},\n",
    "    {'ticket_id': 'TICKET_034', 'customer_id': 'C00065626', 'technician_id': 'tech003', \n",
    "     'issue_description': \"The finish on my oil-rubbed bronze smart lock is peeling and flaking off. It looks terrible and is only a year old. It's on a covered porch so it's not in direct rain.\", \n",
    "     'image_generation_prompt': \"A detailed macro photograph of an oil-rubbed bronze smart lock. The dark coating is visibly peeling away near the keypad, revealing the shiny silver metal underneath. Small flakes of the finish are visible on the lock body, clearly showing the cosmetic defect.\"},\n",
    "    {'ticket_id': 'TICKET_035', 'customer_id': 'C00029934', 'technician_id': 'tech005', \n",
    "     'issue_description': \"My smart lock is auto-locking too quickly. It's set for 30 seconds but sometimes it tries to lock while the door is still ajar as I'm bringing in groceries, so the deadbolt hits the frame. Can I change the auto-lock time?\", \n",
    "     'image_generation_prompt': \"A photo taken from inside a house, showing the edge of the front door and the frame. The door is slightly ajar. The smart lock's deadbolt is fully extended and has impacted the door frame, leaving a small dent. The deadbolt is visibly preventing the door from closing.\"},\n",
    "    {'ticket_id': 'TICKET_036', 'customer_id': 'C00098830', 'technician_id': 'tech001', \n",
    "     'issue_description': \"The motion detection on my doorbell is too sensitive. It's picking up flags waving across the street and sending me notifications all day long.\", \n",
    "     'image_generation_prompt': \"A screenshot of the ADT app's event history for the doorbell camera. The screen is filled with a long list of motion alerts, all with thumbnails showing a distant flag waving across the street. The sheer volume of identical, irrelevant notifications is the subject of the image.\"},\n",
    "    {'ticket_id': 'TICKET_037', 'customer_id': 'C00057716', 'technician_id': 'tech004', \n",
    "     'issue_description': \"I can't share access to my smart lock with a new user. I enter their email in the app, but they never receive the invitation. I've checked their spam folder.\", \n",
    "     'image_generation_prompt': \"A screenshot from the ADT app's 'Manage Users' screen. A new user's email is shown with a status next to it that reads 'Invitation Pending - Failed'. A small red exclamation mark icon is next to the status. The image documents the failed invitation.\"},\n",
    "    {'ticket_id': 'TICKET_038', 'customer_id': 'C00089332', 'technician_id': 'tech002', \n",
    "     'issue_description': \"The camera lens on my video doorbell is fogged up on the inside. It happens every morning when it's cool and humid. The image is useless until it burns off midday.\", \n",
    "     'image_generation_prompt': \"A direct, close-up photo of an ADT video doorbell in the morning. The camera's lens is completely obscured by a milky layer of condensation trapped behind the outer glass dome. The image is blurry and foggy, clearly showing the internal moisture problem.\"},\n",
    "    {'ticket_id': 'TICKET_039', 'customer_id': 'C00058138', 'technician_id': 'tech003', \n",
    "     'issue_description': \"My smart lock keeps making a quiet beeping sound every few minutes. There are no warnings in the app and the battery level says 80%.\", \n",
    "     'image_generation_prompt': \"A short, silent video clip of an ADT smart lock's interior component on a door. The camera is very still. Every few seconds, a small red LED light inside the mechanism blinks, coinciding with a faint, annoying beep. The video captures the persistent, mysterious electronic chirp.\"},\n",
    "    {'ticket_id': 'TICKET_040', 'customer_id': 'C00041899', 'technician_id': 'tech005', \n",
    "     'issue_description': \"The one-touch locking feature on my smart lock keypad doesn't work. I'm supposed to be able to just touch the keypad to lock it when I leave, but nothing happens. I have to use the key or the app.\", \n",
    "     'image_generation_prompt': \"A first-person photo of a hand pressing the keypad of an ADT smart lock. The door is open. The keypad screen remains dark and the lock makes no sound and does not engage. The photo captures the complete lack of response from the one-touch locking feature.\"},\n",
    "\n",
    "    # --- Tickets 41-50: Motion Sensors ---\n",
    "    {'ticket_id': 'TICKET_041', 'customer_id': 'C00096704', 'technician_id': 'tech001', \n",
    "     'issue_description': \"My motion sensor is located in the garage and it gets set off by our garage door opening and closing when we arm the system from our car.\", \n",
    "     'image_generation_prompt': \"A wide-angle photo taken from inside a garage, pointed at the large, segmented garage door as it is in the process of opening. An ADT motion sensor is visible mounted on the wall nearby, with its red indicator light illuminated, showing it has been triggered by the door's movement.\"},\n",
    "    {'ticket_id': 'TICKET_042', 'customer_id': 'C00018157', 'technician_id': 'tech004', \n",
    "     'issue_description': \"The motion detector in my living room is being triggered by the curtains moving when the air conditioner turns on. It's a large floor-to-ceiling curtain right next to an air vent.\", \n",
    "     'image_generation_prompt': \"A still photo of a living room. A long, lightweight curtain is visibly billowing from an air vent on the floor. In the corner of the room, the red LED on an ADT motion sensor is lit up. The composition of the shot clearly links the moving curtain to the triggered sensor.\"},\n",
    "    {'ticket_id': 'TICKET_043', 'customer_id': 'C00085356', 'technician_id': 'tech002', \n",
    "     'issue_description': \"I have a motion sensor in my sunroom, and it seems to be set off by the shadows of tree branches moving on the floor on windy, sunny days.\", \n",
    "     'image_generation_prompt': \"A photo of a sunlit tiled floor in a sunroom. The sharp, distinct shadows of tree branches are cast across the floor. An ADT motion sensor is visible on the far wall. The image captures the specific environmental condition causing false alarms.\"},\n",
    "    {'ticket_id': 'TICKET_044', 'customer_id': 'C00044755', 'technician_id': 'tech003', \n",
    "     'issue_description': \"The adhesive pad on my motion sensor failed, and it fell off the wall and the cover popped off. I put it back together but now it's showing a 'Tamper' alert.\", \n",
    "     'image_generation_prompt': \"A photo of an ADT motion sensor lying on a carpeted floor. The front cover is lying next to it. On the wall above, the faint outline and the failed, curled-up adhesive strip are visible. The image documents the physical failure.\"},\n",
    "    {'ticket_id': 'TICKET_045', 'customer_id': 'C00060032', 'technician_id': 'tech005', \n",
    "     'issue_description': \"My motion detector's red light turns on when I walk by, but it doesn't trigger an alarm when the system is armed. I tested it by arming 'Away' and walking in after the delay.\", \n",
    "     'image_generation_prompt': \"A screenshot from a smartphone showing the ADT app's event history. The system status at the top shows 'ARMED AWAY'. The event list below is empty for the last hour. The user has added text overlaying the screenshot that says 'I walked through the living room 5 minutes ago and nothing happened!'\"},\n",
    "    {'ticket_id': 'TICKET_046', 'customer_id': 'C00006294', 'technician_id': 'tech001', \n",
    "     'issue_description': \"I need to temporarily disable the motion sensor in the main living area for a party, but I want to keep the door and window sensors active. How do I do that?\", \n",
    "     'image_generation_prompt': \"A clear photo of an ADT keypad's screen. The screen is on the 'Bypass Zones' menu. The entry 'Zone 03 - Living Room Motion' is highlighted, and a virtual checkbox next to it is checked. The image serves as a visual guide for the user.\"},\n",
    "    {'ticket_id': 'TICKET_047', 'customer_id': 'C00095415', 'technician_id': 'tech004', \n",
    "     'issue_description': \"A small lizard got inside my motion sensor and is crawling around on the circuit board, setting it off repeatedly. I can see it through the lens.\", \n",
    "     'image_generation_prompt': \"A very close-up photo taken through the dark red plastic fresnel lens of a motion detector. The silhouette of a small gecko is clearly visible inside, crawling over the internal electronic components. The image is a unique and clear depiction of the foreign object causing the issue.\"},\n",
    "    {'ticket_id': 'TICKET_048', 'customer_id': 'C00076737', 'technician_id': 'tech002', \n",
    "     'issue_description': \"The plastic on my motion sensor has yellowed badly over the years and looks awful against my new grey paint. Can I paint it?\", \n",
    "     'image_generation_prompt': \"A photo showing a stark contrast between a freshly painted, modern grey wall and an old, boxy ADT motion sensor mounted on it. The sensor's plastic is a very noticeable, unattractive yellow-beige color. The aesthetic clash is the main subject of the photo.\"},\n",
    "    {'ticket_id': 'TICKET_049', 'customer_id': 'C00029456', 'technician_id': 'tech005', \n",
    "     'issue_description': \"My motion sensor is installed on a wall that vibrates when the washing machine is on the spin cycle, and I think that's causing false alarms.\", \n",
    "     'image_generation_prompt': \"A photo of an ADT motion sensor mounted on a laundry room wall. The sensor's red trigger light is on. In the background, slightly out of focus, a washing machine is visibly in its high-speed spin cycle. The image links the vibrating appliance to the sensor trigger.\"},\n",
    "    {'ticket_id': 'TICKET_050', 'customer_id': 'C00058372', 'technician_id': 'tech003', \n",
    "     'issue_description': \"I have a 360-degree ceiling-mounted motion detector in my office, but it doesn't seem to pick me up when I'm sitting at my desk, only when I walk around.\", \n",
    "     'image_generation_prompt': \"A photo taken from a low angle in a home office, looking up at a white, circular 360-degree motion sensor on the ceiling. The desk and chair are positioned directly beneath it. The image composition illustrates the potential for a blind spot directly under the sensor.\"},\n",
    "\n",
    "    # --- Tickets 51-60: Life Safety (Smoke/CO) ---\n",
    "    {'ticket_id': 'TICKET_051', 'customer_id': 'C00044659', 'technician_id': 'tech001', \n",
    "     'issue_description': \"The smoke detector in my hallway went off for 30 seconds and then stopped. There was no smoke. I was using a steamy humidifier in the room nearby.\", \n",
    "     'image_generation_prompt': \"A photo of a hallway ceiling showing an ADT smoke detector. Thick, dense water vapor is visibly drifting out of an adjacent bedroom door and enveloping the detector. The image clearly links the steam from the humidifier to the smoke detector.\"},\n",
    "    {'ticket_id': 'TICKET_052', 'customer_id': 'C00025032', 'technician_id': 'tech002', \n",
    "     'issue_description': \"My interconnected smoke alarms all went off, but I can't figure out which one started it. How do I know which one to check?\", \n",
    "     'image_generation_prompt': \"A photo looking down a hallway where two ADT smoke detectors are visible on the ceiling. The closer detector has a solid, non-flashing red light. The detector further down the hall has a rapidly flashing red light. A text overlay points to the solid red light with the note: 'This is the initiating detector.'\"},\n",
    "    {'ticket_id': 'TICKET_053', 'customer_id': 'C00049895', 'technician_id': 'tech004', \n",
    "     'issue_description': \"I accidentally bumped the smoke detector while moving furniture and now it's showing a 'Tamper' error on the panel.\", \n",
    "     'image_generation_prompt': \"A photo of an ADT smoke detector on the ceiling, which is noticeably crooked on its mounting base. There is a visible gap between the detector and the base on one side, showing it has been twisted but not fully removed.\"},\n",
    "    {'ticket_id': 'TICKET_054', 'customer_id': 'C00095735', 'technician_id': 'tech005', \n",
    "     'issue_description': \"My CO detector is chirping three times in a row every minute. It's not the low battery chirp. The app just says 'Device Trouble'.\", \n",
    "     'image_generation_prompt': \"A close-up photo of an ADT carbon monoxide detector plugged into a wall outlet. The digital screen on the device is displaying the letters 'End', indicating it has reached its end-of-life.\"},\n",
    "    {'ticket_id': 'TICKET_055', 'customer_id': 'C00078974', 'technician_id': 'tech003', \n",
    "     'issue_description': \"I'm renovating my kitchen and the drywall dust is causing my smoke detector to have false alarms. I have to take the battery out to stop it.\", \n",
    "     'image_generation_prompt': \"A photo of an ADT smoke detector on a ceiling, covered in a fine layer of white drywall dust. A bright orange plastic dust cover, like the ones used by installers, is sitting on a nearby counter, illustrating the solution that should have been used.\"},\n",
    "    {'ticket_id': 'TICKET_056', 'customer_id': 'C00088522', 'technician_id': 'tech001', \n",
    "     'issue_description': \"I pressed the 'Test' button on my smoke alarm and it's very quiet. The sound is muffled and weak, not loud like it should be.\", \n",
    "     'image_generation_prompt': \"A smartphone photo of a sound meter app held up next to a smoke detector. The smoke detector's red light is flashing, indicating it is in test mode. The sound meter app shows a reading of only 65 dB, with a text label 'Too Quiet'. The image quantifies the failure.\"},\n",
    "    {'ticket_id': 'TICKET_057', 'customer_id': 'C00054731', 'technician_id': 'tech004', \n",
    "     'issue_description': \"My system includes fire monitoring, but when the fire department showed up for a false alarm, they said they didn't get the signal for a specific room. Just a general fire alarm.\", \n",
    "     'image_generation_prompt': \"A screenshot of the ADT portal's device list. It shows three smoke detectors, all generically named 'Smoke Detector Zone 25', 'Smoke Detector Zone 26', and 'Smoke Detector Zone 27'. The lack of descriptive names like 'Kitchen' or 'Hallway' is the focus.\"},\n",
    "    {'ticket_id': 'TICKET_058', 'customer_id': 'C00042917', 'technician_id': 'tech002', \n",
    "     'issue_description': \"I have a heat detector in my attic. It went off on a very hot day. Is that normal?\", \n",
    "     'image_generation_prompt': \"A photo taken inside a dark, hot attic. A thermometer hanging from a rafter is in sharp focus and reads 145°F. In the background, an ADT heat detector is visible with its red alarm light activated. The image clearly shows the extreme ambient temperature.\"},\n",
    "    {'ticket_id': 'TICKET_059', 'customer_id': 'C00076144', 'technician_id': 'tech005', \n",
    "     'issue_description': \"The green light on my smoke detector is blinking, but the manual says it should be solid. What does a blinking green light mean?\", \n",
    "     'image_generation_prompt': \"A direct, close-up photo of an ADT smoke detector on a ceiling. The small status LED is captured mid-blink, glowing green. The rest of the device is in sharp focus. The image serves as clear evidence of the blinking status.\"},\n",
    "    {'ticket_id': 'TICKET_060', 'customer_id': 'C00008654', 'technician_id': 'tech001', \n",
    "     'issue_description': \"I have a hearing-impaired person in my home. The standard smoke detector siren isn't enough to wake them. Do you have a solution?\", \n",
    "     'image_generation_prompt': \"A photo of a specialized ADT strobe light unit mounted on a bedroom wall. The strobe light is captured mid-flash, creating a bright, powerful burst of light that illuminates the entire room. This photo clearly shows the visual alerting device in action.\"},\n",
    "\n",
    "    # --- Tickets 61-100: Miscellaneous & Advanced ---\n",
    "    {'ticket_id': 'TICKET_061', 'customer_id': 'C00025094', 'technician_id': 'tech003', \n",
    "     'issue_description': \"My panel is showing 'Expansion Module Failure'. The keypad in the basement stopped working at the same time.\", \n",
    "     'image_generation_prompt': \"A photo of the inside of the main metal security panel box. A finger is pointing to a small, green circuit board (the expansion module) which has a single red LED light glowing, indicating a fault. The other status lights on the main board are green.\"},\n",
    "    {'ticket_id': 'TICKET_062', 'customer_id': 'C00071815', 'technician_id': 'tech002', \n",
    "     'issue_description': \"I can't arm my system because of an 'Exit Error'. I close the door behind me but the alarm goes off as soon as the exit delay ends.\", \n",
    "     'image_generation_prompt': \"A screenshot of the ADT app's event history. It shows a sequence of events: 'Arm Away', followed immediately by 'Exit Delay Started', and then 'ALARM - Front Door - Exit Error'. The log clearly documents the specific fault type.\"},\n",
    "    {'ticket_id': 'TICKET_063', 'customer_id': 'C00044336', 'technician_id': 'tech004', \n",
    "     'issue_description': \"The ADT installer left a mess. There are drywall dust all over my hallway and wire clippings on the carpet.\", \n",
    "     'image_generation_prompt': \"A photo of a light-colored carpet at the base of a wall. On the carpet is a small pile of white drywall dust, several small red and black wire insulation clippings, and a discarded wire nut. The photo serves as evidence of poor cleanup.\"},\n",
    "    {'ticket_id': 'TICKET_064', 'customer_id': 'C00063102', 'technician_id': 'tech001', \n",
    "     'issue_description': \"How do I test my system without the police being sent? I want to make sure everything works but I'm afraid of a false alarm fine.\", \n",
    "     'image_generation_prompt': \"A smartphone photo of the ADT app's main menu. A finger is about to tap on the menu item that reads 'System Test Mode'. The image is an instructional guide for the user.\"},\n",
    "    {'ticket_id': 'TICKET_065', 'customer_id': 'C00035673', 'technician_id': 'tech005', \n",
    "     'issue_description': \"My keypad is very old and the numbers on the buttons have completely worn off. It's hard to enter the code correctly.\", \n",
    "     'image_generation_prompt': \"An extreme close-up photo of an old, beige security keypad. The rubber buttons are worn completely smooth and shiny, with no numbers visible on the '1', '2', and '3' keys. The plastic is yellowed with age.\"},\n",
    "    {'ticket_id': 'TICKET_066', 'customer_id': 'C00021825', 'technician_id': 'tech003', \n",
    "     'issue_description': \"The plastic casing of my main panel box in the closet is cracked after something fell on it.\", \n",
    "     'image_generation_prompt': \"A photo of a white plastic security panel box mounted on a wall. A large, spiderweb-style crack originates from the top corner and spreads across the door of the box. The physical damage is the clear subject.\"},\n",
    "    {'ticket_id': 'TICKET_067', 'customer_id': 'C00017724', 'technician_id': 'tech002', \n",
    "     'issue_description': \"My outdoor camera view is blocked by a large tree branch that grew over the summer. I need the camera moved a few feet to the left.\", \n",
    "     'image_generation_prompt': \"A screenshot from the ADT app showing the live view from an outdoor camera. The view is more than 50% obscured by a large, leafy green tree branch that is very close to the lens. The image clearly demonstrates the obstruction.\"},\n",
    "    {'ticket_id': 'TICKET_068', 'customer_id': 'C00072175', 'technician_id': 'tech001', \n",
    "     'issue_description': \"The video from my camera is black and white, but it's not night time. It seems stuck.\", \n",
    "     'image_generation_prompt': \"A photo of a smartphone screen displaying a camera feed. The scene is a sun-drenched backyard, but the image is in grainy black and white. You can see the colorful backyard in the reflection on the phone screen, creating a stark contrast.\"},\n",
    "    {'ticket_id': 'TICKET_069', 'customer_id': 'C00029863', 'technician_id': 'tech004', \n",
    "     'issue_description': \"My outdoor camera is pointing straight down at the ground. I think a bird must have landed on it and knocked it out of position.\", \n",
    "     'image_generation_prompt': \"A photo taken by a smartphone, showing the live feed from a security camera. The image is a disorienting, wide-angle view of nothing but green grass and the concrete foundation of the house, indicating the camera is pointing straight down.\"},\n",
    "    {'ticket_id': 'TICKET_070', 'customer_id': 'C00029088', 'technician_id': 'tech005', \n",
    "     'issue_description': \"There is a loud humming noise coming from my main security panel box in the closet. It just started today and I'm worried it's a fire hazard.\", \n",
    "     'image_generation_prompt': \"A short video clip taken with a smartphone, aimed at the open metal box of the main security panel. A loud, audible 60-cycle electrical hum is present. The video zooms in on the large transformer inside the box, which is the source of the noise.\"},\n",
    "    {'ticket_id': 'TICKET_071', 'customer_id': 'C00028672', 'technician_id': 'tech002', \n",
    "     'issue_description': \"I can't see live video from my cameras on my work computer because I think there's a firewall blocking it. Is there a specific port I need to open?\", \n",
    "     'image_generation_prompt': \"A photo of a computer monitor on an office desk. The screen shows the ADT web portal, but the area for the camera feed is a black box with a spinning loading wheel and the error message 'Cannot connect to stream (Code: 403)'. The focus is sharp on the error.\"},\n",
    "    {'ticket_id': 'TICKET_072', 'customer_id': 'C00083870', 'technician_id': 'tech001', \n",
    "     'issue_description': \"The motion-activated spotlight on my outdoor camera isn't turning on anymore when motion is detected at night.\", \n",
    "     'image_generation_prompt': \"A dark, night-time photo taken from a smartphone, showing a person walking up a driveway. An ADT spotlight camera is visible, but its light is not on. A screenshot from the app is superimposed, showing a motion event was just recorded, proving the light should have activated.\"},\n",
    "    {'ticket_id': 'TICKET_073', 'customer_id': 'C00066450', 'technician_id': 'tech003', \n",
    "     'issue_description': \"My doorbell video has a constant, high-pitched whine in the audio. It makes it hard to hear anything else.\", \n",
    "     'image_generation_prompt': \"A screenshot of an audio editing app, showing the waveform from a downloaded doorbell clip. A consistent, high-frequency noise pattern is visible throughout the entire clip, clearly differentiated from the smaller, irregular waves of human speech.\"},\n",
    "    {'ticket_id': 'TICKET_074', 'customer_id': 'C00078739', 'technician_id': 'tech005', \n",
    "     'issue_description': \"The solar panel for my outdoor camera doesn't seem to be charging the battery. The app always shows the battery level decreasing.\", \n",
    "     'image_generation_prompt': \"A screenshot of the ADT app's device status page for a solar-powered camera. The battery level is shown as '15% - Low' with a downward trend icon, despite a sun icon next to it indicating it is currently daytime.\"},\n",
    "    {'ticket_id': 'TICKET_075', 'customer_id': 'C00069406', 'technician_id': 'tech004', \n",
    "     'issue_description': \"My smart lock is not showing up in the ADT app, but it is working fine on the keypad.\", \n",
    "     'image_generation_prompt': \"A screenshot of the ADT app device list. The list shows 'Front Door Sensor' and 'Living Room Camera', but the 'Front Door Lock' is missing. A text annotation on the image reads 'My smart lock should be here!'\"},\n",
    "    {'ticket_id': 'TICKET_076', 'customer_id': 'C00094965', 'technician_id': 'tech002', \n",
    "     'issue_description': \"My outdoor camera is full of ants. I can see them crawling around on the inside of the lens.\", \n",
    "     'image_generation_prompt': \"A disturbing, macro photo of an outdoor camera lens. Several small black ants are visible crawling around *behind* the glass lens cover, on the internal components. The image is sharp and clearly shows the insect infestation inside the sealed unit.\"},\n",
    "    {'ticket_id': 'TICKET_077', 'customer_id': 'C00067314', 'technician_id': 'tech001', \n",
    "     'issue_description': \"I have a 'Keyfob Low Battery' message for a user who moved out months ago. I don't have the keyfob anymore. How do I clear the message?\", \n",
    "     'image_generation_prompt': \"A photo of the ADT panel's screen displaying a persistent 'Low Battery' warning for 'User 05 - Keyfob'. The image clearly documents the specific error message that the user wants to remove.\"},\n",
    "    {'ticket_id': 'TICKET_078', 'customer_id': 'C00038080', 'technician_id': 'tech003', \n",
    "     'issue_description': \"The auto-unlock feature on my smart lock (geofencing) is not working when I arrive home. I have to use the app manually.\", \n",
    "     'image_generation_prompt': \"A screenshot of the ADT app's event history. A user has added a note with an arrow pointing to a gap in the timeline: 'I arrived home at 5:30 PM, but the door didn't auto-unlock. I had to unlock it manually at 5:32 PM.' The log shows 'Manual Unlock by User' but no preceding 'Geofence Unlock' event.\"},\n",
    "    {'ticket_id': 'TICKET_079', 'customer_id': 'C00017497', 'technician_id': 'tech005', \n",
    "     'issue_description': \"The touchscreen on my smart lock is cracked and it's hard to press the numbers correctly.\", \n",
    "     'image_generation_prompt': \"A direct, close-up photo of an ADT smart lock keypad. A large, spiderweb-style crack runs across the glass touchscreen, making the numbers underneath difficult to read and press accurately. The physical damage is the clear focus.\"},\n",
    "    {'ticket_id': 'TICKET_080', 'customer_id': 'C00001715', 'technician_id': 'tech004', \n",
    "     'issue_description': \"I can't create a temporary user code for my housesitter that only works for this weekend. How do I set start and end dates?\", \n",
    "     'image_generation_prompt': \"A screenshot of the 'Add User' screen in the ADT app. The user has filled in the name and code, but is pointing to the bottom of the screen where scheduling options should be. A text annotation asks, 'Where are the date options?'\"},\n",
    "    {'ticket_id': 'TICKET_081', 'customer_id': 'C00086569', 'technician_id': 'tech001', \n",
    "     'issue_description': \"My doorbell camera is recording clips, but there is no sound at all. I have checked all the volume settings.\", \n",
    "     'image_generation_prompt': \"A screenshot of a video clip playing in the ADT app. The video shows a person speaking at the door. A large, red universal 'mute' symbol (a speaker with a slash through it) has been superimposed over the video to indicate the complete lack of audio.\"},\n",
    "    {'ticket_id': 'TICKET_082', 'customer_id': 'C00062254', 'technician_id': 'tech003', \n",
    "     'issue_description': \"I'm trying to view my doorbell camera on my new smart display (Google Hub) but it says 'Camera feed is not available'.\", \n",
    "     'image_generation_prompt': \"A photo of a Google Nest Hub smart display on a kitchen counter. The screen clearly shows the text: 'Sorry, it looks like the stream from ADT Doorbell is currently unavailable.' The image documents the third-party integration failure message.\"},\n",
    "    {'ticket_id': 'TICKET_083', 'customer_id': 'C00053707', 'technician_id': 'tech002', \n",
    "     'issue_description': \"The motion sensor in my garage is giving a 'Tamper' error after my son hit it with a basketball.\", \n",
    "     'image_generation_prompt': \"A photo of an ADT motion sensor on a garage wall. There is a visible black scuff mark from a basketball on the white plastic casing, and the cover is slightly misaligned. A basketball is on the floor below.\"},\n",
    "    {'ticket_id': 'TICKET_084', 'customer_id': 'C00035637', 'technician_id': 'tech005', \n",
    "     'issue_description': \"My smart doorbell has a lot of condensation on the lens in the mornings.\", \n",
    "     'image_generation_prompt': \"A sharp, close-up photo of an ADT video doorbell. The camera lens is covered in small, clear droplets of dew on the outside of the glass, distorting the view. The background is a soft-focused, early morning scene.\"},\n",
    "    {'ticket_id': 'TICKET_085', 'customer_id': 'C00008659', 'technician_id': 'tech004', \n",
    "     'issue_description': \"The indoor camera I bought on eBay won't enroll in my system. The app says 'Device is registered to another account'.\", \n",
    "     'image_generation_prompt': \"A photo of an ADT indoor camera held in a hand. Next to it, a smartphone screen displays the ADT app with a clear error message: 'Enrollment Failed: This device is already registered to another account.'\"},\n",
    "    {'ticket_id': 'TICKET_086', 'customer_id': 'C00054392', 'technician_id': 'tech001', \n",
    "     'issue_description': \"My indoor camera keeps making a faint clicking sound every few seconds. It's in my quiet office and it's very distracting.\", \n",
    "     'image_generation_prompt': \"A still photo of an ADT indoor camera on a desk. A text overlay next to the camera reads '*click*... *click*... *click*' to represent the persistent, annoying noise the user is reporting.\"},\n",
    "    {'ticket_id': 'TICKET_087', 'customer_id': 'C00071168', 'technician_id': 'tech003', \n",
    "     'issue_description': \"I need a wider view from my doorbell camera. It's mounted on a side wall and I can't see the whole porch.\", \n",
    "     'image_generation_prompt': \"A photo of a front door area taken from a smartphone. The photo shows the ADT doorbell mounted on a wall that is perpendicular to the door. A dotted line is drawn from the doorbell's lens, showing its very narrow field of view, which completely misses the area in front of the door.\"},\n",
    "    {'ticket_id': 'TICKET_088', 'customer_id': 'C00040583', 'technician_id': 'tech002', \n",
    "     'issue_description': \"The live video from my doorbell is delayed by about 10 seconds, making conversations impossible.\", \n",
    "     'image_generation_prompt': \"A screenshot of a smartphone screen during a two-way talk session with an ADT doorbell. The person on the screen is waving. A text bubble from the homeowner in the app says, 'Hello?' A second text bubble says, 'Are you still there?' The image conveys a frustrating communication lag.\"},\n",
    "    {'ticket_id': 'TICKET_089', 'customer_id': 'C00054109', 'technician_id': 'tech005', \n",
    "     'issue_description': \"My indoor camera is not switching to night mode in a dark room. The image is just black.\", \n",
    "     'image_generation_prompt': \"A photo of a smartphone screen showing the live feed from an ADT indoor camera. The feed is completely black. The reflection on the phone screen shows it's in a dark room, proving that the night vision has failed to activate.\"},\n",
    "    {'ticket_id': 'TICKET_090', 'customer_id': 'C00059553', 'technician_id': 'tech004', \n",
    "     'issue_description': \"The faceplate on my smart doorbell is scratched and faded from the sun.\", \n",
    "     'image_generation_prompt': \"A close-up, sunlit photo of an ADT smart doorbell. The dark plastic faceplate is covered in fine scratches and has a dull, chalky, faded appearance. It looks weathered and old compared to the house's paint around it.\"},\n",
    "    {'ticket_id': 'TICKET_091', 'customer_id': 'C00048905', 'technician_id': 'tech001', \n",
    "     'issue_description': \"My doorbell is not detecting people until they are right at the door. I want to be alerted when they are walking up my driveway.\", \n",
    "     'image_generation_prompt': \"A screenshot of the ADT app's camera settings, showing the 'Motion Detection Zones'. A single, small rectangular zone is drawn just around the front door area, while the rest of the driveway and yard are not part of the active zone.\"},\n",
    "    {'ticket_id': 'TICKET_092', 'customer_id': 'C00070650', 'technician_id': 'tech003', \n",
    "     'issue_description': \"The ADT app on my tablet crashes every time I try to view my doorbell.\", \n",
    "     'image_generation_prompt': \"A photo of a tablet screen. The screen is displaying the tablet's home screen, but a system pop-up from the OS is visible that reads, 'ADT Control has stopped responding.' with options for 'Close app' or 'Wait'.\"},\n",
    "    {'ticket_id': 'TICKET_093', 'customer_id': 'C00051589', 'technician_id': 'tech002', \n",
    "     'issue_description': \"My smart lock says 'jammed' in the app even though the deadbolt is moving freely.\", \n",
    "     'image_generation_prompt': \"A smartphone screenshot showing the ADT app device status. The 'Front Door Lock' is shown with a red icon and the status 'Jammed'. A note handwritten on a sticky note next to the phone says 'But the lock is working fine manually!?'\"},\n",
    "    {'ticket_id': 'TICKET_094', 'customer_id': 'C00006959', 'technician_id': 'tech005', \n",
    "     'issue_description': \"The video doorbell is installed on a stucco wall and the Wi-Fi signal is very weak because of it.\", \n",
    "     'image_generation_prompt': \"A screenshot of the ADT app's 'Device Health' page for the video doorbell. The 'Signal Strength' indicator is in the red zone and reads 'Poor'. The image clearly documents the weak Wi-Fi signal.\"},\n",
    "    {'ticket_id': 'TICKET_095', 'customer_id': 'C00040044', 'technician_id': 'tech004', \n",
    "     'issue_description': \"I can't hear the person at the doorbell through my app unless I put my phone volume on maximum, and even then it's faint.\", \n",
    "     'image_generation_prompt': \"A screenshot of a phone during a doorbell call. The phone's main volume slider is visible on the screen and is set to 100%. A text overlay from the user reads: 'Volume is maxed but audio is still barely audible!'\"},\n",
    "    {'ticket_id': 'TICKET_096', 'customer_id': 'C00043337', 'technician_id': 'tech001', \n",
    "     'issue_description': \"My doorbell transformer is in the attic and I think it has failed. The doorbell has no power.\", \n",
    "     'image_generation_prompt': \"A photo taken by a technician in a dark attic. A hand is holding a voltage multimeter with its probes on the two screw terminals of a doorbell transformer. The multimeter's screen is in sharp focus and clearly reads '0.0 VAC', documenting the failed transformer.\"},\n",
    "    {'ticket_id': 'TICKET_097', 'customer_id': 'C00066080', 'technician_id': 'tech003', \n",
    "     'issue_description': \"The indoor camera keeps detecting the reflection of my TV as motion.\", \n",
    "     'image_generation_prompt': \"A screenshot of a recorded motion event from an indoor camera. The video clip shows a dark room, but the reflection of a bright, flashing TV screen is clearly visible in a glass-framed picture hanging on the wall. A red motion detection box is drawn around the reflection in the picture frame.\"},\n",
    "    {'ticket_id': 'TICKET_098', 'customer_id': 'C00009030', 'technician_id': 'tech002', \n",
    "     'issue_description': \"My doorbell is not sending any motion alerts at all, but it records the events. I've checked the notification settings.\", \n",
    "     'image_generation_prompt': \"A screenshot of a phone's notification settings for the ADT app. The 'Motion Notifications' toggle switch is clearly visible and is in the 'On' position. A second screenshot next to it shows the app's event log full of motion recordings, proving that notifications are enabled but not working.\"},\n",
    "    {'ticket_id': 'TICKET_099', 'customer_id': 'C00061435', 'technician_id': 'tech005', \n",
    "     'issue_description': \"The plastic mount for my indoor camera broke. The camera is fine but I can't stand it up anymore.\", \n",
    "     'image_generation_prompt': \"A photo of a white ADT indoor camera lying on its side on a desk. Next to it is the broken plastic stand. The stand has a clean snap where the thin stem connects to the round base, clearly showing the point of failure.\"},\n",
    "    {'ticket_id': 'TICKET_100', 'customer_id': 'C00091954', 'technician_id': 'tech004', \n",
    "     'issue_description': \"My outdoor camera is offline. I checked the power supply and it has a green light, but the camera itself has no lights on at all.\", \n",
    "     'image_generation_prompt': \"A close-up photo of the ADT power adapter for an outdoor camera, plugged into an outlet. The small green LED on the adapter is clearly lit. The photo is taken in a way that the cable can be seen running out of frame, implying it leads to a dead camera.\"}\n",
    "]\n",
    "\n",
    "\n",
    "# Create the final Pandas DataFrame\n",
    "df_tickets = pd.DataFrame(adt_issue_ticket_data)\n",
    "df_tickets['issue_description'] = df_tickets['issue_description'].str.replace(r'\\bADT\\b', 'trilink', regex=True)\n",
    "df_tickets['image_generation_prompt'] = df_tickets['image_generation_prompt'].str.replace(r'\\bADT\\b', 'trilink', regex=True)\n",
    "\n",
    "# Display the shape and some sample records to verify\n",
    "print(f\"Successfully created DataFrame with shape: {df_tickets.shape}\")\n",
    "(df_tickets.tail())"
   ]
  },
  {
   "cell_type": "markdown",
   "id": "5709047c",
   "metadata": {},
   "source": [
    "##### Create the Simulated Images from customers that can be saved as the photo of the issue customer have shared\n",
    "- We simulate this with Nano Banana\n",
    "- In the above cistomer issue and ticket data we have an image prompt that explains how the photo for the issue customer mentioned would look as taken by a p[hoto from customers phone\n",
    "- For the demo purpose we will use these 100 images later to use with ObjectRef\n",
    "- Once we have the images we will add them to GCP storage\n",
    "- Then will add the URL of the images to the table along with ticket description and customer info into a bigquery table"
   ]
  },
  {
   "cell_type": "code",
   "execution_count": 6,
   "id": "e0a6b2ce",
   "metadata": {},
   "outputs": [
    {
     "name": "stderr",
     "output_type": "stream",
     "text": [
      "Both GOOGLE_API_KEY and GEMINI_API_KEY are set. Using GOOGLE_API_KEY.\n"
     ]
    },
    {
     "name": "stdout",
     "output_type": "stream",
     "text": [
      "Processing ticket TICKET_001 (1/100)...\n",
      "Prompt: A photo taken by a customer, looking directly at their trilink Command touchscreen panel on a wall. ...\n"
     ]
    },
    {
     "name": "stderr",
     "output_type": "stream",
     "text": [
      "Both GOOGLE_API_KEY and GEMINI_API_KEY are set. Using GOOGLE_API_KEY.\n"
     ]
    },
    {
     "name": "stdout",
     "output_type": "stream",
     "text": [
      "Text response for ticket TICKET_001: Here is\n",
      "Text response for ticket TICKET_001:  an image of a\n",
      "Text response for ticket TICKET_001:  tril\n",
      "Text response for ticket TICKET_001: ink Command touchscreen panel\n",
      "Text response for ticket TICKET_001:  with a\n",
      "Text response for ticket TICKET_001:  low battery warning:\n",
      "Text response for ticket TICKET_001:  \n",
      "File saved to: ../data/images\\TICKET_001.jpeg\n",
      "✓ Successfully generated image for ticket TICKET_001\n",
      "--------------------------------------------------\n",
      "Processing ticket TICKET_002 (2/100)...\n",
      "Prompt: A first-person perspective photo of a finger touching the 'Disarm' button on a brightly lit trilink ...\n",
      "Text response for ticket TICKET_002: Here is\n",
      "Text response for ticket TICKET_002:  an\n",
      "Text response for ticket TICKET_002:  image that fulfills\n",
      "Text response for ticket TICKET_002:  your request: \n"
     ]
    },
    {
     "name": "stderr",
     "output_type": "stream",
     "text": [
      "Both GOOGLE_API_KEY and GEMINI_API_KEY are set. Using GOOGLE_API_KEY.\n"
     ]
    },
    {
     "name": "stdout",
     "output_type": "stream",
     "text": [
      "File saved to: ../data/images\\TICKET_002.jpeg\n",
      "✓ Successfully generated image for ticket TICKET_002\n",
      "--------------------------------------------------\n",
      "Processing ticket TICKET_003 (3/100)...\n",
      "Prompt: A slightly blurry, handheld photo of an older trilink keypad. A yellow trouble light is glowing. The...\n"
     ]
    },
    {
     "name": "stderr",
     "output_type": "stream",
     "text": [
      "Both GOOGLE_API_KEY and GEMINI_API_KEY are set. Using GOOGLE_API_KEY.\n"
     ]
    },
    {
     "name": "stdout",
     "output_type": "stream",
     "text": [
      "File saved to: ../data/images\\TICKET_003.jpeg\n",
      "✓ Successfully generated image for ticket TICKET_003\n",
      "--------------------------------------------------\n",
      "Processing ticket TICKET_004 (4/100)...\n",
      "Prompt: A slightly angled, close-up photo of a white wall outlet. A large, black trilink power transformer i...\n"
     ]
    },
    {
     "name": "stderr",
     "output_type": "stream",
     "text": [
      "Both GOOGLE_API_KEY and GEMINI_API_KEY are set. Using GOOGLE_API_KEY.\n"
     ]
    },
    {
     "name": "stdout",
     "output_type": "stream",
     "text": [
      "File saved to: ../data/images\\TICKET_004.jpeg\n",
      "✓ Successfully generated image for ticket TICKET_004\n",
      "--------------------------------------------------\n",
      "Processing ticket TICKET_005 (5/100)...\n",
      "Prompt: A photo of an trilink Command panel screen taken by a user. The screen displays a generic error pop-...\n"
     ]
    },
    {
     "name": "stderr",
     "output_type": "stream",
     "text": [
      "Both GOOGLE_API_KEY and GEMINI_API_KEY are set. Using GOOGLE_API_KEY.\n"
     ]
    },
    {
     "name": "stdout",
     "output_type": "stream",
     "text": [
      "Text response for ticket TICKET_005: Here's that\n",
      "Text response for ticket TICKET_005:  frustrating\n",
      "Text response for ticket TICKET_005:  error message for\n",
      "Text response for ticket TICKET_005:  you: \n",
      "File saved to: ../data/images\\TICKET_005.jpeg\n",
      "✓ Successfully generated image for ticket TICKET_005\n",
      "--------------------------------------------------\n",
      "Processing ticket TICKET_006 (6/100)...\n",
      "Prompt: A smartphone photo of an trilink panel screen. The screen is displaying a red error message 'Z-Wave ...\n"
     ]
    },
    {
     "name": "stderr",
     "output_type": "stream",
     "text": [
      "Both GOOGLE_API_KEY and GEMINI_API_KEY are set. Using GOOGLE_API_KEY.\n"
     ]
    },
    {
     "name": "stdout",
     "output_type": "stream",
     "text": [
      "File saved to: ../data/images\\TICKET_006.jpeg\n",
      "✓ Successfully generated image for ticket TICKET_006\n",
      "--------------------------------------------------\n",
      "Processing ticket TICKET_007 (7/100)...\n",
      "Prompt: A direct photo of an trilink touchscreen panel's home screen. A digital clock widget on the panel cl...\n"
     ]
    },
    {
     "name": "stderr",
     "output_type": "stream",
     "text": [
      "Both GOOGLE_API_KEY and GEMINI_API_KEY are set. Using GOOGLE_API_KEY.\n"
     ]
    },
    {
     "name": "stdout",
     "output_type": "stream",
     "text": [
      "Text response for ticket TICKET_007: Here's that\n",
      "Text response for ticket TICKET_007:  image: \n",
      "File saved to: ../data/images\\TICKET_007.jpeg\n",
      "✓ Successfully generated image for ticket TICKET_007\n",
      "--------------------------------------------------\n",
      "Processing ticket TICKET_008 (8/100)...\n",
      "Prompt: A sharp, clear screenshot taken from a smartphone, showing the 'User Management' screen of the trili...\n"
     ]
    },
    {
     "name": "stderr",
     "output_type": "stream",
     "text": [
      "Both GOOGLE_API_KEY and GEMINI_API_KEY are set. Using GOOGLE_API_KEY.\n"
     ]
    },
    {
     "name": "stdout",
     "output_type": "stream",
     "text": [
      "Text response for ticket TICKET_008: Here\n",
      "Text response for ticket TICKET_008: 's that\n",
      "Text response for ticket TICKET_008:  screenshot: \n",
      "File saved to: ../data/images\\TICKET_008.jpeg\n",
      "✓ Successfully generated image for ticket TICKET_008\n",
      "--------------------------------------------------\n",
      "Processing ticket TICKET_009 (9/100)...\n",
      "Prompt: A photo of the 'Sound Settings' menu on an trilink Command panel. A finger is shown moving the 'Voic...\n"
     ]
    },
    {
     "name": "stderr",
     "output_type": "stream",
     "text": [
      "Both GOOGLE_API_KEY and GEMINI_API_KEY are set. Using GOOGLE_API_KEY.\n"
     ]
    },
    {
     "name": "stdout",
     "output_type": "stream",
     "text": [
      "File saved to: ../data/images\\TICKET_009.jpeg\n",
      "✓ Successfully generated image for ticket TICKET_009\n",
      "--------------------------------------------------\n",
      "Processing ticket TICKET_010 (10/100)...\n",
      "Prompt: A first-person photo taken inside a garage. A hand holds up an old, beige garage door remote and pre...\n"
     ]
    },
    {
     "name": "stderr",
     "output_type": "stream",
     "text": [
      "Both GOOGLE_API_KEY and GEMINI_API_KEY are set. Using GOOGLE_API_KEY.\n"
     ]
    },
    {
     "name": "stdout",
     "output_type": "stream",
     "text": [
      "Text response for ticket TICKET_010: Here's that\n",
      "Text response for ticket TICKET_010:  image for\n",
      "Text response for ticket TICKET_010:  you: \n",
      "File saved to: ../data/images\\TICKET_010.jpeg\n",
      "✓ Successfully generated image for ticket TICKET_010\n",
      "--------------------------------------------------\n",
      "Processing ticket TICKET_011 (11/100)...\n",
      "Prompt: A clear, close-up photo taken with a smartphone, looking up at an trilink outdoor camera. The entire...\n",
      "Text response for ticket TICKET_011: Here\n",
      "Text response for ticket TICKET_011: 's that\n",
      "Text response for ticket TICKET_011:  image for you!\n",
      "Text response for ticket TICKET_011:  \n"
     ]
    },
    {
     "name": "stderr",
     "output_type": "stream",
     "text": [
      "Both GOOGLE_API_KEY and GEMINI_API_KEY are set. Using GOOGLE_API_KEY.\n"
     ]
    },
    {
     "name": "stdout",
     "output_type": "stream",
     "text": [
      "File saved to: ../data/images\\TICKET_011.jpeg\n",
      "✓ Successfully generated image for ticket TICKET_011\n",
      "--------------------------------------------------\n",
      "Processing ticket TICKET_012 (12/100)...\n",
      "Prompt: A photo of a smartphone screen displaying the live feed from an trilink indoor camera. The scene is ...\n",
      "Text response for ticket TICKET_012: Sure, here'\n",
      "Text response for ticket TICKET_012: s that\n",
      "Text response for ticket TICKET_012:  image:\n",
      "\n"
     ]
    },
    {
     "name": "stderr",
     "output_type": "stream",
     "text": [
      "Both GOOGLE_API_KEY and GEMINI_API_KEY are set. Using GOOGLE_API_KEY.\n"
     ]
    },
    {
     "name": "stdout",
     "output_type": "stream",
     "text": [
      "File saved to: ../data/images\\TICKET_012.jpeg\n",
      "✓ Successfully generated image for ticket TICKET_012\n",
      "--------------------------------------------------\n",
      "Processing ticket TICKET_013 (13/100)...\n",
      "Prompt: A screenshot of a video feed from an trilink indoor camera. The image of the room is clear, but it i...\n",
      "Text response for ticket TICKET_013: Here's that\n",
      "Text response for ticket TICKET_013:  image\n",
      "Text response for ticket TICKET_013: ,\n",
      "Text response for ticket TICKET_013:  focusing on those\n",
      "Text response for ticket TICKET_013:  pesky\n",
      "Text response for ticket TICKET_013:  dust specks:\n",
      "Text response for ticket TICKET_013:  \n"
     ]
    },
    {
     "name": "stderr",
     "output_type": "stream",
     "text": [
      "Both GOOGLE_API_KEY and GEMINI_API_KEY are set. Using GOOGLE_API_KEY.\n"
     ]
    },
    {
     "name": "stdout",
     "output_type": "stream",
     "text": [
      "File saved to: ../data/images\\TICKET_013.jpeg\n",
      "✓ Successfully generated image for ticket TICKET_013\n",
      "--------------------------------------------------\n",
      "Processing ticket TICKET_014 (14/100)...\n",
      "Prompt: A close-up, handheld photo of a black power cable for a security camera. The cable is completely sev...\n"
     ]
    },
    {
     "name": "stderr",
     "output_type": "stream",
     "text": [
      "Both GOOGLE_API_KEY and GEMINI_API_KEY are set. Using GOOGLE_API_KEY.\n"
     ]
    },
    {
     "name": "stdout",
     "output_type": "stream",
     "text": [
      "Error generating image for ticket TICKET_014: 500 INTERNAL. {'error': {'code': 500, 'message': 'Internal error encountered.', 'status': 'INTERNAL'}}\n",
      "✗ Failed to generate image for ticket TICKET_014\n",
      "--------------------------------------------------\n",
      "Processing ticket TICKET_015 (15/100)...\n",
      "Prompt: A photo of a white trilink indoor camera sitting on a wooden mantlepiece. The camera body has droope...\n"
     ]
    },
    {
     "name": "stderr",
     "output_type": "stream",
     "text": [
      "Both GOOGLE_API_KEY and GEMINI_API_KEY are set. Using GOOGLE_API_KEY.\n"
     ]
    },
    {
     "name": "stdout",
     "output_type": "stream",
     "text": [
      "File saved to: ../data/images\\TICKET_015.jpeg\n",
      "✓ Successfully generated image for ticket TICKET_015\n",
      "--------------------------------------------------\n",
      "Processing ticket TICKET_016 (16/100)...\n",
      "Prompt: A clear screenshot from a smartphone showing the trilink app's camera storage settings. A prominent ...\n",
      "Text response for ticket TICKET_016: Here's that\n",
      "Text response for ticket TICKET_016:  screenshot for\n",
      "Text response for ticket TICKET_016:  you: \n"
     ]
    },
    {
     "name": "stderr",
     "output_type": "stream",
     "text": [
      "Both GOOGLE_API_KEY and GEMINI_API_KEY are set. Using GOOGLE_API_KEY.\n"
     ]
    },
    {
     "name": "stdout",
     "output_type": "stream",
     "text": [
      "File saved to: ../data/images\\TICKET_016.jpeg\n",
      "✓ Successfully generated image for ticket TICKET_016\n",
      "--------------------------------------------------\n",
      "Processing ticket TICKET_017 (17/100)...\n",
      "Prompt: A screenshot of a recorded video clip playing in the trilink app. The video shows a mail carrier at ...\n"
     ]
    },
    {
     "name": "stderr",
     "output_type": "stream",
     "text": [
      "Both GOOGLE_API_KEY and GEMINI_API_KEY are set. Using GOOGLE_API_KEY.\n"
     ]
    },
    {
     "name": "stdout",
     "output_type": "stream",
     "text": [
      "Text response for ticket TICKET_017: Okay, here'\n",
      "Text response for ticket TICKET_017: s that screenshot for\n",
      "Text response for ticket TICKET_017:  you: \n",
      "File saved to: ../data/images\\TICKET_017.jpeg\n",
      "✓ Successfully generated image for ticket TICKET_017\n",
      "--------------------------------------------------\n",
      "Processing ticket TICKET_018 (18/100)...\n",
      "Prompt: A short, looping video clip (or a photo representing it) taken from a smartphone showing the live fe...\n",
      "Text response for ticket TICKET_018: Here's a\n",
      "Text response for ticket TICKET_018:  representation\n",
      "Text response for ticket TICKET_018:  of what that distorted\n",
      "Text response for ticket TICKET_018:  tril\n",
      "Text response for ticket TICKET_018: ink camera feed might\n",
      "Text response for ticket TICKET_018:  look like: \n"
     ]
    },
    {
     "name": "stderr",
     "output_type": "stream",
     "text": [
      "Both GOOGLE_API_KEY and GEMINI_API_KEY are set. Using GOOGLE_API_KEY.\n"
     ]
    },
    {
     "name": "stdout",
     "output_type": "stream",
     "text": [
      "File saved to: ../data/images\\TICKET_018.jpeg\n",
      "✓ Successfully generated image for ticket TICKET_018\n",
      "--------------------------------------------------\n",
      "Processing ticket TICKET_019 (19/100)...\n",
      "Prompt: A screenshot of an trilink app notification that reads 'Person detected at Front Door'. Below it is ...\n"
     ]
    },
    {
     "name": "stderr",
     "output_type": "stream",
     "text": [
      "Both GOOGLE_API_KEY and GEMINI_API_KEY are set. Using GOOGLE_API_KEY.\n"
     ]
    },
    {
     "name": "stdout",
     "output_type": "stream",
     "text": [
      "Text response for ticket TICKET_019: Here's that\n",
      "Text response for ticket TICKET_019:  screenshot for\n",
      "Text response for ticket TICKET_019:  you: \n",
      "File saved to: ../data/images\\TICKET_019.jpeg\n",
      "✓ Successfully generated image for ticket TICKET_019\n",
      "--------------------------------------------------\n",
      "Processing ticket TICKET_020 (20/100)...\n",
      "Prompt: A photo taken in a very dark nursery. The only significant light source is the small but intense red...\n"
     ]
    },
    {
     "name": "stderr",
     "output_type": "stream",
     "text": [
      "Both GOOGLE_API_KEY and GEMINI_API_KEY are set. Using GOOGLE_API_KEY.\n"
     ]
    },
    {
     "name": "stdout",
     "output_type": "stream",
     "text": [
      "File saved to: ../data/images\\TICKET_020.jpeg\n",
      "✓ Successfully generated image for ticket TICKET_020\n",
      "--------------------------------------------------\n",
      "Processing ticket TICKET_021 (21/100)...\n",
      "Prompt: A photorealistic photo of a small, white plastic magnet piece from an trilink window sensor sitting ...\n"
     ]
    },
    {
     "name": "stderr",
     "output_type": "stream",
     "text": [
      "Both GOOGLE_API_KEY and GEMINI_API_KEY are set. Using GOOGLE_API_KEY.\n"
     ]
    },
    {
     "name": "stdout",
     "output_type": "stream",
     "text": [
      "File saved to: ../data/images\\TICKET_021.jpeg\n",
      "✓ Successfully generated image for ticket TICKET_021\n",
      "--------------------------------------------------\n",
      "Processing ticket TICKET_022 (22/100)...\n",
      "Prompt: A close-up photo of an trilink door sensor with its cover removed to show the battery inside. A hand...\n",
      "Text response for ticket TICKET_022: Here's that\n",
      "Text response for ticket TICKET_022:  image: \n"
     ]
    },
    {
     "name": "stderr",
     "output_type": "stream",
     "text": [
      "Both GOOGLE_API_KEY and GEMINI_API_KEY are set. Using GOOGLE_API_KEY.\n"
     ]
    },
    {
     "name": "stdout",
     "output_type": "stream",
     "text": [
      "File saved to: ../data/images\\TICKET_022.jpeg\n",
      "✓ Successfully generated image for ticket TICKET_022\n",
      "--------------------------------------------------\n",
      "Processing ticket TICKET_023 (23/100)...\n",
      "Prompt: A photo looking at the side of a white vinyl double-hung window. The bottom sash is opened upwards b...\n",
      "Text response for ticket TICKET_023: Here is a photo\n",
      "Text response for ticket TICKET_023:  that\n",
      "Text response for ticket TICKET_023:  depicts\n",
      "Text response for ticket TICKET_023:  the specific\n",
      "Text response for ticket TICKET_023:  installation flaw you described\n",
      "Text response for ticket TICKET_023:  with\n",
      "Text response for ticket TICKET_023:  the window sensor:\n",
      "Text response for ticket TICKET_023:  \n"
     ]
    },
    {
     "name": "stderr",
     "output_type": "stream",
     "text": [
      "Both GOOGLE_API_KEY and GEMINI_API_KEY are set. Using GOOGLE_API_KEY.\n"
     ]
    },
    {
     "name": "stdout",
     "output_type": "stream",
     "text": [
      "File saved to: ../data/images\\TICKET_023.jpeg\n",
      "✓ Successfully generated image for ticket TICKET_023\n",
      "--------------------------------------------------\n",
      "Processing ticket TICKET_024 (24/100)...\n",
      "Prompt: A close-up photo of an trilink wireless sensor mounted directly on a dark bronze metal window frame....\n"
     ]
    },
    {
     "name": "stderr",
     "output_type": "stream",
     "text": [
      "Both GOOGLE_API_KEY and GEMINI_API_KEY are set. Using GOOGLE_API_KEY.\n"
     ]
    },
    {
     "name": "stdout",
     "output_type": "stream",
     "text": [
      "File saved to: ../data/images\\TICKET_024.jpeg\n",
      "✓ Successfully generated image for ticket TICKET_024\n",
      "--------------------------------------------------\n",
      "Processing ticket TICKET_025 (25/100)...\n",
      "Prompt: A photo of an trilink door sensor peeling away from a sun-beaten door frame. The double-sided tape i...\n"
     ]
    },
    {
     "name": "stderr",
     "output_type": "stream",
     "text": [
      "Both GOOGLE_API_KEY and GEMINI_API_KEY are set. Using GOOGLE_API_KEY.\n"
     ]
    },
    {
     "name": "stdout",
     "output_type": "stream",
     "text": [
      "File saved to: ../data/images\\TICKET_025.jpeg\n",
      "✓ Successfully generated image for ticket TICKET_025\n",
      "--------------------------------------------------\n",
      "Processing ticket TICKET_026 (26/100)...\n",
      "Prompt: A first-person photo holding a standard trilink sensor and magnet up to a door with deep, decorative...\n",
      "Text response for ticket TICKET_026: Here's that\n",
      "Text response for ticket TICKET_026:  first\n",
      "Text response for ticket TICKET_026: -person view\n",
      "Text response for ticket TICKET_026:  of the installation\n",
      "Text response for ticket TICKET_026:  challenge: \n",
      "File saved to: ../data/images\\TICKET_026.jpeg\n",
      "✓ Successfully generated image for ticket TICKET_026\n",
      "--------------------------------------------------\n",
      "Processing ticket TICKET_027 (27/100)...\n",
      "Prompt: A clear, close-up photo of an trilink window sensor base mounted on a windowsill. The white plastic ...\n"
     ]
    },
    {
     "name": "stderr",
     "output_type": "stream",
     "text": [
      "Both GOOGLE_API_KEY and GEMINI_API_KEY are set. Using GOOGLE_API_KEY.\n",
      "Both GOOGLE_API_KEY and GEMINI_API_KEY are set. Using GOOGLE_API_KEY.\n"
     ]
    },
    {
     "name": "stdout",
     "output_type": "stream",
     "text": [
      "File saved to: ../data/images\\TICKET_027.jpeg\n",
      "✓ Successfully generated image for ticket TICKET_027\n",
      "--------------------------------------------------\n",
      "Processing ticket TICKET_028 (28/100)...\n",
      "Prompt: A close-up, slightly blurred photo of the gap between a door and its frame, showing motion. The door...\n"
     ]
    },
    {
     "name": "stderr",
     "output_type": "stream",
     "text": [
      "Both GOOGLE_API_KEY and GEMINI_API_KEY are set. Using GOOGLE_API_KEY.\n"
     ]
    },
    {
     "name": "stdout",
     "output_type": "stream",
     "text": [
      "Text response for ticket TICKET_028: Here's that\n",
      "Text response for ticket TICKET_028:  image:\n",
      "\n",
      "File saved to: ../data/images\\TICKET_028.jpeg\n",
      "✓ Successfully generated image for ticket TICKET_028\n",
      "--------------------------------------------------\n",
      "Processing ticket TICKET_029 (29/100)...\n",
      "Prompt: A photo of a freshly painted modern grey wall next to a white window frame. On the frame is an old t...\n"
     ]
    },
    {
     "name": "stderr",
     "output_type": "stream",
     "text": [
      "Both GOOGLE_API_KEY and GEMINI_API_KEY are set. Using GOOGLE_API_KEY.\n"
     ]
    },
    {
     "name": "stdout",
     "output_type": "stream",
     "text": [
      "Text response for ticket TICKET_029: Here's that\n",
      "Text response for ticket TICKET_029:  photo for you:\n",
      "Text response for ticket TICKET_029:  \n",
      "File saved to: ../data/images\\TICKET_029.jpeg\n",
      "✓ Successfully generated image for ticket TICKET_029\n",
      "--------------------------------------------------\n",
      "Processing ticket TICKET_030 (30/100)...\n",
      "Prompt: A screenshot from a smartphone showing the trilink app's event history. A single event is circled in...\n"
     ]
    },
    {
     "name": "stderr",
     "output_type": "stream",
     "text": [
      "Both GOOGLE_API_KEY and GEMINI_API_KEY are set. Using GOOGLE_API_KEY.\n"
     ]
    },
    {
     "name": "stdout",
     "output_type": "stream",
     "text": [
      "File saved to: ../data/images\\TICKET_030.jpeg\n",
      "✓ Successfully generated image for ticket TICKET_030\n",
      "--------------------------------------------------\n",
      "Processing ticket TICKET_031 (31/100)...\n",
      "Prompt: A sharp, macro photo of an trilink video doorbell. The main round button is visibly recessed and stu...\n",
      "Text response for ticket TICKET_031: Here's a\n",
      "Text response for ticket TICKET_031:  sharp\n",
      "Text response for ticket TICKET_031:  macro photo focusing\n",
      "Text response for ticket TICKET_031:  on the recessed and\n",
      "Text response for ticket TICKET_031:  stuck button of a\n",
      "Text response for ticket TICKET_031:  Tril\n",
      "Text response for ticket TICKET_031: ink video doorbell:\n",
      "Text response for ticket TICKET_031:  \n"
     ]
    },
    {
     "name": "stderr",
     "output_type": "stream",
     "text": [
      "Both GOOGLE_API_KEY and GEMINI_API_KEY are set. Using GOOGLE_API_KEY.\n"
     ]
    },
    {
     "name": "stdout",
     "output_type": "stream",
     "text": [
      "File saved to: ../data/images\\TICKET_031.jpeg\n",
      "✓ Successfully generated image for ticket TICKET_031\n",
      "--------------------------------------------------\n",
      "Processing ticket TICKET_032 (32/100)...\n",
      "Prompt: A photo of a front door at dusk. A hand is touching the dark screen of an trilink smart lock. The ke...\n",
      "Text response for ticket TICKET_032: Here's that\n",
      "Text response for ticket TICKET_032:  image: \n"
     ]
    },
    {
     "name": "stderr",
     "output_type": "stream",
     "text": [
      "Both GOOGLE_API_KEY and GEMINI_API_KEY are set. Using GOOGLE_API_KEY.\n"
     ]
    },
    {
     "name": "stdout",
     "output_type": "stream",
     "text": [
      "File saved to: ../data/images\\TICKET_032.jpeg\n",
      "✓ Successfully generated image for ticket TICKET_032\n",
      "--------------------------------------------------\n",
      "Processing ticket TICKET_033 (33/100)...\n",
      "Prompt: A screenshot of the trilink app during a two-way talk session with a doorbell. The audio waveform vi...\n"
     ]
    },
    {
     "name": "stderr",
     "output_type": "stream",
     "text": [
      "Both GOOGLE_API_KEY and GEMINI_API_KEY are set. Using GOOGLE_API_KEY.\n"
     ]
    },
    {
     "name": "stdout",
     "output_type": "stream",
     "text": [
      "File saved to: ../data/images\\TICKET_033.jpeg\n",
      "✓ Successfully generated image for ticket TICKET_033\n",
      "--------------------------------------------------\n",
      "Processing ticket TICKET_034 (34/100)...\n",
      "Prompt: A detailed macro photograph of an oil-rubbed bronze smart lock. The dark coating is visibly peeling ...\n",
      "Text response for ticket TICKET_034: Here is\n",
      "Text response for ticket TICKET_034:  your\n",
      "Text response for ticket TICKET_034:  detailed\n",
      "Text response for ticket TICKET_034:  macro photograph of an\n",
      "Text response for ticket TICKET_034:  oil-rubbed\n",
      "Text response for ticket TICKET_034:  bronze smart lock with\n",
      "Text response for ticket TICKET_034:  peeling finish:\n",
      "\n",
      "\n"
     ]
    },
    {
     "name": "stderr",
     "output_type": "stream",
     "text": [
      "Both GOOGLE_API_KEY and GEMINI_API_KEY are set. Using GOOGLE_API_KEY.\n"
     ]
    },
    {
     "name": "stdout",
     "output_type": "stream",
     "text": [
      "File saved to: ../data/images\\TICKET_034.jpeg\n",
      "✓ Successfully generated image for ticket TICKET_034\n",
      "--------------------------------------------------\n",
      "Processing ticket TICKET_035 (35/100)...\n",
      "Prompt: A photo taken from inside a house, showing the edge of the front door and the frame. The door is sli...\n",
      "Text response for ticket TICKET_035: Here's that\n",
      "Text response for ticket TICKET_035:  image: \n"
     ]
    },
    {
     "name": "stderr",
     "output_type": "stream",
     "text": [
      "Both GOOGLE_API_KEY and GEMINI_API_KEY are set. Using GOOGLE_API_KEY.\n"
     ]
    },
    {
     "name": "stdout",
     "output_type": "stream",
     "text": [
      "File saved to: ../data/images\\TICKET_035.jpeg\n",
      "✓ Successfully generated image for ticket TICKET_035\n",
      "--------------------------------------------------\n",
      "Processing ticket TICKET_036 (36/100)...\n",
      "Prompt: A screenshot of the trilink app's event history for the doorbell camera. The screen is filled with a...\n"
     ]
    },
    {
     "name": "stderr",
     "output_type": "stream",
     "text": [
      "Both GOOGLE_API_KEY and GEMINI_API_KEY are set. Using GOOGLE_API_KEY.\n"
     ]
    },
    {
     "name": "stdout",
     "output_type": "stream",
     "text": [
      "File saved to: ../data/images\\TICKET_036.jpeg\n",
      "✓ Successfully generated image for ticket TICKET_036\n",
      "--------------------------------------------------\n",
      "Processing ticket TICKET_037 (37/100)...\n",
      "Prompt: A screenshot from the trilink app's 'Manage Users' screen. A new user's email is shown with a status...\n"
     ]
    },
    {
     "name": "stderr",
     "output_type": "stream",
     "text": [
      "Both GOOGLE_API_KEY and GEMINI_API_KEY are set. Using GOOGLE_API_KEY.\n"
     ]
    },
    {
     "name": "stdout",
     "output_type": "stream",
     "text": [
      "File saved to: ../data/images\\TICKET_037.jpeg\n",
      "✓ Successfully generated image for ticket TICKET_037\n",
      "--------------------------------------------------\n",
      "Processing ticket TICKET_038 (38/100)...\n",
      "Prompt: A direct, close-up photo of an trilink video doorbell in the morning. The camera's lens is completel...\n",
      "Text response for ticket TICKET_038: Here's that\n",
      "Text response for ticket TICKET_038:  image: \n",
      "File saved to: ../data/images\\TICKET_038.jpeg\n",
      "✓ Successfully generated image for ticket TICKET_038\n",
      "--------------------------------------------------\n",
      "Processing ticket TICKET_039 (39/100)...\n",
      "Prompt: A short, silent video clip of an trilink smart lock's interior component on a door. The camera is ve...\n"
     ]
    },
    {
     "name": "stderr",
     "output_type": "stream",
     "text": [
      "Both GOOGLE_API_KEY and GEMINI_API_KEY are set. Using GOOGLE_API_KEY.\n",
      "Both GOOGLE_API_KEY and GEMINI_API_KEY are set. Using GOOGLE_API_KEY.\n"
     ]
    },
    {
     "name": "stdout",
     "output_type": "stream",
     "text": [
      "File saved to: ../data/images\\TICKET_039.jpeg\n",
      "✓ Successfully generated image for ticket TICKET_039\n",
      "--------------------------------------------------\n",
      "Processing ticket TICKET_040 (40/100)...\n",
      "Prompt: A first-person photo of a hand pressing the keypad of an trilink smart lock. The door is open. The k...\n"
     ]
    },
    {
     "name": "stderr",
     "output_type": "stream",
     "text": [
      "Both GOOGLE_API_KEY and GEMINI_API_KEY are set. Using GOOGLE_API_KEY.\n"
     ]
    },
    {
     "name": "stdout",
     "output_type": "stream",
     "text": [
      "File saved to: ../data/images\\TICKET_040.jpeg\n",
      "✓ Successfully generated image for ticket TICKET_040\n",
      "--------------------------------------------------\n",
      "Processing ticket TICKET_041 (41/100)...\n",
      "Prompt: A wide-angle photo taken from inside a garage, pointed at the large, segmented garage door as it is ...\n"
     ]
    },
    {
     "name": "stderr",
     "output_type": "stream",
     "text": [
      "Both GOOGLE_API_KEY and GEMINI_API_KEY are set. Using GOOGLE_API_KEY.\n"
     ]
    },
    {
     "name": "stdout",
     "output_type": "stream",
     "text": [
      "File saved to: ../data/images\\TICKET_041.jpeg\n",
      "✓ Successfully generated image for ticket TICKET_041\n",
      "--------------------------------------------------\n",
      "Processing ticket TICKET_042 (42/100)...\n",
      "Prompt: A still photo of a living room. A long, lightweight curtain is visibly billowing from an air vent on...\n"
     ]
    },
    {
     "name": "stderr",
     "output_type": "stream",
     "text": [
      "Both GOOGLE_API_KEY and GEMINI_API_KEY are set. Using GOOGLE_API_KEY.\n"
     ]
    },
    {
     "name": "stdout",
     "output_type": "stream",
     "text": [
      "File saved to: ../data/images\\TICKET_042.jpeg\n",
      "✓ Successfully generated image for ticket TICKET_042\n",
      "--------------------------------------------------\n",
      "Processing ticket TICKET_043 (43/100)...\n",
      "Prompt: A photo of a sunlit tiled floor in a sunroom. The sharp, distinct shadows of tree branches are cast ...\n",
      "Text response for ticket TICKET_043: Here's a\n",
      "Text response for ticket TICKET_043:  photo of a\n",
      "Text response for ticket TICKET_043:  sunlit tiled floor\n",
      "Text response for ticket TICKET_043:  in a sunroom\n",
      "Text response for ticket TICKET_043: , with the sharp\n",
      "Text response for ticket TICKET_043: , distinct shadows of\n",
      "Text response for ticket TICKET_043:  tree branches cast across\n",
      "Text response for ticket TICKET_043:  it\n",
      "Text response for ticket TICKET_043: , and a tril\n",
      "Text response for ticket TICKET_043: ink motion sensor visible\n",
      "Text response for ticket TICKET_043:  on the far wall\n",
      "Text response for ticket TICKET_043: :\n",
      "Text response for ticket TICKET_043:  \n"
     ]
    },
    {
     "name": "stderr",
     "output_type": "stream",
     "text": [
      "Both GOOGLE_API_KEY and GEMINI_API_KEY are set. Using GOOGLE_API_KEY.\n"
     ]
    },
    {
     "name": "stdout",
     "output_type": "stream",
     "text": [
      "File saved to: ../data/images\\TICKET_043.jpeg\n",
      "✓ Successfully generated image for ticket TICKET_043\n",
      "--------------------------------------------------\n",
      "Processing ticket TICKET_044 (44/100)...\n",
      "Prompt: A photo of an trilink motion sensor lying on a carpeted floor. The front cover is lying next to it. ...\n",
      "Text response for ticket TICKET_044: Here's the\n",
      "Text response for ticket TICKET_044:  image you requested:\n",
      "Text response for ticket TICKET_044:  \n"
     ]
    },
    {
     "name": "stderr",
     "output_type": "stream",
     "text": [
      "Both GOOGLE_API_KEY and GEMINI_API_KEY are set. Using GOOGLE_API_KEY.\n"
     ]
    },
    {
     "name": "stdout",
     "output_type": "stream",
     "text": [
      "File saved to: ../data/images\\TICKET_044.jpeg\n",
      "✓ Successfully generated image for ticket TICKET_044\n",
      "--------------------------------------------------\n",
      "Processing ticket TICKET_045 (45/100)...\n",
      "Prompt: A screenshot from a smartphone showing the trilink app's event history. The system status at the top...\n"
     ]
    },
    {
     "name": "stderr",
     "output_type": "stream",
     "text": [
      "Both GOOGLE_API_KEY and GEMINI_API_KEY are set. Using GOOGLE_API_KEY.\n"
     ]
    },
    {
     "name": "stdout",
     "output_type": "stream",
     "text": [
      "File saved to: ../data/images\\TICKET_045.jpeg\n",
      "✓ Successfully generated image for ticket TICKET_045\n",
      "--------------------------------------------------\n",
      "Processing ticket TICKET_046 (46/100)...\n",
      "Prompt: A clear photo of an trilink keypad's screen. The screen is on the 'Bypass Zones' menu. The entry 'Zo...\n"
     ]
    },
    {
     "name": "stderr",
     "output_type": "stream",
     "text": [
      "Both GOOGLE_API_KEY and GEMINI_API_KEY are set. Using GOOGLE_API_KEY.\n"
     ]
    },
    {
     "name": "stdout",
     "output_type": "stream",
     "text": [
      "File saved to: ../data/images\\TICKET_046.jpeg\n",
      "✓ Successfully generated image for ticket TICKET_046\n",
      "--------------------------------------------------\n",
      "Processing ticket TICKET_047 (47/100)...\n",
      "Prompt: A very close-up photo taken through the dark red plastic fresnel lens of a motion detector. The silh...\n",
      "Text response for ticket TICKET_047: Here\n",
      "Text response for ticket TICKET_047: 's that\n",
      "Text response for ticket TICKET_047:  unique\n",
      "Text response for ticket TICKET_047:  close-up of\n",
      "Text response for ticket TICKET_047:  a gecko inside a\n",
      "Text response for ticket TICKET_047:  motion detector: \n"
     ]
    },
    {
     "name": "stderr",
     "output_type": "stream",
     "text": [
      "Both GOOGLE_API_KEY and GEMINI_API_KEY are set. Using GOOGLE_API_KEY.\n"
     ]
    },
    {
     "name": "stdout",
     "output_type": "stream",
     "text": [
      "File saved to: ../data/images\\TICKET_047.jpeg\n",
      "✓ Successfully generated image for ticket TICKET_047\n",
      "--------------------------------------------------\n",
      "Processing ticket TICKET_048 (48/100)...\n",
      "Prompt: A photo showing a stark contrast between a freshly painted, modern grey wall and an old, boxy trilin...\n",
      "Text response for ticket TICKET_048: Here's that\n",
      "Text response for ticket TICKET_048:  image for you:\n",
      "Text response for ticket TICKET_048:  \n"
     ]
    },
    {
     "name": "stderr",
     "output_type": "stream",
     "text": [
      "Both GOOGLE_API_KEY and GEMINI_API_KEY are set. Using GOOGLE_API_KEY.\n"
     ]
    },
    {
     "name": "stdout",
     "output_type": "stream",
     "text": [
      "File saved to: ../data/images\\TICKET_048.jpeg\n",
      "✓ Successfully generated image for ticket TICKET_048\n",
      "--------------------------------------------------\n",
      "Processing ticket TICKET_049 (49/100)...\n",
      "Prompt: A photo of an trilink motion sensor mounted on a laundry room wall. The sensor's red trigger light i...\n",
      "Text response for ticket TICKET_049: Here is\n",
      "Text response for ticket TICKET_049:  an\n",
      "Text response for ticket TICKET_049:  image of the Tril\n",
      "Text response for ticket TICKET_049: ink motion sensor,\n",
      "Text response for ticket TICKET_049:  triggered by the washing\n",
      "Text response for ticket TICKET_049:  machine's vibrations\n",
      "Text response for ticket TICKET_049: :\n",
      "Text response for ticket TICKET_049:  \n",
      "File saved to: ../data/images\\TICKET_049.jpeg\n",
      "✓ Successfully generated image for ticket TICKET_049\n",
      "--------------------------------------------------\n",
      "Processing ticket TICKET_050 (50/100)...\n",
      "Prompt: A photo taken from a low angle in a home office, looking up at a white, circular 360-degree motion s...\n"
     ]
    },
    {
     "name": "stderr",
     "output_type": "stream",
     "text": [
      "Both GOOGLE_API_KEY and GEMINI_API_KEY are set. Using GOOGLE_API_KEY.\n"
     ]
    },
    {
     "name": "stdout",
     "output_type": "stream",
     "text": [
      "Text response for ticket TICKET_050: Here's an\n",
      "Text response for ticket TICKET_050:  image that should\n",
      "Text response for ticket TICKET_050:  help visualize that blind\n",
      "Text response for ticket TICKET_050:  spot: \n",
      "File saved to: ../data/images\\TICKET_050.jpeg\n",
      "✓ Successfully generated image for ticket TICKET_050\n",
      "--------------------------------------------------\n",
      "Processing ticket TICKET_051 (51/100)...\n",
      "Prompt: A photo of a hallway ceiling showing an trilink smoke detector. Thick, dense water vapor is visibly ...\n"
     ]
    },
    {
     "name": "stderr",
     "output_type": "stream",
     "text": [
      "Both GOOGLE_API_KEY and GEMINI_API_KEY are set. Using GOOGLE_API_KEY.\n",
      "Both GOOGLE_API_KEY and GEMINI_API_KEY are set. Using GOOGLE_API_KEY.\n"
     ]
    },
    {
     "name": "stdout",
     "output_type": "stream",
     "text": [
      "File saved to: ../data/images\\TICKET_051.jpeg\n",
      "✓ Successfully generated image for ticket TICKET_051\n",
      "--------------------------------------------------\n",
      "Processing ticket TICKET_052 (52/100)...\n",
      "Prompt: A photo looking down a hallway where two trilink smoke detectors are visible on the ceiling. The clo...\n"
     ]
    },
    {
     "name": "stderr",
     "output_type": "stream",
     "text": [
      "Both GOOGLE_API_KEY and GEMINI_API_KEY are set. Using GOOGLE_API_KEY.\n"
     ]
    },
    {
     "name": "stdout",
     "output_type": "stream",
     "text": [
      "File saved to: ../data/images\\TICKET_052.jpeg\n",
      "✓ Successfully generated image for ticket TICKET_052\n",
      "--------------------------------------------------\n",
      "Processing ticket TICKET_053 (53/100)...\n",
      "Prompt: A photo of an trilink smoke detector on the ceiling, which is noticeably crooked on its mounting bas...\n",
      "Text response for ticket TICKET_053: Here's the\n",
      "Text response for ticket TICKET_053:  image you requested:\n",
      "Text response for ticket TICKET_053:  \n",
      "File saved to: ../data/images\\TICKET_053.jpeg\n",
      "✓ Successfully generated image for ticket TICKET_053\n",
      "--------------------------------------------------\n",
      "Processing ticket TICKET_054 (54/100)...\n",
      "Prompt: A close-up photo of an trilink carbon monoxide detector plugged into a wall outlet. The digital scre...\n"
     ]
    },
    {
     "name": "stderr",
     "output_type": "stream",
     "text": [
      "Both GOOGLE_API_KEY and GEMINI_API_KEY are set. Using GOOGLE_API_KEY.\n",
      "Both GOOGLE_API_KEY and GEMINI_API_KEY are set. Using GOOGLE_API_KEY.\n"
     ]
    },
    {
     "name": "stdout",
     "output_type": "stream",
     "text": [
      "Text response for ticket TICKET_054: Here is\n",
      "Text response for ticket TICKET_054:  the image of the\n",
      "Text response for ticket TICKET_054:  trilink carbon monoxide\n",
      "Text response for ticket TICKET_054:  detector: \n",
      "File saved to: ../data/images\\TICKET_054.jpeg\n",
      "✓ Successfully generated image for ticket TICKET_054\n",
      "--------------------------------------------------\n",
      "Processing ticket TICKET_055 (55/100)...\n",
      "Prompt: A photo of an trilink smoke detector on a ceiling, covered in a fine layer of white drywall dust. A ...\n",
      "Text response for ticket TICKET_055: Here's that\n",
      "Text response for ticket TICKET_055:  image: \n",
      "File saved to: ../data/images\\TICKET_055.jpeg\n",
      "✓ Successfully generated image for ticket TICKET_055\n",
      "--------------------------------------------------\n",
      "Processing ticket TICKET_056 (56/100)...\n",
      "Prompt: A smartphone photo of a sound meter app held up next to a smoke detector. The smoke detector's red l...\n"
     ]
    },
    {
     "name": "stderr",
     "output_type": "stream",
     "text": [
      "Both GOOGLE_API_KEY and GEMINI_API_KEY are set. Using GOOGLE_API_KEY.\n",
      "Both GOOGLE_API_KEY and GEMINI_API_KEY are set. Using GOOGLE_API_KEY.\n"
     ]
    },
    {
     "name": "stdout",
     "output_type": "stream",
     "text": [
      "File saved to: ../data/images\\TICKET_056.jpeg\n",
      "✓ Successfully generated image for ticket TICKET_056\n",
      "--------------------------------------------------\n",
      "Processing ticket TICKET_057 (57/100)...\n",
      "Prompt: A screenshot of the trilink portal's device list. It shows three smoke detectors, all generically na...\n"
     ]
    },
    {
     "name": "stderr",
     "output_type": "stream",
     "text": [
      "Both GOOGLE_API_KEY and GEMINI_API_KEY are set. Using GOOGLE_API_KEY.\n"
     ]
    },
    {
     "name": "stdout",
     "output_type": "stream",
     "text": [
      "File saved to: ../data/images\\TICKET_057.jpeg\n",
      "✓ Successfully generated image for ticket TICKET_057\n",
      "--------------------------------------------------\n",
      "Processing ticket TICKET_058 (58/100)...\n",
      "Prompt: A photo taken inside a dark, hot attic. A thermometer hanging from a rafter is in sharp focus and re...\n"
     ]
    },
    {
     "name": "stderr",
     "output_type": "stream",
     "text": [
      "Both GOOGLE_API_KEY and GEMINI_API_KEY are set. Using GOOGLE_API_KEY.\n"
     ]
    },
    {
     "name": "stdout",
     "output_type": "stream",
     "text": [
      "File saved to: ../data/images\\TICKET_058.jpeg\n",
      "✓ Successfully generated image for ticket TICKET_058\n",
      "--------------------------------------------------\n",
      "Processing ticket TICKET_059 (59/100)...\n",
      "Prompt: A direct, close-up photo of an trilink smoke detector on a ceiling. The small status LED is captured...\n",
      "Text response for ticket TICKET_059: Here's that\n",
      "Text response for ticket TICKET_059:  close\n",
      "Text response for ticket TICKET_059: -up shot of\n",
      "Text response for ticket TICKET_059:  the Trill\n",
      "Text response for ticket TICKET_059: ink smoke detector with\n",
      "Text response for ticket TICKET_059:  the green LED\n",
      "Text response for ticket TICKET_059:  blinking: \n"
     ]
    },
    {
     "name": "stderr",
     "output_type": "stream",
     "text": [
      "Both GOOGLE_API_KEY and GEMINI_API_KEY are set. Using GOOGLE_API_KEY.\n"
     ]
    },
    {
     "name": "stdout",
     "output_type": "stream",
     "text": [
      "File saved to: ../data/images\\TICKET_059.jpeg\n",
      "✓ Successfully generated image for ticket TICKET_059\n",
      "--------------------------------------------------\n",
      "Processing ticket TICKET_060 (60/100)...\n",
      "Prompt: A photo of a specialized trilink strobe light unit mounted on a bedroom wall. The strobe light is ca...\n"
     ]
    },
    {
     "name": "stderr",
     "output_type": "stream",
     "text": [
      "Both GOOGLE_API_KEY and GEMINI_API_KEY are set. Using GOOGLE_API_KEY.\n"
     ]
    },
    {
     "name": "stdout",
     "output_type": "stream",
     "text": [
      "Text response for ticket TICKET_060: Here's your\n",
      "Text response for ticket TICKET_060:  photo of\n",
      "Text response for ticket TICKET_060:  a specialized trilink\n",
      "Text response for ticket TICKET_060:  strobe light unit mid\n",
      "Text response for ticket TICKET_060: -flash, illuminating\n",
      "Text response for ticket TICKET_060:  a\n",
      "Text response for ticket TICKET_060:  bedroom wall! \n",
      "File saved to: ../data/images\\TICKET_060.jpeg\n",
      "✓ Successfully generated image for ticket TICKET_060\n",
      "--------------------------------------------------\n",
      "Processing ticket TICKET_061 (61/100)...\n",
      "Prompt: A photo of the inside of the main metal security panel box. A finger is pointing to a small, green c...\n"
     ]
    },
    {
     "name": "stderr",
     "output_type": "stream",
     "text": [
      "Both GOOGLE_API_KEY and GEMINI_API_KEY are set. Using GOOGLE_API_KEY.\n"
     ]
    },
    {
     "name": "stdout",
     "output_type": "stream",
     "text": [
      "File saved to: ../data/images\\TICKET_061.jpeg\n",
      "✓ Successfully generated image for ticket TICKET_061\n",
      "--------------------------------------------------\n",
      "Processing ticket TICKET_062 (62/100)...\n",
      "Prompt: A screenshot of the trilink app's event history. It shows a sequence of events: 'Arm Away', followed...\n"
     ]
    },
    {
     "name": "stderr",
     "output_type": "stream",
     "text": [
      "Both GOOGLE_API_KEY and GEMINI_API_KEY are set. Using GOOGLE_API_KEY.\n"
     ]
    },
    {
     "name": "stdout",
     "output_type": "stream",
     "text": [
      "File saved to: ../data/images\\TICKET_062.jpeg\n",
      "✓ Successfully generated image for ticket TICKET_062\n",
      "--------------------------------------------------\n",
      "Processing ticket TICKET_063 (63/100)...\n",
      "Prompt: A photo of a light-colored carpet at the base of a wall. On the carpet is a small pile of white dryw...\n",
      "Text response for ticket TICKET_063: Here's that\n",
      "Text response for ticket TICKET_063:  photo for you:\n",
      "Text response for ticket TICKET_063:  \n"
     ]
    },
    {
     "name": "stderr",
     "output_type": "stream",
     "text": [
      "Both GOOGLE_API_KEY and GEMINI_API_KEY are set. Using GOOGLE_API_KEY.\n"
     ]
    },
    {
     "name": "stdout",
     "output_type": "stream",
     "text": [
      "File saved to: ../data/images\\TICKET_063.jpeg\n",
      "✓ Successfully generated image for ticket TICKET_063\n",
      "--------------------------------------------------\n",
      "Processing ticket TICKET_064 (64/100)...\n",
      "Prompt: A smartphone photo of the trilink app's main menu. A finger is about to tap on the menu item that re...\n"
     ]
    },
    {
     "name": "stderr",
     "output_type": "stream",
     "text": [
      "Both GOOGLE_API_KEY and GEMINI_API_KEY are set. Using GOOGLE_API_KEY.\n"
     ]
    },
    {
     "name": "stdout",
     "output_type": "stream",
     "text": [
      "File saved to: ../data/images\\TICKET_064.jpeg\n",
      "✓ Successfully generated image for ticket TICKET_064\n",
      "--------------------------------------------------\n",
      "Processing ticket TICKET_065 (65/100)...\n",
      "Prompt: An extreme close-up photo of an old, beige security keypad. The rubber buttons are worn completely s...\n"
     ]
    },
    {
     "name": "stderr",
     "output_type": "stream",
     "text": [
      "Both GOOGLE_API_KEY and GEMINI_API_KEY are set. Using GOOGLE_API_KEY.\n"
     ]
    },
    {
     "name": "stdout",
     "output_type": "stream",
     "text": [
      "File saved to: ../data/images\\TICKET_065.jpeg\n",
      "✓ Successfully generated image for ticket TICKET_065\n",
      "--------------------------------------------------\n",
      "Processing ticket TICKET_066 (66/100)...\n",
      "Prompt: A photo of a white plastic security panel box mounted on a wall. A large, spiderweb-style crack orig...\n"
     ]
    },
    {
     "name": "stderr",
     "output_type": "stream",
     "text": [
      "Both GOOGLE_API_KEY and GEMINI_API_KEY are set. Using GOOGLE_API_KEY.\n"
     ]
    },
    {
     "name": "stdout",
     "output_type": "stream",
     "text": [
      "File saved to: ../data/images\\TICKET_066.jpeg\n",
      "✓ Successfully generated image for ticket TICKET_066\n",
      "--------------------------------------------------\n",
      "Processing ticket TICKET_067 (67/100)...\n",
      "Prompt: A screenshot from the trilink app showing the live view from an outdoor camera. The view is more tha...\n",
      "Text response for ticket TICKET_067: Here\n",
      "Text response for ticket TICKET_067: 's that\n",
      "Text response for ticket TICKET_067:  screenshot for\n",
      "Text response for ticket TICKET_067:  you: \n"
     ]
    },
    {
     "name": "stderr",
     "output_type": "stream",
     "text": [
      "Both GOOGLE_API_KEY and GEMINI_API_KEY are set. Using GOOGLE_API_KEY.\n"
     ]
    },
    {
     "name": "stdout",
     "output_type": "stream",
     "text": [
      "File saved to: ../data/images\\TICKET_067.jpeg\n",
      "✓ Successfully generated image for ticket TICKET_067\n",
      "--------------------------------------------------\n",
      "Processing ticket TICKET_068 (68/100)...\n",
      "Prompt: A photo of a smartphone screen displaying a camera feed. The scene is a sun-drenched backyard, but t...\n",
      "Text response for ticket TICKET_068: Here\n",
      "Text response for ticket TICKET_068: 's that\n",
      "Text response for ticket TICKET_068:  image for\n",
      "Text response for ticket TICKET_068:  you: \n"
     ]
    },
    {
     "name": "stderr",
     "output_type": "stream",
     "text": [
      "Both GOOGLE_API_KEY and GEMINI_API_KEY are set. Using GOOGLE_API_KEY.\n"
     ]
    },
    {
     "name": "stdout",
     "output_type": "stream",
     "text": [
      "File saved to: ../data/images\\TICKET_068.jpeg\n",
      "✓ Successfully generated image for ticket TICKET_068\n",
      "--------------------------------------------------\n",
      "Processing ticket TICKET_069 (69/100)...\n",
      "Prompt: A photo taken by a smartphone, showing the live feed from a security camera. The image is a disorien...\n",
      "Text response for ticket TICKET_069: Here's that\n",
      "Text response for ticket TICKET_069:  dis\n",
      "Text response for ticket TICKET_069: orienting security\n",
      "Text response for ticket TICKET_069:  camera feed: \n"
     ]
    },
    {
     "name": "stderr",
     "output_type": "stream",
     "text": [
      "Both GOOGLE_API_KEY and GEMINI_API_KEY are set. Using GOOGLE_API_KEY.\n"
     ]
    },
    {
     "name": "stdout",
     "output_type": "stream",
     "text": [
      "File saved to: ../data/images\\TICKET_069.jpeg\n",
      "✓ Successfully generated image for ticket TICKET_069\n",
      "--------------------------------------------------\n",
      "Processing ticket TICKET_070 (70/100)...\n",
      "Prompt: A short video clip taken with a smartphone, aimed at the open metal box of the main security panel. ...\n"
     ]
    },
    {
     "name": "stderr",
     "output_type": "stream",
     "text": [
      "Both GOOGLE_API_KEY and GEMINI_API_KEY are set. Using GOOGLE_API_KEY.\n"
     ]
    },
    {
     "name": "stdout",
     "output_type": "stream",
     "text": [
      "File saved to: ../data/images\\TICKET_070.jpeg\n",
      "✓ Successfully generated image for ticket TICKET_070\n",
      "--------------------------------------------------\n",
      "Processing ticket TICKET_071 (71/100)...\n",
      "Prompt: A photo of a computer monitor on an office desk. The screen shows the trilink web portal, but the ar...\n"
     ]
    },
    {
     "name": "stderr",
     "output_type": "stream",
     "text": [
      "Both GOOGLE_API_KEY and GEMINI_API_KEY are set. Using GOOGLE_API_KEY.\n"
     ]
    },
    {
     "name": "stdout",
     "output_type": "stream",
     "text": [
      "File saved to: ../data/images\\TICKET_071.jpeg\n",
      "✓ Successfully generated image for ticket TICKET_071\n",
      "--------------------------------------------------\n",
      "Processing ticket TICKET_072 (72/100)...\n",
      "Prompt: A dark, night-time photo taken from a smartphone, showing a person walking up a driveway. An trilink...\n"
     ]
    },
    {
     "name": "stderr",
     "output_type": "stream",
     "text": [
      "Both GOOGLE_API_KEY and GEMINI_API_KEY are set. Using GOOGLE_API_KEY.\n"
     ]
    },
    {
     "name": "stdout",
     "output_type": "stream",
     "text": [
      "Error generating image for ticket TICKET_072: 500 INTERNAL. {'error': {'code': 500, 'message': 'Internal error encountered.', 'status': 'INTERNAL'}}\n",
      "✗ Failed to generate image for ticket TICKET_072\n",
      "--------------------------------------------------\n",
      "Processing ticket TICKET_073 (73/100)...\n",
      "Prompt: A screenshot of an audio editing app, showing the waveform from a downloaded doorbell clip. A consis...\n"
     ]
    },
    {
     "name": "stderr",
     "output_type": "stream",
     "text": [
      "Both GOOGLE_API_KEY and GEMINI_API_KEY are set. Using GOOGLE_API_KEY.\n"
     ]
    },
    {
     "name": "stdout",
     "output_type": "stream",
     "text": [
      "File saved to: ../data/images\\TICKET_073.jpeg\n",
      "✓ Successfully generated image for ticket TICKET_073\n",
      "--------------------------------------------------\n",
      "Processing ticket TICKET_074 (74/100)...\n",
      "Prompt: A screenshot of the trilink app's device status page for a solar-powered camera. The battery level i...\n"
     ]
    },
    {
     "name": "stderr",
     "output_type": "stream",
     "text": [
      "Both GOOGLE_API_KEY and GEMINI_API_KEY are set. Using GOOGLE_API_KEY.\n"
     ]
    },
    {
     "name": "stdout",
     "output_type": "stream",
     "text": [
      "Text response for ticket TICKET_074: Here's that\n",
      "Text response for ticket TICKET_074:  screenshot: \n",
      "File saved to: ../data/images\\TICKET_074.jpeg\n",
      "✓ Successfully generated image for ticket TICKET_074\n",
      "--------------------------------------------------\n",
      "Processing ticket TICKET_075 (75/100)...\n",
      "Prompt: A screenshot of the trilink app device list. The list shows 'Front Door Sensor' and 'Living Room Cam...\n"
     ]
    },
    {
     "name": "stderr",
     "output_type": "stream",
     "text": [
      "Both GOOGLE_API_KEY and GEMINI_API_KEY are set. Using GOOGLE_API_KEY.\n"
     ]
    },
    {
     "name": "stdout",
     "output_type": "stream",
     "text": [
      "File saved to: ../data/images\\TICKET_075.jpeg\n",
      "✓ Successfully generated image for ticket TICKET_075\n",
      "--------------------------------------------------\n",
      "Processing ticket TICKET_076 (76/100)...\n",
      "Prompt: A disturbing, macro photo of an outdoor camera lens. Several small black ants are visible crawling a...\n",
      "Text response for ticket TICKET_076: Here's that\n",
      "Text response for ticket TICKET_076:  disturbing macro\n",
      "Text response for ticket TICKET_076:  photo\n",
      "Text response for ticket TICKET_076:  of an outdoor\n",
      "Text response for ticket TICKET_076:  camera lens with ants\n",
      "Text response for ticket TICKET_076:  inside\n",
      "Text response for ticket TICKET_076: :\n",
      "\n",
      "\n"
     ]
    },
    {
     "name": "stderr",
     "output_type": "stream",
     "text": [
      "Both GOOGLE_API_KEY and GEMINI_API_KEY are set. Using GOOGLE_API_KEY.\n"
     ]
    },
    {
     "name": "stdout",
     "output_type": "stream",
     "text": [
      "File saved to: ../data/images\\TICKET_076.jpeg\n",
      "✓ Successfully generated image for ticket TICKET_076\n",
      "--------------------------------------------------\n",
      "Processing ticket TICKET_077 (77/100)...\n",
      "Prompt: A photo of the trilink panel's screen displaying a persistent 'Low Battery' warning for 'User 05 - K...\n"
     ]
    },
    {
     "name": "stderr",
     "output_type": "stream",
     "text": [
      "Both GOOGLE_API_KEY and GEMINI_API_KEY are set. Using GOOGLE_API_KEY.\n"
     ]
    },
    {
     "name": "stdout",
     "output_type": "stream",
     "text": [
      "File saved to: ../data/images\\TICKET_077.jpeg\n",
      "✓ Successfully generated image for ticket TICKET_077\n",
      "--------------------------------------------------\n",
      "Processing ticket TICKET_078 (78/100)...\n",
      "Prompt: A screenshot of the trilink app's event history. A user has added a note with an arrow pointing to a...\n"
     ]
    },
    {
     "name": "stderr",
     "output_type": "stream",
     "text": [
      "Both GOOGLE_API_KEY and GEMINI_API_KEY are set. Using GOOGLE_API_KEY.\n"
     ]
    },
    {
     "name": "stdout",
     "output_type": "stream",
     "text": [
      "File saved to: ../data/images\\TICKET_078.jpeg\n",
      "✓ Successfully generated image for ticket TICKET_078\n",
      "--------------------------------------------------\n",
      "Processing ticket TICKET_079 (79/100)...\n",
      "Prompt: A direct, close-up photo of an trilink smart lock keypad. A large, spiderweb-style crack runs across...\n"
     ]
    },
    {
     "name": "stderr",
     "output_type": "stream",
     "text": [
      "Both GOOGLE_API_KEY and GEMINI_API_KEY are set. Using GOOGLE_API_KEY.\n"
     ]
    },
    {
     "name": "stdout",
     "output_type": "stream",
     "text": [
      "File saved to: ../data/images\\TICKET_079.jpeg\n",
      "✓ Successfully generated image for ticket TICKET_079\n",
      "--------------------------------------------------\n",
      "Processing ticket TICKET_080 (80/100)...\n",
      "Prompt: A screenshot of the 'Add User' screen in the trilink app. The user has filled in the name and code, ...\n"
     ]
    },
    {
     "name": "stderr",
     "output_type": "stream",
     "text": [
      "Both GOOGLE_API_KEY and GEMINI_API_KEY are set. Using GOOGLE_API_KEY.\n"
     ]
    },
    {
     "name": "stdout",
     "output_type": "stream",
     "text": [
      "File saved to: ../data/images\\TICKET_080.jpeg\n",
      "✓ Successfully generated image for ticket TICKET_080\n",
      "--------------------------------------------------\n",
      "Processing ticket TICKET_081 (81/100)...\n",
      "Prompt: A screenshot of a video clip playing in the trilink app. The video shows a person speaking at the do...\n"
     ]
    },
    {
     "name": "stderr",
     "output_type": "stream",
     "text": [
      "Both GOOGLE_API_KEY and GEMINI_API_KEY are set. Using GOOGLE_API_KEY.\n"
     ]
    },
    {
     "name": "stdout",
     "output_type": "stream",
     "text": [
      "File saved to: ../data/images\\TICKET_081.jpeg\n",
      "✓ Successfully generated image for ticket TICKET_081\n",
      "--------------------------------------------------\n",
      "Processing ticket TICKET_082 (82/100)...\n",
      "Prompt: A photo of a Google Nest Hub smart display on a kitchen counter. The screen clearly shows the text: ...\n"
     ]
    },
    {
     "name": "stderr",
     "output_type": "stream",
     "text": [
      "Both GOOGLE_API_KEY and GEMINI_API_KEY are set. Using GOOGLE_API_KEY.\n"
     ]
    },
    {
     "name": "stdout",
     "output_type": "stream",
     "text": [
      "File saved to: ../data/images\\TICKET_082.jpeg\n",
      "✓ Successfully generated image for ticket TICKET_082\n",
      "--------------------------------------------------\n",
      "Processing ticket TICKET_083 (83/100)...\n",
      "Prompt: A photo of an trilink motion sensor on a garage wall. There is a visible black scuff mark from a bas...\n",
      "Text response for ticket TICKET_083: Here's your\n",
      "Text response for ticket TICKET_083:  image: \n"
     ]
    },
    {
     "name": "stderr",
     "output_type": "stream",
     "text": [
      "Both GOOGLE_API_KEY and GEMINI_API_KEY are set. Using GOOGLE_API_KEY.\n"
     ]
    },
    {
     "name": "stdout",
     "output_type": "stream",
     "text": [
      "File saved to: ../data/images\\TICKET_083.jpeg\n",
      "✓ Successfully generated image for ticket TICKET_083\n",
      "--------------------------------------------------\n",
      "Processing ticket TICKET_084 (84/100)...\n",
      "Prompt: A sharp, close-up photo of an trilink video doorbell. The camera lens is covered in small, clear dro...\n",
      "Text response for ticket TICKET_084: Here\n",
      "Text response for ticket TICKET_084:  is that\n",
      "Text response for ticket TICKET_084:  image for you:\n",
      "Text response for ticket TICKET_084:  \n"
     ]
    },
    {
     "name": "stderr",
     "output_type": "stream",
     "text": [
      "Both GOOGLE_API_KEY and GEMINI_API_KEY are set. Using GOOGLE_API_KEY.\n"
     ]
    },
    {
     "name": "stdout",
     "output_type": "stream",
     "text": [
      "File saved to: ../data/images\\TICKET_084.jpeg\n",
      "✓ Successfully generated image for ticket TICKET_084\n",
      "--------------------------------------------------\n",
      "Processing ticket TICKET_085 (85/100)...\n",
      "Prompt: A photo of an trilink indoor camera held in a hand. Next to it, a smartphone screen displays the tri...\n",
      "Text response for ticket TICKET_085: Here\n",
      "Text response for ticket TICKET_085:  is\n",
      "Text response for ticket TICKET_085:  the image you requested\n",
      "Text response for ticket TICKET_085: . \n"
     ]
    },
    {
     "name": "stderr",
     "output_type": "stream",
     "text": [
      "Both GOOGLE_API_KEY and GEMINI_API_KEY are set. Using GOOGLE_API_KEY.\n"
     ]
    },
    {
     "name": "stdout",
     "output_type": "stream",
     "text": [
      "File saved to: ../data/images\\TICKET_085.jpeg\n",
      "✓ Successfully generated image for ticket TICKET_085\n",
      "--------------------------------------------------\n",
      "Processing ticket TICKET_086 (86/100)...\n",
      "Prompt: A still photo of an trilink indoor camera on a desk. A text overlay next to the camera reads '*click...\n",
      "Text response for ticket TICKET_086: Here is\n",
      "Text response for ticket TICKET_086:  an image of a\n",
      "Text response for ticket TICKET_086:  tril\n",
      "Text response for ticket TICKET_086: ink indoor camera on\n",
      "Text response for ticket TICKET_086:  a desk with the\n",
      "Text response for ticket TICKET_086:  text overlay you described\n",
      "Text response for ticket TICKET_086: : \n",
      "File saved to: ../data/images\\TICKET_086.jpeg\n",
      "✓ Successfully generated image for ticket TICKET_086\n",
      "--------------------------------------------------\n",
      "Processing ticket TICKET_087 (87/100)...\n",
      "Prompt: A photo of a front door area taken from a smartphone. The photo shows the trilink doorbell mounted o...\n"
     ]
    },
    {
     "name": "stderr",
     "output_type": "stream",
     "text": [
      "Both GOOGLE_API_KEY and GEMINI_API_KEY are set. Using GOOGLE_API_KEY.\n",
      "Both GOOGLE_API_KEY and GEMINI_API_KEY are set. Using GOOGLE_API_KEY.\n"
     ]
    },
    {
     "name": "stdout",
     "output_type": "stream",
     "text": [
      "File saved to: ../data/images\\TICKET_087.jpeg\n",
      "✓ Successfully generated image for ticket TICKET_087\n",
      "--------------------------------------------------\n",
      "Processing ticket TICKET_088 (88/100)...\n",
      "Prompt: A screenshot of a smartphone screen during a two-way talk session with an trilink doorbell. The pers...\n"
     ]
    },
    {
     "name": "stderr",
     "output_type": "stream",
     "text": [
      "Both GOOGLE_API_KEY and GEMINI_API_KEY are set. Using GOOGLE_API_KEY.\n"
     ]
    },
    {
     "name": "stdout",
     "output_type": "stream",
     "text": [
      "File saved to: ../data/images\\TICKET_088.jpeg\n",
      "✓ Successfully generated image for ticket TICKET_088\n",
      "--------------------------------------------------\n",
      "Processing ticket TICKET_089 (89/100)...\n",
      "Prompt: A photo of a smartphone screen showing the live feed from an trilink indoor camera. The feed is comp...\n"
     ]
    },
    {
     "name": "stderr",
     "output_type": "stream",
     "text": [
      "Both GOOGLE_API_KEY and GEMINI_API_KEY are set. Using GOOGLE_API_KEY.\n"
     ]
    },
    {
     "name": "stdout",
     "output_type": "stream",
     "text": [
      "File saved to: ../data/images\\TICKET_089.jpeg\n",
      "✓ Successfully generated image for ticket TICKET_089\n",
      "--------------------------------------------------\n",
      "Processing ticket TICKET_090 (90/100)...\n",
      "Prompt: A close-up, sunlit photo of an trilink smart doorbell. The dark plastic faceplate is covered in fine...\n",
      "Text response for ticket TICKET_090: Here's that\n",
      "Text response for ticket TICKET_090:  image\n",
      "Text response for ticket TICKET_090:  for you: \n"
     ]
    },
    {
     "name": "stderr",
     "output_type": "stream",
     "text": [
      "Both GOOGLE_API_KEY and GEMINI_API_KEY are set. Using GOOGLE_API_KEY.\n"
     ]
    },
    {
     "name": "stdout",
     "output_type": "stream",
     "text": [
      "File saved to: ../data/images\\TICKET_090.jpeg\n",
      "✓ Successfully generated image for ticket TICKET_090\n",
      "--------------------------------------------------\n",
      "Processing ticket TICKET_091 (91/100)...\n",
      "Prompt: A screenshot of the trilink app's camera settings, showing the 'Motion Detection Zones'. A single, s...\n"
     ]
    },
    {
     "name": "stderr",
     "output_type": "stream",
     "text": [
      "Both GOOGLE_API_KEY and GEMINI_API_KEY are set. Using GOOGLE_API_KEY.\n"
     ]
    },
    {
     "name": "stdout",
     "output_type": "stream",
     "text": [
      "File saved to: ../data/images\\TICKET_091.jpeg\n",
      "✓ Successfully generated image for ticket TICKET_091\n",
      "--------------------------------------------------\n",
      "Processing ticket TICKET_092 (92/100)...\n",
      "Prompt: A photo of a tablet screen. The screen is displaying the tablet's home screen, but a system pop-up f...\n",
      "Text response for ticket TICKET_092: Here's a\n",
      "Text response for ticket TICKET_092:  photo of a\n",
      "Text response for ticket TICKET_092:  tablet screen with that\n",
      "Text response for ticket TICKET_092:  system\n",
      "Text response for ticket TICKET_092:  pop-up:\n",
      "Text response for ticket TICKET_092:  \n"
     ]
    },
    {
     "name": "stderr",
     "output_type": "stream",
     "text": [
      "Both GOOGLE_API_KEY and GEMINI_API_KEY are set. Using GOOGLE_API_KEY.\n"
     ]
    },
    {
     "name": "stdout",
     "output_type": "stream",
     "text": [
      "File saved to: ../data/images\\TICKET_092.jpeg\n",
      "✓ Successfully generated image for ticket TICKET_092\n",
      "--------------------------------------------------\n",
      "Processing ticket TICKET_093 (93/100)...\n",
      "Prompt: A smartphone screenshot showing the trilink app device status. The 'Front Door Lock' is shown with a...\n",
      "Text response for ticket TICKET_093: Here's that\n",
      "Text response for ticket TICKET_093:  screenshot you\n",
      "Text response for ticket TICKET_093:  requested: \n"
     ]
    },
    {
     "name": "stderr",
     "output_type": "stream",
     "text": [
      "Both GOOGLE_API_KEY and GEMINI_API_KEY are set. Using GOOGLE_API_KEY.\n"
     ]
    },
    {
     "name": "stdout",
     "output_type": "stream",
     "text": [
      "File saved to: ../data/images\\TICKET_093.jpeg\n",
      "✓ Successfully generated image for ticket TICKET_093\n",
      "--------------------------------------------------\n",
      "Processing ticket TICKET_094 (94/100)...\n",
      "Prompt: A screenshot of the trilink app's 'Device Health' page for the video doorbell. The 'Signal Strength'...\n"
     ]
    },
    {
     "name": "stderr",
     "output_type": "stream",
     "text": [
      "Both GOOGLE_API_KEY and GEMINI_API_KEY are set. Using GOOGLE_API_KEY.\n"
     ]
    },
    {
     "name": "stdout",
     "output_type": "stream",
     "text": [
      "File saved to: ../data/images\\TICKET_094.jpeg\n",
      "✓ Successfully generated image for ticket TICKET_094\n",
      "--------------------------------------------------\n",
      "Processing ticket TICKET_095 (95/100)...\n",
      "Prompt: A screenshot of a phone during a doorbell call. The phone's main volume slider is visible on the scr...\n",
      "Text response for ticket TICKET_095: Here's that\n",
      "Text response for ticket TICKET_095:  screenshot for\n",
      "Text response for ticket TICKET_095:  you: \n",
      "File saved to: ../data/images\\TICKET_095.jpeg\n",
      "✓ Successfully generated image for ticket TICKET_095\n",
      "--------------------------------------------------\n",
      "Processing ticket TICKET_096 (96/100)...\n",
      "Prompt: A photo taken by a technician in a dark attic. A hand is holding a voltage multimeter with its probe...\n"
     ]
    },
    {
     "name": "stderr",
     "output_type": "stream",
     "text": [
      "Both GOOGLE_API_KEY and GEMINI_API_KEY are set. Using GOOGLE_API_KEY.\n",
      "Both GOOGLE_API_KEY and GEMINI_API_KEY are set. Using GOOGLE_API_KEY.\n"
     ]
    },
    {
     "name": "stdout",
     "output_type": "stream",
     "text": [
      "File saved to: ../data/images\\TICKET_096.jpeg\n",
      "✓ Successfully generated image for ticket TICKET_096\n",
      "--------------------------------------------------\n",
      "Processing ticket TICKET_097 (97/100)...\n",
      "Prompt: A screenshot of a recorded motion event from an indoor camera. The video clip shows a dark room, but...\n"
     ]
    },
    {
     "name": "stderr",
     "output_type": "stream",
     "text": [
      "Both GOOGLE_API_KEY and GEMINI_API_KEY are set. Using GOOGLE_API_KEY.\n"
     ]
    },
    {
     "name": "stdout",
     "output_type": "stream",
     "text": [
      "File saved to: ../data/images\\TICKET_097.jpeg\n",
      "✓ Successfully generated image for ticket TICKET_097\n",
      "--------------------------------------------------\n",
      "Processing ticket TICKET_098 (98/100)...\n",
      "Prompt: A screenshot of a phone's notification settings for the trilink app. The 'Motion Notifications' togg...\n"
     ]
    },
    {
     "name": "stderr",
     "output_type": "stream",
     "text": [
      "Both GOOGLE_API_KEY and GEMINI_API_KEY are set. Using GOOGLE_API_KEY.\n"
     ]
    },
    {
     "name": "stdout",
     "output_type": "stream",
     "text": [
      "File saved to: ../data/images\\TICKET_098.jpeg\n",
      "✓ Successfully generated image for ticket TICKET_098\n",
      "--------------------------------------------------\n",
      "Processing ticket TICKET_099 (99/100)...\n",
      "Prompt: A photo of a white trilink indoor camera lying on its side on a desk. Next to it is the broken plast...\n"
     ]
    },
    {
     "name": "stderr",
     "output_type": "stream",
     "text": [
      "Both GOOGLE_API_KEY and GEMINI_API_KEY are set. Using GOOGLE_API_KEY.\n"
     ]
    },
    {
     "name": "stdout",
     "output_type": "stream",
     "text": [
      "File saved to: ../data/images\\TICKET_099.jpeg\n",
      "✓ Successfully generated image for ticket TICKET_099\n",
      "--------------------------------------------------\n",
      "Processing ticket TICKET_100 (100/100)...\n",
      "Prompt: A close-up photo of the trilink power adapter for an outdoor camera, plugged into an outlet. The sma...\n",
      "Text response for ticket TICKET_100: Here's that\n",
      "Text response for ticket TICKET_100:  image:\n",
      "\n",
      "Text response for ticket TICKET_100:  \n",
      "File saved to: ../data/images\\TICKET_100.jpeg\n",
      "✓ Successfully generated image for ticket TICKET_100\n",
      "--------------------------------------------------\n",
      "\n",
      "SUMMARY:\n",
      "Total tickets processed: 100\n",
      "Successfully generated: 98\n",
      "Failed: 2\n",
      "Skipped: 0\n"
     ]
    }
   ],
   "source": [
    "from src.create_images import process_dataframe_images\n",
    "results = process_dataframe_images(df_tickets, output_dir=\"../data/images\")"
   ]
  }
 ],
 "metadata": {
  "kernelspec": {
   "display_name": "venv",
   "language": "python",
   "name": "python3"
  },
  "language_info": {
   "codemirror_mode": {
    "name": "ipython",
    "version": 3
   },
   "file_extension": ".py",
   "mimetype": "text/x-python",
   "name": "python",
   "nbconvert_exporter": "python",
   "pygments_lexer": "ipython3",
   "version": "3.12.5"
  }
 },
 "nbformat": 4,
 "nbformat_minor": 5
}
