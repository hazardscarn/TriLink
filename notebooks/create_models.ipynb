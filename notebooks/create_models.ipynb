{
 "cells": [
  {
   "cell_type": "code",
   "execution_count": 1,
   "id": "03eb75de",
   "metadata": {},
   "outputs": [
    {
     "name": "stderr",
     "output_type": "stream",
     "text": [
      "d:\\Work\\Github\\TriLink\\venv\\Lib\\site-packages\\google\\cloud\\bigquery\\__init__.py:237: FutureWarning: %load_ext google.cloud.bigquery is deprecated. Install bigquery-magics package and use `%load_ext bigquery_magics`, instead.\n",
      "  warnings.warn(\n"
     ]
    }
   ],
   "source": [
    "import google.cloud.bigquery\n",
    "import tqdm\n",
    "import pandas as pd\n",
    "import numpy as np\n",
    "# Load the extension\n",
    "%load_ext google.cloud.bigquery\n",
    "%load_ext bigquery_magics"
   ]
  },
  {
   "cell_type": "code",
   "execution_count": null,
   "id": "99db7040",
   "metadata": {},
   "outputs": [
    {
     "name": "stderr",
     "output_type": "stream",
     "text": [
      "WARNING: Your active project does not match the quota project in your local Application Default Credentials file. This might result in unexpected quota issues.\n",
      "\n",
      "To update your Application Default Credentials quota project, use the `gcloud auth application-default set-quota-project` command.\n",
      "Updated property [core/project].\n"
     ]
    }
   ],
   "source": [
    "! gcloud config set project \"trilink-472019\""
   ]
  },
  {
   "cell_type": "markdown",
   "id": "bde7c0e7",
   "metadata": {},
   "source": [
    "#### Idea\n",
    "\n",
    "- Business often uses Machine Learning to create models that predicts events of customers/prospects like churn, upsell etc.\n",
    "- However these models are usually used to create a list of targets and all the targets are treated in the same way or with A/B testing similar cookie cutter content\n",
    "- This is not efficient as we are losing a lot infomration that the models possess and not using it in the campaigns\n",
    "- Hence the idea here is to create Xgboost models in bigquery ML for predicting churn for internet and mobile customers of TriLink\n",
    "- We will use the BigQuery ML.EXPLAIN_PREDICT which not only predicts the probability of event, but also gives the individual contribution of features towards churn\n",
    "- This helps us creating/identifying exactly what's leading to this customers churn and can be added in as one of the personalization parameter in the automated hyperpersonalized retention email\n",
    "- Inorder to this let's first create the internet and mobile churn models and the views for the model datasets"
   ]
  },
  {
   "cell_type": "markdown",
   "id": "984ea6ff",
   "metadata": {},
   "source": [
    "#### Mobile Churn Model Creation"
   ]
  },
  {
   "cell_type": "markdown",
   "id": "d668dd0c",
   "metadata": {},
   "source": [
    "##### Create the view for the churn model for mobile\n"
   ]
  },
  {
   "cell_type": "code",
   "execution_count": 2,
   "id": "6362aca8",
   "metadata": {},
   "outputs": [
    {
     "data": {
      "application/vnd.jupyter.widget-view+json": {
       "model_id": "e33ef7d2604e479ba1a222766a7930e9",
       "version_major": 2,
       "version_minor": 0
      },
      "text/plain": [
       "Query is running:   0%|          |"
      ]
     },
     "metadata": {},
     "output_type": "display_data"
    },
    {
     "data": {
      "application/vnd.microsoft.datawrangler.viewer.v0+json": {
       "columns": [
        {
         "name": "index",
         "rawType": "int64",
         "type": "integer"
        }
       ],
       "ref": "d06c92ba-9b78-4954-b895-c0e827c513c5",
       "rows": [],
       "shape": {
        "columns": 0,
        "rows": 0
       }
      },
      "text/html": [
       "<div>\n",
       "<style scoped>\n",
       "    .dataframe tbody tr th:only-of-type {\n",
       "        vertical-align: middle;\n",
       "    }\n",
       "\n",
       "    .dataframe tbody tr th {\n",
       "        vertical-align: top;\n",
       "    }\n",
       "\n",
       "    .dataframe thead th {\n",
       "        text-align: right;\n",
       "    }\n",
       "</style>\n",
       "<table border=\"1\" class=\"dataframe\">\n",
       "  <thead>\n",
       "    <tr style=\"text-align: right;\">\n",
       "      <th></th>\n",
       "    </tr>\n",
       "  </thead>\n",
       "  <tbody>\n",
       "  </tbody>\n",
       "</table>\n",
       "</div>"
      ],
      "text/plain": [
       "Empty DataFrame\n",
       "Columns: []\n",
       "Index: []"
      ]
     },
     "execution_count": 2,
     "metadata": {},
     "output_type": "execute_result"
    }
   ],
   "source": [
    "%%bigquery\n",
    "\n",
    "CREATE OR REPLACE VIEW `trilink-472019.database.mobile_churn_data` AS\n",
    "SELECT \n",
    "  c.customer_id,\n",
    "  \n",
    "  -- Customer demographics\n",
    "  c.age,\n",
    "  c.household_income,\n",
    "  c.family_size,\n",
    "  c.home_ownership,\n",
    "  c.work_from_home_flag,\n",
    "  c.education_level,\n",
    "  c.life_stage,\n",
    "  c.home_square_footage,\n",
    "  c.property_value,\n",
    "  c.neighborhood_crime_rate,\n",
    "  c.neighborhood_income_median,\n",
    "  c.fiber_availability,\n",
    "  c.income_bracket,\n",
    "  \n",
    "  -- Mobile service features\n",
    "  m.service_id,\n",
    "  m.plan_type,\n",
    "  m.line_count,\n",
    "  m.monthly_cost,\n",
    "  m.data_overage_frequency,\n",
    "  m.contract_type,\n",
    "  m.family_plan_flag,\n",
    "  m.device_upgrade_cycle,\n",
    "  m.mobile_tenure_days,\n",
    "  m.mobile_churn,\n",
    "  \n",
    "  -- Essential calculated features only\n",
    "  ROUND(c.household_income / c.family_size, 2) AS income_per_person,\n",
    "  ROUND(m.monthly_cost / m.line_count, 2) AS cost_per_line,\n",
    "  ROUND(m.mobile_tenure_days / 365.25, 2) AS tenure_years\n",
    "  \n",
    "FROM `trilink-472019.database.customer_df` c\n",
    "INNER JOIN `trilink-472019.database.mobile_df` m\n",
    "ON c.customer_id = m.customer_id;"
   ]
  },
  {
   "cell_type": "code",
   "execution_count": 3,
   "id": "dd8d0f65",
   "metadata": {},
   "outputs": [
    {
     "data": {
      "application/vnd.jupyter.widget-view+json": {
       "model_id": "a91d014e144e430c9ca9bc72956746d7",
       "version_major": 2,
       "version_minor": 0
      },
      "text/plain": [
       "Query is running:   0%|          |"
      ]
     },
     "metadata": {},
     "output_type": "display_data"
    },
    {
     "data": {
      "application/vnd.jupyter.widget-view+json": {
       "model_id": "ed15a3fbc6fe454c8e975ac643fd651f",
       "version_major": 2,
       "version_minor": 0
      },
      "text/plain": [
       "Downloading:   0%|          |"
      ]
     },
     "metadata": {},
     "output_type": "display_data"
    },
    {
     "data": {
      "application/vnd.microsoft.datawrangler.viewer.v0+json": {
       "columns": [
        {
         "name": "index",
         "rawType": "int64",
         "type": "integer"
        },
        {
         "name": "mobile_churn",
         "rawType": "Int64",
         "type": "integer"
        },
        {
         "name": "cnt",
         "rawType": "Int64",
         "type": "integer"
        }
       ],
       "ref": "bb0cc26b-d023-4ab1-b0a2-da6ecd97718c",
       "rows": [
        [
         "0",
         "0",
         "56134"
        ],
        [
         "1",
         "1",
         "18261"
        ]
       ],
       "shape": {
        "columns": 2,
        "rows": 2
       }
      },
      "text/html": [
       "<div>\n",
       "<style scoped>\n",
       "    .dataframe tbody tr th:only-of-type {\n",
       "        vertical-align: middle;\n",
       "    }\n",
       "\n",
       "    .dataframe tbody tr th {\n",
       "        vertical-align: top;\n",
       "    }\n",
       "\n",
       "    .dataframe thead th {\n",
       "        text-align: right;\n",
       "    }\n",
       "</style>\n",
       "<table border=\"1\" class=\"dataframe\">\n",
       "  <thead>\n",
       "    <tr style=\"text-align: right;\">\n",
       "      <th></th>\n",
       "      <th>mobile_churn</th>\n",
       "      <th>cnt</th>\n",
       "    </tr>\n",
       "  </thead>\n",
       "  <tbody>\n",
       "    <tr>\n",
       "      <th>0</th>\n",
       "      <td>0</td>\n",
       "      <td>56134</td>\n",
       "    </tr>\n",
       "    <tr>\n",
       "      <th>1</th>\n",
       "      <td>1</td>\n",
       "      <td>18261</td>\n",
       "    </tr>\n",
       "  </tbody>\n",
       "</table>\n",
       "</div>"
      ],
      "text/plain": [
       "   mobile_churn    cnt\n",
       "0             0  56134\n",
       "1             1  18261"
      ]
     },
     "execution_count": 3,
     "metadata": {},
     "output_type": "execute_result"
    }
   ],
   "source": [
    "%%bigquery\n",
    "\n",
    "select mobile_churn,count(*) as cnt\n",
    "FROM `trilink-472019.database.mobile_churn_data`\n",
    "group by mobile_churn;"
   ]
  },
  {
   "cell_type": "markdown",
   "id": "d4105107",
   "metadata": {},
   "source": [
    "##### Create Mobile Churn Prediction Model (Boosting Model)"
   ]
  },
  {
   "cell_type": "code",
   "execution_count": 4,
   "id": "c7f3becd",
   "metadata": {},
   "outputs": [
    {
     "data": {
      "application/vnd.jupyter.widget-view+json": {
       "model_id": "810a52ff7867406e8a347acbb12f5f6c",
       "version_major": 2,
       "version_minor": 0
      },
      "text/plain": [
       "Query is running:   0%|          |"
      ]
     },
     "metadata": {},
     "output_type": "display_data"
    },
    {
     "data": {
      "application/vnd.microsoft.datawrangler.viewer.v0+json": {
       "columns": [
        {
         "name": "index",
         "rawType": "int64",
         "type": "integer"
        }
       ],
       "ref": "d825f5f8-ef47-4a25-b427-b03d27975dc7",
       "rows": [],
       "shape": {
        "columns": 0,
        "rows": 0
       }
      },
      "text/html": [
       "<div>\n",
       "<style scoped>\n",
       "    .dataframe tbody tr th:only-of-type {\n",
       "        vertical-align: middle;\n",
       "    }\n",
       "\n",
       "    .dataframe tbody tr th {\n",
       "        vertical-align: top;\n",
       "    }\n",
       "\n",
       "    .dataframe thead th {\n",
       "        text-align: right;\n",
       "    }\n",
       "</style>\n",
       "<table border=\"1\" class=\"dataframe\">\n",
       "  <thead>\n",
       "    <tr style=\"text-align: right;\">\n",
       "      <th></th>\n",
       "    </tr>\n",
       "  </thead>\n",
       "  <tbody>\n",
       "  </tbody>\n",
       "</table>\n",
       "</div>"
      ],
      "text/plain": [
       "Empty DataFrame\n",
       "Columns: []\n",
       "Index: []"
      ]
     },
     "execution_count": 4,
     "metadata": {},
     "output_type": "execute_result"
    }
   ],
   "source": [
    "%%bigquery\n",
    "\n",
    "CREATE OR REPLACE MODEL `trilink-472019.database.mobile_churn_predictor`\n",
    "OPTIONS(\n",
    "  model_type='BOOSTED_TREE_CLASSIFIER',\n",
    "  input_label_cols=['mobile_churn'],\n",
    "  enable_global_explain=TRUE\n",
    ") AS\n",
    "SELECT \n",
    "  mobile_churn,\n",
    "  \n",
    "  -- Demographic features\n",
    "  age,\n",
    "  household_income,\n",
    "  family_size,\n",
    "  home_square_footage,\n",
    "  property_value,\n",
    "  neighborhood_crime_rate,\n",
    "  neighborhood_income_median,\n",
    "  \n",
    "  -- Categorical features\n",
    "  income_bracket,\n",
    "  home_ownership,\n",
    "  education_level,\n",
    "  life_stage,\n",
    "  plan_type,\n",
    "  contract_type,\n",
    "  \n",
    "  -- Boolean features\n",
    "  work_from_home_flag,\n",
    "  fiber_availability,\n",
    "  family_plan_flag,\n",
    "  \n",
    "  -- Mobile behavior features\n",
    "  line_count,\n",
    "  monthly_cost,\n",
    "  data_overage_frequency,\n",
    "  device_upgrade_cycle,\n",
    "  tenure_years,\n",
    "  income_per_person,\n",
    "  cost_per_line\n",
    "\n",
    "FROM `trilink-472019.database.mobile_churn_data`\n",
    "WHERE mobile_churn IS NOT NULL;"
   ]
  },
  {
   "cell_type": "markdown",
   "id": "89aaed82",
   "metadata": {},
   "source": [
    "##### Score the mobile churn model with feature contribution for a customer to demo the scoring"
   ]
  },
  {
   "cell_type": "code",
   "execution_count": 5,
   "id": "b0b085e0",
   "metadata": {},
   "outputs": [
    {
     "data": {
      "application/vnd.jupyter.widget-view+json": {
       "model_id": "f3da32216eac47339ea363dc0c7464e6",
       "version_major": 2,
       "version_minor": 0
      },
      "text/plain": [
       "Query is running:   0%|          |"
      ]
     },
     "metadata": {},
     "output_type": "display_data"
    },
    {
     "data": {
      "application/vnd.jupyter.widget-view+json": {
       "model_id": "c2ceb6d019a84b109df14cb48ec809a5",
       "version_major": 2,
       "version_minor": 0
      },
      "text/plain": [
       "Downloading:   0%|          |"
      ]
     },
     "metadata": {},
     "output_type": "display_data"
    },
    {
     "data": {
      "application/vnd.microsoft.datawrangler.viewer.v0+json": {
       "columns": [
        {
         "name": "index",
         "rawType": "int64",
         "type": "integer"
        },
        {
         "name": "customer_id",
         "rawType": "object",
         "type": "string"
        },
        {
         "name": "predicted_mobile_churn",
         "rawType": "Int64",
         "type": "integer"
        },
        {
         "name": "churn_probability_percent",
         "rawType": "float64",
         "type": "float"
        },
        {
         "name": "risk_category",
         "rawType": "object",
         "type": "string"
        },
        {
         "name": "plan_type",
         "rawType": "object",
         "type": "string"
        },
        {
         "name": "monthly_cost",
         "rawType": "Int64",
         "type": "integer"
        },
        {
         "name": "contract_type",
         "rawType": "object",
         "type": "string"
        },
        {
         "name": "tenure_years",
         "rawType": "float64",
         "type": "float"
        },
        {
         "name": "data_overage_frequency",
         "rawType": "Int64",
         "type": "integer"
        },
        {
         "name": "family_plan_flag",
         "rawType": "boolean",
         "type": "boolean"
        },
        {
         "name": "top_feature_attributions",
         "rawType": "object",
         "type": "unknown"
        },
        {
         "name": "baseline_prediction",
         "rawType": "float64",
         "type": "float"
        },
        {
         "name": "final_prediction",
         "rawType": "float64",
         "type": "float"
        },
        {
         "name": "approximation_error",
         "rawType": "float64",
         "type": "float"
        }
       ],
       "ref": "49bd1bcb-9960-45a4-8888-75b2a0c982cd",
       "rows": [
        [
         "0",
         "C00004244",
         "0",
         "64.6",
         "HIGH RISK",
         "Limited_2GB",
         "30",
         "Month_to_Month",
         "1.23",
         "4",
         "False",
         "[{'feature': 'household_income', 'attribution': -0.33624252676963806}\n {'feature': 'age', 'attribution': 0.12005558609962463}\n {'feature': 'data_overage_frequency', 'attribution': 0.10666532814502716}\n {'feature': 'family_plan_flag', 'attribution': -0.0872725397348404}\n {'feature': 'monthly_cost', 'attribution': -0.04487797990441322}]",
         "1.091",
         "0.8002",
         "0.0"
        ]
       ],
       "shape": {
        "columns": 14,
        "rows": 1
       }
      },
      "text/html": [
       "<div>\n",
       "<style scoped>\n",
       "    .dataframe tbody tr th:only-of-type {\n",
       "        vertical-align: middle;\n",
       "    }\n",
       "\n",
       "    .dataframe tbody tr th {\n",
       "        vertical-align: top;\n",
       "    }\n",
       "\n",
       "    .dataframe thead th {\n",
       "        text-align: right;\n",
       "    }\n",
       "</style>\n",
       "<table border=\"1\" class=\"dataframe\">\n",
       "  <thead>\n",
       "    <tr style=\"text-align: right;\">\n",
       "      <th></th>\n",
       "      <th>customer_id</th>\n",
       "      <th>predicted_mobile_churn</th>\n",
       "      <th>churn_probability_percent</th>\n",
       "      <th>risk_category</th>\n",
       "      <th>plan_type</th>\n",
       "      <th>monthly_cost</th>\n",
       "      <th>contract_type</th>\n",
       "      <th>tenure_years</th>\n",
       "      <th>data_overage_frequency</th>\n",
       "      <th>family_plan_flag</th>\n",
       "      <th>top_feature_attributions</th>\n",
       "      <th>baseline_prediction</th>\n",
       "      <th>final_prediction</th>\n",
       "      <th>approximation_error</th>\n",
       "    </tr>\n",
       "  </thead>\n",
       "  <tbody>\n",
       "    <tr>\n",
       "      <th>0</th>\n",
       "      <td>C00004244</td>\n",
       "      <td>0</td>\n",
       "      <td>64.6</td>\n",
       "      <td>HIGH RISK</td>\n",
       "      <td>Limited_2GB</td>\n",
       "      <td>30</td>\n",
       "      <td>Month_to_Month</td>\n",
       "      <td>1.23</td>\n",
       "      <td>4</td>\n",
       "      <td>False</td>\n",
       "      <td>[{'feature': 'household_income', 'attribution'...</td>\n",
       "      <td>1.091</td>\n",
       "      <td>0.8002</td>\n",
       "      <td>0.0</td>\n",
       "    </tr>\n",
       "  </tbody>\n",
       "</table>\n",
       "</div>"
      ],
      "text/plain": [
       "  customer_id  predicted_mobile_churn  churn_probability_percent  \\\n",
       "0   C00004244                       0                       64.6   \n",
       "\n",
       "  risk_category    plan_type  monthly_cost   contract_type  tenure_years  \\\n",
       "0     HIGH RISK  Limited_2GB            30  Month_to_Month          1.23   \n",
       "\n",
       "   data_overage_frequency  family_plan_flag  \\\n",
       "0                       4             False   \n",
       "\n",
       "                            top_feature_attributions  baseline_prediction  \\\n",
       "0  [{'feature': 'household_income', 'attribution'...                1.091   \n",
       "\n",
       "   final_prediction  approximation_error  \n",
       "0            0.8002                  0.0  "
      ]
     },
     "execution_count": 5,
     "metadata": {},
     "output_type": "execute_result"
    }
   ],
   "source": [
    "%%bigquery\n",
    "SELECT \n",
    "  customer_id,\n",
    "  predicted_mobile_churn,\n",
    "  ROUND(probability * 100, 1) AS churn_probability_percent,\n",
    "  \n",
    "  -- Risk category\n",
    "  CASE \n",
    "    WHEN probability >= 0.8 THEN 'CRITICAL RISK'\n",
    "    WHEN probability >= 0.6 THEN 'HIGH RISK'\n",
    "    WHEN probability >= 0.4 THEN 'MEDIUM RISK'\n",
    "    WHEN probability >= 0.2 THEN 'LOW RISK'\n",
    "    ELSE 'VERY LOW RISK'\n",
    "  END AS risk_category,\n",
    "  \n",
    "  -- Customer details\n",
    "  plan_type,\n",
    "  monthly_cost,\n",
    "  contract_type,\n",
    "  tenure_years,\n",
    "  data_overage_frequency,\n",
    "  family_plan_flag,\n",
    "  \n",
    "  -- Feature contributions (raw string from BigQuery)\n",
    "  top_feature_attributions,\n",
    "  \n",
    "  -- Prediction details\n",
    "  ROUND(baseline_prediction_value, 4) AS baseline_prediction,\n",
    "  ROUND(prediction_value, 4) AS final_prediction,\n",
    "  approximation_error\n",
    "\n",
    "FROM ML.EXPLAIN_PREDICT(\n",
    "  MODEL `trilink-472019.database.mobile_churn_predictor`,\n",
    "  (SELECT * FROM `trilink-472019.database.mobile_churn_data` \n",
    "   WHERE customer_id = 'C00004244')  -- CHANGE THIS CUSTOMER ID\n",
    ");"
   ]
  },
  {
   "cell_type": "markdown",
   "id": "f1ec22e3",
   "metadata": {},
   "source": [
    "#### Internet Churn Model"
   ]
  },
  {
   "cell_type": "markdown",
   "id": "a97d29bc",
   "metadata": {},
   "source": [
    "##### Create the view for the churn model for Internet\n"
   ]
  },
  {
   "cell_type": "code",
   "execution_count": 6,
   "id": "d4f1f87d",
   "metadata": {},
   "outputs": [
    {
     "data": {
      "application/vnd.jupyter.widget-view+json": {
       "model_id": "f4f0b8a6d80f4137b72f14d73b9c2945",
       "version_major": 2,
       "version_minor": 0
      },
      "text/plain": [
       "Query is running:   0%|          |"
      ]
     },
     "metadata": {},
     "output_type": "display_data"
    },
    {
     "data": {
      "application/vnd.microsoft.datawrangler.viewer.v0+json": {
       "columns": [
        {
         "name": "index",
         "rawType": "int64",
         "type": "integer"
        }
       ],
       "ref": "6dc49b3e-99c9-4906-9404-4b1e49227aa2",
       "rows": [],
       "shape": {
        "columns": 0,
        "rows": 0
       }
      },
      "text/html": [
       "<div>\n",
       "<style scoped>\n",
       "    .dataframe tbody tr th:only-of-type {\n",
       "        vertical-align: middle;\n",
       "    }\n",
       "\n",
       "    .dataframe tbody tr th {\n",
       "        vertical-align: top;\n",
       "    }\n",
       "\n",
       "    .dataframe thead th {\n",
       "        text-align: right;\n",
       "    }\n",
       "</style>\n",
       "<table border=\"1\" class=\"dataframe\">\n",
       "  <thead>\n",
       "    <tr style=\"text-align: right;\">\n",
       "      <th></th>\n",
       "    </tr>\n",
       "  </thead>\n",
       "  <tbody>\n",
       "  </tbody>\n",
       "</table>\n",
       "</div>"
      ],
      "text/plain": [
       "Empty DataFrame\n",
       "Columns: []\n",
       "Index: []"
      ]
     },
     "execution_count": 6,
     "metadata": {},
     "output_type": "execute_result"
    }
   ],
   "source": [
    "%%bigquery\n",
    "-- Create Internet Churn Data View\n",
    "CREATE OR REPLACE VIEW `trilink-472019.database.internet_churn_data` AS \n",
    "SELECT \n",
    "   c.customer_id,\n",
    "   \n",
    "   -- Customer demographics\n",
    "   c.age,\n",
    "   c.household_income,\n",
    "   c.family_size,\n",
    "   c.home_ownership,\n",
    "   c.work_from_home_flag,\n",
    "   c.education_level,\n",
    "   c.life_stage,\n",
    "   c.home_square_footage,\n",
    "   c.property_value,\n",
    "   c.neighborhood_crime_rate,\n",
    "   c.neighborhood_income_median,\n",
    "   c.fiber_availability,\n",
    "   c.income_bracket,\n",
    "   \n",
    "   -- Internet service features\n",
    "   i.service_id,\n",
    "   i.plan_tier,\n",
    "   i.speed_mbps,\n",
    "   i.monthly_cost,\n",
    "   i.data_usage_gb,\n",
    "   i.connected_devices,\n",
    "   i.contract_type,\n",
    "   i.speed_complaints,\n",
    "   i.outage_count,\n",
    "   i.internet_tenure_days,\n",
    "   i.internet_churn,\n",
    "   i.early_termination,\n",
    "   i.contract_completed_percent,\n",
    "   \n",
    "   -- Essential calculated features\n",
    "   ROUND(c.household_income / c.family_size, 2) AS income_per_person,\n",
    "   ROUND(i.monthly_cost / i.speed_mbps, 2) AS cost_per_mbps,\n",
    "   ROUND(i.internet_tenure_days / 365.25, 2) AS tenure_years,\n",
    "   ROUND(i.data_usage_gb / i.connected_devices, 2) AS data_per_device\n",
    "   \n",
    "FROM `trilink-472019.database.customer_df` c \n",
    "INNER JOIN `trilink-472019.database.internet_df` i ON c.customer_id = i.customer_id;\n"
   ]
  },
  {
   "cell_type": "code",
   "execution_count": 7,
   "id": "2951d18c",
   "metadata": {},
   "outputs": [
    {
     "data": {
      "application/vnd.jupyter.widget-view+json": {
       "model_id": "892aaef0459d4eceb5fa0a76e0196a07",
       "version_major": 2,
       "version_minor": 0
      },
      "text/plain": [
       "Query is running:   0%|          |"
      ]
     },
     "metadata": {},
     "output_type": "display_data"
    },
    {
     "data": {
      "application/vnd.jupyter.widget-view+json": {
       "model_id": "c289559939d44819884d8c32e04754ca",
       "version_major": 2,
       "version_minor": 0
      },
      "text/plain": [
       "Downloading:   0%|          |"
      ]
     },
     "metadata": {},
     "output_type": "display_data"
    },
    {
     "data": {
      "application/vnd.microsoft.datawrangler.viewer.v0+json": {
       "columns": [
        {
         "name": "index",
         "rawType": "int64",
         "type": "integer"
        },
        {
         "name": "internet_churn",
         "rawType": "Int64",
         "type": "integer"
        },
        {
         "name": "cnt",
         "rawType": "Int64",
         "type": "integer"
        }
       ],
       "ref": "66bb036d-b9ca-40ba-a6c5-8ff40fcfeafc",
       "rows": [
        [
         "0",
         "0",
         "59009"
        ],
        [
         "1",
         "1",
         "13747"
        ]
       ],
       "shape": {
        "columns": 2,
        "rows": 2
       }
      },
      "text/html": [
       "<div>\n",
       "<style scoped>\n",
       "    .dataframe tbody tr th:only-of-type {\n",
       "        vertical-align: middle;\n",
       "    }\n",
       "\n",
       "    .dataframe tbody tr th {\n",
       "        vertical-align: top;\n",
       "    }\n",
       "\n",
       "    .dataframe thead th {\n",
       "        text-align: right;\n",
       "    }\n",
       "</style>\n",
       "<table border=\"1\" class=\"dataframe\">\n",
       "  <thead>\n",
       "    <tr style=\"text-align: right;\">\n",
       "      <th></th>\n",
       "      <th>internet_churn</th>\n",
       "      <th>cnt</th>\n",
       "    </tr>\n",
       "  </thead>\n",
       "  <tbody>\n",
       "    <tr>\n",
       "      <th>0</th>\n",
       "      <td>0</td>\n",
       "      <td>59009</td>\n",
       "    </tr>\n",
       "    <tr>\n",
       "      <th>1</th>\n",
       "      <td>1</td>\n",
       "      <td>13747</td>\n",
       "    </tr>\n",
       "  </tbody>\n",
       "</table>\n",
       "</div>"
      ],
      "text/plain": [
       "   internet_churn    cnt\n",
       "0               0  59009\n",
       "1               1  13747"
      ]
     },
     "execution_count": 7,
     "metadata": {},
     "output_type": "execute_result"
    }
   ],
   "source": [
    "%%bigquery\n",
    "\n",
    "select internet_churn,count(*) as cnt\n",
    "FROM `trilink-472019.database.internet_churn_data`\n",
    "group by internet_churn;"
   ]
  },
  {
   "cell_type": "markdown",
   "id": "ee63f867",
   "metadata": {},
   "source": [
    "##### Create Internet Churn Model - Boosting Model"
   ]
  },
  {
   "cell_type": "code",
   "execution_count": 8,
   "id": "f172f2fa",
   "metadata": {},
   "outputs": [
    {
     "data": {
      "application/vnd.jupyter.widget-view+json": {
       "model_id": "8009b592a3d44b23ab29556c95cb9f57",
       "version_major": 2,
       "version_minor": 0
      },
      "text/plain": [
       "Query is running:   0%|          |"
      ]
     },
     "metadata": {},
     "output_type": "display_data"
    },
    {
     "data": {
      "application/vnd.microsoft.datawrangler.viewer.v0+json": {
       "columns": [
        {
         "name": "index",
         "rawType": "int64",
         "type": "integer"
        }
       ],
       "ref": "c1e682e7-840b-4ae5-a688-5298683b91dd",
       "rows": [],
       "shape": {
        "columns": 0,
        "rows": 0
       }
      },
      "text/html": [
       "<div>\n",
       "<style scoped>\n",
       "    .dataframe tbody tr th:only-of-type {\n",
       "        vertical-align: middle;\n",
       "    }\n",
       "\n",
       "    .dataframe tbody tr th {\n",
       "        vertical-align: top;\n",
       "    }\n",
       "\n",
       "    .dataframe thead th {\n",
       "        text-align: right;\n",
       "    }\n",
       "</style>\n",
       "<table border=\"1\" class=\"dataframe\">\n",
       "  <thead>\n",
       "    <tr style=\"text-align: right;\">\n",
       "      <th></th>\n",
       "    </tr>\n",
       "  </thead>\n",
       "  <tbody>\n",
       "  </tbody>\n",
       "</table>\n",
       "</div>"
      ],
      "text/plain": [
       "Empty DataFrame\n",
       "Columns: []\n",
       "Index: []"
      ]
     },
     "execution_count": 8,
     "metadata": {},
     "output_type": "execute_result"
    }
   ],
   "source": [
    "%%bigquery\n",
    "\n",
    "-- Create Internet Churn Prediction Model\n",
    "CREATE OR REPLACE MODEL `trilink-472019.database.internet_churn_predictor`\n",
    "OPTIONS(\n",
    "   model_type='BOOSTED_TREE_CLASSIFIER',\n",
    "   input_label_cols=['internet_churn'],\n",
    "   enable_global_explain=TRUE\n",
    ") AS \n",
    "SELECT \n",
    "   internet_churn,\n",
    "   \n",
    "   -- Demographic features\n",
    "   age,\n",
    "   household_income,\n",
    "   family_size,\n",
    "   home_square_footage,\n",
    "   property_value,\n",
    "   neighborhood_crime_rate,\n",
    "   neighborhood_income_median,\n",
    "   \n",
    "   -- Categorical features\n",
    "   income_bracket,\n",
    "   home_ownership,\n",
    "   education_level,\n",
    "   life_stage,\n",
    "   plan_tier,\n",
    "   contract_type,\n",
    "   \n",
    "   -- Boolean features\n",
    "   work_from_home_flag,\n",
    "   fiber_availability,\n",
    "   early_termination,\n",
    "   \n",
    "   -- Internet behavior features\n",
    "   speed_mbps,\n",
    "   monthly_cost,\n",
    "   data_usage_gb,\n",
    "   connected_devices,\n",
    "   speed_complaints,\n",
    "   outage_count,\n",
    "   tenure_years,\n",
    "   contract_completed_percent,\n",
    "   \n",
    "   -- Calculated features\n",
    "   income_per_person,\n",
    "   cost_per_mbps,\n",
    "   data_per_device\n",
    "   \n",
    "FROM `trilink-472019.database.internet_churn_data` \n",
    "WHERE internet_churn IS NOT NULL;"
   ]
  },
  {
   "cell_type": "markdown",
   "id": "4e8ac6c9",
   "metadata": {},
   "source": [
    "##### Score Internet customer with model with feature contribution"
   ]
  },
  {
   "cell_type": "code",
   "execution_count": 10,
   "id": "f5c1b8ac",
   "metadata": {},
   "outputs": [
    {
     "data": {
      "application/vnd.jupyter.widget-view+json": {
       "model_id": "6408dda701fd451fa3d14f36f469dc5b",
       "version_major": 2,
       "version_minor": 0
      },
      "text/plain": [
       "Query is running:   0%|          |"
      ]
     },
     "metadata": {},
     "output_type": "display_data"
    },
    {
     "data": {
      "application/vnd.jupyter.widget-view+json": {
       "model_id": "baf4ef3229024c9492076377a1d326b9",
       "version_major": 2,
       "version_minor": 0
      },
      "text/plain": [
       "Downloading:   0%|          |"
      ]
     },
     "metadata": {},
     "output_type": "display_data"
    },
    {
     "data": {
      "application/vnd.microsoft.datawrangler.viewer.v0+json": {
       "columns": [
        {
         "name": "index",
         "rawType": "int64",
         "type": "integer"
        },
        {
         "name": "predicted_internet_churn",
         "rawType": "Int64",
         "type": "integer"
        },
        {
         "name": "probability",
         "rawType": "float64",
         "type": "float"
        },
        {
         "name": "top_feature_attributions",
         "rawType": "object",
         "type": "unknown"
        },
        {
         "name": "baseline_prediction_value",
         "rawType": "float64",
         "type": "float"
        },
        {
         "name": "prediction_value",
         "rawType": "float64",
         "type": "float"
        },
        {
         "name": "approximation_error",
         "rawType": "float64",
         "type": "float"
        },
        {
         "name": "customer_id",
         "rawType": "object",
         "type": "string"
        },
        {
         "name": "age",
         "rawType": "Int64",
         "type": "integer"
        },
        {
         "name": "household_income",
         "rawType": "Int64",
         "type": "integer"
        },
        {
         "name": "family_size",
         "rawType": "Int64",
         "type": "integer"
        },
        {
         "name": "home_ownership",
         "rawType": "object",
         "type": "string"
        },
        {
         "name": "work_from_home_flag",
         "rawType": "boolean",
         "type": "boolean"
        },
        {
         "name": "education_level",
         "rawType": "object",
         "type": "string"
        },
        {
         "name": "life_stage",
         "rawType": "object",
         "type": "string"
        },
        {
         "name": "home_square_footage",
         "rawType": "Int64",
         "type": "integer"
        },
        {
         "name": "property_value",
         "rawType": "Int64",
         "type": "integer"
        },
        {
         "name": "neighborhood_crime_rate",
         "rawType": "float64",
         "type": "float"
        },
        {
         "name": "neighborhood_income_median",
         "rawType": "Int64",
         "type": "integer"
        },
        {
         "name": "fiber_availability",
         "rawType": "boolean",
         "type": "boolean"
        },
        {
         "name": "income_bracket",
         "rawType": "object",
         "type": "string"
        },
        {
         "name": "service_id",
         "rawType": "object",
         "type": "string"
        },
        {
         "name": "plan_tier",
         "rawType": "object",
         "type": "string"
        },
        {
         "name": "speed_mbps",
         "rawType": "Int64",
         "type": "integer"
        },
        {
         "name": "monthly_cost",
         "rawType": "Int64",
         "type": "integer"
        },
        {
         "name": "data_usage_gb",
         "rawType": "Int64",
         "type": "integer"
        },
        {
         "name": "connected_devices",
         "rawType": "Int64",
         "type": "integer"
        },
        {
         "name": "contract_type",
         "rawType": "object",
         "type": "string"
        },
        {
         "name": "speed_complaints",
         "rawType": "Int64",
         "type": "integer"
        },
        {
         "name": "outage_count",
         "rawType": "Int64",
         "type": "integer"
        },
        {
         "name": "internet_tenure_days",
         "rawType": "float64",
         "type": "float"
        },
        {
         "name": "internet_churn",
         "rawType": "Int64",
         "type": "integer"
        },
        {
         "name": "early_termination",
         "rawType": "Int64",
         "type": "integer"
        },
        {
         "name": "contract_completed_percent",
         "rawType": "float64",
         "type": "float"
        },
        {
         "name": "income_per_person",
         "rawType": "float64",
         "type": "float"
        },
        {
         "name": "cost_per_mbps",
         "rawType": "float64",
         "type": "float"
        },
        {
         "name": "tenure_years",
         "rawType": "float64",
         "type": "float"
        },
        {
         "name": "data_per_device",
         "rawType": "float64",
         "type": "float"
        },
        {
         "name": "churn_probability_percent",
         "rawType": "float64",
         "type": "float"
        },
        {
         "name": "risk_category",
         "rawType": "object",
         "type": "string"
        },
        {
         "name": "top_feature_attributions_1",
         "rawType": "object",
         "type": "unknown"
        },
        {
         "name": "baseline_prediction",
         "rawType": "float64",
         "type": "float"
        },
        {
         "name": "final_prediction",
         "rawType": "float64",
         "type": "float"
        },
        {
         "name": "approximation_error_1",
         "rawType": "float64",
         "type": "float"
        }
       ],
       "ref": "67d5873d-d6c9-46b5-9395-60c9ed7ac4da",
       "rows": [
        [
         "0",
         "0",
         "0.9392582662403584",
         "[{'feature': 'outage_count', 'attribution': 0.5524324178695679}\n {'feature': 'contract_type', 'attribution': -0.47217026352882385}\n {'feature': 'speed_complaints', 'attribution': -0.1436229795217514}\n {'feature': 'tenure_years', 'attribution': 0.11091538518667221}\n {'feature': 'fiber_availability', 'attribution': -0.08957894891500473}]",
         "1.6018656492233276",
         "1.8692295696528163",
         "0.0",
         "C00000005",
         "49",
         "111316",
         "4",
         "Own",
         "False",
         "Professional",
         "Established_Family",
         "3544",
         "663169",
         "6.6",
         "30000",
         "False",
         "Upper_Middle",
         "INT_00000005",
         "Basic_25",
         "25",
         "43",
         "50",
         "13",
         "Month_to_Month",
         "2",
         "0",
         "732.0",
         "0",
         "0",
         null,
         "27829.0",
         "1.72",
         "2.0",
         "3.85",
         "93.9",
         "CRITICAL RISK",
         "[{'feature': 'outage_count', 'attribution': 0.5524324178695679}\n {'feature': 'contract_type', 'attribution': -0.47217026352882385}\n {'feature': 'speed_complaints', 'attribution': -0.1436229795217514}\n {'feature': 'tenure_years', 'attribution': 0.11091538518667221}\n {'feature': 'fiber_availability', 'attribution': -0.08957894891500473}]",
         "1.6019",
         "1.8692",
         "0.0"
        ]
       ],
       "shape": {
        "columns": 43,
        "rows": 1
       }
      },
      "text/html": [
       "<div>\n",
       "<style scoped>\n",
       "    .dataframe tbody tr th:only-of-type {\n",
       "        vertical-align: middle;\n",
       "    }\n",
       "\n",
       "    .dataframe tbody tr th {\n",
       "        vertical-align: top;\n",
       "    }\n",
       "\n",
       "    .dataframe thead th {\n",
       "        text-align: right;\n",
       "    }\n",
       "</style>\n",
       "<table border=\"1\" class=\"dataframe\">\n",
       "  <thead>\n",
       "    <tr style=\"text-align: right;\">\n",
       "      <th></th>\n",
       "      <th>predicted_internet_churn</th>\n",
       "      <th>probability</th>\n",
       "      <th>top_feature_attributions</th>\n",
       "      <th>baseline_prediction_value</th>\n",
       "      <th>prediction_value</th>\n",
       "      <th>approximation_error</th>\n",
       "      <th>customer_id</th>\n",
       "      <th>age</th>\n",
       "      <th>household_income</th>\n",
       "      <th>family_size</th>\n",
       "      <th>...</th>\n",
       "      <th>income_per_person</th>\n",
       "      <th>cost_per_mbps</th>\n",
       "      <th>tenure_years</th>\n",
       "      <th>data_per_device</th>\n",
       "      <th>churn_probability_percent</th>\n",
       "      <th>risk_category</th>\n",
       "      <th>top_feature_attributions_1</th>\n",
       "      <th>baseline_prediction</th>\n",
       "      <th>final_prediction</th>\n",
       "      <th>approximation_error_1</th>\n",
       "    </tr>\n",
       "  </thead>\n",
       "  <tbody>\n",
       "    <tr>\n",
       "      <th>0</th>\n",
       "      <td>0</td>\n",
       "      <td>0.939258</td>\n",
       "      <td>[{'feature': 'outage_count', 'attribution': 0....</td>\n",
       "      <td>1.601866</td>\n",
       "      <td>1.86923</td>\n",
       "      <td>0.0</td>\n",
       "      <td>C00000005</td>\n",
       "      <td>49</td>\n",
       "      <td>111316</td>\n",
       "      <td>4</td>\n",
       "      <td>...</td>\n",
       "      <td>27829.0</td>\n",
       "      <td>1.72</td>\n",
       "      <td>2.0</td>\n",
       "      <td>3.85</td>\n",
       "      <td>93.9</td>\n",
       "      <td>CRITICAL RISK</td>\n",
       "      <td>[{'feature': 'outage_count', 'attribution': 0....</td>\n",
       "      <td>1.6019</td>\n",
       "      <td>1.8692</td>\n",
       "      <td>0.0</td>\n",
       "    </tr>\n",
       "  </tbody>\n",
       "</table>\n",
       "<p>1 rows × 43 columns</p>\n",
       "</div>"
      ],
      "text/plain": [
       "   predicted_internet_churn  probability  \\\n",
       "0                         0     0.939258   \n",
       "\n",
       "                            top_feature_attributions  \\\n",
       "0  [{'feature': 'outage_count', 'attribution': 0....   \n",
       "\n",
       "   baseline_prediction_value  prediction_value  approximation_error  \\\n",
       "0                   1.601866           1.86923                  0.0   \n",
       "\n",
       "  customer_id  age  household_income  family_size  ... income_per_person  \\\n",
       "0   C00000005   49            111316            4  ...           27829.0   \n",
       "\n",
       "   cost_per_mbps tenure_years data_per_device  churn_probability_percent  \\\n",
       "0           1.72          2.0            3.85                       93.9   \n",
       "\n",
       "   risk_category                         top_feature_attributions_1  \\\n",
       "0  CRITICAL RISK  [{'feature': 'outage_count', 'attribution': 0....   \n",
       "\n",
       "   baseline_prediction  final_prediction approximation_error_1  \n",
       "0               1.6019            1.8692                   0.0  \n",
       "\n",
       "[1 rows x 43 columns]"
      ]
     },
     "execution_count": 10,
     "metadata": {},
     "output_type": "execute_result"
    }
   ],
   "source": [
    "%%bigquery\n",
    "SELECT \n",
    "  *,\n",
    "  ROUND(probability * 100, 1) AS churn_probability_percent,\n",
    "  \n",
    "  -- Risk category\n",
    "  CASE \n",
    "    WHEN probability >= 0.8 THEN 'CRITICAL RISK'\n",
    "    WHEN probability >= 0.6 THEN 'HIGH RISK'\n",
    "    WHEN probability >= 0.4 THEN 'MEDIUM RISK'\n",
    "    WHEN probability >= 0.2 THEN 'LOW RISK'\n",
    "    ELSE 'VERY LOW RISK'\n",
    "  END AS risk_category,\n",
    "  \n",
    "  -- Feature contributions (raw string from BigQuery)\n",
    "  top_feature_attributions,\n",
    "  \n",
    "  -- Prediction details\n",
    "  ROUND(baseline_prediction_value, 4) AS baseline_prediction,\n",
    "  ROUND(prediction_value, 4) AS final_prediction,\n",
    "  approximation_error\n",
    "\n",
    "FROM ML.EXPLAIN_PREDICT(\n",
    "  MODEL `trilink-472019.database.internet_churn_predictor`,\n",
    "  (SELECT * FROM `trilink-472019.database.internet_churn_data` \n",
    "   WHERE customer_id = 'C00000005')\n",
    ");"
   ]
  },
  {
   "cell_type": "markdown",
   "id": "c494762d",
   "metadata": {},
   "source": [
    "- Using the prediction and feature contribution to generate personalized retention messages using AI.GENERATE"
   ]
  },
  {
   "cell_type": "code",
   "execution_count": null,
   "id": "e151b347",
   "metadata": {},
   "outputs": [
    {
     "name": "stderr",
     "output_type": "stream",
     "text": [
      "d:\\Work\\Github\\TriLink\\venv\\Lib\\site-packages\\google\\auth\\_default.py:76: UserWarning: Your application has authenticated using end user credentials from Google Cloud SDK without a quota project. You might receive a \"quota exceeded\" or \"API not enabled\" error. See the following page for troubleshooting: https://cloud.google.com/docs/authentication/adc-troubleshooting/user-creds. \n",
      "  warnings.warn(_CLOUD_SDK_CREDENTIALS_WARNING)\n"
     ]
    },
    {
     "name": "stdout",
     "output_type": "stream",
     "text": [
      "================================================================================\n",
      "CUSTOMER RETENTION ANALYSIS RESULTS\n",
      "================================================================================\n",
      "Customer ID: C00004244\n",
      "Churn Probability: 64.6%\n",
      "Risk Category: HIGH RISK\n",
      "Current Plan: Limited_2GB\n",
      "Monthly Cost: $30\n",
      "\n",
      "TOP FEATURE ATTRIBUTIONS:\n",
      "----------------------------------------\n",
      "household_income          |  -0.336 | 📉 DECREASES churn risk\n",
      "age                       |  +0.120 | 📈 INCREASES churn risk\n",
      "data_overage_frequency    |  +0.107 | 📈 INCREASES churn risk\n",
      "family_plan_flag          |  -0.087 | 📉 DECREASES churn risk\n",
      "monthly_cost              |  -0.045 | 📉 DECREASES churn risk\n",
      "\n",
      "CUSTOMER ISSUE IDENTIFIED:\n",
      "================================================================================\n",
      "Customer is facing significant dissatisfaction and a high risk of churn (64.6%) due to a severe mismatch between their mobile service plan and actual usage needs, primarily driven by persistent data insufficiency and its associated financial and experiential frustrations.\n",
      "\n",
      "**Comprehensive Problem Statement for Semantic Matching:**\n",
      "\n",
      "The customer, a 16-year-old with an individual mobile plan, is critically underserved by their Limited_2GB mobile data plan at $30/month, resulting in an unacceptable frequency of **4 data overages per month**. This consistent and severe data deficit is their **primary pain point**, leading to significant **frustration** from interrupted service, unexpected additional charges, and a perceived poor **value for money**.\n",
      "\n",
      "**Main Pain Points & Frustrations:**\n",
      "*   **Chronic Data Shortage:** The 2GB plan is fundamentally insufficient for a 16-year-old's typical data consumption patterns (streaming, social media, gaming, communication), causing them to exhaust their allowance multiple times a month.\n",
      "*   **Unexpected Costs & Bill Shock:** Recurring data overages mean their monthly bill consistently exceeds the advertised $30, leading to unpredictability and frustration over the true cost of their service.\n",
      "*   **Service Interruption & Throttling:** Running out of data likely leads to slow speeds or complete service cutoff, hindering their ability to use essential mobile applications and maintain social connections, which are crucial for their age group.\n",
      "*   **Poor Value Perception:** Despite a $50,000 household income, the customer perceives the current plan as expensive and inadequate given the constant need for overages, demonstrating a sensitivity to value rather than just absolute cost.\n",
      "\n",
      "**Why They Are At Risk of Churning:**\n",
      "*   **Direct Impact of Data Overages:** The churn analysis unequivocally identifies \"data_overage_frequency\" (0.107) as the strongest positive predictor of churn for this customer. This is the dominant factor driving their high risk.\n",
      "*   **Lack of Family Plan Benefits:** Not being on a family plan (-0.087 factor) contributes significantly to their churn risk, as they are not benefiting from potential cost savings or shared data pools often associated with multi-line accounts, which are common for teenagers.\n",
      "*   **Month-to-Month Contract:** The absence of a long-term contract allows for easy migration to a competitor without penalty, increasing churn readiness.\n",
      "*   **Unmet Needs:** The fundamental inability of the current plan to meet basic usage requirements ensures ongoing dissatisfaction and actively encourages seeking alternative providers.\n",
      "\n",
      "**Service Usage Concerns:**\n",
      "*   The customer consistently exceeds 2GB of data, 4 times a month, indicating heavy reliance on mobile data for daily activities. This suggests a need for a significantly larger data allowance, likely 10GB or more, or even an unlimited data option, to accommodate their typical usage as a connected 16-year-old.\n",
      "\n",
      "**Financial Constraints:**\n",
      "*   While the customer's stated household income of $50,000 per person (or $50,000 for a single person household) suggests a lack of absolute financial constraint, the negative impact of \"monthly_cost\" (-0.045) on churn risk is relatively low, implying that the $30 base cost itself isn't the primary issue. Instead, the concern is the **effective cost with overages** and the **poor value proposition**. They can likely afford a higher base plan cost but are unwilling to pay for a service that constantly fails to meet their needs. This indicates they are value-sensitive, not merely price-sensitive.\n",
      "\n",
      "**Demographic Factors Affecting Needs:**\n",
      "*   **Age (16 years):** As a teenager, the customer's mobile usage is heavily skewed towards high-data activities like social media, video streaming, online gaming, and constant communication. Unlimited or high-data plans are typically preferred and necessary for this demographic.\n",
      "*   **Single-Line Account:** This setup means they are not leveraging potential family plan savings or shared data benefits, common for individuals in this age group who are often part of a parent's larger mobile account.\n",
      "*   **\"Graduate\" Education (Inconsistency):** While stated, this is highly inconsistent with the age of 16 and is likely a data anomaly or refers to high school graduation, and thus holds less weight than age and usage patterns in this analysis.\n",
      "*   **Fiber Availability:** The presence of fiber internet (true) might indicate an expectation of high-speed connectivity, which further highlights the frustration with constrained mobile data.\n",
      "================================================================================\n",
      "PERSONALIZED RETENTION MESSAGE:\n",
      "================================================================================\n",
      "Subject: We noticed your data usage, Alex! Let's get you more freedom.\n",
      "\n",
      "Hi Alex,\n",
      "\n",
      "We really appreciate you being a customer with us for over a year! We're always looking for ways to make sure you're getting the best experience possible from your mobile service.\n",
      "\n",
      "We've noticed something that might be causing you some frustration: it looks like your current 2GB data plan isn't quite keeping up with your usage, as you're hitting data overages pretty frequently – about 4 times every month. We completely understand how annoying those extra charges can be, especially when all you want to do is stay connected, stream your favorite videos, and keep up with friends on social media!\n",
      "\n",
      "It's totally understandable that 2GB just isn't enough for today's mobile habits, and we want to help you avoid those surprising overage fees.\n",
      "\n",
      "Good news! We have a fantastic solution that could save you money and give you the freedom you need.\n",
      "\n",
      "We'd like to offer you an exclusive upgrade to our **10GB Data Plan**. For just a small increase in your monthly plan cost, you'll get *five times* the data you have now! This means significantly fewer, if any, overage fees. In fact, many of our customers find that switching to a higher data plan actually **saves them money overall** by eliminating those unpredictable charges.\n",
      "\n",
      "To make this offer even sweeter, we'll give you **50% off your first three months** when you upgrade to the 10GB Data Plan! That's a huge saving right off the bat, making it easier to enjoy more data for less.\n",
      "\n",
      "While your current month-to-month plan offers great flexibility, we want to ensure you're getting the best value and truly enjoying your service without interruptions. This upgrade is designed to perfectly fit your mobile habits and help you avoid future surprises on your bill.\n",
      "\n",
      "Ready to say goodbye to data worries and hello to more freedom? It's super easy to switch!\n",
      "\n",
      "**Click here to upgrade now:** [Link to Personalized Upgrade Page]\n",
      "\n",
      "Or, if you prefer, give our dedicated retention team a call at [Phone Number] and mention offer code **FREEDOM10GB** to claim your discount. Our team is ready to help you find the perfect fit and answer any questions you have.\n",
      "\n",
      "Thanks for being a valued customer, Alex!\n",
      "\n",
      "Sincerely,\n",
      "\n",
      "The [Your Company Name] Team\n",
      "================================================================================\n"
     ]
    }
   ],
   "source": [
    "# ##Same idea done with bigquery connection\n",
    "# import pandas as pd\n",
    "# from google.cloud import bigquery\n",
    "\n",
    "# # Initialize BigQuery client\n",
    "# client = bigquery.Client(project='trilink-471315')\n",
    "\n",
    "# # Your SQL query (replace with your actual query)\n",
    "# query = \"\"\"\n",
    "# WITH customer_analysis AS (\n",
    "#   SELECT\n",
    "#      customer_id,\n",
    "#     predicted_mobile_churn,\n",
    "#     ROUND(probability * 100, 1) AS churn_probability_percent,\n",
    "    \n",
    "#     -- Customer profile\n",
    "#     age,\n",
    "#     plan_type,\n",
    "#     monthly_cost,\n",
    "#     contract_type,\n",
    "#     tenure_years,\n",
    "#     data_overage_frequency,\n",
    "#     family_plan_flag,\n",
    "#     household_income,\n",
    "    \n",
    "#     -- Additional features for problem analysis\n",
    "#     family_size,\n",
    "#     home_ownership,\n",
    "#     work_from_home_flag,\n",
    "#     education_level,\n",
    "#     life_stage,\n",
    "#     income_per_person,\n",
    "#     cost_per_line,\n",
    "#     fiber_availability,\n",
    "    \n",
    "#     -- Risk category\n",
    "#     CASE\n",
    "#        WHEN probability >= 0.8 THEN 'CRITICAL RISK'\n",
    "#       WHEN probability >= 0.6 THEN 'HIGH RISK'\n",
    "#       WHEN probability >= 0.4 THEN 'MEDIUM RISK'\n",
    "#       ELSE 'LOW RISK'\n",
    "#     END AS risk_category,\n",
    "    \n",
    "#     -- Feature contributions\n",
    "#     top_feature_attributions\n",
    "#    FROM ML.EXPLAIN_PREDICT(\n",
    "#     MODEL `trilink-471315.database.mobile_churn_predictor`,\n",
    "#     (SELECT * FROM `trilink-471315.database.mobile_churn_data`\n",
    "#       WHERE customer_id = 'C00004244')  -- CHANGE CUSTOMER ID HERE\n",
    "#   )\n",
    "# )\n",
    "\n",
    "# SELECT\n",
    "#   customer_id,\n",
    "#   churn_probability_percent,\n",
    "#   risk_category,\n",
    "#   plan_type,\n",
    "#   monthly_cost,\n",
    "#   top_feature_attributions,\n",
    "  \n",
    "#   -- Generate comprehensive problem description for vector search\n",
    "#   AI.GENERATE(\n",
    "#     CONCAT(\n",
    "#       'Analyze this mobile customer situation and identify their key problems/pain points in under 150 words .Start with Customer is facing....:\\\\n\\\\n',\n",
    "#       'Customer Profile:\\\\n',\n",
    "#       '- Age: ', CAST(age AS STRING), ' years (', life_stage, ')\\\\n',\n",
    "#       '- Income: $', CAST(household_income AS STRING), ' household, $', CAST(CAST(income_per_person AS INT64) AS STRING), ' per person\\\\n',\n",
    "#       '- Family: ', CAST(family_size AS STRING), ' people, ', home_ownership, '\\\\n',\n",
    "#       '- Education: ', education_level, '\\\\n',\n",
    "#       '- Works from home: ', CAST(work_from_home_flag AS STRING), '\\\\n\\\\n',\n",
    "#       'Mobile Service:\\\\n',\n",
    "#       '- Plan: ', plan_type, '\\\\n',\n",
    "#       '- Cost: $', CAST(monthly_cost AS STRING), '/month ($', CAST(CAST(cost_per_line AS INT64) AS STRING), ' per line)\\\\n',\n",
    "#       '- Contract: ', contract_type, '\\\\n',\n",
    "#       '- Tenure: ', CAST(tenure_years AS STRING), ' years\\\\n',\n",
    "#       '- Data overages: ', CAST(data_overage_frequency AS STRING), ' per month\\\\n',\n",
    "#       '- Family plan: ', CAST(family_plan_flag AS STRING), '\\\\n',\n",
    "#       '- Fiber available: ', CAST(fiber_availability AS STRING), '\\\\n\\\\n',\n",
    "#       'Churn Analysis:\\\\n',\n",
    "#       '- Risk: ', CAST(churn_probability_percent AS STRING), '% (', risk_category, ')\\\\n',\n",
    "#       '- Key factors: ', ARRAY_TO_STRING(\n",
    "#         ARRAY(\n",
    "#           SELECT CONCAT(feature, ': ', CAST(ROUND(attribution, 3) AS STRING))\n",
    "#           FROM UNNEST(top_feature_attributions)\n",
    "#           ORDER BY ABS(attribution) DESC\n",
    "#           LIMIT 5\n",
    "#         ), ', '\n",
    "#       ), '\\\\n\\\\n',\n",
    "#       'Task: Write a detailed problem analysis identifying:\\\\n',\n",
    "#       '1. Main pain points and frustrations\\\\n',\n",
    "#       '2. Why they are at risk of churning\\\\n',\n",
    "#       '3. Service usage concerns\\\\n',\n",
    "#       '4. Financial constraints\\\\n',\n",
    "#       '5. Demographic factors affecting needs\\\\n\\\\n',\n",
    "#       'Format as a comprehensive problem statement for semantic matching with solutions.'\n",
    "#     ),\n",
    "#     connection_id => 'us.vertex-ai-connection',\n",
    "#     endpoint => 'gemini-2.5-flash'\n",
    "#   ).result AS comprehensive_problem_description,\n",
    "\n",
    "#   -- Your existing working personalized retention message  \n",
    "#   AI.GENERATE(\n",
    "#     CONCAT(\n",
    "#       'Create a personalized retention message for this mobile customer:\\\\n\\\\n',\n",
    "#       'Customer Profile:\\\\n',\n",
    "#       '- Age: ', CAST(age AS STRING), '\\\\n',\n",
    "#       '- Current Plan: ', plan_type, '\\\\n', \n",
    "#       '- Monthly Cost: $', CAST(monthly_cost AS STRING), '\\\\n',\n",
    "#       '- Contract: ', contract_type, '\\\\n',\n",
    "#       '- Tenure: ', CAST(tenure_years AS STRING), ' years\\\\n',\n",
    "#       '- Data Overages: ', CAST(data_overage_frequency AS STRING), ' per month\\\\n',\n",
    "#       '- Family Plan: ', CAST(family_plan_flag AS STRING), '\\\\n\\\\n',\n",
    "#       'Churn Risk Analysis:\\\\n',\n",
    "#       '- Churn Probability: ', CAST(churn_probability_percent AS STRING), '%\\\\n',\n",
    "#       '- Risk Level: ', risk_category, '\\\\n\\\\n',\n",
    "#       'Top Factors Affecting Churn Risk. Higher the positive magnitude, more its leading to churn:\\\\n',\n",
    "#       ARRAY_TO_STRING(\n",
    "#         ARRAY(\n",
    "#           SELECT CONCAT('- ', feature, ': ', CAST(ROUND(attribution, 3) AS STRING))\n",
    "#           FROM UNNEST(top_feature_attributions)\n",
    "#           ORDER BY ABS(attribution) DESC\n",
    "#         ), '\\\\n'\n",
    "#       ), '\\\\n\\\\n',\n",
    "#       'Instructions:\\\\n',\n",
    "#       '1. Write a personalized email message addressing their specific concerns\\\\n',\n",
    "#       '2. Understand what features are contributing the most towards churn and preventing churn and analyze those to create the personalized email\\\\n',\n",
    "#       '3. Offer solutions based on the risk factors identified\\\\n',\n",
    "#       '4. Include a compelling retention offer\\\\n',\n",
    "#       '5. Keep the tone friendly and helpful\\\\n',\n",
    "#       '6. Include a clear call-to-action\\\\n\\\\n',\n",
    "#       'Generate the email message:'\n",
    "#     ),\n",
    "#     connection_id => 'us.vertex-ai-connection',\n",
    "#     endpoint => 'gemini-2.5-flash'\n",
    "#   ).result AS personalized_retention_message\n",
    "\n",
    "# FROM customer_analysis;\n",
    "# \"\"\"\n",
    "\n",
    "# # Execute query and get results\n",
    "# df = client.query(query).to_dataframe()\n",
    "\n",
    "# # Display basic info\n",
    "# print(\"=\"*80)\n",
    "# print(\"CUSTOMER RETENTION ANALYSIS RESULTS\")\n",
    "# print(\"=\"*80)\n",
    "\n",
    "# # Display customer summary\n",
    "# for index, row in df.iterrows():\n",
    "#     print(f\"Customer ID: {row['customer_id']}\")\n",
    "#     print(f\"Churn Probability: {row['churn_probability_percent']}%\")\n",
    "#     print(f\"Risk Category: {row['risk_category']}\")\n",
    "#     print(f\"Current Plan: {row['plan_type']}\")\n",
    "#     print(f\"Monthly Cost: ${row['monthly_cost']}\")\n",
    "#     print()\n",
    "    \n",
    "#     # Display feature attributions in a readable format\n",
    "#     print(\"TOP FEATURE ATTRIBUTIONS:\")\n",
    "#     print(\"-\" * 40)\n",
    "#     for feature in row['top_feature_attributions']:\n",
    "#         feature_name = feature['feature']\n",
    "#         attribution = feature['attribution']\n",
    "#         impact = \"📈 INCREASES\" if attribution > 0 else \"📉 DECREASES\"\n",
    "#         print(f\"{feature_name:25} | {attribution:+7.3f} | {impact} churn risk\")\n",
    "#     print()\n",
    "\n",
    "#     # Display the customer issue\n",
    "#     print(\"CUSTOMER ISSUE IDENTIFIED:\")\n",
    "#     print(\"=\" * 80)\n",
    "#     message = row['comprehensive_problem_description']\n",
    "#     formatted_message = message.replace('\\\\n', '\\n')\n",
    "#     print(formatted_message)\n",
    "#     print(\"=\" * 80)\n",
    "    \n",
    "#     # Display the personalized message with proper formatting\n",
    "#     print(\"PERSONALIZED RETENTION MESSAGE:\")\n",
    "#     print(\"=\" * 80)\n",
    "#     message = row['personalized_retention_message']\n",
    "#     # Replace \\\\n with actual newlines for better readability\n",
    "#     formatted_message = message.replace('\\\\n', '\\n')\n",
    "#     print(formatted_message)\n",
    "#     print(\"=\" * 80)\n",
    "\n"
   ]
  },
  {
   "cell_type": "code",
   "execution_count": 24,
   "id": "6104575c",
   "metadata": {},
   "outputs": [
    {
     "data": {
      "text/plain": [
       "array([array([{'feature': 'household_income', 'attribution': -0.33624252676963806},\n",
       "              {'feature': 'age', 'attribution': 0.12005558609962463},\n",
       "              {'feature': 'data_overage_frequency', 'attribution': 0.10666532814502716},\n",
       "              {'feature': 'family_plan_flag', 'attribution': -0.0872725397348404},\n",
       "              {'feature': 'monthly_cost', 'attribution': -0.04487797990441322}],\n",
       "             dtype=object)                                                              ],\n",
       "      dtype=object)"
      ]
     },
     "execution_count": 24,
     "metadata": {},
     "output_type": "execute_result"
    }
   ],
   "source": [
    "df['top_feature_attributions'].values"
   ]
  },
  {
   "cell_type": "code",
   "execution_count": null,
   "id": "2c4af158",
   "metadata": {},
   "outputs": [],
   "source": [
    "##Batch processing python code\n",
    "\n",
    "# import pandas as pd\n",
    "# from google.cloud import bigquery\n",
    "# import time\n",
    "# from datetime import datetime\n",
    "\n",
    "# def process_retention_campaigns_in_batches():\n",
    "#     \"\"\"\n",
    "#     Process customer retention campaigns in manageable batches\n",
    "#     to handle large datasets and API rate limits\n",
    "#     \"\"\"\n",
    "#     client = bigquery.Client(project='trilink-471315')\n",
    "    \n",
    "#     # Define batch configurations\n",
    "#     batch_configs = [\n",
    "#         {\n",
    "#             'name': 'critical_risk',\n",
    "#             'where_clause': 'probability >= 0.8',\n",
    "#             'limit': 20,\n",
    "#             'priority': 1\n",
    "#         },\n",
    "#         {\n",
    "#             'name': 'high_risk', \n",
    "#             'where_clause': 'probability >= 0.6 AND probability < 0.8',\n",
    "#             'limit': 50,\n",
    "#             'priority': 2\n",
    "#         },\n",
    "#         {\n",
    "#             'name': 'medium_risk',\n",
    "#             'where_clause': 'probability >= 0.4 AND probability < 0.6', \n",
    "#             'limit': 100,\n",
    "#             'priority': 3\n",
    "#         }\n",
    "#     ]\n",
    "    \n",
    "#     all_results = []\n",
    "    \n",
    "#     for config in batch_configs:\n",
    "#         print(f\"🔄 Processing {config['name']} customers...\")\n",
    "#         print(f\"   Target: {config['limit']} customers with {config['where_clause']}\")\n",
    "        \n",
    "#         query = f\"\"\"\n",
    "#         WITH customer_analysis AS (\n",
    "#           SELECT\n",
    "#              customer_id,\n",
    "#             predicted_mobile_churn,\n",
    "#             ROUND(probability * 100, 1) AS churn_probability_percent,\n",
    "#             age, plan_type, monthly_cost, contract_type, tenure_years,\n",
    "#             data_overage_frequency, family_plan_flag, household_income,\n",
    "            \n",
    "#             CASE\n",
    "#                WHEN probability >= 0.8 THEN 'CRITICAL RISK'\n",
    "#               WHEN probability >= 0.6 THEN 'HIGH RISK'\n",
    "#               WHEN probability >= 0.4 THEN 'MEDIUM RISK'\n",
    "#               ELSE 'LOW RISK'\n",
    "#             END AS risk_category,\n",
    "            \n",
    "#             top_feature_attributions\n",
    "#            FROM ML.EXPLAIN_PREDICT(\n",
    "#             MODEL `trilink-471315.database.mobile_churn_predictor`,\n",
    "#             (SELECT * FROM `trilink-471315.database.mobile_churn_data`\n",
    "#              WHERE {config['where_clause']}\n",
    "#              LIMIT {config['limit']})\n",
    "#           )\n",
    "#         )\n",
    "\n",
    "#         SELECT\n",
    "#           '{config['name']}' as campaign_batch,\n",
    "#           {config['priority']} as priority,\n",
    "#           customer_id,\n",
    "#           churn_probability_percent,\n",
    "#           risk_category,\n",
    "#           plan_type,\n",
    "#           monthly_cost,\n",
    "#           tenure_years,\n",
    "#           data_overage_frequency,\n",
    "#           top_feature_attributions,\n",
    "          \n",
    "#           AI.GENERATE(\n",
    "#             CONCAT(\n",
    "#               'Create a personalized retention message for this mobile customer:\\\\n\\\\n',\n",
    "#               'Customer Profile:\\\\n',\n",
    "#               '- Age: ', CAST(age AS STRING), '\\\\n',\n",
    "#               '- Current Plan: ', plan_type, '\\\\n', \n",
    "#               '- Monthly Cost: $', CAST(monthly_cost AS STRING), '\\\\n',\n",
    "#               '- Contract: ', contract_type, '\\\\n',\n",
    "#               '- Tenure: ', CAST(tenure_years AS STRING), ' years\\\\n',\n",
    "#               '- Data Overages: ', CAST(data_overage_frequency AS STRING), ' per month\\\\n',\n",
    "#               '- Family Plan: ', CAST(family_plan_flag AS STRING), '\\\\n\\\\n',\n",
    "#               'Churn Risk Analysis:\\\\n',\n",
    "#               '- Churn Probability: ', CAST(churn_probability_percent AS STRING), '%\\\\n',\n",
    "#               '- Risk Level: ', risk_category, '\\\\n\\\\n',\n",
    "#               'Key Factors Affecting Churn Risk:\\\\n',\n",
    "#               ARRAY_TO_STRING(\n",
    "#                 ARRAY(\n",
    "#                   SELECT CONCAT('- ', feature, ': ', CAST(ROUND(attribution, 3) AS STRING))\n",
    "#                   FROM UNNEST(top_feature_attributions)\n",
    "#                   ORDER BY ABS(attribution) DESC\n",
    "#                   LIMIT 6\n",
    "#                 ), '\\\\n'\n",
    "#               ), '\\\\n\\\\n',\n",
    "#               'Instructions:\\\\n',\n",
    "#               '1. Write a personalized email message addressing their specific concerns\\\\n',\n",
    "#               '2. Offer solutions based on the risk factors identified\\\\n',\n",
    "#               '3. Include retention offer appropriate for risk level\\\\n',\n",
    "#               '4. Keep tone friendly and helpful\\\\n',\n",
    "#               '5. Include clear call-to-action\\\\n\\\\n',\n",
    "#               'Generate the email message:'\n",
    "#             ),\n",
    "#             connection_id => 'us.vertex-ai-connection',\n",
    "#             endpoint => 'gemini-2.5-flash'\n",
    "#           ).result AS personalized_retention_message,\n",
    "          \n",
    "#           CURRENT_TIMESTAMP() AS message_generated_at\n",
    "\n",
    "#         FROM customer_analysis\n",
    "#         ORDER BY churn_probability_percent DESC\n",
    "#         \"\"\"\n",
    "        \n",
    "#         try:\n",
    "#             # Execute query\n",
    "#             start_time = time.time()\n",
    "#             df_batch = client.query(query).to_dataframe()\n",
    "#             end_time = time.time()\n",
    "            \n",
    "#             print(f\"   ✅ Processed {len(df_batch)} customers in {end_time-start_time:.1f} seconds\")\n",
    "            \n",
    "#             # Add to results\n",
    "#             all_results.append(df_batch)\n",
    "            \n",
    "#             # Add delay between batches to respect API limits\n",
    "#             if config != batch_configs[-1]:  # Don't wait after last batch\n",
    "#                 print(\"   ⏳ Waiting 30 seconds before next batch...\")\n",
    "#                 time.sleep(30)\n",
    "                \n",
    "#         except Exception as e:\n",
    "#             print(f\"   ❌ Error processing {config['name']}: {str(e)}\")\n",
    "#             continue\n",
    "    \n",
    "#     # Combine all results\n",
    "#     if all_results:\n",
    "#         final_df = pd.concat(all_results, ignore_index=True)\n",
    "        \n",
    "#         # Save results\n",
    "#         timestamp = datetime.now().strftime(\"%Y%m%d_%H%M%S\")\n",
    "#         csv_filename = f'retention_campaigns_{timestamp}.csv'\n",
    "#         final_df.to_csv(csv_filename, index=False)\n",
    "        \n",
    "#         print(f\"\\n🎯 CAMPAIGN GENERATION COMPLETE!\")\n",
    "#         print(f\"📊 Total customers processed: {len(final_df)}\")\n",
    "#         print(f\"💾 Results saved to: {csv_filename}\")\n",
    "        \n",
    "#         # Display summary by batch\n",
    "#         print(f\"\\n📈 BATCH SUMMARY:\")\n",
    "#         summary = final_df.groupby(['campaign_batch', 'risk_category']).size().unstack(fill_value=0)\n",
    "#         print(summary)\n",
    "        \n",
    "#         # Save to BigQuery table for campaign management\n",
    "#         table_id = f\"trilink-471315.database.retention_campaigns_{timestamp.replace('_', '')}\"\n",
    "#         final_df.to_gbq(table_id, project_id='trilink-471315', if_exists='replace')\n",
    "#         print(f\"📋 Campaign data uploaded to BigQuery: {table_id}\")\n",
    "        \n",
    "#         return final_df\n",
    "#     else:\n",
    "#         print(\"❌ No results generated\")\n",
    "#         return None\n",
    "\n",
    "# # Run the batch processing\n",
    "# if __name__ == \"__main__\":\n",
    "#     results = process_retention_campaigns_in_batches()\n",
    "    \n",
    "#     # Optional: Display sample messages\n",
    "#     if results is not None and len(results) > 0:\n",
    "#         print(f\"\\n📧 SAMPLE RETENTION MESSAGE:\")\n",
    "#         print(\"=\"*80)\n",
    "#         sample_message = results['personalized_retention_message'].iloc[0]\n",
    "#         print(sample_message.replace('\\\\n', '\\n'))\n",
    "#         print(\"=\"*80)"
   ]
  }
 ],
 "metadata": {
  "kernelspec": {
   "display_name": "venv",
   "language": "python",
   "name": "python3"
  },
  "language_info": {
   "codemirror_mode": {
    "name": "ipython",
    "version": 3
   },
   "file_extension": ".py",
   "mimetype": "text/x-python",
   "name": "python",
   "nbconvert_exporter": "python",
   "pygments_lexer": "ipython3",
   "version": "3.12.5"
  }
 },
 "nbformat": 4,
 "nbformat_minor": 5
}
