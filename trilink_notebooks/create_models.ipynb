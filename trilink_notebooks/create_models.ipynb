{
 "cells": [
  {
   "cell_type": "code",
   "execution_count": null,
   "id": "03eb75de",
   "metadata": {},
   "outputs": [
    {
     "name": "stderr",
     "output_type": "stream",
     "text": [
      "d:\\Work\\Github\\TriLink\\venv\\Lib\\site-packages\\google\\cloud\\bigquery\\__init__.py:237: FutureWarning: %load_ext google.cloud.bigquery is deprecated. Install bigquery-magics package and use `%load_ext bigquery_magics`, instead.\n",
      "  warnings.warn(\n"
     ]
    }
   ],
   "source": [
    "import google.cloud.bigquery\n",
    "import tqdm\n",
    "import pandas as pd\n",
    "import numpy as np\n",
    "\n",
    "\n",
    "##Set the project ID - Change to your project ID\n",
    "##Keep the database name as database itself for smooth processing\n",
    "##Otherwise you will have to change the database name in the codes down the line - Adviced just to change the project ID to your project\n",
    "project_id='trilink-472019'\n",
    "database_name = 'database'\n",
    "location=\"US\"\n",
    "# Load the extension\n",
    "%load_ext google.cloud.bigquery\n",
    "%load_ext bigquery_magics"
   ]
  },
  {
   "cell_type": "markdown",
   "id": "58008a2e",
   "metadata": {},
   "source": [
    "#### Setup BigQuery"
   ]
  },
  {
   "cell_type": "code",
   "execution_count": 2,
   "id": "208a62de",
   "metadata": {},
   "outputs": [
    {
     "name": "stderr",
     "output_type": "stream",
     "text": [
      "Your browser has been opened to visit:\n",
      "\n",
      "    https://accounts.google.com/o/oauth2/auth?response_type=code&client_id=32555940559.apps.googleusercontent.com&redirect_uri=http%3A%2F%2Flocalhost%3A8085%2F&scope=openid+https%3A%2F%2Fwww.googleapis.com%2Fauth%2Fuserinfo.email+https%3A%2F%2Fwww.googleapis.com%2Fauth%2Fcloud-platform+https%3A%2F%2Fwww.googleapis.com%2Fauth%2Fappengine.admin+https%3A%2F%2Fwww.googleapis.com%2Fauth%2Fsqlservice.login+https%3A%2F%2Fwww.googleapis.com%2Fauth%2Fcompute+https%3A%2F%2Fwww.googleapis.com%2Fauth%2Faccounts.reauth&state=pmsqSOKOhvFNKkBVe5Qmci1BWJdtzz&access_type=offline&code_challenge=Sm3RpmcWf2_JTZSEKJby6C1CAUDUQ8c4sc6SfjVJKEQ&code_challenge_method=S256\n",
      "\n",
      "\n",
      "You are now logged in as [hazardscarn10@gmail.com].\n",
      "Your current project is [trilink-472019].  You can change this setting by running:\n",
      "  $ gcloud config set project PROJECT_ID\n",
      "Updated property [core/project].\n"
     ]
    }
   ],
   "source": [
    "##Authineticate and login to gcloud env\n",
    "!gcloud auth login\n",
    "!gcloud config set project $project_id"
   ]
  },
  {
   "cell_type": "markdown",
   "id": "bde7c0e7",
   "metadata": {},
   "source": [
    "#### Idea\n",
    "\n",
    "- Business often uses Machine Learning to create models that predicts events of customers/prospects like churn, upsell etc.\n",
    "- However these models are usually used to create a list of targets and all the targets are treated in the same way or with A/B testing similar cookie cutter content\n",
    "- This is not efficient as we are losing a lot infomration that the models possess and not using it in the campaigns\n",
    "- Hence the idea here is to create Xgboost models in bigquery ML for predicting churn for internet and mobile customers of TriLink\n",
    "- We will use the BigQuery ML.EXPLAIN_PREDICT which not only predicts the probability of event, but also gives the individual contribution of features towards churn\n",
    "- This helps us creating/identifying exactly what's leading to this customers churn and can be added in as one of the personalization parameter in the automated hyperpersonalized retention email\n",
    "- Inorder to this let's first create the internet and mobile churn models and the views for the model datasets"
   ]
  },
  {
   "cell_type": "markdown",
   "id": "984ea6ff",
   "metadata": {},
   "source": [
    "#### Mobile Churn Model Creation"
   ]
  },
  {
   "cell_type": "markdown",
   "id": "d668dd0c",
   "metadata": {},
   "source": [
    "##### Create the view for the churn model for mobile\n"
   ]
  },
  {
   "cell_type": "code",
   "execution_count": null,
   "id": "6362aca8",
   "metadata": {},
   "outputs": [
    {
     "data": {
      "application/vnd.jupyter.widget-view+json": {
       "model_id": "e33ef7d2604e479ba1a222766a7930e9",
       "version_major": 2,
       "version_minor": 0
      },
      "text/plain": [
       "Query is running:   0%|          |"
      ]
     },
     "metadata": {},
     "output_type": "display_data"
    },
    {
     "data": {
      "application/vnd.microsoft.datawrangler.viewer.v0+json": {
       "columns": [
        {
         "name": "index",
         "rawType": "int64",
         "type": "integer"
        }
       ],
       "ref": "d06c92ba-9b78-4954-b895-c0e827c513c5",
       "rows": [],
       "shape": {
        "columns": 0,
        "rows": 0
       }
      },
      "text/html": [
       "<div>\n",
       "<style scoped>\n",
       "    .dataframe tbody tr th:only-of-type {\n",
       "        vertical-align: middle;\n",
       "    }\n",
       "\n",
       "    .dataframe tbody tr th {\n",
       "        vertical-align: top;\n",
       "    }\n",
       "\n",
       "    .dataframe thead th {\n",
       "        text-align: right;\n",
       "    }\n",
       "</style>\n",
       "<table border=\"1\" class=\"dataframe\">\n",
       "  <thead>\n",
       "    <tr style=\"text-align: right;\">\n",
       "      <th></th>\n",
       "    </tr>\n",
       "  </thead>\n",
       "  <tbody>\n",
       "  </tbody>\n",
       "</table>\n",
       "</div>"
      ],
      "text/plain": [
       "Empty DataFrame\n",
       "Columns: []\n",
       "Index: []"
      ]
     },
     "execution_count": 2,
     "metadata": {},
     "output_type": "execute_result"
    }
   ],
   "source": [
    "%%bigquery  --project {project_id}\n",
    "\n",
    "CREATE OR REPLACE VIEW `database.mobile_churn_data` AS\n",
    "SELECT \n",
    "  c.customer_id,\n",
    "  \n",
    "  -- Customer demographics\n",
    "  c.age,\n",
    "  c.household_income,\n",
    "  c.family_size,\n",
    "  c.home_ownership,\n",
    "  c.work_from_home_flag,\n",
    "  c.education_level,\n",
    "  c.life_stage,\n",
    "  c.home_square_footage,\n",
    "  c.property_value,\n",
    "  c.neighborhood_crime_rate,\n",
    "  c.neighborhood_income_median,\n",
    "  c.fiber_availability,\n",
    "  c.income_bracket,\n",
    "  \n",
    "  -- Mobile service features\n",
    "  m.service_id,\n",
    "  m.plan_type,\n",
    "  m.line_count,\n",
    "  m.monthly_cost,\n",
    "  m.data_overage_frequency,\n",
    "  m.contract_type,\n",
    "  m.family_plan_flag,\n",
    "  m.device_upgrade_cycle,\n",
    "  m.mobile_tenure_days,\n",
    "  m.mobile_churn,\n",
    "  \n",
    "  -- Essential calculated features only\n",
    "  ROUND(c.household_income / c.family_size, 2) AS income_per_person,\n",
    "  ROUND(m.monthly_cost / m.line_count, 2) AS cost_per_line,\n",
    "  ROUND(m.mobile_tenure_days / 365.25, 2) AS tenure_years\n",
    "  \n",
    "FROM `database.customer_df` c\n",
    "INNER JOIN `database.mobile_df` m\n",
    "ON c.customer_id = m.customer_id;"
   ]
  },
  {
   "cell_type": "code",
   "execution_count": null,
   "id": "dd8d0f65",
   "metadata": {},
   "outputs": [
    {
     "data": {
      "application/vnd.jupyter.widget-view+json": {
       "model_id": "a91d014e144e430c9ca9bc72956746d7",
       "version_major": 2,
       "version_minor": 0
      },
      "text/plain": [
       "Query is running:   0%|          |"
      ]
     },
     "metadata": {},
     "output_type": "display_data"
    },
    {
     "data": {
      "application/vnd.jupyter.widget-view+json": {
       "model_id": "ed15a3fbc6fe454c8e975ac643fd651f",
       "version_major": 2,
       "version_minor": 0
      },
      "text/plain": [
       "Downloading:   0%|          |"
      ]
     },
     "metadata": {},
     "output_type": "display_data"
    },
    {
     "data": {
      "application/vnd.microsoft.datawrangler.viewer.v0+json": {
       "columns": [
        {
         "name": "index",
         "rawType": "int64",
         "type": "integer"
        },
        {
         "name": "mobile_churn",
         "rawType": "Int64",
         "type": "integer"
        },
        {
         "name": "cnt",
         "rawType": "Int64",
         "type": "integer"
        }
       ],
       "ref": "bb0cc26b-d023-4ab1-b0a2-da6ecd97718c",
       "rows": [
        [
         "0",
         "0",
         "56134"
        ],
        [
         "1",
         "1",
         "18261"
        ]
       ],
       "shape": {
        "columns": 2,
        "rows": 2
       }
      },
      "text/html": [
       "<div>\n",
       "<style scoped>\n",
       "    .dataframe tbody tr th:only-of-type {\n",
       "        vertical-align: middle;\n",
       "    }\n",
       "\n",
       "    .dataframe tbody tr th {\n",
       "        vertical-align: top;\n",
       "    }\n",
       "\n",
       "    .dataframe thead th {\n",
       "        text-align: right;\n",
       "    }\n",
       "</style>\n",
       "<table border=\"1\" class=\"dataframe\">\n",
       "  <thead>\n",
       "    <tr style=\"text-align: right;\">\n",
       "      <th></th>\n",
       "      <th>mobile_churn</th>\n",
       "      <th>cnt</th>\n",
       "    </tr>\n",
       "  </thead>\n",
       "  <tbody>\n",
       "    <tr>\n",
       "      <th>0</th>\n",
       "      <td>0</td>\n",
       "      <td>56134</td>\n",
       "    </tr>\n",
       "    <tr>\n",
       "      <th>1</th>\n",
       "      <td>1</td>\n",
       "      <td>18261</td>\n",
       "    </tr>\n",
       "  </tbody>\n",
       "</table>\n",
       "</div>"
      ],
      "text/plain": [
       "   mobile_churn    cnt\n",
       "0             0  56134\n",
       "1             1  18261"
      ]
     },
     "execution_count": 3,
     "metadata": {},
     "output_type": "execute_result"
    }
   ],
   "source": [
    "%%bigquery  --project {project_id}\n",
    "\n",
    "select mobile_churn,count(*) as cnt\n",
    "FROM `mobile_churn_data`\n",
    "group by mobile_churn;"
   ]
  },
  {
   "cell_type": "markdown",
   "id": "d4105107",
   "metadata": {},
   "source": [
    "##### Create Mobile Churn Prediction Model (Boosting Model)"
   ]
  },
  {
   "cell_type": "code",
   "execution_count": null,
   "id": "c7f3becd",
   "metadata": {},
   "outputs": [
    {
     "data": {
      "application/vnd.jupyter.widget-view+json": {
       "model_id": "810a52ff7867406e8a347acbb12f5f6c",
       "version_major": 2,
       "version_minor": 0
      },
      "text/plain": [
       "Query is running:   0%|          |"
      ]
     },
     "metadata": {},
     "output_type": "display_data"
    },
    {
     "data": {
      "application/vnd.microsoft.datawrangler.viewer.v0+json": {
       "columns": [
        {
         "name": "index",
         "rawType": "int64",
         "type": "integer"
        }
       ],
       "ref": "d825f5f8-ef47-4a25-b427-b03d27975dc7",
       "rows": [],
       "shape": {
        "columns": 0,
        "rows": 0
       }
      },
      "text/html": [
       "<div>\n",
       "<style scoped>\n",
       "    .dataframe tbody tr th:only-of-type {\n",
       "        vertical-align: middle;\n",
       "    }\n",
       "\n",
       "    .dataframe tbody tr th {\n",
       "        vertical-align: top;\n",
       "    }\n",
       "\n",
       "    .dataframe thead th {\n",
       "        text-align: right;\n",
       "    }\n",
       "</style>\n",
       "<table border=\"1\" class=\"dataframe\">\n",
       "  <thead>\n",
       "    <tr style=\"text-align: right;\">\n",
       "      <th></th>\n",
       "    </tr>\n",
       "  </thead>\n",
       "  <tbody>\n",
       "  </tbody>\n",
       "</table>\n",
       "</div>"
      ],
      "text/plain": [
       "Empty DataFrame\n",
       "Columns: []\n",
       "Index: []"
      ]
     },
     "execution_count": 4,
     "metadata": {},
     "output_type": "execute_result"
    }
   ],
   "source": [
    "%%bigquery  --project {project_id}\n",
    "\n",
    "CREATE OR REPLACE MODEL `database.mobile_churn_predictor`\n",
    "OPTIONS(\n",
    "  model_type='BOOSTED_TREE_CLASSIFIER',\n",
    "  input_label_cols=['mobile_churn'],\n",
    "  enable_global_explain=TRUE\n",
    ") AS\n",
    "SELECT \n",
    "  mobile_churn,\n",
    "  \n",
    "  -- Demographic features\n",
    "  age,\n",
    "  household_income,\n",
    "  family_size,\n",
    "  home_square_footage,\n",
    "  property_value,\n",
    "  neighborhood_crime_rate,\n",
    "  neighborhood_income_median,\n",
    "  \n",
    "  -- Categorical features\n",
    "  income_bracket,\n",
    "  home_ownership,\n",
    "  education_level,\n",
    "  life_stage,\n",
    "  plan_type,\n",
    "  contract_type,\n",
    "  \n",
    "  -- Boolean features\n",
    "  work_from_home_flag,\n",
    "  fiber_availability,\n",
    "  family_plan_flag,\n",
    "  \n",
    "  -- Mobile behavior features\n",
    "  line_count,\n",
    "  monthly_cost,\n",
    "  data_overage_frequency,\n",
    "  device_upgrade_cycle,\n",
    "  tenure_years,\n",
    "  income_per_person,\n",
    "  cost_per_line\n",
    "\n",
    "FROM `database.mobile_churn_data`\n",
    "WHERE mobile_churn IS NOT NULL;"
   ]
  },
  {
   "cell_type": "markdown",
   "id": "89aaed82",
   "metadata": {},
   "source": [
    "##### Score the mobile churn model with feature contribution for a customer to demo the scoring"
   ]
  },
  {
   "cell_type": "code",
   "execution_count": 3,
   "id": "b0b085e0",
   "metadata": {},
   "outputs": [
    {
     "data": {
      "application/vnd.jupyter.widget-view+json": {
       "model_id": "ae958848942e43ebb52fec4dabb06d1e",
       "version_major": 2,
       "version_minor": 0
      },
      "text/plain": [
       "Query is running:   0%|          |"
      ]
     },
     "metadata": {},
     "output_type": "display_data"
    },
    {
     "data": {
      "application/vnd.jupyter.widget-view+json": {
       "model_id": "da110ca3e47a4d5a853241326cf5909f",
       "version_major": 2,
       "version_minor": 0
      },
      "text/plain": [
       "Downloading:   0%|          |"
      ]
     },
     "metadata": {},
     "output_type": "display_data"
    },
    {
     "data": {
      "application/vnd.microsoft.datawrangler.viewer.v0+json": {
       "columns": [
        {
         "name": "index",
         "rawType": "int64",
         "type": "integer"
        },
        {
         "name": "customer_id",
         "rawType": "object",
         "type": "string"
        },
        {
         "name": "predicted_mobile_churn",
         "rawType": "Int64",
         "type": "integer"
        },
        {
         "name": "churn_probability_percent",
         "rawType": "float64",
         "type": "float"
        },
        {
         "name": "risk_category",
         "rawType": "object",
         "type": "string"
        },
        {
         "name": "plan_type",
         "rawType": "object",
         "type": "string"
        },
        {
         "name": "monthly_cost",
         "rawType": "Int64",
         "type": "integer"
        },
        {
         "name": "contract_type",
         "rawType": "object",
         "type": "string"
        },
        {
         "name": "tenure_years",
         "rawType": "float64",
         "type": "float"
        },
        {
         "name": "data_overage_frequency",
         "rawType": "Int64",
         "type": "integer"
        },
        {
         "name": "family_plan_flag",
         "rawType": "boolean",
         "type": "boolean"
        },
        {
         "name": "top_feature_attributions",
         "rawType": "object",
         "type": "unknown"
        },
        {
         "name": "baseline_prediction",
         "rawType": "float64",
         "type": "float"
        },
        {
         "name": "final_prediction",
         "rawType": "float64",
         "type": "float"
        },
        {
         "name": "approximation_error",
         "rawType": "float64",
         "type": "float"
        }
       ],
       "ref": "f78f6c15-92b7-45bc-ac2b-fff4ce612c05",
       "rows": [
        [
         "0",
         "C00004244",
         "0",
         "64.6",
         "HIGH RISK",
         "Limited_2GB",
         "30",
         "Month_to_Month",
         "1.23",
         "4",
         "False",
         "[{'feature': 'household_income', 'attribution': -0.33624252676963806}\n {'feature': 'age', 'attribution': 0.12005558609962463}\n {'feature': 'data_overage_frequency', 'attribution': 0.10666532814502716}\n {'feature': 'family_plan_flag', 'attribution': -0.0872725397348404}\n {'feature': 'monthly_cost', 'attribution': -0.04487797990441322}]",
         "1.091",
         "0.8002",
         "0.0"
        ]
       ],
       "shape": {
        "columns": 14,
        "rows": 1
       }
      },
      "text/html": [
       "<div>\n",
       "<style scoped>\n",
       "    .dataframe tbody tr th:only-of-type {\n",
       "        vertical-align: middle;\n",
       "    }\n",
       "\n",
       "    .dataframe tbody tr th {\n",
       "        vertical-align: top;\n",
       "    }\n",
       "\n",
       "    .dataframe thead th {\n",
       "        text-align: right;\n",
       "    }\n",
       "</style>\n",
       "<table border=\"1\" class=\"dataframe\">\n",
       "  <thead>\n",
       "    <tr style=\"text-align: right;\">\n",
       "      <th></th>\n",
       "      <th>customer_id</th>\n",
       "      <th>predicted_mobile_churn</th>\n",
       "      <th>churn_probability_percent</th>\n",
       "      <th>risk_category</th>\n",
       "      <th>plan_type</th>\n",
       "      <th>monthly_cost</th>\n",
       "      <th>contract_type</th>\n",
       "      <th>tenure_years</th>\n",
       "      <th>data_overage_frequency</th>\n",
       "      <th>family_plan_flag</th>\n",
       "      <th>top_feature_attributions</th>\n",
       "      <th>baseline_prediction</th>\n",
       "      <th>final_prediction</th>\n",
       "      <th>approximation_error</th>\n",
       "    </tr>\n",
       "  </thead>\n",
       "  <tbody>\n",
       "    <tr>\n",
       "      <th>0</th>\n",
       "      <td>C00004244</td>\n",
       "      <td>0</td>\n",
       "      <td>64.6</td>\n",
       "      <td>HIGH RISK</td>\n",
       "      <td>Limited_2GB</td>\n",
       "      <td>30</td>\n",
       "      <td>Month_to_Month</td>\n",
       "      <td>1.23</td>\n",
       "      <td>4</td>\n",
       "      <td>False</td>\n",
       "      <td>[{'feature': 'household_income', 'attribution'...</td>\n",
       "      <td>1.091</td>\n",
       "      <td>0.8002</td>\n",
       "      <td>0.0</td>\n",
       "    </tr>\n",
       "  </tbody>\n",
       "</table>\n",
       "</div>"
      ],
      "text/plain": [
       "  customer_id  predicted_mobile_churn  churn_probability_percent  \\\n",
       "0   C00004244                       0                       64.6   \n",
       "\n",
       "  risk_category    plan_type  monthly_cost   contract_type  tenure_years  \\\n",
       "0     HIGH RISK  Limited_2GB            30  Month_to_Month          1.23   \n",
       "\n",
       "   data_overage_frequency  family_plan_flag  \\\n",
       "0                       4             False   \n",
       "\n",
       "                            top_feature_attributions  baseline_prediction  \\\n",
       "0  [{'feature': 'household_income', 'attribution'...                1.091   \n",
       "\n",
       "   final_prediction  approximation_error  \n",
       "0            0.8002                  0.0  "
      ]
     },
     "execution_count": 3,
     "metadata": {},
     "output_type": "execute_result"
    }
   ],
   "source": [
    "%%bigquery  --project {project_id}\n",
    "SELECT \n",
    "  customer_id,\n",
    "  predicted_mobile_churn,\n",
    "  ROUND(probability * 100, 1) AS churn_probability_percent,\n",
    "  \n",
    "  -- Risk category\n",
    "  CASE \n",
    "    WHEN probability >= 0.8 THEN 'CRITICAL RISK'\n",
    "    WHEN probability >= 0.6 THEN 'HIGH RISK'\n",
    "    WHEN probability >= 0.4 THEN 'MEDIUM RISK'\n",
    "    WHEN probability >= 0.2 THEN 'LOW RISK'\n",
    "    ELSE 'VERY LOW RISK'\n",
    "  END AS risk_category,\n",
    "  \n",
    "  -- Customer details\n",
    "  plan_type,\n",
    "  monthly_cost,\n",
    "  contract_type,\n",
    "  tenure_years,\n",
    "  data_overage_frequency,\n",
    "  family_plan_flag,\n",
    "  \n",
    "  -- Feature contributions (raw string from BigQuery)\n",
    "  top_feature_attributions,\n",
    "  \n",
    "  -- Prediction details\n",
    "  ROUND(baseline_prediction_value, 4) AS baseline_prediction,\n",
    "  ROUND(prediction_value, 4) AS final_prediction,\n",
    "  approximation_error\n",
    "\n",
    "FROM ML.EXPLAIN_PREDICT(\n",
    "  MODEL `database.mobile_churn_predictor`,\n",
    "  (SELECT * FROM `database.mobile_churn_data` \n",
    "   WHERE customer_id = 'C00004244')  -- CHANGE THIS CUSTOMER ID\n",
    ");"
   ]
  },
  {
   "cell_type": "markdown",
   "id": "f1ec22e3",
   "metadata": {},
   "source": [
    "#### Internet Churn Model"
   ]
  },
  {
   "cell_type": "markdown",
   "id": "a97d29bc",
   "metadata": {},
   "source": [
    "##### Create the view for the churn model for Internet\n"
   ]
  },
  {
   "cell_type": "code",
   "execution_count": null,
   "id": "d4f1f87d",
   "metadata": {},
   "outputs": [
    {
     "data": {
      "application/vnd.jupyter.widget-view+json": {
       "model_id": "f4f0b8a6d80f4137b72f14d73b9c2945",
       "version_major": 2,
       "version_minor": 0
      },
      "text/plain": [
       "Query is running:   0%|          |"
      ]
     },
     "metadata": {},
     "output_type": "display_data"
    },
    {
     "data": {
      "application/vnd.microsoft.datawrangler.viewer.v0+json": {
       "columns": [
        {
         "name": "index",
         "rawType": "int64",
         "type": "integer"
        }
       ],
       "ref": "6dc49b3e-99c9-4906-9404-4b1e49227aa2",
       "rows": [],
       "shape": {
        "columns": 0,
        "rows": 0
       }
      },
      "text/html": [
       "<div>\n",
       "<style scoped>\n",
       "    .dataframe tbody tr th:only-of-type {\n",
       "        vertical-align: middle;\n",
       "    }\n",
       "\n",
       "    .dataframe tbody tr th {\n",
       "        vertical-align: top;\n",
       "    }\n",
       "\n",
       "    .dataframe thead th {\n",
       "        text-align: right;\n",
       "    }\n",
       "</style>\n",
       "<table border=\"1\" class=\"dataframe\">\n",
       "  <thead>\n",
       "    <tr style=\"text-align: right;\">\n",
       "      <th></th>\n",
       "    </tr>\n",
       "  </thead>\n",
       "  <tbody>\n",
       "  </tbody>\n",
       "</table>\n",
       "</div>"
      ],
      "text/plain": [
       "Empty DataFrame\n",
       "Columns: []\n",
       "Index: []"
      ]
     },
     "execution_count": 6,
     "metadata": {},
     "output_type": "execute_result"
    }
   ],
   "source": [
    "%%bigquery  --project {project_id}\n",
    "-- Create Internet Churn Data View\n",
    "CREATE OR REPLACE VIEW `database.internet_churn_data` AS \n",
    "SELECT \n",
    "   c.customer_id,\n",
    "   \n",
    "   -- Customer demographics\n",
    "   c.age,\n",
    "   c.household_income,\n",
    "   c.family_size,\n",
    "   c.home_ownership,\n",
    "   c.work_from_home_flag,\n",
    "   c.education_level,\n",
    "   c.life_stage,\n",
    "   c.home_square_footage,\n",
    "   c.property_value,\n",
    "   c.neighborhood_crime_rate,\n",
    "   c.neighborhood_income_median,\n",
    "   c.fiber_availability,\n",
    "   c.income_bracket,\n",
    "   \n",
    "   -- Internet service features\n",
    "   i.service_id,\n",
    "   i.plan_tier,\n",
    "   i.speed_mbps,\n",
    "   i.monthly_cost,\n",
    "   i.data_usage_gb,\n",
    "   i.connected_devices,\n",
    "   i.contract_type,\n",
    "   i.speed_complaints,\n",
    "   i.outage_count,\n",
    "   i.internet_tenure_days,\n",
    "   i.internet_churn,\n",
    "   i.early_termination,\n",
    "   i.contract_completed_percent,\n",
    "   \n",
    "   -- Essential calculated features\n",
    "   ROUND(c.household_income / c.family_size, 2) AS income_per_person,\n",
    "   ROUND(i.monthly_cost / i.speed_mbps, 2) AS cost_per_mbps,\n",
    "   ROUND(i.internet_tenure_days / 365.25, 2) AS tenure_years,\n",
    "   ROUND(i.data_usage_gb / i.connected_devices, 2) AS data_per_device\n",
    "   \n",
    "FROM `database.customer_df` c \n",
    "INNER JOIN `database.internet_df` i ON c.customer_id = i.customer_id;\n"
   ]
  },
  {
   "cell_type": "code",
   "execution_count": null,
   "id": "2951d18c",
   "metadata": {},
   "outputs": [
    {
     "data": {
      "application/vnd.jupyter.widget-view+json": {
       "model_id": "892aaef0459d4eceb5fa0a76e0196a07",
       "version_major": 2,
       "version_minor": 0
      },
      "text/plain": [
       "Query is running:   0%|          |"
      ]
     },
     "metadata": {},
     "output_type": "display_data"
    },
    {
     "data": {
      "application/vnd.jupyter.widget-view+json": {
       "model_id": "c289559939d44819884d8c32e04754ca",
       "version_major": 2,
       "version_minor": 0
      },
      "text/plain": [
       "Downloading:   0%|          |"
      ]
     },
     "metadata": {},
     "output_type": "display_data"
    },
    {
     "data": {
      "application/vnd.microsoft.datawrangler.viewer.v0+json": {
       "columns": [
        {
         "name": "index",
         "rawType": "int64",
         "type": "integer"
        },
        {
         "name": "internet_churn",
         "rawType": "Int64",
         "type": "integer"
        },
        {
         "name": "cnt",
         "rawType": "Int64",
         "type": "integer"
        }
       ],
       "ref": "66bb036d-b9ca-40ba-a6c5-8ff40fcfeafc",
       "rows": [
        [
         "0",
         "0",
         "59009"
        ],
        [
         "1",
         "1",
         "13747"
        ]
       ],
       "shape": {
        "columns": 2,
        "rows": 2
       }
      },
      "text/html": [
       "<div>\n",
       "<style scoped>\n",
       "    .dataframe tbody tr th:only-of-type {\n",
       "        vertical-align: middle;\n",
       "    }\n",
       "\n",
       "    .dataframe tbody tr th {\n",
       "        vertical-align: top;\n",
       "    }\n",
       "\n",
       "    .dataframe thead th {\n",
       "        text-align: right;\n",
       "    }\n",
       "</style>\n",
       "<table border=\"1\" class=\"dataframe\">\n",
       "  <thead>\n",
       "    <tr style=\"text-align: right;\">\n",
       "      <th></th>\n",
       "      <th>internet_churn</th>\n",
       "      <th>cnt</th>\n",
       "    </tr>\n",
       "  </thead>\n",
       "  <tbody>\n",
       "    <tr>\n",
       "      <th>0</th>\n",
       "      <td>0</td>\n",
       "      <td>59009</td>\n",
       "    </tr>\n",
       "    <tr>\n",
       "      <th>1</th>\n",
       "      <td>1</td>\n",
       "      <td>13747</td>\n",
       "    </tr>\n",
       "  </tbody>\n",
       "</table>\n",
       "</div>"
      ],
      "text/plain": [
       "   internet_churn    cnt\n",
       "0               0  59009\n",
       "1               1  13747"
      ]
     },
     "execution_count": 7,
     "metadata": {},
     "output_type": "execute_result"
    }
   ],
   "source": [
    "%%bigquery  --project {project_id}\n",
    "\n",
    "select internet_churn,count(*) as cnt\n",
    "FROM `database.internet_churn_data`\n",
    "group by internet_churn;"
   ]
  },
  {
   "cell_type": "markdown",
   "id": "ee63f867",
   "metadata": {},
   "source": [
    "##### Create Internet Churn Model - Boosting Model"
   ]
  },
  {
   "cell_type": "code",
   "execution_count": null,
   "id": "f172f2fa",
   "metadata": {},
   "outputs": [
    {
     "data": {
      "application/vnd.jupyter.widget-view+json": {
       "model_id": "8009b592a3d44b23ab29556c95cb9f57",
       "version_major": 2,
       "version_minor": 0
      },
      "text/plain": [
       "Query is running:   0%|          |"
      ]
     },
     "metadata": {},
     "output_type": "display_data"
    },
    {
     "data": {
      "application/vnd.microsoft.datawrangler.viewer.v0+json": {
       "columns": [
        {
         "name": "index",
         "rawType": "int64",
         "type": "integer"
        }
       ],
       "ref": "c1e682e7-840b-4ae5-a688-5298683b91dd",
       "rows": [],
       "shape": {
        "columns": 0,
        "rows": 0
       }
      },
      "text/html": [
       "<div>\n",
       "<style scoped>\n",
       "    .dataframe tbody tr th:only-of-type {\n",
       "        vertical-align: middle;\n",
       "    }\n",
       "\n",
       "    .dataframe tbody tr th {\n",
       "        vertical-align: top;\n",
       "    }\n",
       "\n",
       "    .dataframe thead th {\n",
       "        text-align: right;\n",
       "    }\n",
       "</style>\n",
       "<table border=\"1\" class=\"dataframe\">\n",
       "  <thead>\n",
       "    <tr style=\"text-align: right;\">\n",
       "      <th></th>\n",
       "    </tr>\n",
       "  </thead>\n",
       "  <tbody>\n",
       "  </tbody>\n",
       "</table>\n",
       "</div>"
      ],
      "text/plain": [
       "Empty DataFrame\n",
       "Columns: []\n",
       "Index: []"
      ]
     },
     "execution_count": 8,
     "metadata": {},
     "output_type": "execute_result"
    }
   ],
   "source": [
    "%%bigquery  --project {project_id}\n",
    "\n",
    "-- Create Internet Churn Prediction Model\n",
    "CREATE OR REPLACE MODEL `database.internet_churn_predictor`\n",
    "OPTIONS(\n",
    "   model_type='BOOSTED_TREE_CLASSIFIER',\n",
    "   input_label_cols=['internet_churn'],\n",
    "   enable_global_explain=TRUE\n",
    ") AS \n",
    "SELECT \n",
    "   internet_churn,\n",
    "   \n",
    "   -- Demographic features\n",
    "   age,\n",
    "   household_income,\n",
    "   family_size,\n",
    "   home_square_footage,\n",
    "   property_value,\n",
    "   neighborhood_crime_rate,\n",
    "   neighborhood_income_median,\n",
    "   \n",
    "   -- Categorical features\n",
    "   income_bracket,\n",
    "   home_ownership,\n",
    "   education_level,\n",
    "   life_stage,\n",
    "   plan_tier,\n",
    "   contract_type,\n",
    "   \n",
    "   -- Boolean features\n",
    "   work_from_home_flag,\n",
    "   fiber_availability,\n",
    "   early_termination,\n",
    "   \n",
    "   -- Internet behavior features\n",
    "   speed_mbps,\n",
    "   monthly_cost,\n",
    "   data_usage_gb,\n",
    "   connected_devices,\n",
    "   speed_complaints,\n",
    "   outage_count,\n",
    "   tenure_years,\n",
    "   contract_completed_percent,\n",
    "   \n",
    "   -- Calculated features\n",
    "   income_per_person,\n",
    "   cost_per_mbps,\n",
    "   data_per_device\n",
    "   \n",
    "FROM `database.internet_churn_data` \n",
    "WHERE internet_churn IS NOT NULL;"
   ]
  },
  {
   "cell_type": "markdown",
   "id": "4e8ac6c9",
   "metadata": {},
   "source": [
    "##### Score Internet customer with model with feature contribution"
   ]
  },
  {
   "cell_type": "code",
   "execution_count": 4,
   "id": "f5c1b8ac",
   "metadata": {},
   "outputs": [
    {
     "data": {
      "application/vnd.jupyter.widget-view+json": {
       "model_id": "0b58d67dde804180a86b7b908617d05c",
       "version_major": 2,
       "version_minor": 0
      },
      "text/plain": [
       "Query is running:   0%|          |"
      ]
     },
     "metadata": {},
     "output_type": "display_data"
    },
    {
     "data": {
      "application/vnd.jupyter.widget-view+json": {
       "model_id": "2762b27d2fd6425c972ccbab67c68029",
       "version_major": 2,
       "version_minor": 0
      },
      "text/plain": [
       "Downloading:   0%|          |"
      ]
     },
     "metadata": {},
     "output_type": "display_data"
    },
    {
     "data": {
      "application/vnd.microsoft.datawrangler.viewer.v0+json": {
       "columns": [
        {
         "name": "index",
         "rawType": "int64",
         "type": "integer"
        },
        {
         "name": "predicted_internet_churn",
         "rawType": "Int64",
         "type": "integer"
        },
        {
         "name": "probability",
         "rawType": "float64",
         "type": "float"
        },
        {
         "name": "top_feature_attributions",
         "rawType": "object",
         "type": "unknown"
        },
        {
         "name": "baseline_prediction_value",
         "rawType": "float64",
         "type": "float"
        },
        {
         "name": "prediction_value",
         "rawType": "float64",
         "type": "float"
        },
        {
         "name": "approximation_error",
         "rawType": "float64",
         "type": "float"
        },
        {
         "name": "customer_id",
         "rawType": "object",
         "type": "string"
        },
        {
         "name": "age",
         "rawType": "Int64",
         "type": "integer"
        },
        {
         "name": "household_income",
         "rawType": "Int64",
         "type": "integer"
        },
        {
         "name": "family_size",
         "rawType": "Int64",
         "type": "integer"
        },
        {
         "name": "home_ownership",
         "rawType": "object",
         "type": "string"
        },
        {
         "name": "work_from_home_flag",
         "rawType": "boolean",
         "type": "boolean"
        },
        {
         "name": "education_level",
         "rawType": "object",
         "type": "string"
        },
        {
         "name": "life_stage",
         "rawType": "object",
         "type": "string"
        },
        {
         "name": "home_square_footage",
         "rawType": "Int64",
         "type": "integer"
        },
        {
         "name": "property_value",
         "rawType": "Int64",
         "type": "integer"
        },
        {
         "name": "neighborhood_crime_rate",
         "rawType": "float64",
         "type": "float"
        },
        {
         "name": "neighborhood_income_median",
         "rawType": "Int64",
         "type": "integer"
        },
        {
         "name": "fiber_availability",
         "rawType": "boolean",
         "type": "boolean"
        },
        {
         "name": "income_bracket",
         "rawType": "object",
         "type": "string"
        },
        {
         "name": "service_id",
         "rawType": "object",
         "type": "string"
        },
        {
         "name": "plan_tier",
         "rawType": "object",
         "type": "string"
        },
        {
         "name": "speed_mbps",
         "rawType": "Int64",
         "type": "integer"
        },
        {
         "name": "monthly_cost",
         "rawType": "Int64",
         "type": "integer"
        },
        {
         "name": "data_usage_gb",
         "rawType": "Int64",
         "type": "integer"
        },
        {
         "name": "connected_devices",
         "rawType": "Int64",
         "type": "integer"
        },
        {
         "name": "contract_type",
         "rawType": "object",
         "type": "string"
        },
        {
         "name": "speed_complaints",
         "rawType": "Int64",
         "type": "integer"
        },
        {
         "name": "outage_count",
         "rawType": "Int64",
         "type": "integer"
        },
        {
         "name": "internet_tenure_days",
         "rawType": "float64",
         "type": "float"
        },
        {
         "name": "internet_churn",
         "rawType": "Int64",
         "type": "integer"
        },
        {
         "name": "early_termination",
         "rawType": "Int64",
         "type": "integer"
        },
        {
         "name": "contract_completed_percent",
         "rawType": "float64",
         "type": "float"
        },
        {
         "name": "income_per_person",
         "rawType": "float64",
         "type": "float"
        },
        {
         "name": "cost_per_mbps",
         "rawType": "float64",
         "type": "float"
        },
        {
         "name": "tenure_years",
         "rawType": "float64",
         "type": "float"
        },
        {
         "name": "data_per_device",
         "rawType": "float64",
         "type": "float"
        },
        {
         "name": "churn_probability_percent",
         "rawType": "float64",
         "type": "float"
        },
        {
         "name": "risk_category",
         "rawType": "object",
         "type": "string"
        },
        {
         "name": "top_feature_attributions_1",
         "rawType": "object",
         "type": "unknown"
        },
        {
         "name": "baseline_prediction",
         "rawType": "float64",
         "type": "float"
        },
        {
         "name": "final_prediction",
         "rawType": "float64",
         "type": "float"
        },
        {
         "name": "approximation_error_1",
         "rawType": "float64",
         "type": "float"
        }
       ],
       "ref": "ade74f60-4cc3-47b8-8597-9a1537e00f0f",
       "rows": [
        [
         "0",
         "0",
         "0.9392582662403584",
         "[{'feature': 'outage_count', 'attribution': 0.5524324178695679}\n {'feature': 'contract_type', 'attribution': -0.47217026352882385}\n {'feature': 'speed_complaints', 'attribution': -0.1436229795217514}\n {'feature': 'tenure_years', 'attribution': 0.11091538518667221}\n {'feature': 'fiber_availability', 'attribution': -0.08957894891500473}]",
         "1.6018656492233276",
         "1.8692295696528163",
         "0.0",
         "C00000005",
         "49",
         "111316",
         "4",
         "Own",
         "False",
         "Professional",
         "Established_Family",
         "3544",
         "663169",
         "6.6",
         "30000",
         "False",
         "Upper_Middle",
         "INT_00000005",
         "Basic_25",
         "25",
         "43",
         "50",
         "13",
         "Month_to_Month",
         "2",
         "0",
         "732.0",
         "0",
         "0",
         null,
         "27829.0",
         "1.72",
         "2.0",
         "3.85",
         "93.9",
         "CRITICAL RISK",
         "[{'feature': 'outage_count', 'attribution': 0.5524324178695679}\n {'feature': 'contract_type', 'attribution': -0.47217026352882385}\n {'feature': 'speed_complaints', 'attribution': -0.1436229795217514}\n {'feature': 'tenure_years', 'attribution': 0.11091538518667221}\n {'feature': 'fiber_availability', 'attribution': -0.08957894891500473}]",
         "1.6019",
         "1.8692",
         "0.0"
        ]
       ],
       "shape": {
        "columns": 43,
        "rows": 1
       }
      },
      "text/html": [
       "<div>\n",
       "<style scoped>\n",
       "    .dataframe tbody tr th:only-of-type {\n",
       "        vertical-align: middle;\n",
       "    }\n",
       "\n",
       "    .dataframe tbody tr th {\n",
       "        vertical-align: top;\n",
       "    }\n",
       "\n",
       "    .dataframe thead th {\n",
       "        text-align: right;\n",
       "    }\n",
       "</style>\n",
       "<table border=\"1\" class=\"dataframe\">\n",
       "  <thead>\n",
       "    <tr style=\"text-align: right;\">\n",
       "      <th></th>\n",
       "      <th>predicted_internet_churn</th>\n",
       "      <th>probability</th>\n",
       "      <th>top_feature_attributions</th>\n",
       "      <th>baseline_prediction_value</th>\n",
       "      <th>prediction_value</th>\n",
       "      <th>approximation_error</th>\n",
       "      <th>customer_id</th>\n",
       "      <th>age</th>\n",
       "      <th>household_income</th>\n",
       "      <th>family_size</th>\n",
       "      <th>...</th>\n",
       "      <th>income_per_person</th>\n",
       "      <th>cost_per_mbps</th>\n",
       "      <th>tenure_years</th>\n",
       "      <th>data_per_device</th>\n",
       "      <th>churn_probability_percent</th>\n",
       "      <th>risk_category</th>\n",
       "      <th>top_feature_attributions_1</th>\n",
       "      <th>baseline_prediction</th>\n",
       "      <th>final_prediction</th>\n",
       "      <th>approximation_error_1</th>\n",
       "    </tr>\n",
       "  </thead>\n",
       "  <tbody>\n",
       "    <tr>\n",
       "      <th>0</th>\n",
       "      <td>0</td>\n",
       "      <td>0.939258</td>\n",
       "      <td>[{'feature': 'outage_count', 'attribution': 0....</td>\n",
       "      <td>1.601866</td>\n",
       "      <td>1.86923</td>\n",
       "      <td>0.0</td>\n",
       "      <td>C00000005</td>\n",
       "      <td>49</td>\n",
       "      <td>111316</td>\n",
       "      <td>4</td>\n",
       "      <td>...</td>\n",
       "      <td>27829.0</td>\n",
       "      <td>1.72</td>\n",
       "      <td>2.0</td>\n",
       "      <td>3.85</td>\n",
       "      <td>93.9</td>\n",
       "      <td>CRITICAL RISK</td>\n",
       "      <td>[{'feature': 'outage_count', 'attribution': 0....</td>\n",
       "      <td>1.6019</td>\n",
       "      <td>1.8692</td>\n",
       "      <td>0.0</td>\n",
       "    </tr>\n",
       "  </tbody>\n",
       "</table>\n",
       "<p>1 rows × 43 columns</p>\n",
       "</div>"
      ],
      "text/plain": [
       "   predicted_internet_churn  probability  \\\n",
       "0                         0     0.939258   \n",
       "\n",
       "                            top_feature_attributions  \\\n",
       "0  [{'feature': 'outage_count', 'attribution': 0....   \n",
       "\n",
       "   baseline_prediction_value  prediction_value  approximation_error  \\\n",
       "0                   1.601866           1.86923                  0.0   \n",
       "\n",
       "  customer_id  age  household_income  family_size  ... income_per_person  \\\n",
       "0   C00000005   49            111316            4  ...           27829.0   \n",
       "\n",
       "   cost_per_mbps tenure_years data_per_device  churn_probability_percent  \\\n",
       "0           1.72          2.0            3.85                       93.9   \n",
       "\n",
       "   risk_category                         top_feature_attributions_1  \\\n",
       "0  CRITICAL RISK  [{'feature': 'outage_count', 'attribution': 0....   \n",
       "\n",
       "   baseline_prediction  final_prediction approximation_error_1  \n",
       "0               1.6019            1.8692                   0.0  \n",
       "\n",
       "[1 rows x 43 columns]"
      ]
     },
     "execution_count": 4,
     "metadata": {},
     "output_type": "execute_result"
    }
   ],
   "source": [
    "%%bigquery  --project {project_id}\n",
    "SELECT \n",
    "  *,\n",
    "  ROUND(probability * 100, 1) AS churn_probability_percent,\n",
    "  \n",
    "  -- Risk category\n",
    "  CASE \n",
    "    WHEN probability >= 0.8 THEN 'CRITICAL RISK'\n",
    "    WHEN probability >= 0.6 THEN 'HIGH RISK'\n",
    "    WHEN probability >= 0.4 THEN 'MEDIUM RISK'\n",
    "    WHEN probability >= 0.2 THEN 'LOW RISK'\n",
    "    ELSE 'VERY LOW RISK'\n",
    "  END AS risk_category,\n",
    "  \n",
    "  -- Feature contributions (raw string from BigQuery)\n",
    "  top_feature_attributions,\n",
    "  \n",
    "  -- Prediction details\n",
    "  ROUND(baseline_prediction_value, 4) AS baseline_prediction,\n",
    "  ROUND(prediction_value, 4) AS final_prediction,\n",
    "  approximation_error\n",
    "\n",
    "FROM ML.EXPLAIN_PREDICT(\n",
    "  MODEL `database.internet_churn_predictor`,\n",
    "  (SELECT * FROM `database.internet_churn_data` \n",
    "   WHERE customer_id = 'C00000005')\n",
    ");"
   ]
  }
 ],
 "metadata": {
  "kernelspec": {
   "display_name": "venv",
   "language": "python",
   "name": "python3"
  },
  "language_info": {
   "codemirror_mode": {
    "name": "ipython",
    "version": 3
   },
   "file_extension": ".py",
   "mimetype": "text/x-python",
   "name": "python",
   "nbconvert_exporter": "python",
   "pygments_lexer": "ipython3",
   "version": "3.12.5"
  }
 },
 "nbformat": 4,
 "nbformat_minor": 5
}
